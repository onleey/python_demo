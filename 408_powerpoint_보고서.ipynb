{
  "nbformat": 4,
  "nbformat_minor": 0,
  "metadata": {
    "colab": {
      "provenance": [],
      "authorship_tag": "ABX9TyPN40w+Cb2KRBqoXZK77NGV",
      "include_colab_link": true
    },
    "kernelspec": {
      "name": "python3",
      "display_name": "Python 3"
    },
    "language_info": {
      "name": "python"
    }
  },
  "cells": [
    {
      "cell_type": "markdown",
      "metadata": {
        "id": "view-in-github",
        "colab_type": "text"
      },
      "source": [
        "<a href=\"https://colab.research.google.com/github/onleey/python_demo/blob/master/408_powerpoint_%EB%B3%B4%EA%B3%A0%EC%84%9C.ipynb\" target=\"_parent\"><img src=\"https://colab.research.google.com/assets/colab-badge.svg\" alt=\"Open In Colab\"/></a>"
      ]
    },
    {
      "cell_type": "code",
      "execution_count": 1,
      "metadata": {
        "colab": {
          "base_uri": "https://localhost:8080/"
        },
        "id": "_NDXMQnfn747",
        "outputId": "b421f491-65e5-48dc-f248-d4f554e04899"
      },
      "outputs": [
        {
          "output_type": "stream",
          "name": "stdout",
          "text": [
            "Mounted at /content/drive\n",
            "/content/drive/MyDrive/001\n"
          ]
        }
      ],
      "source": [
        "from google.colab import drive\n",
        "drive.mount('/content/drive')\n",
        "\n",
        "%cd  '/content/drive/MyDrive/001'"
      ]
    },
    {
      "cell_type": "code",
      "source": [],
      "metadata": {
        "id": "GjApehlN67u3"
      },
      "execution_count": null,
      "outputs": []
    },
    {
      "cell_type": "code",
      "source": [],
      "metadata": {
        "id": "lh-VoE8u67t0"
      },
      "execution_count": null,
      "outputs": []
    },
    {
      "cell_type": "markdown",
      "source": [
        "#참고사이트\n",
        "\n",
        "https://python-pptx.readthedocs.io/en/latest/user/quickstart.html"
      ],
      "metadata": {
        "id": "Ii5SRlC1on8r"
      }
    },
    {
      "cell_type": "code",
      "source": [
        "!pip install python-pptx"
      ],
      "metadata": {
        "colab": {
          "base_uri": "https://localhost:8080/"
        },
        "id": "w0cRy2L6oqnj",
        "outputId": "abc40780-8ebf-4b57-92ef-e4a2ad82133d"
      },
      "execution_count": 2,
      "outputs": [
        {
          "output_type": "stream",
          "name": "stdout",
          "text": [
            "Collecting python-pptx\n",
            "  Downloading python_pptx-0.6.23-py3-none-any.whl (471 kB)\n",
            "\u001b[2K     \u001b[90m━━━━━━━━━━━━━━━━━━━━━━━━━━━━━━━━━━━━━━━━\u001b[0m \u001b[32m471.6/471.6 kB\u001b[0m \u001b[31m7.8 MB/s\u001b[0m eta \u001b[36m0:00:00\u001b[0m\n",
            "\u001b[?25hRequirement already satisfied: lxml>=3.1.0 in /usr/local/lib/python3.10/dist-packages (from python-pptx) (4.9.3)\n",
            "Requirement already satisfied: Pillow>=3.3.2 in /usr/local/lib/python3.10/dist-packages (from python-pptx) (9.4.0)\n",
            "Collecting XlsxWriter>=0.5.7 (from python-pptx)\n",
            "  Downloading XlsxWriter-3.1.9-py3-none-any.whl (154 kB)\n",
            "\u001b[2K     \u001b[90m━━━━━━━━━━━━━━━━━━━━━━━━━━━━━━━━━━━━━━━━\u001b[0m \u001b[32m154.8/154.8 kB\u001b[0m \u001b[31m15.7 MB/s\u001b[0m eta \u001b[36m0:00:00\u001b[0m\n",
            "\u001b[?25hInstalling collected packages: XlsxWriter, python-pptx\n",
            "Successfully installed XlsxWriter-3.1.9 python-pptx-0.6.23\n"
          ]
        }
      ]
    },
    {
      "cell_type": "markdown",
      "source": [
        "## 모든레이아웃 적용해보기"
      ],
      "metadata": {
        "id": "0L0uOYnSpV7n"
      }
    },
    {
      "cell_type": "code",
      "source": [
        "from pptx import Presentation   #라이브러리\n",
        "from pptx.util import Inches    # 사진, 표 등을 그리기 위해서 필요한 인치값\n",
        "\n",
        "pre= Presentation() #파워포인트 객체 선언\n",
        "\n",
        "for i in range(0,11):\n",
        "  title_slide_layout = pre.slide_layouts[i] # 슬라이드 종류선택\n",
        "  slide = pre.slides.add_slide(title_slide_layout)\n",
        "\n",
        "pre.save('add all slides.pptx')\n",
        "\n"
      ],
      "metadata": {
        "id": "STiTP75qpX_C"
      },
      "execution_count": 6,
      "outputs": []
    },
    {
      "cell_type": "markdown",
      "source": [
        "### 레이아웃별 placeholder 속성 확인하기"
      ],
      "metadata": {
        "id": "_BfapdIOrE27"
      }
    },
    {
      "cell_type": "code",
      "source": [
        "from pptx import Presentation   #라이브러리\n",
        "from pptx.util import Inches    # 사진, 표 등을 그리기 위해서 필요한 인치값\n",
        "\n",
        "\n",
        "prs = Presentation()\n",
        "for i in range(0,11):\n",
        "    print ('---------[%d]--------'%(i))\n",
        "    slide= prs.slides.add_slide(prs.slide_layouts[i])\n",
        "    for shape in slide.placeholders:\n",
        "      print('{}{}'.format(shape.placeholder_format.idx,  shape.name))\n",
        "\n",
        "\n",
        "\n"
      ],
      "metadata": {
        "colab": {
          "base_uri": "https://localhost:8080/"
        },
        "id": "uDF0VJQarKTq",
        "outputId": "38800fa6-13dd-497d-dfe7-b730706010e9"
      },
      "execution_count": 12,
      "outputs": [
        {
          "output_type": "stream",
          "name": "stdout",
          "text": [
            "---------[0]--------\n",
            "0Title 1\n",
            "1Subtitle 2\n",
            "---------[1]--------\n",
            "0Title 1\n",
            "1Content Placeholder 2\n",
            "---------[2]--------\n",
            "0Title 1\n",
            "1Text Placeholder 2\n",
            "---------[3]--------\n",
            "0Title 1\n",
            "1Content Placeholder 2\n",
            "2Content Placeholder 3\n",
            "---------[4]--------\n",
            "0Title 1\n",
            "1Text Placeholder 2\n",
            "2Content Placeholder 3\n",
            "3Text Placeholder 4\n",
            "4Content Placeholder 5\n",
            "---------[5]--------\n",
            "0Title 1\n",
            "---------[6]--------\n",
            "---------[7]--------\n",
            "0Title 1\n",
            "1Content Placeholder 2\n",
            "2Text Placeholder 3\n",
            "---------[8]--------\n",
            "0Title 1\n",
            "1Picture Placeholder 2\n",
            "2Text Placeholder 3\n",
            "---------[9]--------\n",
            "0Title 1\n",
            "1Vertical Text Placeholder 2\n",
            "---------[10]--------\n",
            "0Vertical Title 1\n",
            "1Vertical Text Placeholder 2\n"
          ]
        }
      ]
    },
    {
      "cell_type": "markdown",
      "source": [
        "## 슬라이드 구현하기  "
      ],
      "metadata": {
        "id": "1EndX-uisjZp"
      }
    },
    {
      "cell_type": "code",
      "source": [
        "from pptx import Presentation   #라이브러리\n",
        "from pptx.util import Inches    # 사진, 표 등을 그리기 위해서 필요한 인치값\n",
        "\n",
        "\n",
        "prs = Presentation()     #파워포인트 객체 선언"
      ],
      "metadata": {
        "id": "LN84_1KWshjc"
      },
      "execution_count": 13,
      "outputs": []
    },
    {
      "cell_type": "markdown",
      "source": [
        "### 제목슬라이드  "
      ],
      "metadata": {
        "id": "Y8pXLnQZsRrq"
      }
    },
    {
      "cell_type": "code",
      "source": [
        "title_slide_layout = prs.slide_layouts[0]   # 제목슬라이드에 해당한다.\n",
        "slide = prs.slides.add_slide(title_slide_layout)   #슬라이드 추가\n",
        "\n",
        "\n",
        "#제목 = 제목에 값 넣기\n",
        "title = slide.placeholders[0]     # 제목\n",
        "title.text = 'hello, World!'     # 제목에 값 넣기\n",
        "\n",
        "#부제목\n",
        "subtitle = slide.placeholders[1]  #부제목\n",
        "subtitle.text = 'python-pptx...'\n",
        "\n",
        "prs.save('test.pptx')\n",
        "\n",
        "\n",
        "\n",
        "\n"
      ],
      "metadata": {
        "id": "Wz2usWNmsXzB"
      },
      "execution_count": 15,
      "outputs": []
    },
    {
      "cell_type": "markdown",
      "source": [
        "### 제목과 내용 슬라이드"
      ],
      "metadata": {
        "id": "ZyhJNbMuuL1S"
      }
    },
    {
      "cell_type": "code",
      "source": [
        "bullet_slide_layout = prs.slide_layouts[1] # 제목과 내용 슬라이드\n",
        "slide = prs.slides.add_slide(bullet_slide_layout)   # 기존에 있던 슬라이드 추가\n",
        "\n",
        "#제목\n",
        "title_shape = slide.placeholders[0]\n",
        "title_shape.text= 'adding a bullet slide'\n",
        "\n",
        "#내용\n",
        "body_shape = slide.placeholders[1]\n",
        "tf = body_shape.text_frame\n",
        "tf.text = 'Find the bullet slide layout'\n",
        "\n",
        "#단락 추가\n",
        "p = tf.add_paragraph()\n",
        "p.text = 'use _textframe.text for first bullet'\n",
        "p.level = 1   #들여쓰기레벨\n",
        "\n",
        "\n",
        "#단락 추가\n",
        "p = tf.add_paragraph()\n",
        "p.text = 'use _textframe.tf.add_paragraph() for subsequent bullet'\n",
        "p.level = 2\n",
        "\n",
        "prs.save('test.pptx')\n"
      ],
      "metadata": {
        "id": "rimXE0HQuNMS"
      },
      "execution_count": 17,
      "outputs": []
    },
    {
      "cell_type": "markdown",
      "source": [
        "### 사진 슬라이드"
      ],
      "metadata": {
        "id": "aOjn6K-TwFLg"
      }
    },
    {
      "cell_type": "code",
      "source": [
        "img_path = 'res/powerpoint_message/christmas.jpg'\n",
        "\n",
        "blank_slide_layout = prs.slide_layouts[6]\n",
        "slide= prs.slides.add_slide(blank_slide_layout)\n",
        "\n",
        "left = top = Inches(1)\n",
        "width = height = Inches(1)\n",
        "\n",
        "#width, height가 없을 경우 원본사이즈로\n",
        "pic = slide.shapes.add_picture(img_path, left, top, width =width, height=height)\n",
        "\n",
        "left = Inches(3)\n",
        "width = Inches (5.5)\n",
        "height= Inches (4)\n",
        "pic= slide.shapes.add_picture(img_path,left, top, width =width, height=height )\n",
        "\n",
        "prs.save('test.pptx')"
      ],
      "metadata": {
        "id": "fp5P4DdGw2-_"
      },
      "execution_count": 19,
      "outputs": []
    },
    {
      "cell_type": "markdown",
      "source": [
        "## 표 슬라이드"
      ],
      "metadata": {
        "id": "8SvDEMujwFKR"
      }
    },
    {
      "cell_type": "code",
      "source": [
        "title_only_slide_layout= prs.slide_layouts[5]\n",
        "slide = prs.slides.add_slide(title_only_slide_layout)\n",
        "shapes = slide.shapes\n",
        "\n",
        "title_shape = slide.placeholders[0]\n",
        "title_shape.text= 'Adding a Table'\n",
        "\n",
        "rows = cols = 2\n",
        "left = top = Inches(2.0)\n",
        "width = Inches(6.0)\n",
        "height = Inches(0.8)\n",
        "\n",
        "table = shapes.add_table(rows, cols, left, top, width, height).table\n",
        "\n",
        "#set columns widths\n",
        "table.columns[0].width = Inches(2.0)\n",
        "table.columns[1].width = Inches(4.0)\n",
        "\n",
        "\n",
        "table.cell (0,0).text = 'Foo'\n",
        "table.cell (0,1).text = 'Bar'\n",
        "\n",
        "table.cell (1,0).text = 'Baz'\n",
        "table.cell (1,1).text = 'Qux'\n",
        "\n",
        "prs.save('test.pptx')\n",
        "\n",
        "\n",
        "\n",
        "\n"
      ],
      "metadata": {
        "id": "3e1b61EO2CSN"
      },
      "execution_count": 21,
      "outputs": []
    }
  ]
}