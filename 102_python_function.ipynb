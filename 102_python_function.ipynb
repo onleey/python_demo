{
  "nbformat": 4,
  "nbformat_minor": 0,
  "metadata": {
    "colab": {
      "provenance": [],
      "authorship_tag": "ABX9TyNhiiD4azFxay9PhkkHH4zB",
      "include_colab_link": true
    },
    "kernelspec": {
      "name": "python3",
      "display_name": "Python 3"
    },
    "language_info": {
      "name": "python"
    }
  },
  "cells": [
    {
      "cell_type": "markdown",
      "metadata": {
        "id": "view-in-github",
        "colab_type": "text"
      },
      "source": [
        "<a href=\"https://colab.research.google.com/github/onleey/python_demo/blob/master/102_python_function.ipynb\" target=\"_parent\"><img src=\"https://colab.research.google.com/assets/colab-badge.svg\" alt=\"Open In Colab\"/></a>"
      ]
    },
    {
      "cell_type": "markdown",
      "source": [
        "## 함수 (function)\n",
        " - 함수 : 특정 목적을 가진 코드의 집합이며, 독립적으로 호출될 수 있는 기능이다.\n",
        " - 함수구조\n",
        "\n",
        " ```\n",
        "   def 함수이름 (매개변수 parameter_1, parameter_2) :\n",
        "       수행할 문장\n",
        "       return 결과값\n",
        " ```\n",
        " - 함수 호출\n",
        " ```\n",
        "    함수이름 ( argument_1, argument_2 )    \n",
        " ```\n",
        "  parameter : 인자, argument :인수  \n"
      ],
      "metadata": {
        "id": "gMx6UWO-q8i7"
      }
    },
    {
      "cell_type": "code",
      "source": [
        "# 함수를 정의할 때 수행할 문장을 구현하지 않으면 에러가 발생한다.\n",
        "def proc ( ):\n",
        "  pass # pass 는 구현을 안할때 오류가 발생하지 않도록 사용한다.\n"
      ],
      "metadata": {
        "id": "zb0P9rVKsVF6"
      },
      "execution_count": null,
      "outputs": []
    },
    {
      "cell_type": "code",
      "source": [
        "print (proc())  #실행할 결과값 리턴\n",
        "print(proc)   #함수 식 리턴"
      ],
      "metadata": {
        "colab": {
          "base_uri": "https://localhost:8080/"
        },
        "id": "mRlB1PHDtBiG",
        "outputId": "fc52425e-e1fb-483b-d15d-cd1bfea76511"
      },
      "execution_count": null,
      "outputs": [
        {
          "output_type": "stream",
          "name": "stdout",
          "text": [
            "None\n",
            "<function proc at 0x7ed5cbe65870>\n"
          ]
        }
      ]
    },
    {
      "cell_type": "code",
      "source": [
        "a = proc\n",
        "print(a())"
      ],
      "metadata": {
        "colab": {
          "base_uri": "https://localhost:8080/"
        },
        "id": "27kUg5uAtfUe",
        "outputId": "ffcd37af-6da2-4338-8edd-e63dc2c2e082"
      },
      "execution_count": null,
      "outputs": [
        {
          "output_type": "stream",
          "name": "stdout",
          "text": [
            "None\n"
          ]
        }
      ]
    },
    {
      "cell_type": "markdown",
      "source": [
        "## callable  \n",
        " - 이름 뒤에 ( ) 를 붙이는 것을 call (호출) 이라고 한다.\n",
        " - 이름 뒤에 ( ) 를 붙일 수 있는 것을 callable 이라고 한다.\n",
        " - 함수는 사용할 때 이름 뒤에 괄호를 붙일 수 있다.  \n",
        " - python 에서 callable인것은 3가지 유형이 있다.   \n",
        "  - (1) function\n",
        "  - (2) class (init가 정의되었을 경우)   \n",
        "  - (3) object (call이 정의되었을 경우)"
      ],
      "metadata": {
        "id": "i4vHpA7bwXY2"
      }
    },
    {
      "cell_type": "code",
      "source": [
        "def prn ():\n",
        "  return 1\n",
        "\n"
      ],
      "metadata": {
        "id": "Q23X24C6xQnm"
      },
      "execution_count": null,
      "outputs": []
    },
    {
      "cell_type": "code",
      "source": [
        "# callable 은 built - in 함수로 ()을 붙여 사용할 수 있는지를 True/False로 알려준다.\n",
        "callable(k)"
      ],
      "metadata": {
        "colab": {
          "base_uri": "https://localhost:8080/"
        },
        "id": "d25IOSymyFqs",
        "outputId": "4ee176e4-5d2e-4368-8609-1824e246b1a9"
      },
      "execution_count": null,
      "outputs": [
        {
          "output_type": "execute_result",
          "data": {
            "text/plain": [
              "False"
            ]
          },
          "metadata": {},
          "execution_count": 18
        }
      ]
    },
    {
      "cell_type": "code",
      "source": [
        "callable(prn)"
      ],
      "metadata": {
        "colab": {
          "base_uri": "https://localhost:8080/"
        },
        "id": "qH-oPimiydos",
        "outputId": "1df22611-5d5d-440d-fb67-26f479b38009"
      },
      "execution_count": null,
      "outputs": [
        {
          "output_type": "execute_result",
          "data": {
            "text/plain": [
              "True"
            ]
          },
          "metadata": {},
          "execution_count": 20
        }
      ]
    },
    {
      "cell_type": "code",
      "source": [
        "# 파라미터 (인자)와 리턴값이 있는 함수 정의\n",
        "def max(x, y):\n",
        "    if x >= y :\n",
        "       res = x\n",
        "    else :\n",
        "       res = y\n",
        "    return  res    #리턴은 함수에서 오직 하나만 있어야 함"
      ],
      "metadata": {
        "id": "5zM_UxvYyuSk"
      },
      "execution_count": null,
      "outputs": []
    },
    {
      "cell_type": "code",
      "source": [
        "def max(x, y):\n",
        "    if x >= y :\n",
        "       return x\n",
        "    else :\n",
        "       return y"
      ],
      "metadata": {
        "id": "PhYrZyqhzvBC"
      },
      "execution_count": null,
      "outputs": []
    },
    {
      "cell_type": "code",
      "source": [
        "print(max(10,5))"
      ],
      "metadata": {
        "colab": {
          "base_uri": "https://localhost:8080/"
        },
        "id": "DobaSMYA1CQv",
        "outputId": "2b891e00-ad8a-4743-c6e5-cdec838eda89"
      },
      "execution_count": null,
      "outputs": [
        {
          "output_type": "stream",
          "name": "stdout",
          "text": [
            "10\n"
          ]
        }
      ]
    },
    {
      "cell_type": "code",
      "source": [],
      "metadata": {
        "id": "cUvJCj1P1CPt"
      },
      "execution_count": null,
      "outputs": []
    },
    {
      "cell_type": "code",
      "source": [
        "def max(x, y):\n",
        "    if x >= y :\n",
        "      print(x)\n",
        "    else :\n",
        "      print(y)\n",
        "    return"
      ],
      "metadata": {
        "id": "0N5jZzndzu_0"
      },
      "execution_count": null,
      "outputs": []
    },
    {
      "cell_type": "code",
      "source": [
        "print(max(10, 5))"
      ],
      "metadata": {
        "colab": {
          "base_uri": "https://localhost:8080/"
        },
        "id": "q4eJBkXczRxe",
        "outputId": "90fbb447-70c3-4ea9-ca65-2de36a36eb7c"
      },
      "execution_count": null,
      "outputs": [
        {
          "output_type": "stream",
          "name": "stdout",
          "text": [
            "10\n",
            "None\n"
          ]
        }
      ]
    },
    {
      "cell_type": "code",
      "source": [
        "# 파라미터(인자)가 없고 리턴값이 없는 함수 정의\n",
        "def max( ) :\n",
        "  x = 10\n",
        "  y = 5\n",
        "  if x >= y :\n",
        "      print(x)\n",
        "  else :\n",
        "      print(y)\n"
      ],
      "metadata": {
        "id": "CZm2ibNt2D1s"
      },
      "execution_count": null,
      "outputs": []
    },
    {
      "cell_type": "code",
      "source": [
        "print (max ())"
      ],
      "metadata": {
        "colab": {
          "base_uri": "https://localhost:8080/"
        },
        "id": "RtUeWay42VSv",
        "outputId": "f8512598-9125-45c1-e879-c547a5d79747"
      },
      "execution_count": null,
      "outputs": [
        {
          "output_type": "stream",
          "name": "stdout",
          "text": [
            "10\n",
            "None\n"
          ]
        }
      ]
    },
    {
      "cell_type": "code",
      "source": [
        "def max( ) :\n",
        "  x = 10\n",
        "  y = 5\n",
        "  if x >= y :\n",
        "      return x\n",
        "  else :\n",
        "      return y"
      ],
      "metadata": {
        "id": "QQN5HEeL2rXD"
      },
      "execution_count": null,
      "outputs": []
    },
    {
      "cell_type": "code",
      "source": [
        "print(max())"
      ],
      "metadata": {
        "colab": {
          "base_uri": "https://localhost:8080/"
        },
        "id": "YWchT8X02x4D",
        "outputId": "d101e667-99e9-4080-c80d-00b476ab0276"
      },
      "execution_count": null,
      "outputs": [
        {
          "output_type": "stream",
          "name": "stdout",
          "text": [
            "10\n"
          ]
        }
      ]
    },
    {
      "cell_type": "markdown",
      "source": [
        "## parameter 와 argument   \n",
        "1. positional   \n",
        "2. keyword  \n",
        "3. positional & keyword  \n",
        "4. positional only  \n",
        "5. keyword only  \n",
        "6. 가변 positional   \n",
        "7. 가변 keyword  "
      ],
      "metadata": {
        "id": "ds91NRfi3FaG"
      }
    },
    {
      "cell_type": "markdown",
      "source": [
        "1. positional\n",
        " - 함수 호출 : 선언할 때 파라미터의 순서와 호출할때 argument의 입력순서를 그대로 매칭한다.   "
      ],
      "metadata": {
        "id": "WD1__vJP35ZH"
      }
    },
    {
      "cell_type": "code",
      "source": [
        "def proc (a, b):\n",
        "  return a, b\n"
      ],
      "metadata": {
        "id": "EHkd9zMr4KDb"
      },
      "execution_count": null,
      "outputs": []
    },
    {
      "cell_type": "code",
      "source": [
        "proc (2,4)"
      ],
      "metadata": {
        "colab": {
          "base_uri": "https://localhost:8080/"
        },
        "id": "EMZJKNDv4epp",
        "outputId": "ad5e8bcb-0616-42d5-b0ea-1fa665550618"
      },
      "execution_count": null,
      "outputs": [
        {
          "output_type": "execute_result",
          "data": {
            "text/plain": [
              "(2, 4)"
            ]
          },
          "metadata": {},
          "execution_count": 55
        }
      ]
    },
    {
      "cell_type": "markdown",
      "source": [
        "2. keyword\n",
        " - keyword 방식을 이용하면 순서와 상관없이 parameter 이름에 따라 값이 대입된다.   "
      ],
      "metadata": {
        "id": "MCTMZYgY4yhj"
      }
    },
    {
      "cell_type": "code",
      "source": [
        "proc (b=4, a=2)"
      ],
      "metadata": {
        "colab": {
          "base_uri": "https://localhost:8080/"
        },
        "id": "Qnqv-nuG4-cO",
        "outputId": "9e7d8fde-55be-4841-aee7-84aac8a32f6d"
      },
      "execution_count": null,
      "outputs": [
        {
          "output_type": "execute_result",
          "data": {
            "text/plain": [
              "(2, 4)"
            ]
          },
          "metadata": {},
          "execution_count": 59
        }
      ]
    },
    {
      "cell_type": "markdown",
      "source": [
        "3. keyword & positional 혼합"
      ],
      "metadata": {
        "id": "0MIvbL9L5i9C"
      }
    },
    {
      "cell_type": "code",
      "source": [
        "def proc (a,b,c) :\n",
        "   return a,b,c"
      ],
      "metadata": {
        "id": "i0jspFro5nnh"
      },
      "execution_count": null,
      "outputs": []
    },
    {
      "cell_type": "code",
      "source": [
        "proc (2, c=5, b='사과')"
      ],
      "metadata": {
        "colab": {
          "base_uri": "https://localhost:8080/"
        },
        "id": "2WuWhWQm5tKB",
        "outputId": "bbb32c70-d638-48c1-d0fa-d94e726ac010"
      },
      "execution_count": null,
      "outputs": [
        {
          "output_type": "execute_result",
          "data": {
            "text/plain": [
              "(2, '사과', 5)"
            ]
          },
          "metadata": {},
          "execution_count": 61
        }
      ]
    },
    {
      "cell_type": "code",
      "source": [
        "# 한번 keyword 방식을 사용하면, 그 다음부터는 keyword 방법만 사용할 수 있다. # 4가 중간에 들어가면 오류\n",
        "proc ( 4, c=5, b='사과')"
      ],
      "metadata": {
        "colab": {
          "base_uri": "https://localhost:8080/"
        },
        "id": "0DZRlowy33be",
        "outputId": "55a90f49-1524-4a3c-ac10-295c79dcdc33"
      },
      "execution_count": null,
      "outputs": [
        {
          "output_type": "execute_result",
          "data": {
            "text/plain": [
              "(4, '사과', 5)"
            ]
          },
          "metadata": {},
          "execution_count": 67
        }
      ]
    },
    {
      "cell_type": "code",
      "source": [
        "# python 버전 확인\n",
        "! python --version"
      ],
      "metadata": {
        "colab": {
          "base_uri": "https://localhost:8080/"
        },
        "id": "Pziqw5dB6jVq",
        "outputId": "03ef6fc8-35b0-47e6-822e-a2ea46719e96"
      },
      "execution_count": null,
      "outputs": [
        {
          "output_type": "stream",
          "name": "stdout",
          "text": [
            "Python 3.10.12\n"
          ]
        }
      ]
    },
    {
      "cell_type": "markdown",
      "source": [
        "4. positional only\n",
        "- positional only는 함수를 사용할 때 positional 방식으로만 parameter를 쓸 수 있도록 강제 하는 방법이다.  \n",
        "- / 의 앞에 오는 parameter들은 positional 방식으로 입력할 수 있지만, keyword 방식으로 입력할 수 없다.   \n",
        "- positional only 함수를 정의할 수 있는 것은 pyrhon 3.8 부터 지원한다. 이전 버전에서는 사전 정의된 positional only 함수는 있지만, 사용자가 만들 수는 없었다.  "
      ],
      "metadata": {
        "id": "Uc033w8k6slu"
      }
    },
    {
      "cell_type": "code",
      "source": [
        "def proc (a,b,c, /):  # / 위치가 중요함\n",
        "    return a,b,c"
      ],
      "metadata": {
        "id": "Drem-ii066XV"
      },
      "execution_count": null,
      "outputs": []
    },
    {
      "cell_type": "code",
      "source": [
        "proc ('사과', 5, 6 )"
      ],
      "metadata": {
        "colab": {
          "base_uri": "https://localhost:8080/"
        },
        "id": "ePt2IMOw7DJp",
        "outputId": "6156169c-9d68-43c5-9c06-fb5b7b35d7fa"
      },
      "execution_count": null,
      "outputs": [
        {
          "output_type": "execute_result",
          "data": {
            "text/plain": [
              "('사과', 5, 6)"
            ]
          },
          "metadata": {},
          "execution_count": 74
        }
      ]
    },
    {
      "cell_type": "code",
      "source": [
        "def proc (a,b,/,c,d):\n",
        "  return a,b,c,d"
      ],
      "metadata": {
        "id": "lBLrCQQJ-2zR"
      },
      "execution_count": null,
      "outputs": []
    },
    {
      "cell_type": "code",
      "source": [
        "proc (4,5,6,7)"
      ],
      "metadata": {
        "colab": {
          "base_uri": "https://localhost:8080/"
        },
        "id": "w0aq_F_U-8YA",
        "outputId": "c8683641-851d-4d31-d084-635441767502"
      },
      "execution_count": null,
      "outputs": [
        {
          "output_type": "execute_result",
          "data": {
            "text/plain": [
              "(4, 5, 6, 7)"
            ]
          },
          "metadata": {},
          "execution_count": 76
        }
      ]
    },
    {
      "cell_type": "code",
      "source": [
        "proc (5,4,d=8,c=4)"
      ],
      "metadata": {
        "colab": {
          "base_uri": "https://localhost:8080/"
        },
        "id": "LbscvXBd_BtZ",
        "outputId": "7270345e-f9a7-449d-d0d3-5c4718758369"
      },
      "execution_count": null,
      "outputs": [
        {
          "output_type": "execute_result",
          "data": {
            "text/plain": [
              "(5, 4, 4, 8)"
            ]
          },
          "metadata": {},
          "execution_count": 84
        }
      ]
    },
    {
      "cell_type": "markdown",
      "source": [
        "5. keyword only\n",
        " - keyword only방식은 keyword방식으로만 입력하도록 강제하는 방법이다.\n",
        " - '*' 이후로는 keyword 방식만 가능하다."
      ],
      "metadata": {
        "id": "ShV6-kK1_iM7"
      }
    },
    {
      "cell_type": "code",
      "source": [
        "def proc (*,a,b,c,d):\n",
        "  return a,b,c,d"
      ],
      "metadata": {
        "id": "YDCZtQkz_Ujh"
      },
      "execution_count": null,
      "outputs": []
    },
    {
      "cell_type": "code",
      "source": [
        "proc (a=3, c=5, b='지은', d=3.14)"
      ],
      "metadata": {
        "colab": {
          "base_uri": "https://localhost:8080/"
        },
        "id": "E6R-bNe7_u43",
        "outputId": "a52337d0-9fcb-43bb-d94e-986f6d35de12"
      },
      "execution_count": null,
      "outputs": [
        {
          "output_type": "execute_result",
          "data": {
            "text/plain": [
              "(3, '지은', 5, 3.14)"
            ]
          },
          "metadata": {},
          "execution_count": 88
        }
      ]
    },
    {
      "cell_type": "code",
      "source": [
        "def proc (a,b,*,c,d):\n",
        "  return a,b,c,d"
      ],
      "metadata": {
        "id": "-orOA814AM5Y"
      },
      "execution_count": null,
      "outputs": []
    },
    {
      "cell_type": "code",
      "source": [
        "proc ('지은',4,d=6, c=5)  # * 이후로는 키워드 이후로 방식만 가능"
      ],
      "metadata": {
        "colab": {
          "base_uri": "https://localhost:8080/"
        },
        "id": "Kw9IRQ94_8KE",
        "outputId": "a7e03351-f8bf-4db3-8cc1-e19e46567edc"
      },
      "execution_count": null,
      "outputs": [
        {
          "output_type": "execute_result",
          "data": {
            "text/plain": [
              "('지은', 4, 5, 6)"
            ]
          },
          "metadata": {},
          "execution_count": 94
        }
      ]
    },
    {
      "cell_type": "markdown",
      "source": [
        "6. 가변 positional\n",
        " -가변 positional은 parameter 이름에 '*'를 붙인다.   \n",
        " -positional 방식으로 입력되는 argument는 갯수에 상관없이 모두 받아 온다."
      ],
      "metadata": {
        "id": "zoHjRB0KAwFL"
      }
    },
    {
      "cell_type": "code",
      "source": [
        "def proc(*a):   ## 가변포지셔너로 처리, 개수에 상관없이 모두 처리가능.\n",
        "  print(type(a))\n",
        "  return a"
      ],
      "metadata": {
        "id": "RKdVPqKIAmbg"
      },
      "execution_count": null,
      "outputs": []
    },
    {
      "cell_type": "code",
      "source": [
        "print(proc(1))\n",
        "print(proc(1,2,3))\n",
        "print(proc('지은',1,2,3.54))"
      ],
      "metadata": {
        "colab": {
          "base_uri": "https://localhost:8080/"
        },
        "id": "ZnuHnkXiAmaP",
        "outputId": "4882be97-0fa4-49ce-b2bf-985265408005"
      },
      "execution_count": null,
      "outputs": [
        {
          "output_type": "stream",
          "name": "stdout",
          "text": [
            "<class 'tuple'>\n",
            "(1,)\n",
            "<class 'tuple'>\n",
            "(1, 2, 3)\n",
            "<class 'tuple'>\n",
            "('지은', 1, 2, 3.54)\n"
          ]
        }
      ]
    },
    {
      "cell_type": "markdown",
      "source": [
        "7. 가변 키워드\n",
        "- 가변 keyword는 parameter 이름에 '**' 를 붙인다.  \n",
        "- keyword 방식으로 입력되는 argument의 개수에 상관없이 모두 받아온다."
      ],
      "metadata": {
        "id": "xgxveIGiCEpZ"
      }
    },
    {
      "cell_type": "code",
      "source": [
        "def proc (**a):\n",
        "  print(type(a))\n",
        "  return a"
      ],
      "metadata": {
        "id": "RdBOGsllCT6S"
      },
      "execution_count": null,
      "outputs": []
    },
    {
      "cell_type": "code",
      "source": [
        "proc (x=2,y=3,c=4)"
      ],
      "metadata": {
        "colab": {
          "base_uri": "https://localhost:8080/"
        },
        "id": "nxvtzGRpCbqH",
        "outputId": "fb3e4b9f-9c18-43d4-e872-22e6bb8bf32c"
      },
      "execution_count": null,
      "outputs": [
        {
          "output_type": "stream",
          "name": "stdout",
          "text": [
            "<class 'dict'>\n"
          ]
        },
        {
          "output_type": "execute_result",
          "data": {
            "text/plain": [
              "{'x': 2, 'y': 3, 'c': 4}"
            ]
          },
          "metadata": {},
          "execution_count": 109
        }
      ]
    },
    {
      "cell_type": "code",
      "source": [
        "proc(x=3, y=1, z=[1,2,3])"
      ],
      "metadata": {
        "colab": {
          "base_uri": "https://localhost:8080/"
        },
        "id": "l60QV4K1CqIv",
        "outputId": "87126a25-d11e-4723-d779-19f7d5b2b27e"
      },
      "execution_count": null,
      "outputs": [
        {
          "output_type": "stream",
          "name": "stdout",
          "text": [
            "<class 'dict'>\n"
          ]
        },
        {
          "output_type": "execute_result",
          "data": {
            "text/plain": [
              "{'x': 3, 'y': 1, 'z': [1, 2, 3]}"
            ]
          },
          "metadata": {},
          "execution_count": 110
        }
      ]
    },
    {
      "cell_type": "markdown",
      "source": [
        "가변 positional / 가변 positional은 한 번만 사용할 수 있다.   \n"
      ],
      "metadata": {
        "id": "P5BU6aNCCEoJ"
      }
    },
    {
      "cell_type": "code",
      "source": [
        "def proc (**a,**b):\n",
        "  return a,b"
      ],
      "metadata": {
        "colab": {
          "base_uri": "https://localhost:8080/",
          "height": 147
        },
        "id": "0aUBPe-oCEDY",
        "outputId": "cb867acb-6655-44f2-c52f-aeb2db2b28fb"
      },
      "execution_count": null,
      "outputs": [
        {
          "output_type": "error",
          "ename": "SyntaxError",
          "evalue": "ignored",
          "traceback": [
            "\u001b[0;36m  File \u001b[0;32m\"<ipython-input-113-310e632c3b3c>\"\u001b[0;36m, line \u001b[0;32m1\u001b[0m\n\u001b[0;31m    def proc (**a,**b):\u001b[0m\n\u001b[0m                  ^\u001b[0m\n\u001b[0;31mSyntaxError\u001b[0m\u001b[0;31m:\u001b[0m invalid syntax\n"
          ]
        }
      ]
    },
    {
      "cell_type": "code",
      "source": [
        "x=3; y=5\n",
        "result = x+y\n",
        "print (result)\n",
        "\n",
        "\n",
        "x=4; y=6\n",
        "result = x + y\n",
        "print(result)\n",
        "\n",
        "x=7; y=6\n",
        "result = x + y\n",
        "print(result)\n"
      ],
      "metadata": {
        "colab": {
          "base_uri": "https://localhost:8080/"
        },
        "id": "vAevZ_IXDxOT",
        "outputId": "79e0da30-b8be-4cad-aab4-da853eacca7d"
      },
      "execution_count": null,
      "outputs": [
        {
          "output_type": "stream",
          "name": "stdout",
          "text": [
            "8\n",
            "10\n",
            "13\n"
          ]
        }
      ]
    },
    {
      "cell_type": "code",
      "source": [
        "def plus (x, y):\n",
        "    result = x + y\n",
        "    return result\n"
      ],
      "metadata": {
        "id": "xcS0NLfJDxNR"
      },
      "execution_count": null,
      "outputs": []
    },
    {
      "cell_type": "code",
      "source": [
        "plus (3,5)\n",
        "plus (5,7)\n",
        "plus (134,342)"
      ],
      "metadata": {
        "colab": {
          "base_uri": "https://localhost:8080/"
        },
        "id": "7_CpBAgoEnoz",
        "outputId": "17fdc30a-4447-446f-cddf-ba7434a2f7b8"
      },
      "execution_count": null,
      "outputs": [
        {
          "output_type": "execute_result",
          "data": {
            "text/plain": [
              "476"
            ]
          },
          "metadata": {},
          "execution_count": 122
        }
      ]
    },
    {
      "cell_type": "markdown",
      "source": [
        "## overloading\n",
        "- 함수의 이름은 같은데, parameter 갯수 또는 parameter 타입이 달라야 한다.\n",
        "- python은 overloading을 지원하지 않는다.  "
      ],
      "metadata": {
        "id": "i1Wolvv7FnYz"
      }
    },
    {
      "cell_type": "code",
      "source": [
        "def add (a):\n",
        "   return a+1"
      ],
      "metadata": {
        "id": "uQQVK3w0F8Nh"
      },
      "execution_count": null,
      "outputs": []
    },
    {
      "cell_type": "code",
      "source": [
        "add (6)"
      ],
      "metadata": {
        "colab": {
          "base_uri": "https://localhost:8080/"
        },
        "id": "zftRCm1LGFW2",
        "outputId": "867cfd12-836a-41eb-f18a-85bdebb27660"
      },
      "execution_count": null,
      "outputs": [
        {
          "output_type": "execute_result",
          "data": {
            "text/plain": [
              "7"
            ]
          },
          "metadata": {},
          "execution_count": 125
        }
      ]
    },
    {
      "cell_type": "code",
      "source": [
        "def add (a, b):\n",
        "  return a+b"
      ],
      "metadata": {
        "id": "whhce9MQGIkv"
      },
      "execution_count": null,
      "outputs": []
    },
    {
      "cell_type": "code",
      "source": [
        "add (2323,2323)\n",
        "add('지은','짱')"
      ],
      "metadata": {
        "colab": {
          "base_uri": "https://localhost:8080/",
          "height": 35
        },
        "id": "uKTmKYENGTcW",
        "outputId": "3a74e90b-ab4e-49f3-ef78-d26d8db46ab7"
      },
      "execution_count": null,
      "outputs": [
        {
          "output_type": "execute_result",
          "data": {
            "text/plain": [
              "'지은짱'"
            ],
            "application/vnd.google.colaboratory.intrinsic+json": {
              "type": "string"
            }
          },
          "metadata": {},
          "execution_count": 135
        }
      ]
    },
    {
      "cell_type": "code",
      "source": [
        "sum([1,2,3,])"
      ],
      "metadata": {
        "colab": {
          "base_uri": "https://localhost:8080/"
        },
        "id": "t48JBLv4G0_V",
        "outputId": "985a049f-3e58-49ce-a74d-bf5bedaabcb0"
      },
      "execution_count": null,
      "outputs": [
        {
          "output_type": "execute_result",
          "data": {
            "text/plain": [
              "6"
            ]
          },
          "metadata": {},
          "execution_count": 136
        }
      ]
    },
    {
      "cell_type": "code",
      "source": [
        "def sum (a,b ):\n",
        "  return a+b"
      ],
      "metadata": {
        "id": "-kb9l0jmG6YX"
      },
      "execution_count": null,
      "outputs": []
    },
    {
      "cell_type": "code",
      "source": [
        "sum (4,0)"
      ],
      "metadata": {
        "colab": {
          "base_uri": "https://localhost:8080/"
        },
        "id": "8DSQqptzHBFH",
        "outputId": "70008f20-2a34-488a-eb76-0415c8a885f4"
      },
      "execution_count": null,
      "outputs": [
        {
          "output_type": "execute_result",
          "data": {
            "text/plain": [
              "4"
            ]
          },
          "metadata": {},
          "execution_count": 139
        }
      ]
    },
    {
      "cell_type": "code",
      "source": [
        "del sum"
      ],
      "metadata": {
        "colab": {
          "base_uri": "https://localhost:8080/",
          "height": 184
        },
        "id": "Cglo7ngAHFBf",
        "outputId": "e1d1dbec-e42e-4894-bf0c-167c0633407f"
      },
      "execution_count": null,
      "outputs": [
        {
          "output_type": "error",
          "ename": "NameError",
          "evalue": "ignored",
          "traceback": [
            "\u001b[0;31m---------------------------------------------------------------------------\u001b[0m",
            "\u001b[0;31mNameError\u001b[0m                                 Traceback (most recent call last)",
            "\u001b[0;32m<ipython-input-146-9b441b606bb1>\u001b[0m in \u001b[0;36m<cell line: 1>\u001b[0;34m()\u001b[0m\n\u001b[0;32m----> 1\u001b[0;31m \u001b[0;32mdel\u001b[0m \u001b[0msum\u001b[0m\u001b[0;34m\u001b[0m\u001b[0;34m\u001b[0m\u001b[0m\n\u001b[0m",
            "\u001b[0;31mNameError\u001b[0m: name 'sum' is not defined"
          ]
        }
      ]
    },
    {
      "cell_type": "code",
      "source": [
        "type(add)"
      ],
      "metadata": {
        "colab": {
          "base_uri": "https://localhost:8080/"
        },
        "id": "X4oOLxZmHtRN",
        "outputId": "1e523a03-8d16-4f37-938b-cd5d07dca513"
      },
      "execution_count": null,
      "outputs": [
        {
          "output_type": "execute_result",
          "data": {
            "text/plain": [
              "function"
            ]
          },
          "metadata": {},
          "execution_count": 148
        }
      ]
    },
    {
      "cell_type": "code",
      "source": [
        "print(dir(add))"
      ],
      "metadata": {
        "colab": {
          "base_uri": "https://localhost:8080/"
        },
        "id": "MBELqiwiHwfV",
        "outputId": "5061b5e1-e1fb-4036-9bbc-175d53ef28a3"
      },
      "execution_count": null,
      "outputs": [
        {
          "output_type": "stream",
          "name": "stdout",
          "text": [
            "['__annotations__', '__builtins__', '__call__', '__class__', '__closure__', '__code__', '__defaults__', '__delattr__', '__dict__', '__dir__', '__doc__', '__eq__', '__format__', '__ge__', '__get__', '__getattribute__', '__globals__', '__gt__', '__hash__', '__init__', '__init_subclass__', '__kwdefaults__', '__le__', '__lt__', '__module__', '__name__', '__ne__', '__new__', '__qualname__', '__reduce__', '__reduce_ex__', '__repr__', '__setattr__', '__sizeof__', '__str__', '__subclasshook__']\n"
          ]
        }
      ]
    },
    {
      "cell_type": "code",
      "source": [
        "display = add\n",
        "display(2,3)"
      ],
      "metadata": {
        "colab": {
          "base_uri": "https://localhost:8080/"
        },
        "id": "uvlx-f_4Fl4e",
        "outputId": "4e6c7b07-6281-47e4-fa9d-2059808de475"
      },
      "execution_count": null,
      "outputs": [
        {
          "output_type": "execute_result",
          "data": {
            "text/plain": [
              "5"
            ]
          },
          "metadata": {},
          "execution_count": 157
        }
      ]
    },
    {
      "cell_type": "code",
      "source": [
        "type(display)"
      ],
      "metadata": {
        "colab": {
          "base_uri": "https://localhost:8080/"
        },
        "id": "sGGSTuUIIdcR",
        "outputId": "fd65888e-753b-463d-f036-499b7b6e4eb6"
      },
      "execution_count": null,
      "outputs": [
        {
          "output_type": "execute_result",
          "data": {
            "text/plain": [
              "function"
            ]
          },
          "metadata": {},
          "execution_count": 159
        }
      ]
    },
    {
      "cell_type": "code",
      "source": [
        "# 함수를 다른 함수에 재할당해도 __name__은 원래 함수명을 알려준다.\n",
        "display.__name__"
      ],
      "metadata": {
        "colab": {
          "base_uri": "https://localhost:8080/",
          "height": 35
        },
        "id": "4_GH11DfIpN0",
        "outputId": "5d051968-3ff9-4ff9-c948-9f501a9edfa2"
      },
      "execution_count": null,
      "outputs": [
        {
          "output_type": "execute_result",
          "data": {
            "text/plain": [
              "'add'"
            ],
            "application/vnd.google.colaboratory.intrinsic+json": {
              "type": "string"
            }
          },
          "metadata": {},
          "execution_count": 160
        }
      ]
    },
    {
      "cell_type": "code",
      "source": [
        "def exam (a,b,c,d,e) :\n",
        "  hap = a+b+c+d+e\n",
        "  avg = hap / 5\n",
        "  print('합계:{}'.format(hap))\n",
        "  print('평균:{}'.format(avg))"
      ],
      "metadata": {
        "id": "eKZCmVLXMwa8"
      },
      "execution_count": null,
      "outputs": []
    },
    {
      "cell_type": "code",
      "source": [
        "exam (2,3,4,5,6)"
      ],
      "metadata": {
        "colab": {
          "base_uri": "https://localhost:8080/"
        },
        "id": "cg0EUtm9NC17",
        "outputId": "45eda370-8b31-4792-9157-d5f2ce7664f1"
      },
      "execution_count": null,
      "outputs": [
        {
          "output_type": "stream",
          "name": "stdout",
          "text": [
            "합계:20\n",
            "평균:4.0\n"
          ]
        }
      ]
    },
    {
      "cell_type": "code",
      "source": [
        "def display(k):\n",
        "  return len(k)\n"
      ],
      "metadata": {
        "id": "fDITwMJgNi8c"
      },
      "execution_count": null,
      "outputs": []
    },
    {
      "cell_type": "code",
      "source": [
        "display ('apple')\n"
      ],
      "metadata": {
        "colab": {
          "base_uri": "https://localhost:8080/"
        },
        "id": "RxHpa8LCNy27",
        "outputId": "15476a43-1f94-42d1-ac2a-9fed58354892"
      },
      "execution_count": null,
      "outputs": [
        {
          "output_type": "execute_result",
          "data": {
            "text/plain": [
              "5"
            ]
          },
          "metadata": {},
          "execution_count": 173
        }
      ]
    },
    {
      "cell_type": "code",
      "source": [
        "# 찾는 문자가 없을 때 : index() 오류발생, find() -1를 리턴\n",
        "def display(k,i):\n",
        "  return k.index(i)"
      ],
      "metadata": {
        "id": "EVUr50E0OFcn"
      },
      "execution_count": null,
      "outputs": []
    },
    {
      "cell_type": "code",
      "source": [
        "display ('apple','e')"
      ],
      "metadata": {
        "colab": {
          "base_uri": "https://localhost:8080/"
        },
        "id": "1fOrfcyvOTVL",
        "outputId": "184daba8-bd6d-44e3-ce2e-c7e746fc2a1b"
      },
      "execution_count": null,
      "outputs": [
        {
          "output_type": "execute_result",
          "data": {
            "text/plain": [
              "4"
            ]
          },
          "metadata": {},
          "execution_count": 176
        }
      ]
    },
    {
      "cell_type": "markdown",
      "source": [
        "특정년도의 윤년, 평년을 구해서 윤년이면 True, 평년이면 False로 리턴하는 프로그램을 구현하세요."
      ],
      "metadata": {
        "id": "QQMOxucqO-eN"
      }
    },
    {
      "cell_type": "code",
      "source": [
        "def isLeapYear(year) :\n",
        "   if (year % 4 == 0 and year % 100 !=0 ) or year % 400 ==0 :\n",
        "    return True\n",
        "   else :\n",
        "     return False"
      ],
      "metadata": {
        "id": "DZ4euYfpPEFB"
      },
      "execution_count": null,
      "outputs": []
    },
    {
      "cell_type": "code",
      "source": [
        "year = 2020\n",
        "if isLeapYear(year) :\n",
        "  print('{}년도는 {}입니다.'.format(year,'윤년'))\n",
        "else:\n",
        " print('{}년도는 {}입니다.'.format(year,'평년'))"
      ],
      "metadata": {
        "colab": {
          "base_uri": "https://localhost:8080/"
        },
        "id": "xG3cySHbPxDS",
        "outputId": "5ae19c6c-e59c-4391-d3a6-38092667b8da"
      },
      "execution_count": null,
      "outputs": [
        {
          "output_type": "stream",
          "name": "stdout",
          "text": [
            "2020년도는 윤년입니다.\n"
          ]
        }
      ]
    },
    {
      "cell_type": "code",
      "source": [
        "def resultYear(b) :\n",
        "  if b :\n",
        "     print('{}년도는 {}입니다.'.format(year,'윤년'))\n",
        "  else :\n",
        "     print('{}년도는 {}입니다.'.format(year,'평년'))"
      ],
      "metadata": {
        "id": "cqv48-NFQY5F"
      },
      "execution_count": null,
      "outputs": []
    },
    {
      "cell_type": "code",
      "source": [
        "year = 2028\n",
        "checkYear = isLeapYear(year)\n",
        "resultYear(checkYear)"
      ],
      "metadata": {
        "colab": {
          "base_uri": "https://localhost:8080/"
        },
        "id": "YH02ntXIQ3Gy",
        "outputId": "076f1d56-3f0d-4585-f222-282e9aa6b536"
      },
      "execution_count": null,
      "outputs": [
        {
          "output_type": "stream",
          "name": "stdout",
          "text": [
            "2028년도는 윤년입니다.\n"
          ]
        }
      ]
    },
    {
      "cell_type": "markdown",
      "source": [
        "2개의 요소가 저장된 list 데이터 타입의 reverse해서 결과를 리턴하는 함수를 구현하세요.   \n",
        "\n",
        "---\n",
        "\n"
      ],
      "metadata": {
        "id": "gr1ocKCeSGIl"
      }
    },
    {
      "cell_type": "code",
      "source": [
        "def swap (data):\n",
        "  a,b = data\n",
        "  return [b,a]"
      ],
      "metadata": {
        "id": "RvdyLbt1RlkL"
      },
      "execution_count": null,
      "outputs": []
    },
    {
      "cell_type": "code",
      "source": [
        "def swap (data):\n",
        "  return [ i for i in reversed (data)]"
      ],
      "metadata": {
        "id": "YcvKERT9V92m"
      },
      "execution_count": null,
      "outputs": []
    },
    {
      "cell_type": "code",
      "source": [
        "a= [1,3,4,5,6]\n",
        "print (swap(a))\n",
        "print ('변경후',a)"
      ],
      "metadata": {
        "colab": {
          "base_uri": "https://localhost:8080/"
        },
        "id": "cLHw1RGWV91Z",
        "outputId": "139e79aa-37a5-4154-a156-744be31c07fd"
      },
      "execution_count": null,
      "outputs": [
        {
          "output_type": "stream",
          "name": "stdout",
          "text": [
            "[6, 5, 4, 3, 1]\n",
            "변경후 [1, 3, 4, 5, 6]\n"
          ]
        }
      ]
    },
    {
      "cell_type": "code",
      "source": [
        "swap([1,3])"
      ],
      "metadata": {
        "colab": {
          "base_uri": "https://localhost:8080/"
        },
        "id": "gLtkJlvzUTuC",
        "outputId": "959d255a-281c-4e26-8459-75c0e078ea78"
      },
      "execution_count": null,
      "outputs": [
        {
          "output_type": "execute_result",
          "data": {
            "text/plain": [
              "[3, 1]"
            ]
          },
          "metadata": {},
          "execution_count": 213
        }
      ]
    },
    {
      "cell_type": "code",
      "source": [
        "def swap (data):\n",
        "\n",
        "  #return [i for i in reversed(data)]\n",
        "    data.reverse()\n",
        "    return data"
      ],
      "metadata": {
        "id": "HwFHCyxXUTsp"
      },
      "execution_count": null,
      "outputs": []
    },
    {
      "cell_type": "code",
      "source": [
        "a= ([1,2,3,4,5,])\n",
        "print(swap(a))\n",
        "print('변경 후:',a)"
      ],
      "metadata": {
        "colab": {
          "base_uri": "https://localhost:8080/"
        },
        "id": "io7iYyT7U8Ev",
        "outputId": "eaf76aed-c98f-481c-cd5c-45fa8eca775d"
      },
      "execution_count": null,
      "outputs": [
        {
          "output_type": "stream",
          "name": "stdout",
          "text": [
            "[5, 4, 3, 2, 1]\n",
            "변경 후: [5, 4, 3, 2, 1]\n"
          ]
        }
      ]
    },
    {
      "cell_type": "code",
      "source": [
        "for k in swap ([1,3]):\n",
        " print (k, end = ' ')"
      ],
      "metadata": {
        "colab": {
          "base_uri": "https://localhost:8080/"
        },
        "id": "WLEWu04uTAr7",
        "outputId": "99a89925-a96a-4554-99c7-620de2202d71"
      },
      "execution_count": null,
      "outputs": [
        {
          "output_type": "stream",
          "name": "stdout",
          "text": [
            "3 1 "
          ]
        }
      ]
    },
    {
      "cell_type": "markdown",
      "source": [
        "대문자는 소문자로, 소문자는 대문자로 나머지는 그대로 해서 반환하는 프로그램을 구현하세요."
      ],
      "metadata": {
        "id": "2HcwMi9qomWS"
      }
    },
    {
      "cell_type": "code",
      "source": [
        "item = 'arue'\n",
        "item >= 'A' and item <='Z'\n",
        "\n",
        "def process( arg ):\n",
        "  data = []\n",
        "  i=-1\n",
        "  while i < len(arg)-1:\n",
        "    i = i +1\n",
        "\n",
        "    #if (type(arg[i]) ==bool) or (type(arg[i]) ==int) :\n",
        "    if type(arg[i]) !=str :\n",
        "      data.append(arg[i])\n",
        "      continue\n",
        "\n",
        "    if arg[i] >= 'A' and arg[i] <='Z':\n",
        "      data.append (chr (ord (arg[i]) + 32 ))\n",
        "    elif arg[i] >='a' and arg[i] <='z':\n",
        "      data.append (chr (ord (arg[i]) - 32 ))\n",
        "    else:\n",
        "      data.append (arg[i])\n",
        "  return data"
      ],
      "metadata": {
        "id": "CG1M45vAT-9K"
      },
      "execution_count": null,
      "outputs": []
    },
    {
      "cell_type": "code",
      "source": [
        "def process(arg):\n",
        "  s=[]\n",
        "  for item in arg:\n",
        "    if type(item)==str:\n",
        "      if item.isupper():\n",
        "        s.append(item.lower())\n",
        "      elif item.islower():\n",
        "        s.append(item.upper())\n",
        "      else:\n",
        "        s.append(item)\n",
        "    else:\n",
        "        s.append(item)\n",
        "  print(s)"
      ],
      "metadata": {
        "id": "ym1UxQe760jf"
      },
      "execution_count": null,
      "outputs": []
    },
    {
      "cell_type": "code",
      "source": [
        "process(['p','y','T',1,'_',True])"
      ],
      "metadata": {
        "colab": {
          "base_uri": "https://localhost:8080/"
        },
        "id": "0sABn0ZXo4Cr",
        "outputId": "fa94db7f-41b6-44aa-c115-1729714e6418"
      },
      "execution_count": null,
      "outputs": [
        {
          "output_type": "stream",
          "name": "stdout",
          "text": [
            "['P', 'Y', 't', 1, '_', True]\n"
          ]
        }
      ]
    },
    {
      "cell_type": "code",
      "source": [
        "a = [1,2,3]\n",
        "for i in a:\n",
        "  if i%2==0:\n",
        "    continue\n",
        "  print(i)"
      ],
      "metadata": {
        "colab": {
          "base_uri": "https://localhost:8080/"
        },
        "id": "1SbdOBgc4Kqe",
        "outputId": "1b01e598-a84f-46d6-a67c-b6316ef48ca5"
      },
      "execution_count": null,
      "outputs": [
        {
          "output_type": "stream",
          "name": "stdout",
          "text": [
            "1\n",
            "3\n"
          ]
        }
      ]
    },
    {
      "cell_type": "code",
      "source": [
        "def process( arg ):  #['p','y','T',1,'_',True]\n",
        "  data = []\n",
        "  i = -1\n",
        "  while  i < len(arg)-1:\n",
        "    i = i + 1\n",
        "    if type(arg[i]) != str:\n",
        "      data.append(arg[i])\n",
        "      continue\n",
        "\n",
        "    if arg[i].isupper():\n",
        "      data.append(arg[i].lower())\n",
        "    elif arg[i].islower():\n",
        "      data.append(arg[i].upper())\n",
        "    else:\n",
        "      data.append(arg[i])\n",
        "\n",
        "  return data"
      ],
      "metadata": {
        "id": "yw7xusqr_edN"
      },
      "execution_count": null,
      "outputs": []
    },
    {
      "cell_type": "code",
      "source": [
        "process(['p','y','T',1,'_',True])"
      ],
      "metadata": {
        "colab": {
          "base_uri": "https://localhost:8080/"
        },
        "id": "BodZczea_gNT",
        "outputId": "799b0279-a1a3-4bd4-d01b-398b018a11ca"
      },
      "execution_count": null,
      "outputs": [
        {
          "output_type": "execute_result",
          "data": {
            "text/plain": [
              "['P', 'Y', 't', 1, '_', True]"
            ]
          },
          "metadata": {},
          "execution_count": 337
        }
      ]
    },
    {
      "cell_type": "code",
      "source": [],
      "metadata": {
        "id": "cuAnMPnaTGBc"
      },
      "execution_count": null,
      "outputs": []
    },
    {
      "cell_type": "code",
      "source": [
        "def process(arg):\n",
        "  s=[]\n",
        "  for item in arg:\n",
        "    if type(item)==str:\n",
        "      if item.isupper():\n",
        "        s.append(item.lower())\n",
        "      elif item.islower():\n",
        "        s.append(item.upper())\n",
        "      else:\n",
        "        s.append(item)\n",
        "    else:\n",
        "        s.append(item)\n",
        "  print(s)"
      ],
      "metadata": {
        "id": "c7LKjPsgFJcJ"
      },
      "execution_count": null,
      "outputs": []
    },
    {
      "cell_type": "code",
      "source": [],
      "metadata": {
        "id": "6ITsPnEhFJa5"
      },
      "execution_count": null,
      "outputs": []
    },
    {
      "cell_type": "code",
      "source": [
        "def passToken(arg):\n",
        "  data = []\n",
        "\n",
        "  for item in arg:\n",
        "    if item == 'a':\n",
        "      data.append('_')\n",
        "    elif item == 's':\n",
        "      data.append('@')\n",
        "    else :\n",
        "      data.append (item)\n",
        "\n",
        "  ##return str(data) 단일값\n",
        "  return ' '.join(data) #str로 바꾸고 싶을 때"
      ],
      "metadata": {
        "id": "GJgR4snOEkK9"
      },
      "execution_count": null,
      "outputs": []
    },
    {
      "cell_type": "code",
      "source": [
        "passToken('address') #_ddre@@\n"
      ],
      "metadata": {
        "colab": {
          "base_uri": "https://localhost:8080/",
          "height": 35
        },
        "id": "iAxcBjtREoiv",
        "outputId": "4ee8964f-9762-4c4a-ebe3-1644c9a9cabd"
      },
      "execution_count": null,
      "outputs": [
        {
          "output_type": "execute_result",
          "data": {
            "text/plain": [
              "'_ d d r e @ @'"
            ],
            "application/vnd.google.colaboratory.intrinsic+json": {
              "type": "string"
            }
          },
          "metadata": {},
          "execution_count": 357
        }
      ]
    },
    {
      "cell_type": "markdown",
      "source": [
        "## python은 외부에서 함수내부로 접근할 수 없다."
      ],
      "metadata": {
        "id": "i_zTSzMZIPS9"
      }
    },
    {
      "cell_type": "code",
      "source": [
        "def proc ( ) :\n",
        "  z = 1"
      ],
      "metadata": {
        "id": "XzKC1EnBIUuK"
      },
      "execution_count": null,
      "outputs": []
    },
    {
      "cell_type": "code",
      "source": [
        "c = 10 #전역변수\n",
        "def display () :\n",
        "  print (c)\n"
      ],
      "metadata": {
        "id": "LYKbM7lhIole"
      },
      "execution_count": null,
      "outputs": []
    },
    {
      "cell_type": "code",
      "source": [
        "display()"
      ],
      "metadata": {
        "colab": {
          "base_uri": "https://localhost:8080/"
        },
        "id": "l3SboY0tIzWo",
        "outputId": "e8783b9c-f432-40b0-809b-4d0033fb6165"
      },
      "execution_count": null,
      "outputs": [
        {
          "output_type": "stream",
          "name": "stdout",
          "text": [
            "10\n"
          ]
        }
      ]
    },
    {
      "cell_type": "markdown",
      "source": [
        "함수에서 외부의 값은 접근할 수 있지만, 변경은 할 수 없다."
      ],
      "metadata": {
        "id": "txUdMfy5JqYn"
      }
    },
    {
      "cell_type": "code",
      "source": [
        "t= 3\n",
        "def prn ( ) :\n",
        "  t = t+1\n",
        "  print(t)"
      ],
      "metadata": {
        "id": "7-gn3-aVJB1v"
      },
      "execution_count": null,
      "outputs": []
    },
    {
      "cell_type": "code",
      "source": [
        "prn()"
      ],
      "metadata": {
        "colab": {
          "base_uri": "https://localhost:8080/",
          "height": 294
        },
        "id": "wDBgeBoOJLOO",
        "outputId": "1a65da60-320f-4daa-ffc9-860ccbf5d47a"
      },
      "execution_count": null,
      "outputs": [
        {
          "output_type": "error",
          "ename": "UnboundLocalError",
          "evalue": "ignored",
          "traceback": [
            "\u001b[0;31m---------------------------------------------------------------------------\u001b[0m",
            "\u001b[0;31mUnboundLocalError\u001b[0m                         Traceback (most recent call last)",
            "\u001b[0;32m<ipython-input-367-9f4e808490c5>\u001b[0m in \u001b[0;36m<cell line: 1>\u001b[0;34m()\u001b[0m\n\u001b[0;32m----> 1\u001b[0;31m \u001b[0mprn\u001b[0m\u001b[0;34m(\u001b[0m\u001b[0;34m)\u001b[0m\u001b[0;34m\u001b[0m\u001b[0;34m\u001b[0m\u001b[0m\n\u001b[0m",
            "\u001b[0;32m<ipython-input-364-ab98ebbdea2b>\u001b[0m in \u001b[0;36mprn\u001b[0;34m()\u001b[0m\n\u001b[1;32m      1\u001b[0m \u001b[0mt\u001b[0m\u001b[0;34m=\u001b[0m \u001b[0;36m3\u001b[0m\u001b[0;34m\u001b[0m\u001b[0;34m\u001b[0m\u001b[0m\n\u001b[1;32m      2\u001b[0m \u001b[0;32mdef\u001b[0m \u001b[0mprn\u001b[0m \u001b[0;34m(\u001b[0m\u001b[0;34m)\u001b[0m\u001b[0;34m:\u001b[0m\u001b[0;34m\u001b[0m\u001b[0;34m\u001b[0m\u001b[0m\n\u001b[0;32m----> 3\u001b[0;31m   \u001b[0mt\u001b[0m\u001b[0;34m=\u001b[0m \u001b[0mt\u001b[0m\u001b[0;34m+\u001b[0m\u001b[0;36m1\u001b[0m\u001b[0;34m\u001b[0m\u001b[0;34m\u001b[0m\u001b[0m\n\u001b[0m\u001b[1;32m      4\u001b[0m   \u001b[0mprint\u001b[0m\u001b[0;34m(\u001b[0m\u001b[0mt\u001b[0m\u001b[0;34m)\u001b[0m\u001b[0;34m\u001b[0m\u001b[0;34m\u001b[0m\u001b[0m\n",
            "\u001b[0;31mUnboundLocalError\u001b[0m: local variable 't' referenced before assignment"
          ]
        }
      ]
    },
    {
      "cell_type": "code",
      "source": [
        "t= 3\n",
        "def prn ( ) :\n",
        "  global t\n",
        "  t = t+1\n",
        "  print(t)"
      ],
      "metadata": {
        "id": "IrTqG6zoJ9Jm"
      },
      "execution_count": null,
      "outputs": []
    },
    {
      "cell_type": "code",
      "source": [
        "prn ()"
      ],
      "metadata": {
        "colab": {
          "base_uri": "https://localhost:8080/"
        },
        "id": "1oIA-yCfKB9m",
        "outputId": "96124c01-f39d-4696-97e8-3fb97b193f9d"
      },
      "execution_count": null,
      "outputs": [
        {
          "output_type": "stream",
          "name": "stdout",
          "text": [
            "4\n"
          ]
        }
      ]
    },
    {
      "cell_type": "code",
      "source": [
        "# 외부의 자원도 값이 변경이 되어서 출력이 된다.\n",
        "t"
      ],
      "metadata": {
        "colab": {
          "base_uri": "https://localhost:8080/"
        },
        "id": "ZmjH4cOdKnCl",
        "outputId": "6c01a88a-a1eb-4340-828a-f2f4971d3bd6"
      },
      "execution_count": null,
      "outputs": [
        {
          "output_type": "execute_result",
          "data": {
            "text/plain": [
              "4"
            ]
          },
          "metadata": {},
          "execution_count": 371
        }
      ]
    },
    {
      "cell_type": "markdown",
      "source": [
        "외부 함수의 자원을 내부 함수에서 참조할때는 nonlocal을 사용한다."
      ],
      "metadata": {
        "id": "xygvRf3BMG4i"
      }
    },
    {
      "cell_type": "markdown",
      "source": [],
      "metadata": {
        "id": "4AH3sVSmMG2v"
      }
    },
    {
      "cell_type": "code",
      "source": [
        "k = 1\n",
        "def outer():\n",
        "  m=1\n",
        "  def inner():\n",
        "    global k\n",
        "    k = k + 1\n",
        "    nonlocal m\n",
        "    m = m + 1\n",
        "    return k, m\n",
        "  return inner()"
      ],
      "metadata": {
        "id": "hAC7nRDTKnAz"
      },
      "execution_count": null,
      "outputs": []
    },
    {
      "cell_type": "code",
      "source": [
        "outer()"
      ],
      "metadata": {
        "colab": {
          "base_uri": "https://localhost:8080/"
        },
        "id": "_EtpsfB5LEtV",
        "outputId": "10ea52d5-4a01-40da-97d0-08711d44e66e"
      },
      "execution_count": null,
      "outputs": [
        {
          "output_type": "execute_result",
          "data": {
            "text/plain": [
              "(2, 2)"
            ]
          },
          "metadata": {},
          "execution_count": 380
        }
      ]
    },
    {
      "cell_type": "markdown",
      "source": [
        "##lambda\n",
        "-python에서는 익명함수를 정의 할 때 lambda 키워드를 사용한다.   \n",
        "- 간결하게 함수를 표현하거나 def를 정의할수 없는 경우에 사용한다."
      ],
      "metadata": {
        "id": "GjiQUO0tMxxR"
      }
    },
    {
      "cell_type": "markdown",
      "source": [],
      "metadata": {
        "id": "59OH1ZuuMxvP"
      }
    },
    {
      "cell_type": "code",
      "source": [
        "def (a,b) :\n",
        "  return a + b"
      ],
      "metadata": {
        "id": "n4Lcw1EIMiyq"
      },
      "execution_count": null,
      "outputs": []
    },
    {
      "cell_type": "code",
      "source": [
        "add (3,4)"
      ],
      "metadata": {
        "colab": {
          "base_uri": "https://localhost:8080/"
        },
        "id": "qntbcworMna9",
        "outputId": "171bcc70-662e-47b4-90e3-8a1c62b98bb8"
      },
      "execution_count": null,
      "outputs": [
        {
          "output_type": "execute_result",
          "data": {
            "text/plain": [
              "7"
            ]
          },
          "metadata": {},
          "execution_count": 384
        }
      ]
    },
    {
      "cell_type": "code",
      "source": [
        "add = lambda a, b : a+b"
      ],
      "metadata": {
        "id": "QKPbzbaiM9rO"
      },
      "execution_count": null,
      "outputs": []
    },
    {
      "cell_type": "code",
      "source": [
        "type(add)"
      ],
      "metadata": {
        "colab": {
          "base_uri": "https://localhost:8080/"
        },
        "id": "jAePhCr2NMx8",
        "outputId": "3d54cdb8-a2a6-4763-add3-a46901ebc71d"
      },
      "execution_count": null,
      "outputs": [
        {
          "output_type": "execute_result",
          "data": {
            "text/plain": [
              "function"
            ]
          },
          "metadata": {},
          "execution_count": 389
        }
      ]
    },
    {
      "cell_type": "code",
      "source": [
        "add.__name__"
      ],
      "metadata": {
        "colab": {
          "base_uri": "https://localhost:8080/",
          "height": 35
        },
        "id": "Sh43LAt4NUU8",
        "outputId": "4ec60051-3771-42eb-e30e-121f42b45a16"
      },
      "execution_count": null,
      "outputs": [
        {
          "output_type": "execute_result",
          "data": {
            "text/plain": [
              "'<lambda>'"
            ],
            "application/vnd.google.colaboratory.intrinsic+json": {
              "type": "string"
            }
          },
          "metadata": {},
          "execution_count": 391
        }
      ]
    },
    {
      "cell_type": "code",
      "source": [
        "add(3,4)"
      ],
      "metadata": {
        "colab": {
          "base_uri": "https://localhost:8080/"
        },
        "id": "LjMMnnVYNYKU",
        "outputId": "ef34dcf2-abe8-4eca-ce7a-1efc40a909b9"
      },
      "execution_count": null,
      "outputs": [
        {
          "output_type": "execute_result",
          "data": {
            "text/plain": [
              "7"
            ]
          },
          "metadata": {},
          "execution_count": 392
        }
      ]
    }
  ]
}