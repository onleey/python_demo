{
  "nbformat": 4,
  "nbformat_minor": 0,
  "metadata": {
    "colab": {
      "provenance": [],
      "authorship_tag": "ABX9TyNcJgmZt2nP4qaMVMhffyu7",
      "include_colab_link": true
    },
    "kernelspec": {
      "name": "python3",
      "display_name": "Python 3"
    },
    "language_info": {
      "name": "python"
    }
  },
  "cells": [
    {
      "cell_type": "markdown",
      "metadata": {
        "id": "view-in-github",
        "colab_type": "text"
      },
      "source": [
        "<a href=\"https://colab.research.google.com/github/onleey/python_demo/blob/master/%EC%A0%90%ED%94%84%ED%88%AC%ED%8C%8C%EC%9D%B4%EC%8D%AC_%EC%98%88%EC%A0%9C_001.ipynb\" target=\"_parent\"><img src=\"https://colab.research.google.com/assets/colab-badge.svg\" alt=\"Open In Colab\"/></a>"
      ]
    },
    {
      "cell_type": "code",
      "execution_count": 3,
      "metadata": {
        "colab": {
          "base_uri": "https://localhost:8080/"
        },
        "id": "9mJkQ7K68G6l",
        "outputId": "113f6f2f-ba16-4736-8fed-0066e4a88aad"
      },
      "outputs": [
        {
          "output_type": "execute_result",
          "data": {
            "text/plain": [
              "70"
            ]
          },
          "metadata": {},
          "execution_count": 3
        }
      ],
      "source": [
        "x= (80+75+55)//3\n",
        "x"
      ]
    },
    {
      "cell_type": "code",
      "source": [
        "if 13 % 2 == 1:\n",
        "  print('홀수')\n",
        "else:\n",
        "  print('짝수')"
      ],
      "metadata": {
        "colab": {
          "base_uri": "https://localhost:8080/"
        },
        "id": "F1qkyeNG81PE",
        "outputId": "02cb82c6-a917-4e9e-a290-294bb4a1ccf1"
      },
      "execution_count": 5,
      "outputs": [
        {
          "output_type": "stream",
          "name": "stdout",
          "text": [
            "홀수\n"
          ]
        }
      ]
    },
    {
      "cell_type": "code",
      "source": [
        "pin='881120-1068234'\n",
        "yyyymmdd=pin[0:6]\n",
        "num=pin[7:]\n",
        "\n",
        "print(yyyymmdd)\n",
        "print(num)"
      ],
      "metadata": {
        "colab": {
          "base_uri": "https://localhost:8080/"
        },
        "id": "aDjcXyGU9NW4",
        "outputId": "a3d32c26-85c8-40af-cc28-cb7cdc71c793"
      },
      "execution_count": 12,
      "outputs": [
        {
          "output_type": "stream",
          "name": "stdout",
          "text": [
            "881120\n",
            "1068234\n"
          ]
        }
      ]
    },
    {
      "cell_type": "code",
      "source": [
        "pin='881120-1068234'\n",
        "print(pin[7])"
      ],
      "metadata": {
        "colab": {
          "base_uri": "https://localhost:8080/"
        },
        "id": "1Rckahao9-px",
        "outputId": "094c2a33-e8db-422a-a8fb-e7bffa385592"
      },
      "execution_count": 17,
      "outputs": [
        {
          "output_type": "stream",
          "name": "stdout",
          "text": [
            "1\n"
          ]
        }
      ]
    },
    {
      "cell_type": "code",
      "source": [
        "a='a:b:c:d'\n",
        "b=a.replace(':','#')\n",
        "print(b)"
      ],
      "metadata": {
        "colab": {
          "base_uri": "https://localhost:8080/"
        },
        "id": "VLpEw0nq-5KB",
        "outputId": "da1b9595-c810-4b50-d870-4c70d46c0a93"
      },
      "execution_count": 19,
      "outputs": [
        {
          "output_type": "stream",
          "name": "stdout",
          "text": [
            "a#b#c#d\n"
          ]
        }
      ]
    },
    {
      "cell_type": "code",
      "source": [
        "a=[1,3,5,4,2]\n",
        "a.sort()\n",
        "print(a)\n",
        "a.reverse()\n",
        "print(a)"
      ],
      "metadata": {
        "colab": {
          "base_uri": "https://localhost:8080/"
        },
        "id": "Lddzm4W0_Lj5",
        "outputId": "940dec79-1721-4a38-ed72-44837b7a06fe"
      },
      "execution_count": 29,
      "outputs": [
        {
          "output_type": "stream",
          "name": "stdout",
          "text": [
            "[1, 2, 3, 4, 5]\n",
            "[5, 4, 3, 2, 1]\n"
          ]
        }
      ]
    },
    {
      "cell_type": "code",
      "source": [
        "a=['life','is','too','short']\n",
        "result= ' '.join(a)\n",
        "print(result)"
      ],
      "metadata": {
        "colab": {
          "base_uri": "https://localhost:8080/"
        },
        "id": "65UArPPB_tMO",
        "outputId": "447158f8-4a86-4d95-a1f6-c4c8d5ebb0b3"
      },
      "execution_count": 79,
      "outputs": [
        {
          "output_type": "stream",
          "name": "stdout",
          "text": [
            "life is too short\n"
          ]
        }
      ]
    },
    {
      "cell_type": "code",
      "source": [
        "a= (1,2,3)\n",
        "b= a+ (4,)\n",
        "print(b)"
      ],
      "metadata": {
        "colab": {
          "base_uri": "https://localhost:8080/"
        },
        "id": "DjShNHzGBmhP",
        "outputId": "a685b05e-085d-48a3-e9ad-936c11462ad3"
      },
      "execution_count": 81,
      "outputs": [
        {
          "output_type": "stream",
          "name": "stdout",
          "text": [
            "(1, 2, 3, 4)\n"
          ]
        }
      ]
    },
    {
      "cell_type": "code",
      "source": [
        "a={'A':90,'B':80,'C':70}\n",
        "result = a.pop('B')\n",
        "print(a)\n",
        "print(result)"
      ],
      "metadata": {
        "colab": {
          "base_uri": "https://localhost:8080/"
        },
        "id": "mcPiP8lTAQ2_",
        "outputId": "9d6bf884-26ee-463e-b8b6-1e82511e8cbd"
      },
      "execution_count": 68,
      "outputs": [
        {
          "output_type": "stream",
          "name": "stdout",
          "text": [
            "{'A': 90, 'C': 70}\n",
            "80\n"
          ]
        }
      ]
    },
    {
      "cell_type": "code",
      "source": [
        "a=[1,1,1,1,2,2,2,2,3,3,3,3,4,4,4,4,5]\n",
        "aSet=set([1,1,1,1,2,2,2,2,3,3,3,3,4,4,4,4,5])\n",
        "b=aSet\n",
        "print(b)"
      ],
      "metadata": {
        "colab": {
          "base_uri": "https://localhost:8080/"
        },
        "id": "OX7KxBstDdHU",
        "outputId": "af421434-aff9-4995-b251-6e31f8db81f0"
      },
      "execution_count": 77,
      "outputs": [
        {
          "output_type": "stream",
          "name": "stdout",
          "text": [
            "{1, 2, 3, 4, 5}\n"
          ]
        }
      ]
    },
    {
      "cell_type": "code",
      "source": [],
      "metadata": {
        "id": "BTOAg0hREEDQ"
      },
      "execution_count": null,
      "outputs": []
    }
  ]
}