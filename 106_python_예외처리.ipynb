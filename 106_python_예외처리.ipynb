{
  "nbformat": 4,
  "nbformat_minor": 0,
  "metadata": {
    "colab": {
      "provenance": [],
      "authorship_tag": "ABX9TyM+nUF4Xyhy3Cl+ISTpxVXY",
      "include_colab_link": true
    },
    "kernelspec": {
      "name": "python3",
      "display_name": "Python 3"
    },
    "language_info": {
      "name": "python"
    }
  },
  "cells": [
    {
      "cell_type": "markdown",
      "metadata": {
        "id": "view-in-github",
        "colab_type": "text"
      },
      "source": [
        "<a href=\"https://colab.research.google.com/github/onleey/python_demo/blob/master/106_python_%EC%98%88%EC%99%B8%EC%B2%98%EB%A6%AC.ipynb\" target=\"_parent\"><img src=\"https://colab.research.google.com/assets/colab-badge.svg\" alt=\"Open In Colab\"/></a>"
      ]
    },
    {
      "cell_type": "markdown",
      "source": [
        "## 예외 (exception)\n",
        " - 코드를 실행하는 중에 발생하는 오류이다.\n",
        " - 오류가 발생하는 이유는 프로그램이 잘못 동작하는 것을 막기 위함이다.   \n",
        " -"
      ],
      "metadata": {
        "id": "sAhO3xj6eIyp"
      }
    },
    {
      "cell_type": "markdown",
      "source": [],
      "metadata": {
        "id": "wA_y9mdKeIx7"
      }
    },
    {
      "cell_type": "code",
      "execution_count": 1,
      "metadata": {
        "colab": {
          "base_uri": "https://localhost:8080/",
          "height": 184
        },
        "id": "tTsS-Yild_WT",
        "outputId": "290208a6-122d-4e37-f8ed-d3869685c0e4"
      },
      "outputs": [
        {
          "output_type": "error",
          "ename": "ZeroDivisionError",
          "evalue": "ignored",
          "traceback": [
            "\u001b[0;31m---------------------------------------------------------------------------\u001b[0m",
            "\u001b[0;31mZeroDivisionError\u001b[0m                         Traceback (most recent call last)",
            "\u001b[0;32m<ipython-input-1-381704f67b19>\u001b[0m in \u001b[0;36m<cell line: 1>\u001b[0;34m()\u001b[0m\n\u001b[0;32m----> 1\u001b[0;31m \u001b[0ma\u001b[0m \u001b[0;34m=\u001b[0m \u001b[0;36m10\u001b[0m \u001b[0;34m/\u001b[0m \u001b[0;36m0\u001b[0m\u001b[0;34m\u001b[0m\u001b[0;34m\u001b[0m\u001b[0m\n\u001b[0m",
            "\u001b[0;31mZeroDivisionError\u001b[0m: division by zero"
          ]
        }
      ],
      "source": [
        "a = 10 / 0  #이렇게 하면 오류나니까\n"
      ]
    },
    {
      "cell_type": "markdown",
      "source": [
        "## 예외처리\n",
        "- 예외처리는 에러가 발생하되 실행을 중단하지 않고 계속 실행하게 해주는 방법이다.   \n",
        "- 예외처리 구조\n",
        "```\n",
        "\n",
        "try:\n",
        "    실행 할 코드\n",
        "\n",
        "except:\n",
        "    오류가 발생했을 때 처리하는 코드\n",
        "\n",
        "else:\n",
        "    오류가 없을 때 처리하는 코드\n",
        "\n",
        "finally:\n",
        "    무조건 처리하는 코드\n",
        "\n",
        "```\n",
        "\n",
        "- 파이썬에서는 선언할 때 오류를 일일이 체크하지 않고, 사용 할때 에러가 발생하면 디버깅하는 스타일이다.\n",
        "\n",
        "- EAFP\n",
        "  - 허락보다는 용서를 구하기가 쉽다. (Easier to ask for forgiveness than permission)   \n",
        "  - 출처 : https://docs.python.org/3/glossary.html\n",
        "\n",
        "  -except 뒤에 에러이름을 넣으면, 해당하는 에러가 발생했을 때만 except를 발생시킨다.   \n",
        "\n",
        "  - Bulit - in Exception 예외계층도: https://docs.python.org/3/library/exceptions.html#exception-hierarchy  "
      ],
      "metadata": {
        "id": "AoGwSZqggMdr"
      }
    },
    {
      "cell_type": "code",
      "source": [
        "#try 블록이 정상적으로 실행되지 않으면 else 블록은 실행되지 않는다.\n",
        "# try 실행 -> except 실행 -> finally 실행\n",
        "\n",
        "try :\n",
        "  a = int(3)\n",
        "  b = int('a')\n",
        "  c = int(4)\n",
        "except:\n",
        "  print('숫자가 아닌 문자가 입력되었습니다.')\n",
        "\n",
        "else:\n",
        "  print('{}와{}와{}의 합:{}'.format(a,b,c, a+b+c))\n",
        "\n",
        "finally:\n",
        "  print('program end')"
      ],
      "metadata": {
        "colab": {
          "base_uri": "https://localhost:8080/"
        },
        "id": "tunZup9JjcV6",
        "outputId": "5fb0ffde-5775-4274-bef8-52e1e8141f9e"
      },
      "execution_count": 10,
      "outputs": [
        {
          "output_type": "stream",
          "name": "stdout",
          "text": [
            "숫자가 아닌 문자가 입력되었습니다.\n",
            "program end\n"
          ]
        }
      ]
    },
    {
      "cell_type": "markdown",
      "source": [],
      "metadata": {
        "id": "amtfbFnMgMck"
      }
    },
    {
      "cell_type": "code",
      "source": [
        "#try 블록이 완벽하게 실행이 되었기 때문에 else 블록이 실행이 된다.\n",
        "#try 실행 -> else 실행 -> finally 실행\n",
        "\n",
        "try :\n",
        "  a = int(3)\n",
        "  b = int(5)\n",
        "  c = int(4)\n",
        "\n",
        "except:\n",
        "  print('숫자가 아닌 문자가 입력되었습니다.')\n",
        "\n",
        "else:\n",
        "  print('{}와{}와{}의 합:{}'.format(a,b,c, a+b+c))\n",
        "\n",
        "finally:\n",
        "  print('program end')"
      ],
      "metadata": {
        "colab": {
          "base_uri": "https://localhost:8080/"
        },
        "id": "aFv4K-y1kdou",
        "outputId": "5fafeaaf-1fed-4594-86c6-a6ac304fda07"
      },
      "execution_count": 11,
      "outputs": [
        {
          "output_type": "stream",
          "name": "stdout",
          "text": [
            "3와5와4의 합:12\n",
            "program end\n"
          ]
        }
      ]
    },
    {
      "cell_type": "markdown",
      "source": [
        "## 다중 except\n",
        "- 다중 except 선언이 가능하다\n",
        "- except뒤에 오는 as는 try 블록에서 발생한 이름을 받아온다.\n",
        "\n",
        "```\n",
        "try:\n",
        "   실행할 코드\n",
        "except 예외 as 변수 :\n",
        "   예외가 발생했을 때 처리하는 코드\n",
        "except 예외 as 변수 :\n",
        "   예외가 발생했을 때 처리하는 코드\n",
        "except :\n",
        "   예외가 발생했을 때 처리하는 코드\n",
        "\n",
        "```"
      ],
      "metadata": {
        "id": "de43QS3ilXDe"
      }
    },
    {
      "cell_type": "code",
      "source": [
        "y = [10,20,30]\n",
        "\n",
        "try:\n",
        "  index , x = map(int,input('인덱스와 나눌 숫자를 입력하세요:').split())\n",
        "  print(y[index]/x)\n",
        "except ZeroDivisionError as e:\n",
        "  print('숫자를 0으로 나눌 수 없습니다. ',e)\n",
        "\n",
        "except IndexError as e:\n",
        "  print('잘못된 인덱스 입니다.',e)\n",
        "\n",
        "except Exception as e:\n",
        "  print(e)\n",
        "\n",
        "else:\n",
        "  print('end')\n",
        "\n",
        "finally:\n",
        "  print('program end')\n"
      ],
      "metadata": {
        "colab": {
          "base_uri": "https://localhost:8080/"
        },
        "id": "CD5om4HzlLD-",
        "outputId": "7efdbf9b-b8bf-4f89-c526-5300d731a875"
      },
      "execution_count": 17,
      "outputs": [
        {
          "output_type": "stream",
          "name": "stdout",
          "text": [
            "인덱스와 나눌 숫자를 입력하세요:1 2\n",
            "10.0\n",
            "end\n",
            "program end\n"
          ]
        }
      ]
    },
    {
      "cell_type": "markdown",
      "source": [
        "## 강제로 오류 발생시키기\n",
        "- raise  \n"
      ],
      "metadata": {
        "id": "Bj4J8gnJnR9w"
      }
    },
    {
      "cell_type": "code",
      "source": [
        "try:\n",
        "  x = int(input(\"3의 배수 숫자입력:\"))\n",
        "  if x % 3 != 0 :\n",
        "    raise Exception('3의 배수가 아니다.')\n",
        "  print(x)\n",
        "\n",
        "except Exception as e:\n",
        "  print(e)\n",
        "\n"
      ],
      "metadata": {
        "colab": {
          "base_uri": "https://localhost:8080/"
        },
        "id": "RIMv7nK4r8bV",
        "outputId": "ca88706d-d81e-4427-be78-39d92512fe15"
      },
      "execution_count": 24,
      "outputs": [
        {
          "output_type": "stream",
          "name": "stdout",
          "text": [
            "3의 배수 숫자입력:3\n",
            "3\n"
          ]
        }
      ]
    },
    {
      "cell_type": "code",
      "source": [
        "class Bird :\n",
        "  def fly(self):\n",
        "    #pass\n",
        "    raise NotImplementedError\n",
        "\n",
        "\n",
        "b= Bird()\n",
        "b.fly()"
      ],
      "metadata": {
        "colab": {
          "base_uri": "https://localhost:8080/",
          "height": 350
        },
        "id": "3dAz6bAJthny",
        "outputId": "d56fe5a9-4a98-4e32-fa7f-3368f4318e62"
      },
      "execution_count": 30,
      "outputs": [
        {
          "output_type": "error",
          "ename": "NotImplementedError",
          "evalue": "ignored",
          "traceback": [
            "\u001b[0;31m---------------------------------------------------------------------------\u001b[0m",
            "\u001b[0;31mNotImplementedError\u001b[0m                       Traceback (most recent call last)",
            "\u001b[0;32m<ipython-input-30-684495da2c95>\u001b[0m in \u001b[0;36m<cell line: 8>\u001b[0;34m()\u001b[0m\n\u001b[1;32m      6\u001b[0m \u001b[0;34m\u001b[0m\u001b[0m\n\u001b[1;32m      7\u001b[0m \u001b[0mb\u001b[0m\u001b[0;34m=\u001b[0m \u001b[0mBird\u001b[0m\u001b[0;34m(\u001b[0m\u001b[0;34m)\u001b[0m\u001b[0;34m\u001b[0m\u001b[0;34m\u001b[0m\u001b[0m\n\u001b[0;32m----> 8\u001b[0;31m \u001b[0mb\u001b[0m\u001b[0;34m.\u001b[0m\u001b[0mfly\u001b[0m\u001b[0;34m(\u001b[0m\u001b[0;34m)\u001b[0m\u001b[0;34m\u001b[0m\u001b[0;34m\u001b[0m\u001b[0m\n\u001b[0m",
            "\u001b[0;32m<ipython-input-30-684495da2c95>\u001b[0m in \u001b[0;36mfly\u001b[0;34m(self)\u001b[0m\n\u001b[1;32m      2\u001b[0m   \u001b[0;32mdef\u001b[0m \u001b[0mfly\u001b[0m\u001b[0;34m(\u001b[0m\u001b[0mself\u001b[0m\u001b[0;34m)\u001b[0m\u001b[0;34m:\u001b[0m\u001b[0;34m\u001b[0m\u001b[0;34m\u001b[0m\u001b[0m\n\u001b[1;32m      3\u001b[0m     \u001b[0;31m#pass\u001b[0m\u001b[0;34m\u001b[0m\u001b[0;34m\u001b[0m\u001b[0m\n\u001b[0;32m----> 4\u001b[0;31m     \u001b[0;32mraise\u001b[0m \u001b[0mNotImplementedError\u001b[0m\u001b[0;34m\u001b[0m\u001b[0;34m\u001b[0m\u001b[0m\n\u001b[0m\u001b[1;32m      5\u001b[0m \u001b[0;34m\u001b[0m\u001b[0m\n\u001b[1;32m      6\u001b[0m \u001b[0;34m\u001b[0m\u001b[0m\n",
            "\u001b[0;31mNotImplementedError\u001b[0m: "
          ]
        }
      ]
    },
    {
      "cell_type": "code",
      "source": [
        "class Bird:\n",
        "  def fly(self):\n",
        "    raise NotImplementedError\n",
        "\n",
        "\n",
        "class Eagle(Bird):\n",
        "  def fly(self):\n",
        "    print('very fast')\n",
        "\n",
        "\n",
        "  def display():\n",
        "    print('disply')\n",
        "\n",
        "eagle = Eagle()\n",
        "eagle.fly()\n",
        ""
      ],
      "metadata": {
        "colab": {
          "base_uri": "https://localhost:8080/"
        },
        "id": "BFdAVixVuMv7",
        "outputId": "604bac00-eb40-4540-93db-0005780838fa"
      },
      "execution_count": 34,
      "outputs": [
        {
          "output_type": "stream",
          "name": "stdout",
          "text": [
            "very fast\n"
          ]
        }
      ]
    },
    {
      "cell_type": "code",
      "source": [
        "from abc import abstractmethod\n",
        "\n",
        "class Bird:\n",
        "   @abstractmethod\n",
        "   def fly(self):\n",
        "    # pass\n",
        "\n",
        "class Eagle(Bird):\n",
        "   def display(self):\n",
        "     print('display')\n",
        "\n",
        "   def fly(self):\n",
        "     print('very fast')\n",
        "\n",
        "eagle = Eagle()\n",
        "eagle.fly"
      ],
      "metadata": {
        "colab": {
          "base_uri": "https://localhost:8080/",
          "height": 147
        },
        "id": "Ta4UbHFwwAYk",
        "outputId": "16f6fc81-cdf3-4730-aa2c-3603f3511e40"
      },
      "execution_count": 48,
      "outputs": [
        {
          "output_type": "error",
          "ename": "IndentationError",
          "evalue": "ignored",
          "traceback": [
            "\u001b[0;36m  File \u001b[0;32m\"<ipython-input-48-be14cfacf544>\"\u001b[0;36m, line \u001b[0;32m8\u001b[0m\n\u001b[0;31m    class Eagle(Bird):\u001b[0m\n\u001b[0m                      ^\u001b[0m\n\u001b[0;31mIndentationError\u001b[0m\u001b[0;31m:\u001b[0m expected an indented block after function definition on line 5\n"
          ]
        }
      ]
    },
    {
      "cell_type": "code",
      "source": [
        "# 사용자 정의 예외 클래스 만들기"
      ],
      "metadata": {
        "id": "5GBnhrYPxeRW"
      },
      "execution_count": 49,
      "outputs": []
    },
    {
      "cell_type": "code",
      "source": [
        "class UserClass(Exception):\n",
        "  def __str__ (self):\n",
        "    return '허용하지 않는 데이터 입니다.'"
      ],
      "metadata": {
        "id": "tufsvwhhxlAm"
      },
      "execution_count": 52,
      "outputs": []
    },
    {
      "cell_type": "code",
      "source": [
        "try:\n",
        "\n",
        "  x= int(input('숫자입력:'))\n",
        "  if x < 1 :\n",
        "    raise UserClass\n",
        "  print(x)\n",
        "\n",
        "except UserClass as e :\n",
        "  print(e)"
      ],
      "metadata": {
        "colab": {
          "base_uri": "https://localhost:8080/"
        },
        "id": "SfMCCOeKyP4k",
        "outputId": "59b81f6f-9347-44b4-a8f2-d01f112b4f05"
      },
      "execution_count": 51,
      "outputs": [
        {
          "output_type": "stream",
          "name": "stdout",
          "text": [
            "숫자입력:2\n",
            "2\n"
          ]
        }
      ]
    }
  ]
}