{
  "nbformat": 4,
  "nbformat_minor": 0,
  "metadata": {
    "colab": {
      "provenance": [],
      "authorship_tag": "ABX9TyPD0WYB408VcKnV8aY8N/2C",
      "include_colab_link": true
    },
    "kernelspec": {
      "name": "python3",
      "display_name": "Python 3"
    },
    "language_info": {
      "name": "python"
    }
  },
  "cells": [
    {
      "cell_type": "markdown",
      "metadata": {
        "id": "view-in-github",
        "colab_type": "text"
      },
      "source": [
        "<a href=\"https://colab.research.google.com/github/onleey/python_demo/blob/master/100_python%EC%9E%90%EB%A3%8C%ED%98%95.ipynb\" target=\"_parent\"><img src=\"https://colab.research.google.com/assets/colab-badge.svg\" alt=\"Open In Colab\"/></a>"
      ]
    },
    {
      "cell_type": "markdown",
      "source": [
        "https://www.python.org/   \n",
        "https://docs.python.org/ko/3/tutorial/index.html (파이썬 -> documant->Tutoria영한 동시에 보면서확인)   \n",
        "https://peps.python.org/pep-0008/  (PEP 8 – Style Guide for Python Code 주로 봄 )     \n",
        "https://wikidocs.net/book/1  (점프투파이썬)   \n",
        "https://dojang.io/course/view.php?id=7   (코딩도장)   "
      ],
      "metadata": {
        "id": "LbzmiPQu0pTU"
      }
    },
    {
      "cell_type": "code",
      "execution_count": null,
      "metadata": {
        "colab": {
          "base_uri": "https://localhost:8080/"
        },
        "id": "RYY9_I9i0CJ9",
        "outputId": "207076e3-e5de-49d5-d963-a944bc80758a"
      },
      "outputs": [
        {
          "output_type": "stream",
          "name": "stdout",
          "text": [
            "Python 3.10.12\n"
          ]
        }
      ],
      "source": [
        "#python version 확인\n",
        "!python --version"
      ]
    },
    {
      "cell_type": "code",
      "source": [
        "# python에서 추구하는철학\n",
        "import this"
      ],
      "metadata": {
        "id": "mFPxKkY10YK7"
      },
      "execution_count": null,
      "outputs": []
    },
    {
      "cell_type": "code",
      "source": [
        "import keyword\n",
        "print(keyword.kwlist)\n",
        "print(len(keyword.kwlist))"
      ],
      "metadata": {
        "colab": {
          "base_uri": "https://localhost:8080/"
        },
        "id": "hgTo6vhz2jKf",
        "outputId": "80df879a-5bae-4c09-f243-6483b3355498"
      },
      "execution_count": null,
      "outputs": [
        {
          "output_type": "stream",
          "name": "stdout",
          "text": [
            "['False', 'None', 'True', 'and', 'as', 'assert', 'async', 'await', 'break', 'class', 'continue', 'def', 'del', 'elif', 'else', 'except', 'finally', 'for', 'from', 'global', 'if', 'import', 'in', 'is', 'lambda', 'nonlocal', 'not', 'or', 'pass', 'raise', 'return', 'try', 'while', 'with', 'yield']\n",
            "35\n"
          ]
        }
      ]
    },
    {
      "cell_type": "code",
      "source": [
        "# 키워드는 식별자로 사용할 수 없다.\n",
        "#as = 3  #SyntaxError: invalid syntax\n",
        "\n",
        "#내장함수는 식별자로 사용할 수 있다.\n",
        "#list 내장함수 기능을 잃어버린다\n",
        "list = [3,5,8]\n",
        "print(list)\n",
        "\n",
        "#TypeError: 'list' object is not callable\n",
        "#list((1,2,3))\n",
        "\n",
        "#list 식별자의 기능을 제거해준다.\n",
        "del list\n",
        "list((1,2,3))"
      ],
      "metadata": {
        "colab": {
          "base_uri": "https://localhost:8080/"
        },
        "id": "ZB4n2U0VVHxM",
        "outputId": "61f65d6c-ce6b-46c3-ad55-347114de9069"
      },
      "execution_count": null,
      "outputs": [
        {
          "output_type": "stream",
          "name": "stdout",
          "text": [
            "[3, 5, 8]\n"
          ]
        },
        {
          "output_type": "execute_result",
          "data": {
            "text/plain": [
              "[1, 2, 3]"
            ]
          },
          "metadata": {},
          "execution_count": 230
        }
      ]
    },
    {
      "cell_type": "code",
      "source": [
        "print('hello word')\n",
        "print('hello word')"
      ],
      "metadata": {
        "colab": {
          "base_uri": "https://localhost:8080/"
        },
        "id": "7XqwSbyA3GDC",
        "outputId": "1ec11fc7-fe7e-455c-dcba-bcf03ddba05e"
      },
      "execution_count": null,
      "outputs": [
        {
          "output_type": "stream",
          "name": "stdout",
          "text": [
            "hello word\n",
            "hello word\n"
          ]
        }
      ]
    },
    {
      "cell_type": "code",
      "source": [
        "#; 세미콜론은 문장의 끝을 의미한다\n",
        "#하나의 문장이 끝나면 문장의 끝에 세미콜론을 입력한다.\n",
        "#하지만 파이썬 에서는 줄바꿈해서 입력하면 세미콜론 생략이 가능하다.\n",
        "print('hello word');print('hello word')\n",
        "\n"
      ],
      "metadata": {
        "colab": {
          "base_uri": "https://localhost:8080/"
        },
        "id": "vdHPcQtN3wxa",
        "outputId": "e27558ac-0345-4fe3-c5c1-ae2c98b61395"
      },
      "execution_count": null,
      "outputs": [
        {
          "output_type": "stream",
          "name": "stdout",
          "text": [
            "hello word\n",
            "hello word\n"
          ]
        }
      ]
    },
    {
      "cell_type": "code",
      "source": [
        "#변수(variable)값을 저장하는 메모리 공간\n",
        "a = 10; b = 20;\n",
        "if(a == 10) and  \\\n",
        "  (b == 20):\n",
        "  print('ok')\n",
        "else :\n",
        "  print('no')\n"
      ],
      "metadata": {
        "colab": {
          "base_uri": "https://localhost:8080/"
        },
        "id": "G_1TI1QN4Obx",
        "outputId": "e4cda522-1894-4ff2-b889-710106d09da4"
      },
      "execution_count": null,
      "outputs": [
        {
          "output_type": "stream",
          "name": "stdout",
          "text": [
            "ok\n"
          ]
        }
      ]
    },
    {
      "cell_type": "code",
      "source": [
        "start = end = 1\n",
        "print(start)\n",
        "print(end)"
      ],
      "metadata": {
        "colab": {
          "base_uri": "https://localhost:8080/"
        },
        "id": "EBQZiZJZMVee",
        "outputId": "94fb9253-d808-4c4c-fd51-0e4d7a6a61c0"
      },
      "execution_count": null,
      "outputs": [
        {
          "output_type": "stream",
          "name": "stdout",
          "text": [
            "1\n",
            "1\n"
          ]
        }
      ]
    },
    {
      "cell_type": "code",
      "source": [
        "# + : 문자열 연결의 의미\n",
        "a= '3' +'4'\n",
        "print(a)"
      ],
      "metadata": {
        "colab": {
          "base_uri": "https://localhost:8080/"
        },
        "id": "XoQWK1grN4iL",
        "outputId": "6f51530e-1ca1-4d95-e209-db8eeba9705f"
      },
      "execution_count": null,
      "outputs": [
        {
          "output_type": "stream",
          "name": "stdout",
          "text": [
            "34\n"
          ]
        }
      ]
    },
    {
      "cell_type": "code",
      "source": [
        "a = 1\n",
        "a = eval('3+4')\n",
        "print(a)\n",
        "\n",
        "a= eval('a+3')\n",
        "print(a)\n",
        "\n",
        "a= eval ('3'+'4')\n",
        "print(a)"
      ],
      "metadata": {
        "colab": {
          "base_uri": "https://localhost:8080/"
        },
        "id": "s2DMm80QNl7Z",
        "outputId": "571ebd0d-21ce-4f7f-a035-52ed10650a6c"
      },
      "execution_count": null,
      "outputs": [
        {
          "output_type": "stream",
          "name": "stdout",
          "text": [
            "7\n",
            "10\n",
            "34\n"
          ]
        }
      ]
    },
    {
      "cell_type": "markdown",
      "source": [
        "## 자료형\n",
        "1. 데이터 저장방법에 따른 자료형의 분류  \n",
        "  직접(direct)형 : 직접 데이터를 표현하는 자료형 : int, float, complex      \n",
        "  시퀀스(sequence)형: 다른 데이터를 포함하는 자료형, 순서가 있는 집합 자료형 : list,str, tuple, bytes, bytearray,range    \n",
        "  매핑(Mapping)형 : 다른 데이터를 포함하는 자료형 : dict    \n",
        "  집합(Set)형 : 순서가 없고, 중복된 값도 없다. : set, frozenset  \n",
        "\n",
        "2. 변경 가능성에 따른 자료형 분류  \n",
        "  변경 가능형(Mutable) : 데이터의 값을 변경할 수 있다.  : list, dict, set  \n",
        "  변경 불가능형(Immutable) : 데이터의 값을 변경할 수 없다. : int, float, complex, str, tuple, frozenset\n",
        "\n",
        "3. 데이터 저장 개수에 따른 자료형의 분류\n",
        "  리터널(Literal/Scalar)형 : 한 가지 객체만 저장한다. : int, bytes, str, float, complex  \n",
        "  컨테이널(Container)형 : 여러 가지 객체를 저장한다. : list, tuple, dict, set, fronzenset"
      ],
      "metadata": {
        "id": "eLDaLRZRPFVN"
      }
    },
    {
      "cell_type": "markdown",
      "source": [
        "type():데이터 자료형 확인\n"
      ],
      "metadata": {
        "id": "npen7IHvQIfZ"
      }
    },
    {
      "cell_type": "code",
      "source": [
        "type(5)"
      ],
      "metadata": {
        "colab": {
          "base_uri": "https://localhost:8080/"
        },
        "id": "GjoCKpV3QHGs",
        "outputId": "3c760087-e62c-4660-dbd0-4b3c364975bb"
      },
      "execution_count": null,
      "outputs": [
        {
          "output_type": "execute_result",
          "data": {
            "text/plain": [
              "int"
            ]
          },
          "metadata": {},
          "execution_count": 37
        }
      ]
    },
    {
      "cell_type": "code",
      "source": [
        "type(85.3)"
      ],
      "metadata": {
        "colab": {
          "base_uri": "https://localhost:8080/"
        },
        "id": "gmS22gJFQHF7",
        "outputId": "8326ae7e-569f-4c77-e916-f51d48bcadf5"
      },
      "execution_count": null,
      "outputs": [
        {
          "output_type": "execute_result",
          "data": {
            "text/plain": [
              "float"
            ]
          },
          "metadata": {},
          "execution_count": 39
        }
      ]
    },
    {
      "cell_type": "code",
      "source": [
        "type([1,3,5])"
      ],
      "metadata": {
        "colab": {
          "base_uri": "https://localhost:8080/"
        },
        "id": "fCAB5T83QlJd",
        "outputId": "816b8ac3-cc30-45eb-a764-a53f3ec9b887"
      },
      "execution_count": null,
      "outputs": [
        {
          "output_type": "execute_result",
          "data": {
            "text/plain": [
              "list"
            ]
          },
          "metadata": {},
          "execution_count": 41
        }
      ]
    },
    {
      "cell_type": "code",
      "source": [
        "type((2,6,7))"
      ],
      "metadata": {
        "colab": {
          "base_uri": "https://localhost:8080/"
        },
        "id": "F42TW_b0QtGo",
        "outputId": "514e86d4-8c49-4ebb-edaf-be37f9b5fdee"
      },
      "execution_count": null,
      "outputs": [
        {
          "output_type": "execute_result",
          "data": {
            "text/plain": [
              "tuple"
            ]
          },
          "metadata": {},
          "execution_count": 43
        }
      ]
    },
    {
      "cell_type": "code",
      "source": [
        "a =2,6,7\n",
        "type(a)"
      ],
      "metadata": {
        "colab": {
          "base_uri": "https://localhost:8080/"
        },
        "id": "33As1fbKQ9dB",
        "outputId": "ef5b48a8-2a93-4500-b019-80a6a9a021e2"
      },
      "execution_count": null,
      "outputs": [
        {
          "output_type": "execute_result",
          "data": {
            "text/plain": [
              "tuple"
            ]
          },
          "metadata": {},
          "execution_count": 46
        }
      ]
    },
    {
      "cell_type": "code",
      "source": [
        "def call():\n",
        "  return (2,3,4);"
      ],
      "metadata": {
        "id": "lnEXc_SmRTno"
      },
      "execution_count": null,
      "outputs": []
    },
    {
      "cell_type": "code",
      "source": [
        "print (call())\n",
        "print(type(call()))"
      ],
      "metadata": {
        "colab": {
          "base_uri": "https://localhost:8080/"
        },
        "id": "RVe3bIMPRplZ",
        "outputId": "db2f0173-124c-4e89-fe3f-e91d599cc340"
      },
      "execution_count": null,
      "outputs": [
        {
          "output_type": "stream",
          "name": "stdout",
          "text": [
            "(2, 3, 4)\n",
            "<class 'tuple'>\n"
          ]
        }
      ]
    },
    {
      "cell_type": "code",
      "source": [
        "type({1,2,3})"
      ],
      "metadata": {
        "colab": {
          "base_uri": "https://localhost:8080/"
        },
        "id": "vJSq6edtSZEm",
        "outputId": "6e2cdd9c-2335-477b-c720-aa8a33691952"
      },
      "execution_count": null,
      "outputs": [
        {
          "output_type": "execute_result",
          "data": {
            "text/plain": [
              "set"
            ]
          },
          "metadata": {},
          "execution_count": 55
        }
      ]
    },
    {
      "cell_type": "code",
      "source": [
        "type({a:3, b:4})"
      ],
      "metadata": {
        "colab": {
          "base_uri": "https://localhost:8080/"
        },
        "id": "vbDB9muWSkKK",
        "outputId": "22596ce6-c44a-4bb9-9c73-4060ab9cd1c2"
      },
      "execution_count": null,
      "outputs": [
        {
          "output_type": "execute_result",
          "data": {
            "text/plain": [
              "dict"
            ]
          },
          "metadata": {},
          "execution_count": 57
        }
      ]
    },
    {
      "cell_type": "code",
      "source": [
        "type('python')"
      ],
      "metadata": {
        "colab": {
          "base_uri": "https://localhost:8080/"
        },
        "id": "KL5FKovSS3hg",
        "outputId": "0df365ac-8419-4988-a86e-a9bc84ac2c41"
      },
      "execution_count": null,
      "outputs": [
        {
          "output_type": "execute_result",
          "data": {
            "text/plain": [
              "str"
            ]
          },
          "metadata": {},
          "execution_count": 59
        }
      ]
    },
    {
      "cell_type": "markdown",
      "source": [
        "dir( ) : 자료형의 내장함수를 검색할 수 있다."
      ],
      "metadata": {
        "id": "t83qr6IaTgdD"
      }
    },
    {
      "cell_type": "code",
      "source": [
        "print(dir(str))"
      ],
      "metadata": {
        "colab": {
          "base_uri": "https://localhost:8080/"
        },
        "id": "oDDsLCgjTnqg",
        "outputId": "791f7fa9-3cf6-4407-be08-aeb723abb5fd"
      },
      "execution_count": null,
      "outputs": [
        {
          "output_type": "stream",
          "name": "stdout",
          "text": [
            "['__add__', '__class__', '__contains__', '__delattr__', '__dir__', '__doc__', '__eq__', '__format__', '__ge__', '__getattribute__', '__getitem__', '__getnewargs__', '__gt__', '__hash__', '__init__', '__init_subclass__', '__iter__', '__le__', '__len__', '__lt__', '__mod__', '__mul__', '__ne__', '__new__', '__reduce__', '__reduce_ex__', '__repr__', '__rmod__', '__rmul__', '__setattr__', '__sizeof__', '__str__', '__subclasshook__', 'capitalize', 'casefold', 'center', 'count', 'encode', 'endswith', 'expandtabs', 'find', 'format', 'format_map', 'index', 'isalnum', 'isalpha', 'isascii', 'isdecimal', 'isdigit', 'isidentifier', 'islower', 'isnumeric', 'isprintable', 'isspace', 'istitle', 'isupper', 'join', 'ljust', 'lower', 'lstrip', 'maketrans', 'partition', 'removeprefix', 'removesuffix', 'replace', 'rfind', 'rindex', 'rjust', 'rpartition', 'rsplit', 'rstrip', 'split', 'splitlines', 'startswith', 'strip', 'swapcase', 'title', 'translate', 'upper', 'zfill']\n"
          ]
        }
      ]
    },
    {
      "cell_type": "code",
      "source": [
        "print(dir(list))"
      ],
      "metadata": {
        "colab": {
          "base_uri": "https://localhost:8080/"
        },
        "id": "_7FPIZDzUF73",
        "outputId": "3a224cc6-7aac-4fec-8a91-fd905cd8599d"
      },
      "execution_count": null,
      "outputs": [
        {
          "output_type": "stream",
          "name": "stdout",
          "text": [
            "['__add__', '__class__', '__class_getitem__', '__contains__', '__delattr__', '__delitem__', '__dir__', '__doc__', '__eq__', '__format__', '__ge__', '__getattribute__', '__getitem__', '__gt__', '__hash__', '__iadd__', '__imul__', '__init__', '__init_subclass__', '__iter__', '__le__', '__len__', '__lt__', '__mul__', '__ne__', '__new__', '__reduce__', '__reduce_ex__', '__repr__', '__reversed__', '__rmul__', '__setattr__', '__setitem__', '__sizeof__', '__str__', '__subclasshook__', 'append', 'clear', 'copy', 'count', 'extend', 'index', 'insert', 'pop', 'remove', 'reverse', 'sort']\n"
          ]
        }
      ]
    },
    {
      "cell_type": "code",
      "source": [
        "a= [1 ,2 , 3]\n",
        "print(a.__dir__())"
      ],
      "metadata": {
        "colab": {
          "base_uri": "https://localhost:8080/"
        },
        "id": "vljyjjntUakA",
        "outputId": "fc30179e-0c6b-477f-cc2a-cf9518355d70"
      },
      "execution_count": null,
      "outputs": [
        {
          "output_type": "stream",
          "name": "stdout",
          "text": [
            "['__new__', '__repr__', '__hash__', '__getattribute__', '__lt__', '__le__', '__eq__', '__ne__', '__gt__', '__ge__', '__iter__', '__init__', '__len__', '__getitem__', '__setitem__', '__delitem__', '__add__', '__mul__', '__rmul__', '__contains__', '__iadd__', '__imul__', '__reversed__', '__sizeof__', 'clear', 'copy', 'append', 'insert', 'extend', 'pop', 'remove', 'index', 'count', 'reverse', 'sort', '__class_getitem__', '__doc__', '__str__', '__setattr__', '__delattr__', '__reduce_ex__', '__reduce__', '__subclasshook__', '__init_subclass__', '__format__', '__dir__', '__class__']\n"
          ]
        }
      ]
    },
    {
      "cell_type": "markdown",
      "source": [
        "help(): 자료형에서 제공하는 메소드 사용법을 검색할 수 있다."
      ],
      "metadata": {
        "id": "TAfiIfu1VJg8"
      }
    },
    {
      "cell_type": "code",
      "source": [
        "#help(str)\n",
        "help(str.index) #'hello'.index('l')"
      ],
      "metadata": {
        "colab": {
          "base_uri": "https://localhost:8080/"
        },
        "id": "GeCqcxi0VO0P",
        "outputId": "18f69bd6-83fe-41df-d124-5f17e5505137"
      },
      "execution_count": null,
      "outputs": [
        {
          "output_type": "stream",
          "name": "stdout",
          "text": [
            "Help on method_descriptor:\n",
            "\n",
            "index(...)\n",
            "    S.index(sub[, start[, end]]) -> int\n",
            "    \n",
            "    Return the lowest index in S where substring sub is found,\n",
            "    such that sub is contained within S[start:end].  Optional\n",
            "    arguments start and end are interpreted as in slice notation.\n",
            "    \n",
            "    Raises ValueError when the substring is not found.\n",
            "\n"
          ]
        }
      ]
    },
    {
      "cell_type": "code",
      "source": [
        "'hello'.index('l')\n"
      ],
      "metadata": {
        "colab": {
          "base_uri": "https://localhost:8080/"
        },
        "id": "mNrNuFUQWCDf",
        "outputId": "9b41f5b7-7c36-4c70-8be4-56f5d66a0ad2"
      },
      "execution_count": null,
      "outputs": [
        {
          "output_type": "execute_result",
          "data": {
            "text/plain": [
              "2"
            ]
          },
          "metadata": {},
          "execution_count": 72
        }
      ]
    },
    {
      "cell_type": "markdown",
      "source": [
        "## Sequence 자료형\n",
        "- Sequence은 여러 객체를 저장할 수 있는 순서를 갖는 연속된 자료형이다.\n",
        "- 자료형 종류 : str, tuple, list\n",
        "- sequence형의 공통적인 연산\n",
        "  - 인덱싱(indexing)\n",
        "  - 슬라이싱(slicing)\n",
        "  - 연결하기\n",
        "  - 반복하기\n",
        "  - 멤버 검사\n",
        "  - 길이정보"
      ],
      "metadata": {
        "id": "3UfyBb4eaX-W"
      }
    },
    {
      "cell_type": "markdown",
      "source": [
        "문자열(str)\n",
        "\n",
        "문자열은 문자들을 표현하는 자료형으로 작은따옴표(')나 큰따옴표(\")로 묶는다.\n",
        "문자열의 슬라이싱 : [인덱스 시작 : 인덱스 끝 : 스텝]\n",
        "스텝의 default은 1의 값을 갖는다."
      ],
      "metadata": {
        "id": "ORzmmBpLaX8_"
      }
    },
    {
      "cell_type": "code",
      "source": [
        "a ='Life is too short, You need python'\n",
        "print(a)\n",
        "a =\"Life is too short, You need python\"\n",
        "print(a)\n"
      ],
      "metadata": {
        "colab": {
          "base_uri": "https://localhost:8080/"
        },
        "id": "Z1q3Ol54aiL-",
        "outputId": "c3456038-f887-4222-f3fb-f9a487d2fd77"
      },
      "execution_count": null,
      "outputs": [
        {
          "output_type": "stream",
          "name": "stdout",
          "text": [
            "Life is too short, You need python\n",
            "Life is too short, You need python\n"
          ]
        }
      ]
    },
    {
      "cell_type": "code",
      "source": [
        "a = \"python's favorite food is perl\"\n",
        "print(a)\n",
        "print(id(a))\n",
        "a = 'python\\'s favorite food is perl'\n",
        "print (a)\n",
        "print(id(a))\n",
        "a = '\"python is very easy.\" he says.'\n",
        "print (a)\n",
        "print (id(a))\n",
        "a = \"\\\"python is very easy.\\\" he says.\"\n",
        "print (a)\n",
        "print (id(a))\n",
        "\n"
      ],
      "metadata": {
        "colab": {
          "base_uri": "https://localhost:8080/"
        },
        "id": "sM3SNSNsa8DN",
        "outputId": "ecbe86b0-e054-4ea7-b025-0d8e721baff9"
      },
      "execution_count": null,
      "outputs": [
        {
          "output_type": "stream",
          "name": "stdout",
          "text": [
            "python's favorite food is perl\n",
            "136409521031808\n",
            "python's favorite food is perl\n",
            "136409520754800\n",
            "\"python is very easy.\" he says.\n",
            "136409520764720\n",
            "\"python is very easy.\" he says.\n",
            "136409521088112\n"
          ]
        }
      ]
    },
    {
      "cell_type": "code",
      "source": [
        "b = \"\"\"\n",
        "Life is too short,\n",
        " You need python\n",
        "\"\"\"\n",
        "print (b)\n",
        "b = '''\n",
        "Life is too short,\n",
        " You need python\n",
        "'''\n",
        "print (b)"
      ],
      "metadata": {
        "colab": {
          "base_uri": "https://localhost:8080/"
        },
        "id": "gAlP9HyTa8CF",
        "outputId": "d7377ed1-d1a8-434b-ec1e-0c5ee1eea199"
      },
      "execution_count": null,
      "outputs": [
        {
          "output_type": "stream",
          "name": "stdout",
          "text": [
            "\n",
            "Life is too short,\n",
            " You need python\n",
            "\n",
            "\n",
            "Life is too short,\n",
            " You need python\n",
            "\n"
          ]
        }
      ]
    },
    {
      "cell_type": "code",
      "source": [
        "a=  'Life is too short'\n",
        "len(a)  #문자열 길이"
      ],
      "metadata": {
        "colab": {
          "base_uri": "https://localhost:8080/"
        },
        "id": "Pav3wstmeNfL",
        "outputId": "8d86bf52-c6f2-4ee6-a1bf-ebee04e8747a"
      },
      "execution_count": null,
      "outputs": [
        {
          "output_type": "execute_result",
          "data": {
            "text/plain": [
              "17"
            ]
          },
          "metadata": {},
          "execution_count": 86
        }
      ]
    },
    {
      "cell_type": "code",
      "source": [
        "s_val = 'hello python!'\n",
        "print(s_val)"
      ],
      "metadata": {
        "colab": {
          "base_uri": "https://localhost:8080/"
        },
        "id": "yFmx4P6Eei0c",
        "outputId": "c924be59-eede-48b0-e03f-fde4bae1dcf9"
      },
      "execution_count": null,
      "outputs": [
        {
          "output_type": "stream",
          "name": "stdout",
          "text": [
            "hello python!\n"
          ]
        }
      ]
    },
    {
      "cell_type": "code",
      "source": [
        "#indexing (인덱싱)\n",
        "s_val[1]"
      ],
      "metadata": {
        "colab": {
          "base_uri": "https://localhost:8080/",
          "height": 35
        },
        "id": "EYFut_4eeqr5",
        "outputId": "91f03693-ba44-4086-fd4c-8bddf8e37d0c"
      },
      "execution_count": null,
      "outputs": [
        {
          "output_type": "execute_result",
          "data": {
            "text/plain": [
              "'e'"
            ],
            "application/vnd.google.colaboratory.intrinsic+json": {
              "type": "string"
            }
          },
          "metadata": {},
          "execution_count": 90
        }
      ]
    },
    {
      "cell_type": "code",
      "source": [
        "#slicing (슬라이싱) [start:end:step]\n",
        "s_val[0:3]  #0이상 3미만"
      ],
      "metadata": {
        "colab": {
          "base_uri": "https://localhost:8080/",
          "height": 35
        },
        "id": "Sd_4WQi-e2QM",
        "outputId": "f59689b4-088a-460a-dcfb-d11af8c8308a"
      },
      "execution_count": null,
      "outputs": [
        {
          "output_type": "execute_result",
          "data": {
            "text/plain": [
              "'hel'"
            ],
            "application/vnd.google.colaboratory.intrinsic+json": {
              "type": "string"
            }
          },
          "metadata": {},
          "execution_count": 91
        }
      ]
    },
    {
      "cell_type": "code",
      "source": [
        "s_val[1:2]  #1이상2미만"
      ],
      "metadata": {
        "colab": {
          "base_uri": "https://localhost:8080/",
          "height": 35
        },
        "id": "CQ5QIzurgD-1",
        "outputId": "89c38328-655b-40e7-913e-befb42af635c"
      },
      "execution_count": null,
      "outputs": [
        {
          "output_type": "execute_result",
          "data": {
            "text/plain": [
              "'e'"
            ],
            "application/vnd.google.colaboratory.intrinsic+json": {
              "type": "string"
            }
          },
          "metadata": {},
          "execution_count": 94
        }
      ]
    },
    {
      "cell_type": "code",
      "source": [
        "s_val[1:] #1부터 끝까지"
      ],
      "metadata": {
        "colab": {
          "base_uri": "https://localhost:8080/",
          "height": 35
        },
        "id": "5_xXUAbJgUrr",
        "outputId": "d7ecd216-b007-4db1-dd7a-16ebead895de"
      },
      "execution_count": null,
      "outputs": [
        {
          "output_type": "execute_result",
          "data": {
            "text/plain": [
              "'ello python!'"
            ],
            "application/vnd.google.colaboratory.intrinsic+json": {
              "type": "string"
            }
          },
          "metadata": {},
          "execution_count": 96
        }
      ]
    },
    {
      "cell_type": "code",
      "source": [
        "#변수의 모든 데이터를 가지고 옴\n",
        "print(s_val[0:])\n",
        "print(s_val[:])"
      ],
      "metadata": {
        "colab": {
          "base_uri": "https://localhost:8080/"
        },
        "id": "uiReOV1Mghmy",
        "outputId": "add0be3a-d31a-4494-8c6e-2b265e709783"
      },
      "execution_count": null,
      "outputs": [
        {
          "output_type": "stream",
          "name": "stdout",
          "text": [
            "hello python!\n",
            "hello python!\n"
          ]
        }
      ]
    },
    {
      "cell_type": "code",
      "source": [
        "s_val[-1]"
      ],
      "metadata": {
        "colab": {
          "base_uri": "https://localhost:8080/",
          "height": 35
        },
        "id": "OWyXvSx2g9xd",
        "outputId": "f7a4dec9-e8ed-4808-deeb-f03943babad7"
      },
      "execution_count": null,
      "outputs": [
        {
          "output_type": "execute_result",
          "data": {
            "text/plain": [
              "'!'"
            ],
            "application/vnd.google.colaboratory.intrinsic+json": {
              "type": "string"
            }
          },
          "metadata": {},
          "execution_count": 99
        }
      ]
    },
    {
      "cell_type": "code",
      "source": [
        "s_val[-3:-1]"
      ],
      "metadata": {
        "colab": {
          "base_uri": "https://localhost:8080/",
          "height": 35
        },
        "id": "nJ4iQAJkhX0C",
        "outputId": "48123208-7433-4ca9-8df5-4a33e0c04001"
      },
      "execution_count": null,
      "outputs": [
        {
          "output_type": "execute_result",
          "data": {
            "text/plain": [
              "'on'"
            ],
            "application/vnd.google.colaboratory.intrinsic+json": {
              "type": "string"
            }
          },
          "metadata": {},
          "execution_count": 101
        }
      ]
    },
    {
      "cell_type": "code",
      "source": [
        "s_val [::2]"
      ],
      "metadata": {
        "colab": {
          "base_uri": "https://localhost:8080/",
          "height": 35
        },
        "id": "LCFqXDhFhmmj",
        "outputId": "40295063-7b3e-48e2-9857-adfe3fe5b291"
      },
      "execution_count": null,
      "outputs": [
        {
          "output_type": "execute_result",
          "data": {
            "text/plain": [
              "'hlopto!'"
            ],
            "application/vnd.google.colaboratory.intrinsic+json": {
              "type": "string"
            }
          },
          "metadata": {},
          "execution_count": 104
        }
      ]
    },
    {
      "cell_type": "code",
      "source": [
        "s_val[::-1]"
      ],
      "metadata": {
        "colab": {
          "base_uri": "https://localhost:8080/",
          "height": 35
        },
        "id": "yvQ-LlLshz27",
        "outputId": "e90d5e9d-5ae3-4959-b3fb-d90eca0031e0"
      },
      "execution_count": null,
      "outputs": [
        {
          "output_type": "execute_result",
          "data": {
            "text/plain": [
              "'!nohtyp olleh'"
            ],
            "application/vnd.google.colaboratory.intrinsic+json": {
              "type": "string"
            }
          },
          "metadata": {},
          "execution_count": 106
        }
      ]
    },
    {
      "cell_type": "code",
      "source": [
        "s_val[13::-1]"
      ],
      "metadata": {
        "colab": {
          "base_uri": "https://localhost:8080/",
          "height": 35
        },
        "id": "9cmW01yiiFAi",
        "outputId": "8342b7aa-cf8c-41b8-bce1-385ab7dd2d3e"
      },
      "execution_count": null,
      "outputs": [
        {
          "output_type": "execute_result",
          "data": {
            "text/plain": [
              "'!nohtyp olleh'"
            ],
            "application/vnd.google.colaboratory.intrinsic+json": {
              "type": "string"
            }
          },
          "metadata": {},
          "execution_count": 117
        }
      ]
    },
    {
      "cell_type": "markdown",
      "source": [
        "문자열의 연결하기는 (+) 연산자를 사용"
      ],
      "metadata": {
        "id": "iCdpXkm7iuNj"
      }
    },
    {
      "cell_type": "code",
      "source": [
        "s_val2='hello'+' '+'python'\n",
        "s_val2"
      ],
      "metadata": {
        "colab": {
          "base_uri": "https://localhost:8080/",
          "height": 35
        },
        "id": "38bIbuAYi33C",
        "outputId": "139926cc-8524-4c7d-e2b7-a9928ea04ecb"
      },
      "execution_count": null,
      "outputs": [
        {
          "output_type": "execute_result",
          "data": {
            "text/plain": [
              "'hello python'"
            ],
            "application/vnd.google.colaboratory.intrinsic+json": {
              "type": "string"
            }
          },
          "metadata": {},
          "execution_count": 119
        }
      ]
    },
    {
      "cell_type": "code",
      "source": [
        "# 파이썬은 다른 자료형끼리 (+) 연산자를 사용할 수 없다.\n",
        "s_val2 ='hello'+2\n",
        "s_val2"
      ],
      "metadata": {
        "colab": {
          "base_uri": "https://localhost:8080/",
          "height": 203
        },
        "id": "IC4-rl4cjJKv",
        "outputId": "2795d4e0-e4ed-4e10-9d4c-108df20b29d5"
      },
      "execution_count": null,
      "outputs": [
        {
          "output_type": "error",
          "ename": "TypeError",
          "evalue": "ignored",
          "traceback": [
            "\u001b[0;31m---------------------------------------------------------------------------\u001b[0m",
            "\u001b[0;31mTypeError\u001b[0m                                 Traceback (most recent call last)",
            "\u001b[0;32m<ipython-input-121-72b263d80f9f>\u001b[0m in \u001b[0;36m<cell line: 1>\u001b[0;34m()\u001b[0m\n\u001b[0;32m----> 1\u001b[0;31m \u001b[0ms_val2\u001b[0m \u001b[0;34m=\u001b[0m\u001b[0;34m'hello'\u001b[0m\u001b[0;34m+\u001b[0m\u001b[0;36m2\u001b[0m\u001b[0;34m\u001b[0m\u001b[0;34m\u001b[0m\u001b[0m\n\u001b[0m\u001b[1;32m      2\u001b[0m \u001b[0ms_val2\u001b[0m\u001b[0;34m\u001b[0m\u001b[0;34m\u001b[0m\u001b[0m\n",
            "\u001b[0;31mTypeError\u001b[0m: can only concatenate str (not \"int\") to str"
          ]
        }
      ]
    },
    {
      "cell_type": "markdown",
      "source": [
        "## 문자열 반복하기는 (*) 연산자를 사용"
      ],
      "metadata": {
        "id": "fG13I3-vqXSZ"
      }
    },
    {
      "cell_type": "code",
      "source": [
        "s_val = 'win' * 3\n",
        "s_val"
      ],
      "metadata": {
        "colab": {
          "base_uri": "https://localhost:8080/",
          "height": 35
        },
        "id": "GZEmaY-KqmF_",
        "outputId": "557cba46-5411-42ab-9d4f-e53065796d63"
      },
      "execution_count": null,
      "outputs": [
        {
          "output_type": "execute_result",
          "data": {
            "text/plain": [
              "'winwinwin'"
            ],
            "application/vnd.google.colaboratory.intrinsic+json": {
              "type": "string"
            }
          },
          "metadata": {},
          "execution_count": 124
        }
      ]
    },
    {
      "cell_type": "code",
      "source": [
        "s_val = 'win' * 'win'  # (*)는 다른언어끼리 사용가능\n",
        "s_val"
      ],
      "metadata": {
        "colab": {
          "base_uri": "https://localhost:8080/",
          "height": 203
        },
        "id": "1S3BnI_hq4KX",
        "outputId": "65e517db-93f2-4d3b-d5b4-50a6beb1d73f"
      },
      "execution_count": null,
      "outputs": [
        {
          "output_type": "error",
          "ename": "TypeError",
          "evalue": "ignored",
          "traceback": [
            "\u001b[0;31m---------------------------------------------------------------------------\u001b[0m",
            "\u001b[0;31mTypeError\u001b[0m                                 Traceback (most recent call last)",
            "\u001b[0;32m<ipython-input-126-cd7616a57779>\u001b[0m in \u001b[0;36m<cell line: 1>\u001b[0;34m()\u001b[0m\n\u001b[0;32m----> 1\u001b[0;31m \u001b[0ms_val\u001b[0m \u001b[0;34m=\u001b[0m \u001b[0;34m'win'\u001b[0m \u001b[0;34m*\u001b[0m \u001b[0;34m'win'\u001b[0m  \u001b[0;31m# (*)는 다른언어끼리 사용가능\u001b[0m\u001b[0;34m\u001b[0m\u001b[0;34m\u001b[0m\u001b[0m\n\u001b[0m\u001b[1;32m      2\u001b[0m \u001b[0ms_val\u001b[0m\u001b[0;34m\u001b[0m\u001b[0;34m\u001b[0m\u001b[0m\n",
            "\u001b[0;31mTypeError\u001b[0m: can't multiply sequence by non-int of type 'str'"
          ]
        }
      ]
    },
    {
      "cell_type": "markdown",
      "source": [
        "## 문자열을 변경할 때 슬라이싱과 연결하기 사용"
      ],
      "metadata": {
        "id": "jfKqes7LrZZI"
      }
    },
    {
      "cell_type": "code",
      "source": [
        "s_val ='hello python!'"
      ],
      "metadata": {
        "id": "qZObd6yUrVY-"
      },
      "execution_count": null,
      "outputs": []
    },
    {
      "cell_type": "code",
      "source": [
        "s_check ='H'+ s_val[1:]\n",
        "s_check"
      ],
      "metadata": {
        "colab": {
          "base_uri": "https://localhost:8080/",
          "height": 35
        },
        "id": "AfpUsyPMrmbQ",
        "outputId": "912855f5-5cf5-4e6d-9339-80d67070064b"
      },
      "execution_count": null,
      "outputs": [
        {
          "output_type": "execute_result",
          "data": {
            "text/plain": [
              "'Hello python!'"
            ],
            "application/vnd.google.colaboratory.intrinsic+json": {
              "type": "string"
            }
          },
          "metadata": {},
          "execution_count": 130
        }
      ]
    },
    {
      "cell_type": "markdown",
      "source": [
        "## in연산자로 멤버 검사를 해서 부분 문자열의 존재 확인"
      ],
      "metadata": {
        "id": "ucLUFYpusFvo"
      }
    },
    {
      "cell_type": "code",
      "source": [
        "s_val ='red green blue'\n",
        "s_val"
      ],
      "metadata": {
        "colab": {
          "base_uri": "https://localhost:8080/",
          "height": 35
        },
        "id": "qq6opqgqsKio",
        "outputId": "c10bf539-9239-4abd-b6bc-a7315992d3a7"
      },
      "execution_count": null,
      "outputs": [
        {
          "output_type": "execute_result",
          "data": {
            "text/plain": [
              "'red green blue'"
            ],
            "application/vnd.google.colaboratory.intrinsic+json": {
              "type": "string"
            }
          },
          "metadata": {},
          "execution_count": 132
        }
      ]
    },
    {
      "cell_type": "code",
      "source": [
        "# s_val변수에 'green' 문자열이 있니?\n",
        "'green' in s_val"
      ],
      "metadata": {
        "colab": {
          "base_uri": "https://localhost:8080/"
        },
        "id": "yYLVohSzscPe",
        "outputId": "c9485663-9d67-452f-a4ca-9bfdaa69c54e"
      },
      "execution_count": null,
      "outputs": [
        {
          "output_type": "execute_result",
          "data": {
            "text/plain": [
              "True"
            ]
          },
          "metadata": {},
          "execution_count": 134
        }
      ]
    },
    {
      "cell_type": "code",
      "source": [
        "'white' in s_val"
      ],
      "metadata": {
        "colab": {
          "base_uri": "https://localhost:8080/"
        },
        "id": "dFn8pbFRsp3W",
        "outputId": "00a72652-d5bd-425a-b7dc-4838ac0c47aa"
      },
      "execution_count": null,
      "outputs": [
        {
          "output_type": "execute_result",
          "data": {
            "text/plain": [
              "False"
            ]
          },
          "metadata": {},
          "execution_count": 135
        }
      ]
    },
    {
      "cell_type": "markdown",
      "source": [
        "문자열 서식지정 : 어떤 문서 양식을 만들어 넣고 빈칸에 필요한 내용을 채워서 문서를 지정한다."
      ],
      "metadata": {
        "id": "6FmN0Yqss631"
      }
    },
    {
      "cell_type": "code",
      "source": [
        "s_val7 = 'python'\n",
        "s_val8 = 83.5\n",
        "\n",
        "print('%s 의 점수는 %.1f입니다.' % ( s_val7, s_val8)) # python1, 2방식\n",
        "print('{} 의 점수는 {}입니다.'.format(s_val7, s_val8)) # python3 방식\n",
        "print('{1} 의 점수는 {0}입니다.'.format(s_val8, s_val7))\n",
        "print('{subject} 의 점수는 {jumsu}입니다.'.format(jumsu=s_val8, subject=s_val7))\n",
        "print('{{0}} 의 점수는 {{1}}입니다.'.format(s_val7, s_val8)) # { }자체를 출력할때 {{}}을 한다.\n",
        "print('{{{0}}} 의 점수는 {{{1}}}입니다.'.format(s_val7, s_val8)) # {}자체와 값을 출력할때는 {{{}}}을 한다.\n",
        "\n",
        "print('{0:<10} 의 점수는 {1}입니다.'.format(s_val7, s_val8))  # 10자리 확보하고 남은 공간은 오른쪽을 여백으로 채운다.\n",
        "#print('{:<10} 의 점수는 {}입니다.'.format(s_val7, s_val8))\n",
        "\n",
        "print('{0:>10} 의 점수는 {1}입니다.'.format(s_val7, s_val8))  # 10자리 확보하고 남은 공간은 왼쪽을 여백으로 채운다.\n",
        "#print('{:>10} 의 점수는 {}입니다.'.format(s_val7, s_val8))"
      ],
      "metadata": {
        "colab": {
          "base_uri": "https://localhost:8080/"
        },
        "id": "vQ2te_b-wm7p",
        "outputId": "7b77e447-4875-4ba5-ad41-50b5f211a80c"
      },
      "execution_count": null,
      "outputs": [
        {
          "output_type": "stream",
          "name": "stdout",
          "text": [
            "python 의 점수는 83.5입니다.\n",
            "python 의 점수는 83.5입니다.\n",
            "python 의 점수는 83.5입니다.\n",
            "python 의 점수는 83.5입니다.\n",
            "{0} 의 점수는 {1}입니다.\n",
            "{python} 의 점수는 {83.5}입니다.\n",
            "python     의 점수는 83.5입니다.\n",
            "    python 의 점수는 83.5입니다.\n"
          ]
        }
      ]
    },
    {
      "cell_type": "markdown",
      "source": [
        "## 문자열에서 제공하는 메소드\n"
      ],
      "metadata": {
        "id": "rNF6n9Sys62A"
      }
    },
    {
      "cell_type": "code",
      "source": [
        "a= 'hobby'\n",
        "a.count('b') #'b' 문자개수 리턴\n"
      ],
      "metadata": {
        "colab": {
          "base_uri": "https://localhost:8080/"
        },
        "id": "EQ6niO-k1FY0",
        "outputId": "f9a2aee2-65c4-4859-a939-38dfce112940"
      },
      "execution_count": null,
      "outputs": [
        {
          "output_type": "execute_result",
          "data": {
            "text/plain": [
              "2"
            ]
          },
          "metadata": {},
          "execution_count": 143
        }
      ]
    },
    {
      "cell_type": "code",
      "source": [
        "len(a) #모든 문자열의 개수 리턴"
      ],
      "metadata": {
        "colab": {
          "base_uri": "https://localhost:8080/"
        },
        "id": "mt9C_BJu1_tj",
        "outputId": "10ba220b-f9a3-49a4-8486-fb345f917c6d"
      },
      "execution_count": null,
      "outputs": [
        {
          "output_type": "execute_result",
          "data": {
            "text/plain": [
              "5"
            ]
          },
          "metadata": {},
          "execution_count": 145
        }
      ]
    },
    {
      "cell_type": "code",
      "source": [
        "#'b'의 인덱스 리턴\n",
        "print(a.find('b'))\n",
        "print(a.index('b'))"
      ],
      "metadata": {
        "colab": {
          "base_uri": "https://localhost:8080/"
        },
        "id": "isVH0nw-2MBj",
        "outputId": "0981c351-0dcb-448f-afcd-1b9b24520eae"
      },
      "execution_count": null,
      "outputs": [
        {
          "output_type": "stream",
          "name": "stdout",
          "text": [
            "2\n",
            "2\n"
          ]
        }
      ]
    },
    {
      "cell_type": "code",
      "source": [
        "print (a.find('c')) #찾는 문자열이 없으면 -1을 리턴\n",
        "print (a.index('c')) #찾는 문자열이 없으면 오류를 발생"
      ],
      "metadata": {
        "colab": {
          "base_uri": "https://localhost:8080/",
          "height": 221
        },
        "id": "VS5x50nH2Pnz",
        "outputId": "7a757ffc-969c-4138-e7ab-11209bc47ad9"
      },
      "execution_count": null,
      "outputs": [
        {
          "output_type": "stream",
          "name": "stdout",
          "text": [
            "-1\n"
          ]
        },
        {
          "output_type": "error",
          "ename": "ValueError",
          "evalue": "ignored",
          "traceback": [
            "\u001b[0;31m---------------------------------------------------------------------------\u001b[0m",
            "\u001b[0;31mValueError\u001b[0m                                Traceback (most recent call last)",
            "\u001b[0;32m<ipython-input-150-7d5b43d2d920>\u001b[0m in \u001b[0;36m<cell line: 2>\u001b[0;34m()\u001b[0m\n\u001b[1;32m      1\u001b[0m \u001b[0mprint\u001b[0m \u001b[0;34m(\u001b[0m\u001b[0ma\u001b[0m\u001b[0;34m.\u001b[0m\u001b[0mfind\u001b[0m\u001b[0;34m(\u001b[0m\u001b[0;34m'c'\u001b[0m\u001b[0;34m)\u001b[0m\u001b[0;34m)\u001b[0m \u001b[0;31m#찾는 문자열이 없으면 -1을 리턴\u001b[0m\u001b[0;34m\u001b[0m\u001b[0;34m\u001b[0m\u001b[0m\n\u001b[0;32m----> 2\u001b[0;31m \u001b[0mprint\u001b[0m \u001b[0;34m(\u001b[0m\u001b[0ma\u001b[0m\u001b[0;34m.\u001b[0m\u001b[0mindex\u001b[0m\u001b[0;34m(\u001b[0m\u001b[0;34m'c'\u001b[0m\u001b[0;34m)\u001b[0m\u001b[0;34m)\u001b[0m \u001b[0;31m#찾는 문자열이 없으면 오류를 발생\u001b[0m\u001b[0;34m\u001b[0m\u001b[0;34m\u001b[0m\u001b[0m\n\u001b[0m",
            "\u001b[0;31mValueError\u001b[0m: substring not found"
          ]
        }
      ]
    },
    {
      "cell_type": "code",
      "source": [
        "'~'.join('apple') #apple 문자열의 각각의 문자사이에 기호를 삽입해준다"
      ],
      "metadata": {
        "colab": {
          "base_uri": "https://localhost:8080/",
          "height": 35
        },
        "id": "YKt9FBw83RU0",
        "outputId": "d6b3e0c6-7c86-455f-8c4a-b55ec9ad9307"
      },
      "execution_count": null,
      "outputs": [
        {
          "output_type": "execute_result",
          "data": {
            "text/plain": [
              "'a~p~p~l~e'"
            ],
            "application/vnd.google.colaboratory.intrinsic+json": {
              "type": "string"
            }
          },
          "metadata": {},
          "execution_count": 159
        }
      ]
    },
    {
      "cell_type": "code",
      "source": [
        "'*'.join(['red','green','blue'])"
      ],
      "metadata": {
        "colab": {
          "base_uri": "https://localhost:8080/",
          "height": 35
        },
        "id": "CMVCPM4239q6",
        "outputId": "146e4b26-d95b-4707-c7b4-c1473722040d"
      },
      "execution_count": null,
      "outputs": [
        {
          "output_type": "execute_result",
          "data": {
            "text/plain": [
              "'red*green*blue'"
            ],
            "application/vnd.google.colaboratory.intrinsic+json": {
              "type": "string"
            }
          },
          "metadata": {},
          "execution_count": 161
        }
      ]
    },
    {
      "cell_type": "code",
      "source": [
        "a = 'hello'\n",
        "a.upper() #대문자로 변경"
      ],
      "metadata": {
        "colab": {
          "base_uri": "https://localhost:8080/",
          "height": 35
        },
        "id": "wdaPmBm54NdL",
        "outputId": "bbd938fb-6ce1-45d6-e2a9-e91ce1de5d5d"
      },
      "execution_count": null,
      "outputs": [
        {
          "output_type": "execute_result",
          "data": {
            "text/plain": [
              "'HELLO'"
            ],
            "application/vnd.google.colaboratory.intrinsic+json": {
              "type": "string"
            }
          },
          "metadata": {},
          "execution_count": 163
        }
      ]
    },
    {
      "cell_type": "code",
      "source": [
        "a='HELLO'\n",
        "a.lower() #소문자로 변경"
      ],
      "metadata": {
        "colab": {
          "base_uri": "https://localhost:8080/",
          "height": 35
        },
        "id": "jxoLYMEM4aGK",
        "outputId": "5ce82adf-5db6-4e7a-8ae1-6bcdc3425314"
      },
      "execution_count": null,
      "outputs": [
        {
          "output_type": "execute_result",
          "data": {
            "text/plain": [
              "'hello'"
            ],
            "application/vnd.google.colaboratory.intrinsic+json": {
              "type": "string"
            }
          },
          "metadata": {},
          "execution_count": 166
        }
      ]
    },
    {
      "cell_type": "code",
      "source": [
        "a = '   hello  world  '\n",
        "print(len(a)) # 17\n",
        "print(a)\n",
        "b=a.lstrip()  #왼쪽 공백 제거\n",
        "print(len(b))\n",
        "print(b)  #14"
      ],
      "metadata": {
        "colab": {
          "base_uri": "https://localhost:8080/"
        },
        "id": "Zr3z5JWL5mhW",
        "outputId": "93e4d74c-db84-43f4-8bc8-0d79729b2612"
      },
      "execution_count": null,
      "outputs": [
        {
          "output_type": "stream",
          "name": "stdout",
          "text": [
            "17\n",
            "   hello  world  \n",
            "14\n",
            "hello  world  \n"
          ]
        }
      ]
    },
    {
      "cell_type": "code",
      "source": [
        "a = '   hello  world  '\n",
        "print(len(a)) # 17\n",
        "print(a)\n",
        "b=a.rstrip()  #오른쪽 공백 제거\n",
        "print(len(b))\n",
        "print(b)  #15"
      ],
      "metadata": {
        "colab": {
          "base_uri": "https://localhost:8080/"
        },
        "id": "WS3B2Gpl4sYa",
        "outputId": "73ad39b6-3c66-48de-82a2-09415a5f0de8"
      },
      "execution_count": null,
      "outputs": [
        {
          "output_type": "stream",
          "name": "stdout",
          "text": [
            "17\n",
            "   hello  world  \n",
            "15\n",
            "   hello  world\n"
          ]
        }
      ]
    },
    {
      "cell_type": "code",
      "source": [
        "a = '   hello  world  '\n",
        "print(len(a)) # 17\n",
        "print(a)\n",
        "b=a.strip()  #양쪽 공백 제거\n",
        "print(len(b))\n",
        "print(b)  #12"
      ],
      "metadata": {
        "colab": {
          "base_uri": "https://localhost:8080/"
        },
        "id": "cj73hncR5s2M",
        "outputId": "ceaebf00-47b4-45ae-b66e-6e5558f1d01f"
      },
      "execution_count": null,
      "outputs": [
        {
          "output_type": "stream",
          "name": "stdout",
          "text": [
            "17\n",
            "   hello  world  \n",
            "12\n",
            "hello  world\n"
          ]
        }
      ]
    },
    {
      "cell_type": "code",
      "source": [
        "a = 'Hello Python'\n",
        "print(a.replace('Python','파이썬')) #문자열 변경"
      ],
      "metadata": {
        "colab": {
          "base_uri": "https://localhost:8080/"
        },
        "id": "Ke3zUanE6DOr",
        "outputId": "71a2a033-93e1-4a1e-cd6f-e3b79ab61f83"
      },
      "execution_count": null,
      "outputs": [
        {
          "output_type": "stream",
          "name": "stdout",
          "text": [
            "Hello 파이썬\n"
          ]
        }
      ]
    },
    {
      "cell_type": "code",
      "source": [
        "a = 'Red Green Blue'\n",
        "print(a.split())\n",
        "\n",
        "a = 'Red*Green*Blue'\n",
        "print(a.split('*'))\n",
        "\n",
        "a = 'Red//Green//Blue'\n",
        "print(a.split('/'))"
      ],
      "metadata": {
        "colab": {
          "base_uri": "https://localhost:8080/"
        },
        "id": "5kbAVRJU604x",
        "outputId": "12183aa6-0a84-4739-cfa4-605b27d66ce3"
      },
      "execution_count": null,
      "outputs": [
        {
          "output_type": "stream",
          "name": "stdout",
          "text": [
            "['Red', 'Green', 'Blue']\n",
            "['Red', 'Green', 'Blue']\n",
            "['Red', '', 'Green', '', 'Blue']\n"
          ]
        }
      ]
    },
    {
      "cell_type": "markdown",
      "source": [
        "## 예제 및 풀이"
      ],
      "metadata": {
        "id": "lvXashhn71jC"
      }
    },
    {
      "cell_type": "code",
      "source": [
        "## 문제1) S='Somewhere on the rainbow'를 'Somewhere over the rainbow'로 변환하세요.\n",
        "s = 'Somewhere on the rainbow'\n",
        "print(s.replace(\"on\", \"over\"))\n"
      ],
      "metadata": {
        "colab": {
          "base_uri": "https://localhost:8080/"
        },
        "id": "mVOqZP9k7zAC",
        "outputId": "dfc3bfec-66c9-4c9a-afaf-e42fe540f2f4"
      },
      "execution_count": null,
      "outputs": [
        {
          "output_type": "stream",
          "name": "stdout",
          "text": [
            "Somewhere over the rainbow\n"
          ]
        }
      ]
    },
    {
      "cell_type": "code",
      "source": [
        "## 문제2)   s = '/usr/local/bin/python' 에서 각각의 디렉토리 경로명을 분리하여 출력하세요\n",
        "s = '/usr/local/bin/python'\n",
        "print(s.split('/'))"
      ],
      "metadata": {
        "colab": {
          "base_uri": "https://localhost:8080/"
        },
        "id": "ftRMWN5s9QpK",
        "outputId": "b6201b53-8e96-4a95-f577-a2759b2b9a4f"
      },
      "execution_count": null,
      "outputs": [
        {
          "output_type": "stream",
          "name": "stdout",
          "text": [
            "['', 'usr', 'local', 'bin', 'python']\n"
          ]
        }
      ]
    },
    {
      "cell_type": "code",
      "source": [
        "#'spam ham'을 'ham spam'으로 치환하세요.\n",
        "# 문자열의 split( )과 join( )메서드 그리고 리스트의 reverse( )메서드를 사용\n",
        "ham = 'spam ham'\n",
        "print(ham.split())"
      ],
      "metadata": {
        "colab": {
          "base_uri": "https://localhost:8080/"
        },
        "id": "oYdbjdGF9e8f",
        "outputId": "062f39be-4da9-441f-93b9-c9b9de358924"
      },
      "execution_count": null,
      "outputs": [
        {
          "output_type": "stream",
          "name": "stdout",
          "text": [
            "['spam', 'ham']\n"
          ]
        }
      ]
    },
    {
      "cell_type": "code",
      "source": [
        "a=['spam','ham']\n",
        "a.reverse()\n",
        "print(a)\n"
      ],
      "metadata": {
        "colab": {
          "base_uri": "https://localhost:8080/"
        },
        "id": "1AKPuE7dpEYy",
        "outputId": "39f5128b-8337-433e-c26a-7b19b7398435"
      },
      "execution_count": null,
      "outputs": [
        {
          "output_type": "stream",
          "name": "stdout",
          "text": [
            "['ham', 'spam']\n"
          ]
        }
      ]
    },
    {
      "cell_type": "code",
      "source": [
        "list=['ham', 'spam']\n",
        "print(list)\n",
        "\n",
        "result= (' ').join(list)\n",
        "print(result)"
      ],
      "metadata": {
        "colab": {
          "base_uri": "https://localhost:8080/"
        },
        "id": "ARjEQHEorHGR",
        "outputId": "19dba3fd-dbcf-4a67-e3e2-bd58f41f36f6"
      },
      "execution_count": null,
      "outputs": [
        {
          "output_type": "stream",
          "name": "stdout",
          "text": [
            "['ham', 'spam']\n",
            "ham spam\n"
          ]
        }
      ]
    },
    {
      "cell_type": "code",
      "source": [
        "a='spam ham'\n",
        "b= a.split(' ')\n",
        "print(b)\n",
        "\n",
        "\n",
        "b.reverse()    ## reverse 함수는 리턴값이 없기때문에 a= b= 이런거 하면 값이 안나옴 none\n",
        "print(b)\n",
        "\n",
        "c= ' '.join(b)\n",
        "print(c)\n",
        "\n",
        "ws= a.split(' ')\n",
        "ws.reverse()\n",
        "print(' '.join(ws))"
      ],
      "metadata": {
        "colab": {
          "base_uri": "https://localhost:8080/"
        },
        "id": "o62T_YIcRmZ4",
        "outputId": "9a612dec-071b-45e2-cc25-e4d96caf22c7"
      },
      "execution_count": null,
      "outputs": [
        {
          "output_type": "stream",
          "name": "stdout",
          "text": [
            "['spam', 'ham']\n",
            "['ham', 'spam']\n",
            "ham spam\n",
            "ham spam\n"
          ]
        }
      ]
    },
    {
      "cell_type": "code",
      "source": [
        "##문제4)\n",
        "##문자열이 주어져 있을 때 'spam' 이 몇 번 나타나는지 구하시오.\n",
        "##단, 대소문자 구분하지 않음\n",
        "\n",
        "s = 'spam Spam SpaM egg eGG Egg ham hAm'\n",
        "print(s.lower())  #type(s.lower())\n",
        "\n",
        "s.lower().count('spam')"
      ],
      "metadata": {
        "colab": {
          "base_uri": "https://localhost:8080/"
        },
        "id": "pCGAKi6Xs7tg",
        "outputId": "1ac5b96d-4a01-49fd-d139-25f443b5775a"
      },
      "execution_count": null,
      "outputs": [
        {
          "output_type": "stream",
          "name": "stdout",
          "text": [
            "spam spam spam egg egg egg ham ham\n"
          ]
        },
        {
          "output_type": "execute_result",
          "data": {
            "text/plain": [
              "3"
            ]
          },
          "metadata": {},
          "execution_count": 21
        }
      ]
    },
    {
      "cell_type": "code",
      "source": [
        "## 문제5)단어의 순서가 바뀐 문자열로 만들세요.\n",
        "s = 'Sometimes I feel like a motherless child'\n",
        "print(s[::-1])\n",
        "\n",
        "\n",
        "print(s.split())\n",
        "a=['Sometimes', 'I', 'feel', 'like', 'a', 'motherless', 'child']\n",
        "a.reverse()\n",
        "\n",
        "\n",
        "a= (' ').join(a)\n",
        "print(a)"
      ],
      "metadata": {
        "colab": {
          "base_uri": "https://localhost:8080/"
        },
        "id": "ie91gujYucZY",
        "outputId": "7832744b-e2e5-4a7d-ebbf-278245f415a8"
      },
      "execution_count": null,
      "outputs": [
        {
          "output_type": "stream",
          "name": "stdout",
          "text": [
            "dlihc sselrehtom a ekil leef I semitemoS\n",
            "['Sometimes', 'I', 'feel', 'like', 'a', 'motherless', 'child']\n",
            "child motherless a like feel I Sometimes\n"
          ]
        }
      ]
    },
    {
      "cell_type": "code",
      "source": [
        "## 문제5)단어의 순서가 바뀐 문자열로 만들세요.\n",
        "#단어의 순서 바꾸기\n",
        "s = 'Sometimes I feel like a motherless child'\n",
        "p = s.split()\n",
        "p.reverse()\n",
        "' '.join(p)"
      ],
      "metadata": {
        "id": "RsurQG6owWf0",
        "colab": {
          "base_uri": "https://localhost:8080/",
          "height": 35
        },
        "outputId": "779217f6-806e-4469-d66e-94eb5a796861"
      },
      "execution_count": null,
      "outputs": [
        {
          "output_type": "execute_result",
          "data": {
            "text/plain": [
              "'child motherless a like feel I Sometimes'"
            ],
            "application/vnd.google.colaboratory.intrinsic+json": {
              "type": "string"
            }
          },
          "metadata": {},
          "execution_count": 24
        }
      ]
    },
    {
      "cell_type": "code",
      "source": [
        "#문자열의 순서 뒤집기\n",
        "s = 'Sometimes I feel like a motherless child'\n",
        "s[::-1]"
      ],
      "metadata": {
        "colab": {
          "base_uri": "https://localhost:8080/",
          "height": 35
        },
        "id": "dh3qt9w3XRZj",
        "outputId": "668bba96-b81a-4f35-abbd-02591b09e455"
      },
      "execution_count": null,
      "outputs": [
        {
          "output_type": "execute_result",
          "data": {
            "text/plain": [
              "'dlihc sselrehtom a ekil leef I semitemoS'"
            ],
            "application/vnd.google.colaboratory.intrinsic+json": {
              "type": "string"
            }
          },
          "metadata": {},
          "execution_count": 28
        }
      ]
    },
    {
      "cell_type": "code",
      "source": [
        "#공백의 없애기\n",
        "s = 'Sometimes I feel like a motherless child'\n",
        "p = s.split()\n",
        "''.join(p)\n"
      ],
      "metadata": {
        "colab": {
          "base_uri": "https://localhost:8080/",
          "height": 35
        },
        "id": "XtnnkMBrYGrz",
        "outputId": "1bf26d13-33c8-473d-fa4c-0157b403a7e2"
      },
      "execution_count": null,
      "outputs": [
        {
          "output_type": "execute_result",
          "data": {
            "text/plain": [
              "'SometimesIfeellikeamotherlesschild'"
            ],
            "application/vnd.google.colaboratory.intrinsic+json": {
              "type": "string"
            }
          },
          "metadata": {},
          "execution_count": 37
        }
      ]
    },
    {
      "cell_type": "markdown",
      "source": [
        "## 리스트(list)\n",
        " -시퀀스 (Sequence) 자료형으로 데이터의 크기나 원소값을 변경할 수 있다.  \n",
        " -리스트는 [ ] 대괄호로 표현한다.   \n"
      ],
      "metadata": {
        "id": "Fkr0VPMEY1fT"
      }
    },
    {
      "cell_type": "code",
      "source": [
        "a = []\n",
        "print(a)\n",
        "print(type(a))\n",
        "print(dir(a))\n"
      ],
      "metadata": {
        "colab": {
          "base_uri": "https://localhost:8080/"
        },
        "id": "vPm9gptRZR8G",
        "outputId": "78e74d4d-0fc0-4b86-f5dd-f73322bbd1ff"
      },
      "execution_count": null,
      "outputs": [
        {
          "output_type": "stream",
          "name": "stdout",
          "text": [
            "[]\n",
            "<class 'list'>\n",
            "['__add__', '__class__', '__class_getitem__', '__contains__', '__delattr__', '__delitem__', '__dir__', '__doc__', '__eq__', '__format__', '__ge__', '__getattribute__', '__getitem__', '__gt__', '__hash__', '__iadd__', '__imul__', '__init__', '__init_subclass__', '__iter__', '__le__', '__len__', '__lt__', '__mul__', '__ne__', '__new__', '__reduce__', '__reduce_ex__', '__repr__', '__reversed__', '__rmul__', '__setattr__', '__setitem__', '__sizeof__', '__str__', '__subclasshook__', 'append', 'clear', 'copy', 'count', 'extend', 'index', 'insert', 'pop', 'remove', 'reverse', 'sort']\n"
          ]
        }
      ]
    },
    {
      "cell_type": "markdown",
      "source": [
        "java   \n",
        "   \n",
        "```java   \n",
        "class test{   \n",
        "  public static void main(String[ ] args){   \n",
        "    int[] arr = new int[ ]{1,2,3};   \n",
        "  }   \n",
        "}   "
      ],
      "metadata": {
        "id": "719xhUMHZ5sf"
      }
    },
    {
      "cell_type": "markdown",
      "source": [
        "`` javascript   \n",
        "    let color = ['red', 'green' , 'blue']   \n",
        "````       "
      ],
      "metadata": {
        "id": "pdYxXI6iaYK_"
      }
    },
    {
      "cell_type": "code",
      "source": [
        "a = [10, 20, 30]\n",
        "a"
      ],
      "metadata": {
        "colab": {
          "base_uri": "https://localhost:8080/"
        },
        "id": "rBzKNjSUZ3Jl",
        "outputId": "735d906a-9a87-42d7-e37b-8f855abee362"
      },
      "execution_count": null,
      "outputs": [
        {
          "output_type": "execute_result",
          "data": {
            "text/plain": [
              "[10, 20, 30]"
            ]
          },
          "metadata": {},
          "execution_count": 39
        }
      ]
    },
    {
      "cell_type": "code",
      "source": [
        "# indexing\n",
        "a[0]"
      ],
      "metadata": {
        "colab": {
          "base_uri": "https://localhost:8080/"
        },
        "id": "9sVIUX_0fOwg",
        "outputId": "45a4656f-c0a7-4f73-d133-c4ae4ce55656"
      },
      "execution_count": null,
      "outputs": [
        {
          "output_type": "execute_result",
          "data": {
            "text/plain": [
              "10"
            ]
          },
          "metadata": {},
          "execution_count": 41
        }
      ]
    },
    {
      "cell_type": "code",
      "source": [
        "# slicing\n",
        "a[0:]"
      ],
      "metadata": {
        "colab": {
          "base_uri": "https://localhost:8080/"
        },
        "id": "X9qJqtKYfXYs",
        "outputId": "76d5300e-0859-4a65-e963-30078ea55ed1"
      },
      "execution_count": null,
      "outputs": [
        {
          "output_type": "execute_result",
          "data": {
            "text/plain": [
              "[10, 20, 30]"
            ]
          },
          "metadata": {},
          "execution_count": 43
        }
      ]
    },
    {
      "cell_type": "code",
      "source": [
        "a[::-1]"
      ],
      "metadata": {
        "colab": {
          "base_uri": "https://localhost:8080/"
        },
        "id": "nlADmyOhfjOE",
        "outputId": "06ec4907-c892-4765-99e1-6f73fd15a6fd"
      },
      "execution_count": null,
      "outputs": [
        {
          "output_type": "execute_result",
          "data": {
            "text/plain": [
              "[30, 20, 10]"
            ]
          },
          "metadata": {},
          "execution_count": 45
        }
      ]
    },
    {
      "cell_type": "code",
      "source": [
        "a[0:2:1]"
      ],
      "metadata": {
        "colab": {
          "base_uri": "https://localhost:8080/"
        },
        "id": "xUAlqSV8fp50",
        "outputId": "27c12ba3-da07-4812-9788-032cf823e7ad"
      },
      "execution_count": null,
      "outputs": [
        {
          "output_type": "execute_result",
          "data": {
            "text/plain": [
              "[10, 20]"
            ]
          },
          "metadata": {},
          "execution_count": 52
        }
      ]
    },
    {
      "cell_type": "code",
      "source": [
        "a[-3:-1:1]"
      ],
      "metadata": {
        "colab": {
          "base_uri": "https://localhost:8080/"
        },
        "id": "k6hGuggkf1Sk",
        "outputId": "4e960ba0-5078-4c2c-9bee-8b7503254ec9"
      },
      "execution_count": null,
      "outputs": [
        {
          "output_type": "execute_result",
          "data": {
            "text/plain": [
              "[10, 20]"
            ]
          },
          "metadata": {},
          "execution_count": 54
        }
      ]
    },
    {
      "cell_type": "code",
      "source": [
        "a[-1:-3:-1]"
      ],
      "metadata": {
        "colab": {
          "base_uri": "https://localhost:8080/"
        },
        "id": "7euyG3IhgRdx",
        "outputId": "dca04348-6ef7-471f-9d32-e30404dc4eca"
      },
      "execution_count": null,
      "outputs": [
        {
          "output_type": "execute_result",
          "data": {
            "text/plain": [
              "[30, 20]"
            ]
          },
          "metadata": {},
          "execution_count": 57
        }
      ]
    },
    {
      "cell_type": "code",
      "source": [
        "a = [5, 10, 15, 20, 25, 30]"
      ],
      "metadata": {
        "id": "Ye_pcPFYhCf9"
      },
      "execution_count": null,
      "outputs": []
    },
    {
      "cell_type": "code",
      "source": [
        "a[3:]"
      ],
      "metadata": {
        "colab": {
          "base_uri": "https://localhost:8080/"
        },
        "id": "dI3cug3JhLj9",
        "outputId": "fe754bc8-6a0c-4c6c-d365-7c782e2af266"
      },
      "execution_count": null,
      "outputs": [
        {
          "output_type": "execute_result",
          "data": {
            "text/plain": [
              "[20, 25, 30]"
            ]
          },
          "metadata": {},
          "execution_count": 62
        }
      ]
    },
    {
      "cell_type": "code",
      "source": [
        "a[:3]"
      ],
      "metadata": {
        "colab": {
          "base_uri": "https://localhost:8080/"
        },
        "id": "R0xlZGRdhRD0",
        "outputId": "0204a6c1-01ad-407d-8a23-0092aec82271"
      },
      "execution_count": null,
      "outputs": [
        {
          "output_type": "execute_result",
          "data": {
            "text/plain": [
              "[5, 10, 15]"
            ]
          },
          "metadata": {},
          "execution_count": 64
        }
      ]
    },
    {
      "cell_type": "code",
      "source": [
        "a[3::2]"
      ],
      "metadata": {
        "colab": {
          "base_uri": "https://localhost:8080/"
        },
        "id": "AH_m1WkyhW0l",
        "outputId": "8d4a4415-11ff-4ad9-975a-6d768bf7eb93"
      },
      "execution_count": null,
      "outputs": [
        {
          "output_type": "execute_result",
          "data": {
            "text/plain": [
              "[20, 30]"
            ]
          },
          "metadata": {},
          "execution_count": 66
        }
      ]
    },
    {
      "cell_type": "code",
      "source": [
        "a[:3:2]"
      ],
      "metadata": {
        "colab": {
          "base_uri": "https://localhost:8080/"
        },
        "id": "i6smxOOkhgNd",
        "outputId": "27297adc-3340-41ac-d4b6-f687838ccf45"
      },
      "execution_count": null,
      "outputs": [
        {
          "output_type": "execute_result",
          "data": {
            "text/plain": [
              "[5, 15]"
            ]
          },
          "metadata": {},
          "execution_count": 68
        }
      ]
    },
    {
      "cell_type": "code",
      "source": [
        "a[2:0:-1]"
      ],
      "metadata": {
        "colab": {
          "base_uri": "https://localhost:8080/"
        },
        "id": "X952PkvihyEU",
        "outputId": "777301ae-957f-4a61-9bf3-dac962795225"
      },
      "execution_count": null,
      "outputs": [
        {
          "output_type": "execute_result",
          "data": {
            "text/plain": [
              "[15, 10]"
            ]
          },
          "metadata": {},
          "execution_count": 69
        }
      ]
    },
    {
      "cell_type": "markdown",
      "source": [
        "### list는 다양한 타입을 함께 포함 할 수 있다."
      ],
      "metadata": {
        "id": "Wm3mVke2iAyP"
      }
    },
    {
      "cell_type": "code",
      "source": [
        "a= [ 10, 'python', 80.5, True ]\n",
        "a"
      ],
      "metadata": {
        "colab": {
          "base_uri": "https://localhost:8080/"
        },
        "id": "nbfxl3DgiHtd",
        "outputId": "9c7e6d6e-4887-48ae-89f6-82412274f68c"
      },
      "execution_count": null,
      "outputs": [
        {
          "output_type": "execute_result",
          "data": {
            "text/plain": [
              "[10, 'python', 80.5, True]"
            ]
          },
          "metadata": {},
          "execution_count": 73
        }
      ]
    },
    {
      "cell_type": "code",
      "source": [
        "a = [[10,20],(1,2,3),{100,200},{'x':5,'y':8}]  #list , tuple, set, dict\n",
        "a"
      ],
      "metadata": {
        "colab": {
          "base_uri": "https://localhost:8080/"
        },
        "id": "em6YAmtfif5M",
        "outputId": "03f76879-facb-4e26-fea6-84f7dee5e068"
      },
      "execution_count": null,
      "outputs": [
        {
          "output_type": "execute_result",
          "data": {
            "text/plain": [
              "[[10, 20], (1, 2, 3), {100, 200}, {'x': 5, 'y': 8}]"
            ]
          },
          "metadata": {},
          "execution_count": 78
        }
      ]
    },
    {
      "cell_type": "markdown",
      "source": [
        "### list는 (+) 연산자를 사용하여 연결하기를 할 수 있다."
      ],
      "metadata": {
        "id": "F_vb0-9RjJ32"
      }
    },
    {
      "cell_type": "code",
      "source": [
        "a = [1,2]\n",
        "a + a"
      ],
      "metadata": {
        "colab": {
          "base_uri": "https://localhost:8080/"
        },
        "id": "mBnl6ESnjIQG",
        "outputId": "4c1f3ba3-895b-4c58-cdae-e268f129c544"
      },
      "execution_count": null,
      "outputs": [
        {
          "output_type": "execute_result",
          "data": {
            "text/plain": [
              "[1, 2, 1, 2]"
            ]
          },
          "metadata": {},
          "execution_count": 80
        }
      ]
    },
    {
      "cell_type": "markdown",
      "source": [
        "###list는 (*) 연산자를 사용하여 반복하기를 할 수 있다."
      ],
      "metadata": {
        "id": "w7Tp62qgjyD5"
      }
    },
    {
      "cell_type": "code",
      "source": [
        "a * 2   ## a +2는 안됨"
      ],
      "metadata": {
        "colab": {
          "base_uri": "https://localhost:8080/"
        },
        "id": "mnRn6HNQjb4V",
        "outputId": "34da53d4-053f-4094-bff0-e451cb1b0a1e"
      },
      "execution_count": null,
      "outputs": [
        {
          "output_type": "execute_result",
          "data": {
            "text/plain": [
              "[1, 2, 1, 2]"
            ]
          },
          "metadata": {},
          "execution_count": 82
        }
      ]
    },
    {
      "cell_type": "markdown",
      "source": [
        "### list에서 특정 값이 있는지 멤버검사를 할 수 있다.\n",
        "\n"
      ],
      "metadata": {
        "id": "P_ufafraiAwn"
      }
    },
    {
      "cell_type": "code",
      "source": [
        "a = [1,5,8,10]\n",
        "print (5 in a)\n",
        "print (3 in a)"
      ],
      "metadata": {
        "colab": {
          "base_uri": "https://localhost:8080/"
        },
        "id": "mCQDajMZj_e8",
        "outputId": "bc251c3b-1704-4ddc-909f-e97b5f898f73"
      },
      "execution_count": null,
      "outputs": [
        {
          "output_type": "stream",
          "name": "stdout",
          "text": [
            "True\n",
            "False\n"
          ]
        }
      ]
    },
    {
      "cell_type": "markdown",
      "source": [
        "### list는 mutable 이므로 요소들을 변경할 수 있다."
      ],
      "metadata": {
        "id": "grjSXQyfkXJ_"
      }
    },
    {
      "cell_type": "code",
      "source": [
        "a = ['apple', 'banana', 100, 200 ]\n",
        "print (a)\n",
        "## 애플과 바나나를 다른걸로 바꾸고 싶을 때,\n",
        "a [0:2] = ['이지은','변은국']\n",
        "print (a)\n"
      ],
      "metadata": {
        "colab": {
          "base_uri": "https://localhost:8080/"
        },
        "id": "1WCZw5zqkWF2",
        "outputId": "3d3b6d85-cef1-480f-bdb5-017b4dcef2d3"
      },
      "execution_count": null,
      "outputs": [
        {
          "output_type": "stream",
          "name": "stdout",
          "text": [
            "['apple', 'banana', 100, 200]\n",
            "['이지은', '변은국', 100, 200]\n"
          ]
        }
      ]
    },
    {
      "cell_type": "code",
      "source": [
        "a = ['apple', 'banana', '100', '200' ]\n",
        "a [0:2] = [50] # 0부터 2미만의 값을 50으로 변경한다. 크기가 달라진다\n",
        "print(a)"
      ],
      "metadata": {
        "colab": {
          "base_uri": "https://localhost:8080/"
        },
        "id": "ypDTDOdKki98",
        "outputId": "6eb64975-94bf-4efc-a9d5-d56cf9b04420"
      },
      "execution_count": null,
      "outputs": [
        {
          "output_type": "stream",
          "name": "stdout",
          "text": [
            "[50, '100', '200']\n"
          ]
        }
      ]
    },
    {
      "cell_type": "code",
      "source": [
        "a = ['apple', 'banana', '100', '200' ]\n",
        "print(a)\n",
        "\n",
        "a [0:1] = [300,400,500]\n",
        "print(a)"
      ],
      "metadata": {
        "colab": {
          "base_uri": "https://localhost:8080/"
        },
        "id": "Bgv0K0WSmA7v",
        "outputId": "a0dbf4de-f848-451b-caad-d993bef201a9"
      },
      "execution_count": null,
      "outputs": [
        {
          "output_type": "stream",
          "name": "stdout",
          "text": [
            "['apple', 'banana', '100', '200']\n",
            "[300, 400, 500, 'banana', '100', '200']\n"
          ]
        }
      ]
    },
    {
      "cell_type": "code",
      "source": [
        "#리스트의 일부요소를 삭제 할 수 있다.\n",
        "a = ['apple', 'banana', '100', '200' ]\n",
        "print(a)\n",
        "a[0:2] = []    # 0부터 2미만까지의 요소가 삭제된다.\n",
        "print(a)"
      ],
      "metadata": {
        "colab": {
          "base_uri": "https://localhost:8080/"
        },
        "id": "kRwlAVp0mjgk",
        "outputId": "88981ceb-158b-4614-d6a9-8495ac4f9ded"
      },
      "execution_count": null,
      "outputs": [
        {
          "output_type": "stream",
          "name": "stdout",
          "text": [
            "['apple', 'banana', '100', '200']\n",
            "['100', '200']\n"
          ]
        }
      ]
    },
    {
      "cell_type": "code",
      "source": [
        "a = ['apple', 'banana', '100', '200' ]\n",
        "print(a)\n",
        "\n",
        "del a[0:2]   #del 키워드를 이용해서 삭제 할 수 있음.\n",
        "print(a)"
      ],
      "metadata": {
        "colab": {
          "base_uri": "https://localhost:8080/"
        },
        "id": "BL3JFlSinPAm",
        "outputId": "558260ff-52c7-432f-9aae-a4349cc4fc08"
      },
      "execution_count": null,
      "outputs": [
        {
          "output_type": "stream",
          "name": "stdout",
          "text": [
            "['apple', 'banana', '100', '200']\n",
            "['100', '200']\n"
          ]
        }
      ]
    },
    {
      "cell_type": "markdown",
      "source": [
        "### list에 요소를 추가 할 수 있다."
      ],
      "metadata": {
        "id": "4EcDilKRnojF"
      }
    },
    {
      "cell_type": "code",
      "source": [
        "a = [3 ,6 ,9]\n",
        "print(a)\n",
        "\n",
        "a[1:1] =['red','green'] #슬라이싱 [start:end:step]\n",
        "print(a)\n"
      ],
      "metadata": {
        "colab": {
          "base_uri": "https://localhost:8080/"
        },
        "id": "xflyAd3OnmL1",
        "outputId": "0dbe37cb-1a48-4abe-c795-53ae59e50589"
      },
      "execution_count": null,
      "outputs": [
        {
          "output_type": "stream",
          "name": "stdout",
          "text": [
            "[3, 6, 9]\n",
            "[3, 'red', 'green', 6, 9]\n"
          ]
        }
      ]
    },
    {
      "cell_type": "code",
      "source": [
        "a = [3 ,6 ,9]\n",
        "print(a)\n",
        "a[1] =['red','green'] #indexing [index]\n",
        "print(a)"
      ],
      "metadata": {
        "colab": {
          "base_uri": "https://localhost:8080/"
        },
        "id": "7SpojYvBohcF",
        "outputId": "78ee6752-d0ad-4aca-a9b1-e8484da29403"
      },
      "execution_count": null,
      "outputs": [
        {
          "output_type": "stream",
          "name": "stdout",
          "text": [
            "[3, 6, 9]\n",
            "[3, ['red', 'green'], 9]\n"
          ]
        }
      ]
    },
    {
      "cell_type": "markdown",
      "source": [
        "###list에서 확장슬라이싱을 사용할때는 왼쪽과 오른쪽 요소개수가 같아야 한다.  "
      ],
      "metadata": {
        "id": "TJ6XgF_Iryho"
      }
    },
    {
      "cell_type": "code",
      "source": [
        "a= [2,4,6,8]\n",
        "print(a)\n",
        "\n",
        "a[:] =[-1,-2,-3,-4]\n",
        "print(a)\n",
        "\n",
        "a[:] =[-1,-2]\n",
        "print(a)\n"
      ],
      "metadata": {
        "colab": {
          "base_uri": "https://localhost:8080/"
        },
        "id": "ihyJc1zNr20O",
        "outputId": "8a93107e-a2fc-4204-a7d3-c905b77b47a6"
      },
      "execution_count": null,
      "outputs": [
        {
          "output_type": "stream",
          "name": "stdout",
          "text": [
            "[2, 4, 6, 8]\n",
            "[-1, -2, -3, -4]\n",
            "[-1, -2]\n"
          ]
        }
      ]
    },
    {
      "cell_type": "code",
      "source": [
        "a= [2,4,6,8]\n",
        "print(a)\n",
        "\n",
        "a[::1] =[-1,-2,-3,-4]\n",
        "print(a)\n",
        "\n",
        "a[::2] =[-1,-2,-3,-4]\n",
        "print(a)"
      ],
      "metadata": {
        "colab": {
          "base_uri": "https://localhost:8080/",
          "height": 276
        },
        "id": "uNdQQWyMsRh-",
        "outputId": "a2914a8f-ac8d-471c-e5cd-3186fdc3eac1"
      },
      "execution_count": null,
      "outputs": [
        {
          "output_type": "stream",
          "name": "stdout",
          "text": [
            "[2, 4, 6, 8]\n",
            "[-1, -2, -3, -4]\n"
          ]
        },
        {
          "output_type": "error",
          "ename": "ValueError",
          "evalue": "ignored",
          "traceback": [
            "\u001b[0;31m---------------------------------------------------------------------------\u001b[0m",
            "\u001b[0;31mValueError\u001b[0m                                Traceback (most recent call last)",
            "\u001b[0;32m<ipython-input-119-9bc929f4f5a1>\u001b[0m in \u001b[0;36m<cell line: 7>\u001b[0;34m()\u001b[0m\n\u001b[1;32m      5\u001b[0m \u001b[0mprint\u001b[0m\u001b[0;34m(\u001b[0m\u001b[0ma\u001b[0m\u001b[0;34m)\u001b[0m\u001b[0;34m\u001b[0m\u001b[0;34m\u001b[0m\u001b[0m\n\u001b[1;32m      6\u001b[0m \u001b[0;34m\u001b[0m\u001b[0m\n\u001b[0;32m----> 7\u001b[0;31m \u001b[0ma\u001b[0m\u001b[0;34m[\u001b[0m\u001b[0;34m:\u001b[0m\u001b[0;34m:\u001b[0m\u001b[0;36m2\u001b[0m\u001b[0;34m]\u001b[0m \u001b[0;34m=\u001b[0m\u001b[0;34m[\u001b[0m\u001b[0;34m-\u001b[0m\u001b[0;36m1\u001b[0m\u001b[0;34m,\u001b[0m\u001b[0;34m-\u001b[0m\u001b[0;36m2\u001b[0m\u001b[0;34m,\u001b[0m\u001b[0;34m-\u001b[0m\u001b[0;36m3\u001b[0m\u001b[0;34m,\u001b[0m\u001b[0;34m-\u001b[0m\u001b[0;36m4\u001b[0m\u001b[0;34m]\u001b[0m\u001b[0;34m\u001b[0m\u001b[0;34m\u001b[0m\u001b[0m\n\u001b[0m\u001b[1;32m      8\u001b[0m \u001b[0mprint\u001b[0m\u001b[0;34m(\u001b[0m\u001b[0ma\u001b[0m\u001b[0;34m)\u001b[0m\u001b[0;34m\u001b[0m\u001b[0;34m\u001b[0m\u001b[0m\n",
            "\u001b[0;31mValueError\u001b[0m: attempt to assign sequence of size 4 to extended slice of size 2"
          ]
        }
      ]
    },
    {
      "cell_type": "code",
      "source": [
        "a= [2,4,6,8]\n",
        "print(a)\n",
        "\n",
        "a[::2] =[-1,-2]  #[2,6] 이 저장된 자리에 [-1,-2]의 요소를 대체한다.\n",
        "print(a)"
      ],
      "metadata": {
        "colab": {
          "base_uri": "https://localhost:8080/"
        },
        "id": "_TlWMmJcs8ku",
        "outputId": "e3ad8783-e690-4e00-adbb-248b5c312a58"
      },
      "execution_count": null,
      "outputs": [
        {
          "output_type": "stream",
          "name": "stdout",
          "text": [
            "[2, 4, 6, 8]\n",
            "[-1, 4, -2, 8]\n"
          ]
        }
      ]
    },
    {
      "cell_type": "markdown",
      "source": [
        "### list는 한 변수에서 데이터를 각각 꺼내 오는 언팩킹 (unpacking) 지원을 한다.  "
      ],
      "metadata": {
        "id": "69r7qLiWtrsq"
      }
    },
    {
      "cell_type": "code",
      "source": [
        "fruits = [ 'apple', 'mango', 'grape','banana' ]\n",
        "\n",
        "\n",
        "a= fruits[0]\n",
        "b= fruits[1]\n",
        "c= fruits[2]\n",
        "d= fruits[3]\n",
        "print(a,b,c,d)\n",
        "\n",
        "\n",
        "[zero, one, two, three] =fruits\n",
        "print(zero,one,two, three)\n",
        "print(type(zero), type(two), type(one))"
      ],
      "metadata": {
        "colab": {
          "base_uri": "https://localhost:8080/"
        },
        "id": "SVoo-mG8t1Pt",
        "outputId": "05860c61-b2df-4764-f623-ca68f7fb14c9"
      },
      "execution_count": null,
      "outputs": [
        {
          "output_type": "stream",
          "name": "stdout",
          "text": [
            "apple mango grape banana\n",
            "apple mango grape banana\n",
            "<class 'str'> <class 'str'> <class 'str'>\n"
          ]
        }
      ]
    },
    {
      "cell_type": "code",
      "source": [
        "fruits = [ 'apple', 'mango', 'grape','banana' ]\n",
        "print(fruits)\n",
        "x, _ ,_, _=fruits\n",
        "print(x)\n",
        "\n"
      ],
      "metadata": {
        "colab": {
          "base_uri": "https://localhost:8080/"
        },
        "id": "8wPcETI0u1Zj",
        "outputId": "0cbaa78c-6c05-44a2-df28-7c0f9e1b6ef8"
      },
      "execution_count": null,
      "outputs": [
        {
          "output_type": "stream",
          "name": "stdout",
          "text": [
            "['apple', 'mango', 'grape', 'banana']\n",
            "apple\n"
          ]
        }
      ]
    },
    {
      "cell_type": "code",
      "source": [
        "fruits = [ 'apple', 'mango', 'grape','banana' ]\n",
        "print(fruits)\n",
        "\n",
        "x, *y = fruits   # *의 의미는 모든이라는 뜻,,\n",
        "print(x)\n",
        "print(y)\n",
        "print(type(x), type(y))"
      ],
      "metadata": {
        "colab": {
          "base_uri": "https://localhost:8080/"
        },
        "id": "ZuDKG-bOvW97",
        "outputId": "7405c638-dbf0-4c6e-e532-5223179e7609"
      },
      "execution_count": null,
      "outputs": [
        {
          "output_type": "stream",
          "name": "stdout",
          "text": [
            "['apple', 'mango', 'grape', 'banana']\n",
            "apple\n",
            "['mango', 'grape', 'banana']\n",
            "<class 'str'> <class 'list'>\n"
          ]
        }
      ]
    },
    {
      "cell_type": "code",
      "source": [
        "*x, y ,z=fruits   ## (*) 는  한번만 사용 가능\n",
        "print(x)\n",
        "print(y)\n",
        "print(z)"
      ],
      "metadata": {
        "colab": {
          "base_uri": "https://localhost:8080/"
        },
        "id": "QsYV3xm9vW8X",
        "outputId": "f4732d03-ba3b-45b5-b531-02f5fc288b6c"
      },
      "execution_count": null,
      "outputs": [
        {
          "output_type": "stream",
          "name": "stdout",
          "text": [
            "['apple', 'mango']\n",
            "grape\n",
            "banana\n"
          ]
        }
      ]
    },
    {
      "cell_type": "code",
      "source": [
        "len(a)        #함수\n",
        "y.append(3)   #메소드"
      ],
      "metadata": {
        "colab": {
          "base_uri": "https://localhost:8080/",
          "height": 203
        },
        "id": "RgjH-1SNxSXm",
        "outputId": "37594347-5fa3-4daa-b5b4-5ffc8539ce8e"
      },
      "execution_count": null,
      "outputs": [
        {
          "output_type": "error",
          "ename": "AttributeError",
          "evalue": "ignored",
          "traceback": [
            "\u001b[0;31m---------------------------------------------------------------------------\u001b[0m",
            "\u001b[0;31mAttributeError\u001b[0m                            Traceback (most recent call last)",
            "\u001b[0;32m<ipython-input-144-ea2e0ecc995d>\u001b[0m in \u001b[0;36m<cell line: 2>\u001b[0;34m()\u001b[0m\n\u001b[1;32m      1\u001b[0m \u001b[0mlen\u001b[0m\u001b[0;34m(\u001b[0m\u001b[0ma\u001b[0m\u001b[0;34m)\u001b[0m   \u001b[0;31m#함수\u001b[0m\u001b[0;34m\u001b[0m\u001b[0;34m\u001b[0m\u001b[0m\n\u001b[0;32m----> 2\u001b[0;31m \u001b[0my\u001b[0m\u001b[0;34m.\u001b[0m\u001b[0mappend\u001b[0m\u001b[0;34m(\u001b[0m\u001b[0;36m3\u001b[0m\u001b[0;34m)\u001b[0m   \u001b[0;31m#메소드\u001b[0m\u001b[0;34m\u001b[0m\u001b[0;34m\u001b[0m\u001b[0m\n\u001b[0m",
            "\u001b[0;31mAttributeError\u001b[0m: 'str' object has no attribute 'append'"
          ]
        }
      ]
    },
    {
      "cell_type": "markdown",
      "source": [
        "### list 에서 제공하는 메소드"
      ],
      "metadata": {
        "id": "ErifZz3WyNXQ"
      }
    },
    {
      "cell_type": "code",
      "source": [
        "a = [1,2,3]\n",
        "print(type(a))\n",
        "print(dir(a))"
      ],
      "metadata": {
        "colab": {
          "base_uri": "https://localhost:8080/"
        },
        "id": "PA9wM8hiyIkw",
        "outputId": "47320ff1-45bb-4d85-a579-d053c6be1073"
      },
      "execution_count": null,
      "outputs": [
        {
          "output_type": "stream",
          "name": "stdout",
          "text": [
            "<class 'list'>\n",
            "['__add__', '__class__', '__class_getitem__', '__contains__', '__delattr__', '__delitem__', '__dir__', '__doc__', '__eq__', '__format__', '__ge__', '__getattribute__', '__getitem__', '__gt__', '__hash__', '__iadd__', '__imul__', '__init__', '__init_subclass__', '__iter__', '__le__', '__len__', '__lt__', '__mul__', '__ne__', '__new__', '__reduce__', '__reduce_ex__', '__repr__', '__reversed__', '__rmul__', '__setattr__', '__setitem__', '__sizeof__', '__str__', '__subclasshook__', 'append', 'clear', 'copy', 'count', 'extend', 'index', 'insert', 'pop', 'remove', 'reverse', 'sort']\n"
          ]
        }
      ]
    },
    {
      "cell_type": "code",
      "source": [
        "a = [1,2,3]\n",
        "a.append(4)   # 요소추가\n",
        "print(a)\n",
        "\n",
        "\n",
        "a.append(7)  # 2개를 넣을 순 없음\n",
        "print(a)\n"
      ],
      "metadata": {
        "colab": {
          "base_uri": "https://localhost:8080/"
        },
        "id": "crQAbqEiybAX",
        "outputId": "f1471520-88dd-488f-c0fc-7cf7cf8cda6c"
      },
      "execution_count": null,
      "outputs": [
        {
          "output_type": "stream",
          "name": "stdout",
          "text": [
            "[1, 2, 3, 4]\n",
            "[1, 2, 3, 4, 7]\n"
          ]
        }
      ]
    },
    {
      "cell_type": "code",
      "source": [
        "a = [1,2,3]\n",
        "a.reverse () #치환\n",
        "print(a)"
      ],
      "metadata": {
        "colab": {
          "base_uri": "https://localhost:8080/"
        },
        "id": "SpOLWr0CzBqu",
        "outputId": "9f601a45-546b-421b-ce74-d8cb6c11b222"
      },
      "execution_count": null,
      "outputs": [
        {
          "output_type": "stream",
          "name": "stdout",
          "text": [
            "[3, 2, 1]\n"
          ]
        }
      ]
    },
    {
      "cell_type": "code",
      "source": [
        "a= [1,2,3]\n",
        "print(a.index(1)) # 1 요소가 저장된 위치를 리턴\n",
        "\n",
        "print(a.find(1))  #리스트에서는 find 제공안됨. 문자열에서는 제공됨"
      ],
      "metadata": {
        "colab": {
          "base_uri": "https://localhost:8080/",
          "height": 239
        },
        "id": "57FKSEW_zMCW",
        "outputId": "9bf3966f-4a21-4c21-8ee7-c87b9450cf95"
      },
      "execution_count": null,
      "outputs": [
        {
          "output_type": "stream",
          "name": "stdout",
          "text": [
            "0\n"
          ]
        },
        {
          "output_type": "error",
          "ename": "AttributeError",
          "evalue": "ignored",
          "traceback": [
            "\u001b[0;31m---------------------------------------------------------------------------\u001b[0m",
            "\u001b[0;31mAttributeError\u001b[0m                            Traceback (most recent call last)",
            "\u001b[0;32m<ipython-input-158-980eda71c77f>\u001b[0m in \u001b[0;36m<cell line: 4>\u001b[0;34m()\u001b[0m\n\u001b[1;32m      2\u001b[0m \u001b[0mprint\u001b[0m\u001b[0;34m(\u001b[0m\u001b[0ma\u001b[0m\u001b[0;34m.\u001b[0m\u001b[0mindex\u001b[0m\u001b[0;34m(\u001b[0m\u001b[0;36m1\u001b[0m\u001b[0;34m)\u001b[0m\u001b[0;34m)\u001b[0m\u001b[0;34m\u001b[0m\u001b[0;34m\u001b[0m\u001b[0m\n\u001b[1;32m      3\u001b[0m \u001b[0;34m\u001b[0m\u001b[0m\n\u001b[0;32m----> 4\u001b[0;31m \u001b[0mprint\u001b[0m\u001b[0;34m(\u001b[0m\u001b[0ma\u001b[0m\u001b[0;34m.\u001b[0m\u001b[0mfind\u001b[0m\u001b[0;34m(\u001b[0m\u001b[0;36m1\u001b[0m\u001b[0;34m)\u001b[0m\u001b[0;34m)\u001b[0m  \u001b[0;31m#리스트에서는 find 제공안됨. 문자열에서는 제공됨\u001b[0m\u001b[0;34m\u001b[0m\u001b[0;34m\u001b[0m\u001b[0m\n\u001b[0m",
            "\u001b[0;31mAttributeError\u001b[0m: 'list' object has no attribute 'find'"
          ]
        }
      ]
    },
    {
      "cell_type": "code",
      "source": [
        "a= [1, 2, 3]\n",
        "a.insert(1,10)  # 1 인덱스에 10요소를 삽입하라\n",
        "print(a)"
      ],
      "metadata": {
        "colab": {
          "base_uri": "https://localhost:8080/"
        },
        "id": "j24S-JphzpSo",
        "outputId": "427e1f26-041a-4281-91de-ed3b5bfd6811"
      },
      "execution_count": null,
      "outputs": [
        {
          "output_type": "stream",
          "name": "stdout",
          "text": [
            "[1, 10, 2, 3]\n"
          ]
        }
      ]
    },
    {
      "cell_type": "code",
      "source": [
        "a= [1, 2, 3]\n",
        "a.remove(2)\n",
        "print(a)"
      ],
      "metadata": {
        "colab": {
          "base_uri": "https://localhost:8080/"
        },
        "id": "3jWx1Hjz0Jgu",
        "outputId": "58626c59-09b4-4a71-c8ac-d9a46d5f4807"
      },
      "execution_count": null,
      "outputs": [
        {
          "output_type": "stream",
          "name": "stdout",
          "text": [
            "[1, 3]\n"
          ]
        }
      ]
    },
    {
      "cell_type": "code",
      "source": [
        "a= [1,2,3,2,2]\n",
        "b = a.remove(2)   #리스트에 2가 여러개 있으면 첫번째 2만 삭제가 됨\n",
        "print(a)\n",
        "print(b)   #리턴값이 없음"
      ],
      "metadata": {
        "colab": {
          "base_uri": "https://localhost:8080/"
        },
        "id": "CsRidCD10Z2G",
        "outputId": "9828b3ec-bccf-4387-eb8c-d1191b02ca3a"
      },
      "execution_count": null,
      "outputs": [
        {
          "output_type": "stream",
          "name": "stdout",
          "text": [
            "[1, 3, 2, 2]\n",
            "None\n"
          ]
        }
      ]
    },
    {
      "cell_type": "code",
      "source": [
        "a= [1, 2, 3]\n",
        "b = a.pop(0) # 인덱스 값을 넣어줌  #0 인덱스의 요소를 꺼내오고 pop(index), 리턴값이 있음\n",
        "print(a)\n",
        "print(b)\n"
      ],
      "metadata": {
        "colab": {
          "base_uri": "https://localhost:8080/"
        },
        "id": "GhU9uI950zsv",
        "outputId": "d3eaad84-9591-46ad-df2e-cbbb586ef433"
      },
      "execution_count": null,
      "outputs": [
        {
          "output_type": "stream",
          "name": "stdout",
          "text": [
            "[2, 3]\n",
            "1\n"
          ]
        }
      ]
    },
    {
      "cell_type": "code",
      "source": [
        "a = [1,2,3, 1]\n",
        "print(a.count(1)) # 1요소의 개수를 리턴한다."
      ],
      "metadata": {
        "colab": {
          "base_uri": "https://localhost:8080/"
        },
        "id": "_IRQdq0Q13Z0",
        "outputId": "1b0dab39-7298-4fe3-a183-a87e8d9e1d8a"
      },
      "execution_count": null,
      "outputs": [
        {
          "output_type": "stream",
          "name": "stdout",
          "text": [
            "2\n"
          ]
        }
      ]
    },
    {
      "cell_type": "code",
      "source": [
        "a= [1,2,3]\n",
        "a.extend([4,5]) #list를 확장해서 리턴한다. (+)연산자하고는 다르고 a+= 와 같은 의미이다. a += [4,5]\n",
        "print(a)"
      ],
      "metadata": {
        "colab": {
          "base_uri": "https://localhost:8080/"
        },
        "id": "-ERHXO8F1_-G",
        "outputId": "5ac60ed2-404a-4428-b4ff-27440c8d0e7d"
      },
      "execution_count": null,
      "outputs": [
        {
          "output_type": "stream",
          "name": "stdout",
          "text": [
            "[1, 2, 3, 4, 5]\n"
          ]
        }
      ]
    },
    {
      "cell_type": "code",
      "source": [
        "a = [1,2,3]\n",
        "a += [4,5]   # a= a + [4,5]\n",
        "print(a)\n",
        "print"
      ],
      "metadata": {
        "colab": {
          "base_uri": "https://localhost:8080/"
        },
        "id": "hZB0ZMpO55a5",
        "outputId": "f675373b-5f93-47b3-c9bc-f9005111bb5e"
      },
      "execution_count": null,
      "outputs": [
        {
          "output_type": "stream",
          "name": "stdout",
          "text": [
            "[1, 2, 3, 4, 5]\n"
          ]
        },
        {
          "output_type": "execute_result",
          "data": {
            "text/plain": [
              "<function print>"
            ]
          },
          "metadata": {},
          "execution_count": 177
        }
      ]
    },
    {
      "cell_type": "markdown",
      "source": [
        "## Tuple (튜플)\n",
        "- 변경이 불가능 (immutable) 한 순서 (sequence)가 있는 자료형이다.  \n",
        "-튜플은 () 소괄호로 표현한다.  "
      ],
      "metadata": {
        "id": "8YrNbs_M6g9n"
      }
    },
    {
      "cell_type": "code",
      "source": [
        "t = ()\n",
        "print(t)\n",
        "print(type(t))\n",
        "print(dir(t))"
      ],
      "metadata": {
        "colab": {
          "base_uri": "https://localhost:8080/"
        },
        "id": "QBFtq8Ba6eWH",
        "outputId": "30a3632a-9d7b-466e-d775-ad25de477185"
      },
      "execution_count": null,
      "outputs": [
        {
          "output_type": "stream",
          "name": "stdout",
          "text": [
            "()\n",
            "<class 'tuple'>\n",
            "['__add__', '__class__', '__class_getitem__', '__contains__', '__delattr__', '__dir__', '__doc__', '__eq__', '__format__', '__ge__', '__getattribute__', '__getitem__', '__getnewargs__', '__gt__', '__hash__', '__init__', '__init_subclass__', '__iter__', '__le__', '__len__', '__lt__', '__mul__', '__ne__', '__new__', '__reduce__', '__reduce_ex__', '__repr__', '__rmul__', '__setattr__', '__sizeof__', '__str__', '__subclasshook__', 'count', 'index']\n"
          ]
        }
      ]
    },
    {
      "cell_type": "code",
      "source": [
        "t = (10, 20, 30) #tuple은 콤마(,)를 구분하여 사용한다.\n",
        "print(t)"
      ],
      "metadata": {
        "colab": {
          "base_uri": "https://localhost:8080/"
        },
        "id": "jsrdwfp16eUw",
        "outputId": "85495de6-b058-4c9d-fe2e-59ad651b1998"
      },
      "execution_count": null,
      "outputs": [
        {
          "output_type": "stream",
          "name": "stdout",
          "text": [
            "(10, 20, 30)\n"
          ]
        }
      ]
    },
    {
      "cell_type": "code",
      "source": [
        "t= 10,20,30  #tuple은 () 괄호를 생략 할 수 있다.\n",
        "print(t)"
      ],
      "metadata": {
        "colab": {
          "base_uri": "https://localhost:8080/"
        },
        "id": "Yq_WAu9a6a8Y",
        "outputId": "ac58237b-188b-4df4-a7a9-5174f1be0741"
      },
      "execution_count": null,
      "outputs": [
        {
          "output_type": "stream",
          "name": "stdout",
          "text": [
            "(10, 20, 30)\n"
          ]
        }
      ]
    },
    {
      "cell_type": "code",
      "source": [
        "#요소가 하나일때 tuple로 표현하고 싶으면 (,)를 넣어주면 된다.\n",
        "#괄호는 생략할 수 있지만 쉼표(,)는 있어야 한다.\n",
        "t = (1,)\n",
        "print(t)\n",
        "print(type(t))\n",
        "\n",
        "t = 1,\n",
        "print(t)\n",
        "print(type(t))"
      ],
      "metadata": {
        "colab": {
          "base_uri": "https://localhost:8080/"
        },
        "id": "Bq39o5UY7bag",
        "outputId": "26bff711-805e-4a78-df67-dc8b677f1b23"
      },
      "execution_count": null,
      "outputs": [
        {
          "output_type": "stream",
          "name": "stdout",
          "text": [
            "(1,)\n",
            "<class 'tuple'>\n",
            "(1,)\n",
            "<class 'tuple'>\n"
          ]
        }
      ]
    },
    {
      "cell_type": "code",
      "source": [
        "# 튜플에서도 다양한 데이터 타입의 값을 저장 할 수 있다.\n",
        "t = (1, ('ko','en'),True)\n",
        "print (t)"
      ],
      "metadata": {
        "colab": {
          "base_uri": "https://localhost:8080/"
        },
        "id": "y4vutjFU8SRA",
        "outputId": "4eb3b965-7808-45ed-8299-c1457132eef3"
      },
      "execution_count": null,
      "outputs": [
        {
          "output_type": "stream",
          "name": "stdout",
          "text": [
            "(1, ('ko', 'en'), True)\n"
          ]
        }
      ]
    },
    {
      "cell_type": "code",
      "source": [
        "# 튜플에서 연결하기를 할 수 있다.\n",
        "t = (1,2,3) + (4,5)\n",
        "print(t)"
      ],
      "metadata": {
        "colab": {
          "base_uri": "https://localhost:8080/"
        },
        "id": "5rGC-Qf88SPg",
        "outputId": "bf1a3e52-4f98-4a7f-a43c-b04c0b0aabf9"
      },
      "execution_count": null,
      "outputs": [
        {
          "output_type": "stream",
          "name": "stdout",
          "text": [
            "(1, 2, 3, 4, 5)\n"
          ]
        }
      ]
    },
    {
      "cell_type": "code",
      "source": [
        "#튜플에서 반복하기를 할 수 있다.\n",
        "t = (1,2,3) * 2\n",
        "print(t)"
      ],
      "metadata": {
        "colab": {
          "base_uri": "https://localhost:8080/"
        },
        "id": "bw26WlBY89YW",
        "outputId": "92e8867d-c9cb-4dda-8453-aa465bce641a"
      },
      "execution_count": null,
      "outputs": [
        {
          "output_type": "stream",
          "name": "stdout",
          "text": [
            "(1, 2, 3, 1, 2, 3)\n"
          ]
        }
      ]
    },
    {
      "cell_type": "code",
      "source": [
        "#튜플에서 멤버검사를 할 수 있다.\n",
        "t = (1,2,3)\n",
        "print(2 in t)\n",
        "print(4 in t)\n"
      ],
      "metadata": {
        "colab": {
          "base_uri": "https://localhost:8080/"
        },
        "id": "YQI7slTU9LAX",
        "outputId": "9eabad62-c948-43a1-b3a2-d8c836090654"
      },
      "execution_count": null,
      "outputs": [
        {
          "output_type": "stream",
          "name": "stdout",
          "text": [
            "True\n",
            "False\n"
          ]
        }
      ]
    },
    {
      "cell_type": "code",
      "source": [
        "t = (5, 10, 15, 20, 25, 30)\n",
        "print (t)\n",
        "print (t[0]) #인덱스값 지정은 하나만 가능\n",
        "print (t[0:4]) #슬라이싱을 이용해서 여러개 불러오기 가능\n"
      ],
      "metadata": {
        "colab": {
          "base_uri": "https://localhost:8080/"
        },
        "id": "LF3iAUq-9aPv",
        "outputId": "dc11a1cc-ecc6-490b-ddb4-edb6dfe6ab04"
      },
      "execution_count": null,
      "outputs": [
        {
          "output_type": "stream",
          "name": "stdout",
          "text": [
            "(5, 10, 15, 20, 25, 30)\n",
            "5\n",
            "(5, 10, 15, 20)\n"
          ]
        }
      ]
    },
    {
      "cell_type": "markdown",
      "source": [
        "### tuple에서 언팩킹(unpacking)  "
      ],
      "metadata": {
        "id": "Khh2z5aD_hmz"
      }
    },
    {
      "cell_type": "code",
      "source": [
        "# 리스트, 튜플에서는 나머지는 리스트로 리턴한다.\n",
        "t= (10, 15, 20, 25, 30, 35)\n",
        "x, y, *z = t\n",
        "print(x)\n",
        "print(y)\n",
        "print(z)"
      ],
      "metadata": {
        "colab": {
          "base_uri": "https://localhost:8080/"
        },
        "id": "NBYKndKY_e7U",
        "outputId": "1088298d-f57d-4b66-8b66-bd42e30481a3"
      },
      "execution_count": null,
      "outputs": [
        {
          "output_type": "stream",
          "name": "stdout",
          "text": [
            "10\n",
            "15\n",
            "[20, 25, 30, 35]\n"
          ]
        }
      ]
    },
    {
      "cell_type": "code",
      "source": [
        "x,*_ ,z = t\n",
        "print(x)\n",
        "#print(y)\n",
        "print(z)"
      ],
      "metadata": {
        "colab": {
          "base_uri": "https://localhost:8080/"
        },
        "id": "n_mEbi9CAR11",
        "outputId": "282c1b2f-528d-406a-df49-03079104c56c"
      },
      "execution_count": null,
      "outputs": [
        {
          "output_type": "stream",
          "name": "stdout",
          "text": [
            "(10, 15)\n",
            "(20, 25)\n"
          ]
        }
      ]
    },
    {
      "cell_type": "code",
      "source": [
        "t = ((10,15),(20,25))\n",
        "x,y = t\n",
        "print(x)\n",
        "print(y)\n",
        "\n",
        "print('------------------')\n",
        "(x,y),(m,n) =t\n",
        "print(x)\n",
        "print(y)\n",
        "print(m)\n",
        "print(n)"
      ],
      "metadata": {
        "colab": {
          "base_uri": "https://localhost:8080/"
        },
        "id": "UqV2lphOAR0M",
        "outputId": "3c53642f-559f-46c1-9ce3-132eb1dbeeca"
      },
      "execution_count": null,
      "outputs": [
        {
          "output_type": "stream",
          "name": "stdout",
          "text": [
            "(10, 15)\n",
            "(20, 25)\n",
            "------------------\n",
            "10\n",
            "15\n",
            "20\n",
            "25\n"
          ]
        }
      ]
    },
    {
      "cell_type": "markdown",
      "source": [
        "### tuple 메소드 제공  (count, index 2개만 제공)  "
      ],
      "metadata": {
        "id": "S6RYi74I-Lhv"
      }
    },
    {
      "cell_type": "code",
      "source": [
        "t = (1,2,3,2,2,3)\n",
        "print(t.count(3))  #3요소의 개수 리턴\n",
        "print(t.index(2))  #2요소의 index를 리턴 (처음에 검색된 요소의 인덱스를 리턴한다)\n",
        "print(t.index(3, 4)) #index(value, start) 4인덱스부터 3요소의 인덱스를 찾는다.\n"
      ],
      "metadata": {
        "colab": {
          "base_uri": "https://localhost:8080/"
        },
        "id": "EdNQALIQ-G9P",
        "outputId": "d1160032-6814-4ea1-9175-95a03f129dc1"
      },
      "execution_count": null,
      "outputs": [
        {
          "output_type": "stream",
          "name": "stdout",
          "text": [
            "2\n",
            "1\n",
            "5\n"
          ]
        }
      ]
    },
    {
      "cell_type": "markdown",
      "source": [
        "## Tuple 과 list 비교   \n",
        "- 공통점  \n",
        " -다양한 데이터 타입의 객체를 저장 할 수 있고, 순서 자료형이다.     \n",
        "-차이점   \n",
        " -tuple은 변경불가능 (immutable)이다.   \n",
        " -list는 변경가능(mutable)이다.   \n",
        "\n"
      ],
      "metadata": {
        "id": "v68x-ZtlB-Bi"
      }
    },
    {
      "cell_type": "code",
      "source": [
        "t = (1,2,3)\n",
        "print (t)\n",
        "print (type(t))"
      ],
      "metadata": {
        "colab": {
          "base_uri": "https://localhost:8080/"
        },
        "id": "HR7kjvdiCfzY",
        "outputId": "496333fb-62d6-4a9b-a967-d73265d0cec0"
      },
      "execution_count": null,
      "outputs": [
        {
          "output_type": "stream",
          "name": "stdout",
          "text": [
            "(1, 2, 3)\n",
            "<class 'tuple'>\n"
          ]
        }
      ]
    },
    {
      "cell_type": "code",
      "source": [
        "# tuple을 list로 생성\n",
        "s = list(t)\n",
        "print(s)\n",
        "print(type(s))"
      ],
      "metadata": {
        "colab": {
          "base_uri": "https://localhost:8080/"
        },
        "id": "2xSENvvaCpkn",
        "outputId": "34eb2195-0acb-402f-ea92-3e658c3acae1"
      },
      "execution_count": null,
      "outputs": [
        {
          "output_type": "stream",
          "name": "stdout",
          "text": [
            "[1, 2, 3]\n",
            "<class 'list'>\n"
          ]
        }
      ]
    },
    {
      "cell_type": "code",
      "source": [
        "# list를 tuple로 생성\n",
        "p = tuple (s)\n",
        "print(p)\n",
        "print(type(p))"
      ],
      "metadata": {
        "colab": {
          "base_uri": "https://localhost:8080/"
        },
        "id": "LCyqRK8sC64o",
        "outputId": "9f01e06d-95fb-4e04-d369-da196695dd15"
      },
      "execution_count": null,
      "outputs": [
        {
          "output_type": "stream",
          "name": "stdout",
          "text": [
            "(1, 2, 3)\n",
            "<class 'tuple'>\n"
          ]
        }
      ]
    },
    {
      "cell_type": "code",
      "source": [
        "t= (1,2,3)\n",
        "v= str(t)\n",
        "print(v)\n",
        "print(type(v))\n",
        "print(len(v))"
      ],
      "metadata": {
        "colab": {
          "base_uri": "https://localhost:8080/"
        },
        "id": "ToXQzIeEDR1Q",
        "outputId": "444db72d-b068-44c9-821b-5dd122df453e"
      },
      "execution_count": null,
      "outputs": [
        {
          "output_type": "stream",
          "name": "stdout",
          "text": [
            "(1, 2, 3)\n",
            "<class 'str'>\n",
            "9\n"
          ]
        }
      ]
    },
    {
      "cell_type": "code",
      "source": [
        "i = [1,2,3]\n",
        "m = str(i)\n",
        "print(m)\n",
        "print(type(m))\n",
        "print(len(m)) #공백이 있어서 숫자 9개가 나옴 (9자리 차지)"
      ],
      "metadata": {
        "colab": {
          "base_uri": "https://localhost:8080/"
        },
        "id": "KYLg7Q6qXaXT",
        "outputId": "6186de0b-ddd9-412e-b8e0-4bd55ce2ef5f"
      },
      "execution_count": null,
      "outputs": [
        {
          "output_type": "stream",
          "name": "stdout",
          "text": [
            "[1, 2, 3]\n",
            "<class 'str'>\n",
            "9\n"
          ]
        }
      ]
    },
    {
      "cell_type": "code",
      "source": [
        "print(dir(()))"
      ],
      "metadata": {
        "id": "v9u7vlwiXaVe"
      },
      "execution_count": null,
      "outputs": []
    },
    {
      "cell_type": "markdown",
      "source": [
        "## 집합 (sets)\n",
        "   - 집합은 여러 값을 순서가 없고 중복없이 모아놓은 자료형이다  \n",
        "   -python은 set과 frozenset 두가지 집합자료형을 제공한다  \n",
        "   -set은 변경가능한 집합이고 frozenset은 변경 불가능한 자료형이다.  \n",
        "   -set은 {}중괄호로 사용할 수 없으나 set()으로 표현한다.\n",
        "   "
      ],
      "metadata": {
        "id": "3LjscqCFYRVP"
      }
    },
    {
      "cell_type": "code",
      "source": [
        "s = {} #[]=list(), ()=tuple() , {} = dict{}\n",
        "print(s)\n",
        "print(type(s))\n"
      ],
      "metadata": {
        "id": "nMy4Oe4BYHUe"
      },
      "execution_count": null,
      "outputs": []
    },
    {
      "cell_type": "markdown",
      "source": [
        "## 집합 (set)\n",
        " - 멤버쉽 (원소와 집합사이의 귀속관계) 검사, 시퀀스에서의 중복제거와 교집합, 차집합, 합집합 등 수학연산 수행에 사용된다.  \n",
        " - 순서가 유지 안되므로 인덱싱과 슬라이싱 사용을 사용 할 수 없다.   \n",
        " - 반복 가능(iterable)한 객체로 집합 객체를 생성 할 수 있다.  \n"
      ],
      "metadata": {
        "id": "H5EAdE5-bF3T"
      }
    },
    {
      "cell_type": "code",
      "source": [
        "s = set()\n",
        "print(s)\n",
        "print(type(s))\n"
      ],
      "metadata": {
        "colab": {
          "base_uri": "https://localhost:8080/"
        },
        "id": "0LXAGLyCYHSa",
        "outputId": "0d574da8-e992-4e7d-96d8-dd5765ebceca"
      },
      "execution_count": null,
      "outputs": [
        {
          "output_type": "stream",
          "name": "stdout",
          "text": [
            "set()\n",
            "<class 'set'>\n"
          ]
        }
      ]
    },
    {
      "cell_type": "code",
      "source": [
        "# set(iterable)\n",
        "set('apple') #순서 유지가 안되고 중복값 하용 안되고 오름차순으로 정렬이 됨"
      ],
      "metadata": {
        "id": "Twk6R1emdA3M"
      },
      "execution_count": null,
      "outputs": []
    },
    {
      "cell_type": "code",
      "source": [
        "# set(iterable)\n",
        "set((3,1,5,2,5)) #순서 유지가 안되고 중복값 하용 안되고 오름차순으로 정렬이 됨\n"
      ],
      "metadata": {
        "colab": {
          "base_uri": "https://localhost:8080/"
        },
        "id": "iKX0moimZyNf",
        "outputId": "fe5a5aec-ad4c-4b74-a056-64464b998719"
      },
      "execution_count": null,
      "outputs": [
        {
          "output_type": "execute_result",
          "data": {
            "text/plain": [
              "{1, 2, 3, 5}"
            ]
          },
          "metadata": {},
          "execution_count": 237
        }
      ]
    },
    {
      "cell_type": "code",
      "source": [
        "a= (3,1,5,2,5)\n",
        "b= set(a)\n",
        "print(b)"
      ],
      "metadata": {
        "colab": {
          "base_uri": "https://localhost:8080/"
        },
        "id": "PTLexrDxb6ia",
        "outputId": "dbc2ca5c-1328-4a2b-ec4e-5db34e0be612"
      },
      "execution_count": null,
      "outputs": [
        {
          "output_type": "stream",
          "name": "stdout",
          "text": [
            "{1, 2, 3, 5}\n"
          ]
        }
      ]
    },
    {
      "cell_type": "code",
      "source": [
        "a= [3,1,5,2,5]\n",
        "b= set(a)   #deep copy\n",
        "print(b)\n",
        "\n",
        "a[0] =6\n",
        "print(a)\n",
        "print(b)"
      ],
      "metadata": {
        "colab": {
          "base_uri": "https://localhost:8080/"
        },
        "id": "31fyCqzqb6gj",
        "outputId": "727e3ec1-83de-407f-a889-63a257311af7"
      },
      "execution_count": null,
      "outputs": [
        {
          "output_type": "stream",
          "name": "stdout",
          "text": [
            "{1, 2, 3, 5}\n",
            "[6, 1, 5, 2, 5]\n",
            "{1, 2, 3, 5}\n"
          ]
        }
      ]
    },
    {
      "cell_type": "code",
      "source": [
        "# set(iterable)\n",
        "set([3,1,5,2,5])"
      ],
      "metadata": {
        "colab": {
          "base_uri": "https://localhost:8080/"
        },
        "id": "zLaEjkW4am5w",
        "outputId": "5adb3a39-d9dc-4e8d-a612-799c24baf415"
      },
      "execution_count": null,
      "outputs": [
        {
          "output_type": "execute_result",
          "data": {
            "text/plain": [
              "{1, 2, 3, 5}"
            ]
          },
          "metadata": {},
          "execution_count": 239
        }
      ]
    },
    {
      "cell_type": "code",
      "source": [
        "k= [2,4]\n",
        "a= [3,1,k,5]   #[2,4] =shollow copy 주소값이 복사\n",
        "print(a)\n",
        "b= set(a)\n",
        "print(b)"
      ],
      "metadata": {
        "colab": {
          "base_uri": "https://localhost:8080/",
          "height": 258
        },
        "id": "xKoqCeAGdUDU",
        "outputId": "2fbc46f3-dfe9-45e5-b704-772f0049c88a"
      },
      "execution_count": null,
      "outputs": [
        {
          "output_type": "stream",
          "name": "stdout",
          "text": [
            "[3, 1, [2, 4], 5]\n"
          ]
        },
        {
          "output_type": "error",
          "ename": "TypeError",
          "evalue": "ignored",
          "traceback": [
            "\u001b[0;31m---------------------------------------------------------------------------\u001b[0m",
            "\u001b[0;31mTypeError\u001b[0m                                 Traceback (most recent call last)",
            "\u001b[0;32m<ipython-input-247-08f2b10f0011>\u001b[0m in \u001b[0;36m<cell line: 4>\u001b[0;34m()\u001b[0m\n\u001b[1;32m      2\u001b[0m \u001b[0ma\u001b[0m\u001b[0;34m=\u001b[0m \u001b[0;34m[\u001b[0m\u001b[0;36m3\u001b[0m\u001b[0;34m,\u001b[0m\u001b[0;36m1\u001b[0m\u001b[0;34m,\u001b[0m\u001b[0mk\u001b[0m\u001b[0;34m,\u001b[0m\u001b[0;36m5\u001b[0m\u001b[0;34m]\u001b[0m   \u001b[0;31m#[2,4] =shollow copy 주소값이 복사\u001b[0m\u001b[0;34m\u001b[0m\u001b[0;34m\u001b[0m\u001b[0m\n\u001b[1;32m      3\u001b[0m \u001b[0mprint\u001b[0m\u001b[0;34m(\u001b[0m\u001b[0ma\u001b[0m\u001b[0;34m)\u001b[0m\u001b[0;34m\u001b[0m\u001b[0;34m\u001b[0m\u001b[0m\n\u001b[0;32m----> 4\u001b[0;31m \u001b[0mb\u001b[0m\u001b[0;34m=\u001b[0m \u001b[0mset\u001b[0m\u001b[0;34m(\u001b[0m\u001b[0ma\u001b[0m\u001b[0;34m)\u001b[0m\u001b[0;34m\u001b[0m\u001b[0;34m\u001b[0m\u001b[0m\n\u001b[0m\u001b[1;32m      5\u001b[0m \u001b[0mprint\u001b[0m\u001b[0;34m(\u001b[0m\u001b[0mb\u001b[0m\u001b[0;34m)\u001b[0m\u001b[0;34m\u001b[0m\u001b[0;34m\u001b[0m\u001b[0m\n",
            "\u001b[0;31mTypeError\u001b[0m: unhashable type: 'list'"
          ]
        }
      ]
    },
    {
      "cell_type": "code",
      "source": [
        "b = set({'one':1,'two':2}) #dict 자료형으로 set을 생성하면 키만 참조한다.\n",
        "print(b)\n",
        "print(type(b))"
      ],
      "metadata": {
        "colab": {
          "base_uri": "https://localhost:8080/"
        },
        "id": "jkjIanSqdUBb",
        "outputId": "6eea2d85-ade6-4bab-d6cc-1e7e22039150"
      },
      "execution_count": null,
      "outputs": [
        {
          "output_type": "stream",
          "name": "stdout",
          "text": [
            "{'one', 'two'}\n",
            "<class 'set'>\n"
          ]
        }
      ]
    },
    {
      "cell_type": "code",
      "source": [
        "b=set(['one','two','under','app'])\n",
        "print(b)\n",
        "print(type(b))"
      ],
      "metadata": {
        "colab": {
          "base_uri": "https://localhost:8080/"
        },
        "id": "YTpl6yIaiZaU",
        "outputId": "e3cd2041-cc57-4ebe-d835-ac5c812ced9b"
      },
      "execution_count": null,
      "outputs": [
        {
          "output_type": "stream",
          "name": "stdout",
          "text": [
            "{'one', 'under', 'two', 'app'}\n",
            "<class 'set'>\n"
          ]
        }
      ]
    },
    {
      "cell_type": "code",
      "source": [
        "print(dir(set()))"
      ],
      "metadata": {
        "colab": {
          "base_uri": "https://localhost:8080/"
        },
        "id": "fKzZ1GmAjVTy",
        "outputId": "d9a0dee2-8827-479c-b4c3-99fd7f171c6a"
      },
      "execution_count": null,
      "outputs": [
        {
          "output_type": "stream",
          "name": "stdout",
          "text": [
            "['__and__', '__class__', '__class_getitem__', '__contains__', '__delattr__', '__dir__', '__doc__', '__eq__', '__format__', '__ge__', '__getattribute__', '__gt__', '__hash__', '__iand__', '__init__', '__init_subclass__', '__ior__', '__isub__', '__iter__', '__ixor__', '__le__', '__len__', '__lt__', '__ne__', '__new__', '__or__', '__rand__', '__reduce__', '__reduce_ex__', '__repr__', '__ror__', '__rsub__', '__rxor__', '__setattr__', '__sizeof__', '__str__', '__sub__', '__subclasshook__', '__xor__', 'add', 'clear', 'copy', 'difference', 'difference_update', 'discard', 'intersection', 'intersection_update', 'isdisjoint', 'issubset', 'issuperset', 'pop', 'remove', 'symmetric_difference', 'symmetric_difference_update', 'union', 'update']\n"
          ]
        }
      ]
    },
    {
      "cell_type": "code",
      "source": [
        "a = set((1,2,3,4,5))\n",
        "b = set((4,5,6,7))\n",
        "print (a.union(b))  #합집합\n",
        "print (a | b) #합집합 (수직바)\n",
        "print (a.intersection(b)) #교집합\n",
        "print (a & b) # 교집합 (&)\n",
        "print (a.difference(b)) #차집합\n",
        "print (a - b) #차집합"
      ],
      "metadata": {
        "colab": {
          "base_uri": "https://localhost:8080/"
        },
        "id": "1qD1pdCSjVRc",
        "outputId": "e2da6eb5-c8ab-4dfc-f6c4-8ab337a1a28a"
      },
      "execution_count": null,
      "outputs": [
        {
          "output_type": "stream",
          "name": "stdout",
          "text": [
            "{1, 2, 3, 4, 5, 6, 7}\n",
            "{1, 2, 3, 4, 5, 6, 7}\n",
            "{4, 5}\n",
            "{4, 5}\n",
            "{1, 2, 3}\n",
            "{1, 2, 3}\n"
          ]
        }
      ]
    },
    {
      "cell_type": "code",
      "source": [
        "a = set((1,2,3,))\n",
        "a.add(4) #한개의 요소 추가\n",
        "print(a)\n",
        "print(type(a))"
      ],
      "metadata": {
        "colab": {
          "base_uri": "https://localhost:8080/"
        },
        "id": "HqQuxdnAkJWL",
        "outputId": "ab2288a4-a502-4284-b141-b87b7297198a"
      },
      "execution_count": null,
      "outputs": [
        {
          "output_type": "stream",
          "name": "stdout",
          "text": [
            "{1, 2, 3, 4}\n",
            "<class 'set'>\n"
          ]
        }
      ]
    },
    {
      "cell_type": "code",
      "source": [
        "a = set((1,2,3))\n",
        "a.update([4,5,6,7]) # 여러개 요소 추가 update (inerable)\n",
        "print(a)\n",
        "print(type(a))"
      ],
      "metadata": {
        "colab": {
          "base_uri": "https://localhost:8080/"
        },
        "id": "PEufyiqQkZ5K",
        "outputId": "207e3bf7-d821-48ed-da7c-ecb306aa5c9c"
      },
      "execution_count": null,
      "outputs": [
        {
          "output_type": "stream",
          "name": "stdout",
          "text": [
            "{1, 2, 3, 4, 5, 6, 7}\n",
            "<class 'set'>\n"
          ]
        }
      ]
    },
    {
      "cell_type": "code",
      "source": [
        "a = set((1,2,3))\n",
        "a.remove(2) #요소 제거\n",
        "print(a)"
      ],
      "metadata": {
        "colab": {
          "base_uri": "https://localhost:8080/"
        },
        "id": "O9GqHfIxlFe8",
        "outputId": "ee06ac50-9c05-4889-c597-2fd88f872bf7"
      },
      "execution_count": null,
      "outputs": [
        {
          "output_type": "stream",
          "name": "stdout",
          "text": [
            "{1, 3}\n"
          ]
        }
      ]
    },
    {
      "cell_type": "markdown",
      "source": [
        "### frozenset\n",
        "- 요소를 변경하지 않는 범위에서 set객체와 동일하게 동작한다.   \n",
        "- frozenset객체의 생성은 집합을 포함한 반복 가능한 자료형으로 부터 가능하다.  \n",
        "-frozenset은 frozenset()으로 생성한다.   \n"
      ],
      "metadata": {
        "id": "6kyaE8B4mEer"
      }
    },
    {
      "cell_type": "code",
      "source": [
        "f = frozenset()\n",
        "print(f)\n",
        "print(type(f))"
      ],
      "metadata": {
        "colab": {
          "base_uri": "https://localhost:8080/"
        },
        "id": "Yeh9llu-mDd8",
        "outputId": "dcb95265-1fdc-4b1a-991b-50310dcd86c5"
      },
      "execution_count": null,
      "outputs": [
        {
          "output_type": "stream",
          "name": "stdout",
          "text": [
            "frozenset()\n",
            "<class 'frozenset'>\n"
          ]
        }
      ]
    },
    {
      "cell_type": "code",
      "source": [
        "f= frozenset([1,2,3,4,5])\n",
        "print(f)"
      ],
      "metadata": {
        "colab": {
          "base_uri": "https://localhost:8080/"
        },
        "id": "wwyqM8vPm0nq",
        "outputId": "470222e8-216a-41e0-e104-7420d8c69df8"
      },
      "execution_count": null,
      "outputs": [
        {
          "output_type": "stream",
          "name": "stdout",
          "text": [
            "frozenset({1, 2, 3, 4, 5})\n"
          ]
        }
      ]
    },
    {
      "cell_type": "code",
      "source": [
        "print(dir(f))"
      ],
      "metadata": {
        "colab": {
          "base_uri": "https://localhost:8080/"
        },
        "id": "klwMch3-m7hb",
        "outputId": "42e9fa6c-3958-48eb-cbd4-b621ffc1f224"
      },
      "execution_count": null,
      "outputs": [
        {
          "output_type": "stream",
          "name": "stdout",
          "text": [
            "['__and__', '__class__', '__class_getitem__', '__contains__', '__delattr__', '__dir__', '__doc__', '__eq__', '__format__', '__ge__', '__getattribute__', '__gt__', '__hash__', '__init__', '__init_subclass__', '__iter__', '__le__', '__len__', '__lt__', '__ne__', '__new__', '__or__', '__rand__', '__reduce__', '__reduce_ex__', '__repr__', '__ror__', '__rsub__', '__rxor__', '__setattr__', '__sizeof__', '__str__', '__sub__', '__subclasshook__', '__xor__', 'copy', 'difference', 'intersection', 'isdisjoint', 'issubset', 'issuperset', 'symmetric_difference', 'union']\n"
          ]
        }
      ]
    },
    {
      "cell_type": "markdown",
      "source": [
        "## dict\n",
        "- 특정 키를 주면 이와 관련된 값을 돌려주는 내용 기반으로 검색하는 자료형이다.  \n",
        "- 데이터의 저장 순서가 없다.\n",
        "- 내부적으로 해서 기법을 사용하기 때문에 검색 속도가 빠르다.  \n",
        "- key-value 형식으로 저장을 하기 때문에 key를 이용해서 value에 접근한다.  \n",
        "-key 값은 중복을 허용하지 않는다.  "
      ],
      "metadata": {
        "id": "baMeVrEfnHU2"
      }
    },
    {
      "cell_type": "code",
      "source": [
        "d = {}\n",
        "print(d)\n",
        "print(type(d))"
      ],
      "metadata": {
        "colab": {
          "base_uri": "https://localhost:8080/"
        },
        "id": "j2isTPZ2n0Bk",
        "outputId": "2ce8a761-d03d-4733-f8ca-e12c190e1e7b"
      },
      "execution_count": null,
      "outputs": [
        {
          "output_type": "stream",
          "name": "stdout",
          "text": [
            "{}\n",
            "<class 'dict'>\n"
          ]
        }
      ]
    },
    {
      "cell_type": "code",
      "source": [
        "d = {'one':1, 'two':2}\n",
        "print (d)\n",
        "print (d ['one'])\n",
        "print (d.one)"
      ],
      "metadata": {
        "colab": {
          "base_uri": "https://localhost:8080/",
          "height": 258
        },
        "id": "4wUysVQ0n54a",
        "outputId": "3371f844-14d0-4159-fad6-2e73b73e5fac"
      },
      "execution_count": null,
      "outputs": [
        {
          "output_type": "stream",
          "name": "stdout",
          "text": [
            "{'one': 1, 'two': 2}\n",
            "1\n"
          ]
        },
        {
          "output_type": "error",
          "ename": "AttributeError",
          "evalue": "ignored",
          "traceback": [
            "\u001b[0;31m---------------------------------------------------------------------------\u001b[0m",
            "\u001b[0;31mAttributeError\u001b[0m                            Traceback (most recent call last)",
            "\u001b[0;32m<ipython-input-281-2b70ffb27f31>\u001b[0m in \u001b[0;36m<cell line: 4>\u001b[0;34m()\u001b[0m\n\u001b[1;32m      2\u001b[0m \u001b[0mprint\u001b[0m \u001b[0;34m(\u001b[0m\u001b[0md\u001b[0m\u001b[0;34m)\u001b[0m\u001b[0;34m\u001b[0m\u001b[0;34m\u001b[0m\u001b[0m\n\u001b[1;32m      3\u001b[0m \u001b[0mprint\u001b[0m \u001b[0;34m(\u001b[0m\u001b[0md\u001b[0m\u001b[0;34m[\u001b[0m\u001b[0;34m'one'\u001b[0m\u001b[0;34m]\u001b[0m\u001b[0;34m)\u001b[0m\u001b[0;34m\u001b[0m\u001b[0;34m\u001b[0m\u001b[0m\n\u001b[0;32m----> 4\u001b[0;31m \u001b[0mprint\u001b[0m \u001b[0;34m(\u001b[0m\u001b[0md\u001b[0m\u001b[0;34m.\u001b[0m\u001b[0mone\u001b[0m\u001b[0;34m)\u001b[0m\u001b[0;34m\u001b[0m\u001b[0;34m\u001b[0m\u001b[0m\n\u001b[0m",
            "\u001b[0;31mAttributeError\u001b[0m: 'dict' object has no attribute 'one'"
          ]
        }
      ]
    },
    {
      "cell_type": "code",
      "source": [
        "d = dict(one=1, two=2) #'one' 사용하면 안됨 ''\n",
        "print(d)\n",
        "print(d['one'])\n"
      ],
      "metadata": {
        "colab": {
          "base_uri": "https://localhost:8080/"
        },
        "id": "3n0t7o6ppPVU",
        "outputId": "afd8698e-b11e-4f85-9d1a-45a1356f4a23"
      },
      "execution_count": null,
      "outputs": [
        {
          "output_type": "stream",
          "name": "stdout",
          "text": [
            "{'one': 1, 'two': 2}\n",
            "1\n"
          ]
        }
      ]
    },
    {
      "cell_type": "markdown",
      "source": [
        "zip() 함수를 이용해서 dic() 생성할 수 있다."
      ],
      "metadata": {
        "id": "R97knOhaqIYQ"
      }
    },
    {
      "cell_type": "code",
      "source": [
        "keys = ['one', 'two','three']\n",
        "values = [1,2,3]\n",
        "a = zip (keys, values)\n",
        "print(a)\n",
        "d = dict(a)\n",
        "print(d)"
      ],
      "metadata": {
        "colab": {
          "base_uri": "https://localhost:8080/"
        },
        "id": "iyeYuyhdqPUZ",
        "outputId": "d1e52c08-626d-4f43-8de7-af0387e60c6f"
      },
      "execution_count": null,
      "outputs": [
        {
          "output_type": "stream",
          "name": "stdout",
          "text": [
            "<zip object at 0x7bd374fc5980>\n",
            "{'one': 1, 'two': 2, 'three': 3}\n"
          ]
        }
      ]
    },
    {
      "cell_type": "code",
      "source": [
        "keys = ['one', 'two','three']\n",
        "values = [1,2,3,4,5]\n",
        "a = zip(keys, values)\n",
        "d = dict(zip(keys, values))    #작은 개수에 맞춰서 생성이 된다.\n",
        "print(d)"
      ],
      "metadata": {
        "colab": {
          "base_uri": "https://localhost:8080/"
        },
        "id": "Pm0kur6kqPSo",
        "outputId": "6d981bba-bab2-4582-8bc9-c1be78ba8a47"
      },
      "execution_count": null,
      "outputs": [
        {
          "output_type": "stream",
          "name": "stdout",
          "text": [
            "{'one': 1, 'two': 2, 'three': 3}\n"
          ]
        }
      ]
    },
    {
      "cell_type": "code",
      "source": [
        "keys = ['one', 'two','three']\n",
        "values = [1,2]\n",
        "a = zip(keys, values)\n",
        "d = dict(zip(keys, values)) #작은 개수에 맞춰서 생성이 된다.\n",
        "print(d)"
      ],
      "metadata": {
        "colab": {
          "base_uri": "https://localhost:8080/"
        },
        "id": "ovAU9JvOrKNs",
        "outputId": "92d7b7f3-bedf-4e98-d00c-d66b1e93ce52"
      },
      "execution_count": null,
      "outputs": [
        {
          "output_type": "stream",
          "name": "stdout",
          "text": [
            "{'one': 1, 'two': 2}\n"
          ]
        }
      ]
    },
    {
      "cell_type": "code",
      "source": [
        "print(dir({}))"
      ],
      "metadata": {
        "colab": {
          "base_uri": "https://localhost:8080/"
        },
        "id": "qUJa9DFxrj0X",
        "outputId": "917b9cbe-56df-4945-a7f8-99422c8ffb8a"
      },
      "execution_count": null,
      "outputs": [
        {
          "output_type": "stream",
          "name": "stdout",
          "text": [
            "['__class__', '__class_getitem__', '__contains__', '__delattr__', '__delitem__', '__dir__', '__doc__', '__eq__', '__format__', '__ge__', '__getattribute__', '__getitem__', '__gt__', '__hash__', '__init__', '__init_subclass__', '__ior__', '__iter__', '__le__', '__len__', '__lt__', '__ne__', '__new__', '__or__', '__reduce__', '__reduce_ex__', '__repr__', '__reversed__', '__ror__', '__setattr__', '__setitem__', '__sizeof__', '__str__', '__subclasshook__', 'clear', 'copy', 'fromkeys', 'get', 'items', 'keys', 'pop', 'popitem', 'setdefault', 'update', 'values']\n"
          ]
        }
      ]
    },
    {
      "cell_type": "markdown",
      "source": [
        "dick 메소드 제공"
      ],
      "metadata": {
        "id": "GO8kABQJr0P1"
      }
    },
    {
      "cell_type": "code",
      "source": [
        "d = {'one':1 , 'two':2}\n",
        "print(d.keys())\n",
        "\n",
        "for k in d.keys() :\n",
        "  print(k)"
      ],
      "metadata": {
        "colab": {
          "base_uri": "https://localhost:8080/"
        },
        "id": "doEtI-yLrjyX",
        "outputId": "2758cf00-2211-421b-97e0-ff0cdc217292"
      },
      "execution_count": null,
      "outputs": [
        {
          "output_type": "stream",
          "name": "stdout",
          "text": [
            "dict_keys(['one', 'two'])\n",
            "one\n",
            "two\n"
          ]
        }
      ]
    },
    {
      "cell_type": "code",
      "source": [
        "d = {'one':1 , 'two':2}\n",
        "print(d.items())"
      ],
      "metadata": {
        "colab": {
          "base_uri": "https://localhost:8080/"
        },
        "id": "1nqbFEFPsi6c",
        "outputId": "2aa35714-04b3-48f3-daea-b2e17b5f4acc"
      },
      "execution_count": null,
      "outputs": [
        {
          "output_type": "stream",
          "name": "stdout",
          "text": [
            "dict_items([('one', 1), ('two', 2)])\n"
          ]
        }
      ]
    },
    {
      "cell_type": "code",
      "source": [
        "d = {'one':1 , 'two':2}\n",
        "print(d.values())"
      ],
      "metadata": {
        "colab": {
          "base_uri": "https://localhost:8080/"
        },
        "id": "qJngocLFss_H",
        "outputId": "cdc3b794-976f-4c79-9c0b-d3b02c854582"
      },
      "execution_count": null,
      "outputs": [
        {
          "output_type": "stream",
          "name": "stdout",
          "text": [
            "dict_values([1, 2])\n"
          ]
        }
      ]
    },
    {
      "cell_type": "code",
      "source": [
        "d = {'one':1 , 'two':2}\n",
        "print(d.get('one'))  #d['one']\n",
        "print(d.get('three'))\n",
        "print(d.get('three','0'))"
      ],
      "metadata": {
        "colab": {
          "base_uri": "https://localhost:8080/"
        },
        "id": "igVDgxoEs12c",
        "outputId": "99a0638c-dc29-4848-fcd1-22134700de4a"
      },
      "execution_count": null,
      "outputs": [
        {
          "output_type": "stream",
          "name": "stdout",
          "text": [
            "1\n",
            "None\n",
            "0\n"
          ]
        }
      ]
    },
    {
      "cell_type": "code",
      "source": [
        "d = {'one':1 , 'two':2}\n",
        "print(d.clear())\n",
        "print(d)"
      ],
      "metadata": {
        "colab": {
          "base_uri": "https://localhost:8080/"
        },
        "id": "l9pUFfJEs10E",
        "outputId": "fe190dc4-1879-4309-8eca-2ee7dc2e4344"
      },
      "execution_count": null,
      "outputs": [
        {
          "output_type": "stream",
          "name": "stdout",
          "text": [
            "None\n",
            "{}\n"
          ]
        }
      ]
    },
    {
      "cell_type": "markdown",
      "source": [
        "srt: immutable , sequence  \n",
        "list : mutable, sequence  \n",
        "tuple : immutable , sequence  \n",
        "set : mutable, sequence  \n",
        "frozenset : immutable , non- sequence  \n",
        "dict : mutable, non-sequence  \n",
        "indexing, slicing : str, list, tuple   "
      ],
      "metadata": {
        "id": "paTLNQQ2xNGl"
      }
    },
    {
      "cell_type": "markdown",
      "source": [
        "## boolean\n",
        "  -True(참), False(거짓)"
      ],
      "metadata": {
        "id": "_ND8va5yyK9X"
      }
    },
    {
      "cell_type": "code",
      "source": [
        "a=1\n",
        "print(bool(a))\n",
        "\n",
        "b=0\n",
        "print(bool(b))\n",
        "\n",
        "c='ko'\n",
        "print(bool(c))\n",
        "\n",
        "d=''\n",
        "print(bool(d))\n",
        "\n",
        "e=(1,2)\n",
        "print(bool(e))\n",
        "\n",
        "f=()\n",
        "print(bool(f))"
      ],
      "metadata": {
        "colab": {
          "base_uri": "https://localhost:8080/"
        },
        "id": "uSK5ggEIygQ1",
        "outputId": "f9787796-1716-4126-fe33-eefb27ea913f"
      },
      "execution_count": null,
      "outputs": [
        {
          "output_type": "stream",
          "name": "stdout",
          "text": [
            "True\n",
            "False\n",
            "True\n",
            "False\n",
            "True\n",
            "False\n"
          ]
        }
      ]
    },
    {
      "cell_type": "markdown",
      "source": [
        "## 예제 및 풀이"
      ],
      "metadata": {
        "id": "IIxhUiDR1-Kx"
      }
    },
    {
      "cell_type": "markdown",
      "source": [],
      "metadata": {
        "id": "w_2jIdi01-IN"
      }
    },
    {
      "cell_type": "code",
      "source": [
        "##100 이하의 자연수 중에서 2의 배수이거나 3의 배수인 수의 개수를 구하세요\n",
        "\n",
        "len(set(range(2, 101, 2)) | set(range(3, 101, 3)))\n",
        "\n",
        "\n",
        "\n",
        "##[실행결과] 67"
      ],
      "metadata": {
        "colab": {
          "base_uri": "https://localhost:8080/"
        },
        "id": "OQQIaWYG0koV",
        "outputId": "7fd42bac-d6c9-447e-e32e-432629b316bf"
      },
      "execution_count": 3,
      "outputs": [
        {
          "output_type": "execute_result",
          "data": {
            "text/plain": [
              "67"
            ]
          },
          "metadata": {},
          "execution_count": 3
        }
      ]
    },
    {
      "cell_type": "code",
      "source": [
        "##전체집합을 U로 할때 U의 부분집합 A와 B에 대해서 연산의 결과를 구현하세요.\n",
        "\n",
        "U = set((1, 2, 3, 4, 5, 6, 7, 8, 9, 10))\n",
        "A = set((1, 3, 5, 7, 9))\n",
        "B = set((1, 2, 3, 4, 5))\n",
        "\n",
        "print(A - B)\n",
        "print (U - (A | B))\n",
        "\n",
        "\n",
        "\n",
        "##가) A∩Bc  나) (A∪B)c\n",
        "\n",
        "##[실행결과] 가) {7, 9} 나) {6, 8, 10}"
      ],
      "metadata": {
        "colab": {
          "base_uri": "https://localhost:8080/"
        },
        "id": "y1bWcWLh0mCf",
        "outputId": "040c8253-fbe4-4eb1-b9e2-e9d933a1b8ab"
      },
      "execution_count": null,
      "outputs": [
        {
          "output_type": "stream",
          "name": "stdout",
          "text": [
            "{9, 7}\n",
            "{8, 10, 6}\n"
          ]
        }
      ]
    },
    {
      "cell_type": "code",
      "source": [
        "##주어진 문자열의 각 단어가 중복되지 않게 한 번씩만 출력이 되도록 구현하세요. (출력순서를 무관합니다.)\n",
        "\n",
        "s = 'one two one two three four'\n",
        "\n",
        "\n",
        "list(set(s.split()))\n",
        "\n",
        "\n",
        "\n",
        "##[실행결과] ['two', 'four', 'one', 'three']"
      ],
      "metadata": {
        "colab": {
          "base_uri": "https://localhost:8080/"
        },
        "id": "2CzDmqKE0o_g",
        "outputId": "f77904c3-0d48-48b9-e8ac-eebd5883335c"
      },
      "execution_count": 5,
      "outputs": [
        {
          "output_type": "execute_result",
          "data": {
            "text/plain": [
              "['four', 'one', 'three', 'two']"
            ]
          },
          "metadata": {},
          "execution_count": 5
        }
      ]
    },
    {
      "cell_type": "code",
      "source": [
        "##튜플에 저장된 데이터에서 마지막 요소 5개를 삭제한뒤 나머지를 튜플로 출력하세요.\n",
        "\n",
        "data =1,2,3,4,5,6,7,8,9,10\n",
        "\n",
        "data = list(data)\n",
        "del (data[-1:-6:-1])\n",
        "print(tuple(data))\n",
        "\n",
        "\n",
        "##[실행결과] (1, 2, 3, 4, 5)"
      ],
      "metadata": {
        "colab": {
          "base_uri": "https://localhost:8080/"
        },
        "id": "JJnuonbk0q2F",
        "outputId": "83e0f75f-bc5f-4349-b518-e8462c86fdcb"
      },
      "execution_count": 8,
      "outputs": [
        {
          "output_type": "stream",
          "name": "stdout",
          "text": [
            "(1, 2, 3, 4, 5)\n"
          ]
        }
      ]
    },
    {
      "cell_type": "code",
      "source": [
        "## a변수에 저장된 문자열에서 인덱스 홀수, b변수에 저장된 문자열에서 인덱스 짝수만을 가져오는 연결하는 프로그램을 구현하세요.\n",
        "a = 'apple'\n",
        "b = 'strawberry'\n",
        "\n",
        "print(a[1::2]+b[::2])\n",
        "\n",
        "##[실행결과] plsrwer"
      ],
      "metadata": {
        "colab": {
          "base_uri": "https://localhost:8080/"
        },
        "id": "J5puLNa70sIc",
        "outputId": "2f713018-b0af-4e50-86eb-00c27c18a5b8"
      },
      "execution_count": 9,
      "outputs": [
        {
          "output_type": "stream",
          "name": "stdout",
          "text": [
            "plsrwer\n"
          ]
        }
      ]
    }
  ]
}