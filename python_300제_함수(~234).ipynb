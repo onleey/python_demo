{
  "nbformat": 4,
  "nbformat_minor": 0,
  "metadata": {
    "colab": {
      "provenance": [],
      "authorship_tag": "ABX9TyMWHdZri7h7HNP8xVY8Cej2",
      "include_colab_link": true
    },
    "kernelspec": {
      "name": "python3",
      "display_name": "Python 3"
    },
    "language_info": {
      "name": "python"
    }
  },
  "cells": [
    {
      "cell_type": "markdown",
      "metadata": {
        "id": "view-in-github",
        "colab_type": "text"
      },
      "source": [
        "<a href=\"https://colab.research.google.com/github/onleey/python_demo/blob/master/python_300%EC%A0%9C_%ED%95%A8%EC%88%98(~234).ipynb\" target=\"_parent\"><img src=\"https://colab.research.google.com/assets/colab-badge.svg\" alt=\"Open In Colab\"/></a>"
      ]
    },
    {
      "cell_type": "code",
      "execution_count": 1,
      "metadata": {
        "id": "gV4tuJVsH6GF"
      },
      "outputs": [],
      "source": [
        "def print_coin():\n",
        "  print('비트코인')"
      ]
    },
    {
      "cell_type": "code",
      "source": [
        "for i in range(100):\n",
        "  print_coin()"
      ],
      "metadata": {
        "colab": {
          "base_uri": "https://localhost:8080/"
        },
        "id": "XwKrQa3gIQSN",
        "outputId": "e57649cc-3bdd-4bc2-ca1e-c2e5f374ebec"
      },
      "execution_count": 4,
      "outputs": [
        {
          "output_type": "stream",
          "name": "stdout",
          "text": [
            "비트코인\n",
            "비트코인\n",
            "비트코인\n",
            "비트코인\n",
            "비트코인\n",
            "비트코인\n",
            "비트코인\n",
            "비트코인\n",
            "비트코인\n",
            "비트코인\n",
            "비트코인\n",
            "비트코인\n",
            "비트코인\n",
            "비트코인\n",
            "비트코인\n",
            "비트코인\n",
            "비트코인\n",
            "비트코인\n",
            "비트코인\n",
            "비트코인\n",
            "비트코인\n",
            "비트코인\n",
            "비트코인\n",
            "비트코인\n",
            "비트코인\n",
            "비트코인\n",
            "비트코인\n",
            "비트코인\n",
            "비트코인\n",
            "비트코인\n",
            "비트코인\n",
            "비트코인\n",
            "비트코인\n",
            "비트코인\n",
            "비트코인\n",
            "비트코인\n",
            "비트코인\n",
            "비트코인\n",
            "비트코인\n",
            "비트코인\n",
            "비트코인\n",
            "비트코인\n",
            "비트코인\n",
            "비트코인\n",
            "비트코인\n",
            "비트코인\n",
            "비트코인\n",
            "비트코인\n",
            "비트코인\n",
            "비트코인\n",
            "비트코인\n",
            "비트코인\n",
            "비트코인\n",
            "비트코인\n",
            "비트코인\n",
            "비트코인\n",
            "비트코인\n",
            "비트코인\n",
            "비트코인\n",
            "비트코인\n",
            "비트코인\n",
            "비트코인\n",
            "비트코인\n",
            "비트코인\n",
            "비트코인\n",
            "비트코인\n",
            "비트코인\n",
            "비트코인\n",
            "비트코인\n",
            "비트코인\n",
            "비트코인\n",
            "비트코인\n",
            "비트코인\n",
            "비트코인\n",
            "비트코인\n",
            "비트코인\n",
            "비트코인\n",
            "비트코인\n",
            "비트코인\n",
            "비트코인\n",
            "비트코인\n",
            "비트코인\n",
            "비트코인\n",
            "비트코인\n",
            "비트코인\n",
            "비트코인\n",
            "비트코인\n",
            "비트코인\n",
            "비트코인\n",
            "비트코인\n",
            "비트코인\n",
            "비트코인\n",
            "비트코인\n",
            "비트코인\n",
            "비트코인\n",
            "비트코인\n",
            "비트코인\n",
            "비트코인\n",
            "비트코인\n",
            "비트코인\n"
          ]
        }
      ]
    },
    {
      "cell_type": "code",
      "source": [
        "def print_coins():\n",
        "  for i in range(100):\n",
        "    print('비트코인')"
      ],
      "metadata": {
        "id": "GIvSrFQvIiAZ"
      },
      "execution_count": 10,
      "outputs": []
    },
    {
      "cell_type": "code",
      "source": [
        "\n",
        "\n",
        "def message() :\n",
        "    print(\"B\")\n",
        "\n",
        "\n"
      ],
      "metadata": {
        "id": "RpYx62W_JEpw"
      },
      "execution_count": 12,
      "outputs": []
    },
    {
      "cell_type": "code",
      "source": [
        "def message1():\n",
        "    print(\"A\")\n",
        "\n",
        "def message2():\n",
        "    print(\"B\")\n",
        "\n",
        "def message3():\n",
        "    for i in range (3) :\n",
        "        message2()\n",
        "        print(\"C\")\n",
        "    message1()\n",
        "\n",
        "message3()\n"
      ],
      "metadata": {
        "colab": {
          "base_uri": "https://localhost:8080/"
        },
        "id": "hQgEVYkeJhus",
        "outputId": "462dbd05-5d68-48a6-84f2-b6fdc4a63ee7"
      },
      "execution_count": 16,
      "outputs": [
        {
          "output_type": "stream",
          "name": "stdout",
          "text": [
            "B\n",
            "C\n",
            "B\n",
            "C\n",
            "B\n",
            "C\n",
            "A\n"
          ]
        }
      ]
    },
    {
      "cell_type": "code",
      "source": [
        "def 함수(aa) :\n",
        "    print(aa)\n",
        "\n",
        "함수(\"안녕\")\n",
        "함수(\"Hi\")\n"
      ],
      "metadata": {
        "colab": {
          "base_uri": "https://localhost:8080/"
        },
        "id": "1_exp47nKHwI",
        "outputId": "989be107-dff2-4903-db9a-437d6a8d1911"
      },
      "execution_count": 20,
      "outputs": [
        {
          "output_type": "stream",
          "name": "stdout",
          "text": [
            "안녕\n",
            "Hi\n"
          ]
        }
      ]
    },
    {
      "cell_type": "code",
      "source": [
        "def print_with_smile (string) :\n",
        "    print (string + \":D\")\n",
        "\n",
        "print_with_smile('안녕하세요')"
      ],
      "metadata": {
        "colab": {
          "base_uri": "https://localhost:8080/"
        },
        "id": "2PZMgYuVKYoT",
        "outputId": "3a987e5a-9482-45c7-c9fe-eecc277eb462"
      },
      "execution_count": 33,
      "outputs": [
        {
          "output_type": "stream",
          "name": "stdout",
          "text": [
            "안녕하세요:D\n"
          ]
        }
      ]
    },
    {
      "cell_type": "code",
      "source": [
        "def print_upper_price(price):\n",
        "  print(price*1.3)\n",
        "\n",
        "print_upper_price (30)"
      ],
      "metadata": {
        "colab": {
          "base_uri": "https://localhost:8080/"
        },
        "id": "Pxqom1yjLeAn",
        "outputId": "ab18c061-1ab6-4332-902c-1a89bfb0db42"
      },
      "execution_count": 36,
      "outputs": [
        {
          "output_type": "stream",
          "name": "stdout",
          "text": [
            "39.0\n"
          ]
        }
      ]
    },
    {
      "cell_type": "code",
      "source": [
        "def print_sum(a,b):\n",
        "  print(a+b)\n",
        "\n",
        "print_sum( 3,4)"
      ],
      "metadata": {
        "colab": {
          "base_uri": "https://localhost:8080/"
        },
        "id": "wfscFIvEL40K",
        "outputId": "97b84b9e-7938-46c9-d535-d025d3a799e2"
      },
      "execution_count": 38,
      "outputs": [
        {
          "output_type": "stream",
          "name": "stdout",
          "text": [
            "7\n"
          ]
        }
      ]
    },
    {
      "cell_type": "code",
      "source": [
        "def print_arithmetic_operation(a,b):\n",
        "\n",
        "  print (a ,\"+\",b ,\"=\", a+b)\n",
        "  print (a ,\"-\",b ,\"=\", a-b)\n",
        "  print (a ,\"*\",b ,\"=\", a*b)\n",
        "  print (a ,\"/\",b ,\"=\", a/b)\n",
        "\n",
        "print_arithmetic_operation (3,4)\n"
      ],
      "metadata": {
        "colab": {
          "base_uri": "https://localhost:8080/"
        },
        "id": "ydxQbvayMKxr",
        "outputId": "0c1366a9-3757-44a8-acf5-ad61e944b32e"
      },
      "execution_count": 46,
      "outputs": [
        {
          "output_type": "stream",
          "name": "stdout",
          "text": [
            "3 + 4 = 7\n",
            "3 - 4 = -1\n",
            "3 * 4 = 12\n",
            "3 / 4 = 0.75\n"
          ]
        }
      ]
    },
    {
      "cell_type": "code",
      "source": [
        "def print_max(a,b,c):\n",
        "\n",
        "  if (a > b) and (a > c) :\n",
        "    print (a)\n",
        "  elif (b > a ) and (b > c) :\n",
        "    print (b)\n",
        "  elif (c >a )  and (c > b):\n",
        "    print(c)\n",
        "\n",
        "print_max( 10,8,6)"
      ],
      "metadata": {
        "colab": {
          "base_uri": "https://localhost:8080/"
        },
        "id": "s5w7dmWCNDLg",
        "outputId": "34fcc10e-9ea7-461b-a9b0-35da2a56703c"
      },
      "execution_count": 51,
      "outputs": [
        {
          "output_type": "stream",
          "name": "stdout",
          "text": [
            "10\n"
          ]
        }
      ]
    },
    {
      "cell_type": "code",
      "source": [
        "def print_reverse(string):\n",
        "  print(string[::-1])\n",
        "\n",
        "print_reverse(\"python\")\n",
        ""
      ],
      "metadata": {
        "colab": {
          "base_uri": "https://localhost:8080/"
        },
        "id": "ea8QTaEHODTP",
        "outputId": "a4321a03-2d49-4bee-aa66-5649dc3d91de"
      },
      "execution_count": 56,
      "outputs": [
        {
          "output_type": "stream",
          "name": "stdout",
          "text": [
            "nohtyp\n"
          ]
        }
      ]
    },
    {
      "cell_type": "code",
      "source": [
        "def print_score(score_list):\n",
        "  print(sum(score_list)/len(score_list))\n",
        "\n",
        "\n",
        "print_score ([1, 2, 3])\n",
        "\n",
        "\n"
      ],
      "metadata": {
        "colab": {
          "base_uri": "https://localhost:8080/"
        },
        "id": "xyW61afHOkKd",
        "outputId": "672d34fb-1889-4dbb-e008-bf07035dfd1e"
      },
      "execution_count": 61,
      "outputs": [
        {
          "output_type": "stream",
          "name": "stdout",
          "text": [
            "2.0\n"
          ]
        }
      ]
    },
    {
      "cell_type": "code",
      "source": [
        "def print_even(print_list):\n",
        " for i in print_list :\n",
        "   if i %2 == 0 :\n",
        "     print(i)\n",
        "\n",
        "print_even ([1, 3, 2, 10, 12, 11, 15])\n"
      ],
      "metadata": {
        "colab": {
          "base_uri": "https://localhost:8080/"
        },
        "id": "K_vx3K_ZPRat",
        "outputId": "fc81a5d2-303f-4521-8e96-f7a49bd9926e"
      },
      "execution_count": 66,
      "outputs": [
        {
          "output_type": "stream",
          "name": "stdout",
          "text": [
            "2\n",
            "10\n",
            "12\n"
          ]
        }
      ]
    },
    {
      "cell_type": "code",
      "source": [
        "def print_keys(happy):\n",
        "    for keys in happy.keys():\n",
        "        print(keys)\n",
        "\n",
        "\n",
        "print_keys ({\"이름\":\"김말똥\", \"나이\":30, \"성별\":0})\n"
      ],
      "metadata": {
        "colab": {
          "base_uri": "https://localhost:8080/"
        },
        "id": "Ur9-Qg41QG4y",
        "outputId": "9d785a09-e841-4da1-dbde-12c0a455c718"
      },
      "execution_count": 77,
      "outputs": [
        {
          "output_type": "stream",
          "name": "stdout",
          "text": [
            "이름\n",
            "나이\n",
            "성별\n"
          ]
        }
      ]
    },
    {
      "cell_type": "code",
      "source": [
        "my_dict = {\"10/26\" : [100, 130, 100, 100],\n",
        "           \"10/27\" : [10, 12, 10, 11]}\n",
        "\n",
        "\n",
        "def print_value_by_key(happy,key):\n",
        "    print(happy[key])\n",
        "\n",
        "print_value_by_key  (my_dict, \"10/26\")\n"
      ],
      "metadata": {
        "colab": {
          "base_uri": "https://localhost:8080/"
        },
        "id": "4UP8pQkrQ7fi",
        "outputId": "d46ad07a-e355-43ad-e7e2-5696e4aa6479"
      },
      "execution_count": 86,
      "outputs": [
        {
          "output_type": "stream",
          "name": "stdout",
          "text": [
            "[100, 130, 100, 100]\n"
          ]
        }
      ]
    },
    {
      "cell_type": "code",
      "source": [
        "def print_5xn(문자):\n",
        "\n",
        "  print(문자[0:5])\n",
        "  print(문자[5:10])\n",
        "\n",
        "print_5xn(\"아이엠어보이유알어걸\")\n"
      ],
      "metadata": {
        "colab": {
          "base_uri": "https://localhost:8080/"
        },
        "id": "0_L9aIjhR_XH",
        "outputId": "1bc263c2-44d8-4568-9e9a-511129dfc8bc"
      },
      "execution_count": 94,
      "outputs": [
        {
          "output_type": "stream",
          "name": "stdout",
          "text": [
            "아이엠어보\n",
            "이유알어걸\n"
          ]
        }
      ]
    },
    {
      "cell_type": "code",
      "source": [
        "def print_5xn(line):\n",
        "    chunk_num = int(len(line) / 5)\n",
        "    for x in range(chunk_num + 1) :\n",
        "        print(line[x * 5: x * 5 + 5])\n",
        "print_5xn(\"아이엠어보이유알어걸\")\n"
      ],
      "metadata": {
        "colab": {
          "base_uri": "https://localhost:8080/"
        },
        "id": "WrU986k6SuSy",
        "outputId": "df95db71-6d06-4d7c-de89-bca0dc670abe"
      },
      "execution_count": 95,
      "outputs": [
        {
          "output_type": "stream",
          "name": "stdout",
          "text": [
            "아이엠어보\n",
            "이유알어걸\n",
            "\n"
          ]
        }
      ]
    },
    {
      "cell_type": "code",
      "source": [
        "def print_5xn(line,num):\n",
        "    chunk_num = int(len(line) / num)\n",
        "    for x in range(chunk_num + 1) :\n",
        "        print(line[x * num: x * num + num])\n",
        "\n",
        "print_5xn(\"아이엠어보이유알어걸\", 3)\n",
        ""
      ],
      "metadata": {
        "colab": {
          "base_uri": "https://localhost:8080/"
        },
        "id": "jLWYloa1S6PW",
        "outputId": "b61e397f-d328-4ee1-aa24-d9f1c2924b06"
      },
      "execution_count": 100,
      "outputs": [
        {
          "output_type": "stream",
          "name": "stdout",
          "text": [
            "아이엠\n",
            "어보이\n",
            "유알어\n",
            "걸\n"
          ]
        }
      ]
    },
    {
      "cell_type": "code",
      "source": [
        "def calc_monthly_salary(salaly):\n",
        "   monthly = int(salaly/12)\n",
        "   return monthly\n",
        "\n",
        "calc_monthly_salary(12004563415)\n"
      ],
      "metadata": {
        "colab": {
          "base_uri": "https://localhost:8080/"
        },
        "id": "Tg_iiMYETcVM",
        "outputId": "e2ceebb3-7a09-4cf7-dff8-d6c09be64100"
      },
      "execution_count": 107,
      "outputs": [
        {
          "output_type": "execute_result",
          "data": {
            "text/plain": [
              "1000380284"
            ]
          },
          "metadata": {},
          "execution_count": 107
        }
      ]
    },
    {
      "cell_type": "code",
      "source": [
        "def make_url(string):\n",
        "  url='www.'+string+'.com'\n",
        "  return url\n",
        "\n",
        "make_url('naver')\n"
      ],
      "metadata": {
        "colab": {
          "base_uri": "https://localhost:8080/",
          "height": 36
        },
        "id": "xBH64cNKU9cl",
        "outputId": "6dda0ebd-2b11-45be-dc8b-48d3a6f16437"
      },
      "execution_count": 120,
      "outputs": [
        {
          "output_type": "execute_result",
          "data": {
            "text/plain": [
              "'www.naver.com'"
            ],
            "application/vnd.google.colaboratory.intrinsic+json": {
              "type": "string"
            }
          },
          "metadata": {},
          "execution_count": 120
        }
      ]
    },
    {
      "cell_type": "code",
      "source": [
        "def make_list (string) :\n",
        "    my_list = []\n",
        "    for 변수 in string :\n",
        "        my_list.append(변수)\n",
        "    return my_list\n",
        "\n",
        "make_list(\"abcd\")\n"
      ],
      "metadata": {
        "colab": {
          "base_uri": "https://localhost:8080/"
        },
        "id": "EA2UZF-MXdcD",
        "outputId": "55dfe53d-afe4-4fb3-ca7f-51c2b1c1c2bd"
      },
      "execution_count": 141,
      "outputs": [
        {
          "output_type": "execute_result",
          "data": {
            "text/plain": [
              "['a', 'b', 'c', 'd']"
            ]
          },
          "metadata": {},
          "execution_count": 141
        }
      ]
    }
  ]
}