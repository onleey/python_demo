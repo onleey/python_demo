{
  "nbformat": 4,
  "nbformat_minor": 0,
  "metadata": {
    "colab": {
      "provenance": [],
      "authorship_tag": "ABX9TyMSlhBdo4pX3zriuohcefhj",
      "include_colab_link": true
    },
    "kernelspec": {
      "name": "python3",
      "display_name": "Python 3"
    },
    "language_info": {
      "name": "python"
    }
  },
  "cells": [
    {
      "cell_type": "markdown",
      "metadata": {
        "id": "view-in-github",
        "colab_type": "text"
      },
      "source": [
        "<a href=\"https://colab.research.google.com/github/onleey/python_demo/blob/master/407_kakao%EB%A9%94%EC%84%B8%EC%A7%80_%EA%B8%B0%ED%9B%84.ipynb\" target=\"_parent\"><img src=\"https://colab.research.google.com/assets/colab-badge.svg\" alt=\"Open In Colab\"/></a>"
      ]
    },
    {
      "cell_type": "code",
      "execution_count": 1,
      "metadata": {
        "colab": {
          "base_uri": "https://localhost:8080/"
        },
        "id": "4OOdCE1TFdSd",
        "outputId": "81e0da09-3d9a-42dc-b996-5044f80e7bd7"
      },
      "outputs": [
        {
          "output_type": "stream",
          "name": "stdout",
          "text": [
            "Mounted at /content/drive\n",
            "/content/drive/MyDrive/001\n"
          ]
        }
      ],
      "source": [
        "from google.colab import drive\n",
        "drive.mount('/content/drive')\n",
        "\n",
        "%cd  '/content/drive/MyDrive/001'"
      ]
    },
    {
      "cell_type": "code",
      "source": [
        "from bs4 import BeautifulSoup\n",
        "import requests\n",
        "\n",
        "import json\n",
        "import datetime\n",
        "import kakao_utils\n",
        "\n",
        "KAKAO_TOKEN_FILENAME = 'res/kakao_message/kakao_token.json'\n",
        "\n",
        "#rest api 앱키를 입력\n",
        "KAKAO_APP_KEY ='코드입력하세요'\n",
        "\n",
        "\n",
        "#토큰업데이트하기\n",
        "tokens= kakao_utils.update_tokens(KAKAO_APP_KEY,KAKAO_TOKEN_FILENAME)\n",
        "\n",
        "\n",
        "result = {}\n",
        "\n",
        "url = 'https://www.weather.go.kr/w/obs-climate/land/city-obs.do'\n",
        "res = requests.get(url)\n",
        "print(res)\n",
        "\n",
        "soup = BeautifulSoup(res.text,'html.parser')\n",
        "\n",
        "datetm = soup.select_one('#select-tm').get('value')\n",
        "print(datetm)\n",
        "result['datatm'] = datetm\n",
        "\n",
        "tbody_tag = soup.find('tbody')\n",
        "tr_rs_tag = tbody_tag.find_all('tr')\n",
        "\n",
        "\n",
        "for tr_tag in tr_rs_tag:\n",
        "  td_rs_tag = tr_tag.find_all('td')\n",
        "\n",
        "  city = td_rs_tag[0].string\n",
        "  if city == '서울':\n",
        "    cur_temp = td_rs_tag[5].string\n",
        "    sen_temp = td_rs_tag[7].string\n",
        "\n",
        "    result['city'] = city\n",
        "    result['cur_temp'] = cur_temp\n",
        "    result['sen_temp'] = sen_temp\n",
        "    break\n",
        "\n",
        "print(result)\n",
        "\n",
        "#날씨정보 만들기\n",
        "\n",
        "text = f\"\"\"\\\n",
        "#날씨정보 ({result['datatm']})\n",
        "도시 : {result['city']}\n",
        "현재온도 :{result['cur_temp']}\n",
        "체감온도 : {result['sen_temp']}\n",
        "\"\"\"\n",
        "\n",
        "#텍스트 템플릿 형식 만들기\n",
        "\n",
        "weather_url='https://www.weather.go.kr/w/obs-climate/land/city-obs.do?tm=2023.12.6.12:00&type=t99&mode=0&reg=109&auto_man=m&stn=108'\n",
        "\n",
        "template = {\n",
        "\n",
        "         'object_type':'text',\n",
        "         'text':text,\n",
        "         'link':{\n",
        "             'web_url': weather_url,\n",
        "             'mobile_web_url': weather_url\n",
        "         },\n",
        "\n",
        "         'button_title': '날씨 상세보기'\n",
        "      }\n",
        "\n",
        "\n",
        "\n",
        "#카카오톡 메세지 보내기\n",
        "res = kakao_utils.send_message(KAKAO_TOKEN_FILENAME,template)\n",
        "\n",
        "if res.json().get('result_code') == 0:\n",
        "  print('날씨 및 미세먼지 정보 성공적으로 보냈습니다.')\n",
        "\n",
        "else:\n",
        "  print('날씨 및 미세먼지 정보 성공적으로 보내지 못했습니다. 오류메시지:',res.json())\n",
        "\n",
        "\n",
        "\n",
        "\n"
      ],
      "metadata": {
        "colab": {
          "base_uri": "https://localhost:8080/"
        },
        "id": "3z3aMogxGNaB",
        "outputId": "22eeeefe-d3b5-47e4-cee2-312c1eef65c2"
      },
      "execution_count": 24,
      "outputs": [
        {
          "output_type": "stream",
          "name": "stdout",
          "text": [
            "{'access_token': 'iLNmCmw0Tfq91ul3nCFnLVYrDeQob4WXBHoKKw0gAAABjD1MRa9b9Pmr5eg_ZA', 'token_type': 'bearer', 'expires_in': 21599}\n",
            "<Response [200]>\n",
            "2023.12.06.13:00\n",
            "{'datatm': '2023.12.06.13:00', 'city': '서울', 'cur_temp': '8.0', 'sen_temp': '6.4'}\n",
            "날씨 및 미세먼지 정보 성공적으로 보냈습니다.\n"
          ]
        }
      ]
    }
  ]
}