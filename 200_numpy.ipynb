{
  "nbformat": 4,
  "nbformat_minor": 0,
  "metadata": {
    "colab": {
      "provenance": [],
      "authorship_tag": "ABX9TyM0PxZgToqnLhPyk+iGQ1tO",
      "include_colab_link": true
    },
    "kernelspec": {
      "name": "python3",
      "display_name": "Python 3"
    },
    "language_info": {
      "name": "python"
    }
  },
  "cells": [
    {
      "cell_type": "markdown",
      "metadata": {
        "id": "view-in-github",
        "colab_type": "text"
      },
      "source": [
        "<a href=\"https://colab.research.google.com/github/onleey/python_demo/blob/master/200_numpy.ipynb\" target=\"_parent\"><img src=\"https://colab.research.google.com/assets/colab-badge.svg\" alt=\"Open In Colab\"/></a>"
      ]
    },
    {
      "cell_type": "markdown",
      "source": [
        "# Numpy\n",
        "- NumPy는 Numerical Python의 줄임말로, 파이썬에서 산술 계산을 위한 가장 필수 패키지중 하나이다.\n",
        "- 과학 계산을 위한 대부분의 패키지는 NumPy의 배열 객체를 데이터 교환을 위한 공통 언어처럼 사용한다.\n",
        "- 효율적인 다차원 배열인 ndarray(n dimensional array)는 빠른 배열 계산과 유연한 브로드캐스팅 기능을 제공한다.\n",
        "- 반복문을 작성할 필요 없이 전체 데이터 배열을 빠르게 계산할 수 있는 표준 수학 함수이다.\n",
        "- 배열 데이터를 디스크에 쓰거나 읽을 수 있는 도구와 메모리에 적재된 파일을 다루는 도구이다.\n",
        "- 선형대수, 난수 생성기등에 사용된다.\n",
        "- C, C++, 포트란으로 작성한 코드를 연결할 수 있는 C API가 제공된다.\n",
        "\n",
        "\n",
        "공식문서 https://numpy.org/doc/stable/  \n",
        "numpy 100 문제 https://github.com/rougier/numpy-100"
      ],
      "metadata": {
        "id": "6G8-_G4aP0FV"
      }
    },
    {
      "cell_type": "markdown",
      "source": [
        "# 1. 데이터 생성"
      ],
      "metadata": {
        "id": "9kJRi-QeR-C4"
      }
    },
    {
      "cell_type": "code",
      "source": [
        "import numpy as np"
      ],
      "metadata": {
        "id": "Duj76zj9SBt7"
      },
      "execution_count": 14,
      "outputs": []
    },
    {
      "cell_type": "markdown",
      "source": [
        "np.zeros( ) 생성할 개수 삽입 . zero라 0이 값."
      ],
      "metadata": {
        "id": "lq4K1348TuQb"
      }
    },
    {
      "cell_type": "code",
      "source": [
        "a = np.zeros(3) #1차원 배열 생성 (벡터)\n",
        "a"
      ],
      "metadata": {
        "colab": {
          "base_uri": "https://localhost:8080/"
        },
        "id": "kQB-dAubSARs",
        "outputId": "090690c6-4ffb-4958-e9b5-f6df7ee883ae"
      },
      "execution_count": 15,
      "outputs": [
        {
          "output_type": "execute_result",
          "data": {
            "text/plain": [
              "array([0., 0., 0.])"
            ]
          },
          "metadata": {},
          "execution_count": 15
        }
      ]
    },
    {
      "cell_type": "code",
      "source": [
        "print(a)"
      ],
      "metadata": {
        "colab": {
          "base_uri": "https://localhost:8080/"
        },
        "id": "A42QjdGqSpPD",
        "outputId": "64fa54ce-6ffd-4dae-abb3-9c81c56b655c"
      },
      "execution_count": 16,
      "outputs": [
        {
          "output_type": "stream",
          "name": "stdout",
          "text": [
            "[0. 0. 0.]\n"
          ]
        }
      ]
    },
    {
      "cell_type": "code",
      "source": [
        "print(dir(a))"
      ],
      "metadata": {
        "colab": {
          "base_uri": "https://localhost:8080/"
        },
        "id": "fdG0B-pvSxYj",
        "outputId": "a2983711-e218-4196-fd2f-5bf9e8f838b5"
      },
      "execution_count": 17,
      "outputs": [
        {
          "output_type": "stream",
          "name": "stdout",
          "text": [
            "['T', '__abs__', '__add__', '__and__', '__array__', '__array_finalize__', '__array_function__', '__array_interface__', '__array_prepare__', '__array_priority__', '__array_struct__', '__array_ufunc__', '__array_wrap__', '__bool__', '__class__', '__class_getitem__', '__complex__', '__contains__', '__copy__', '__deepcopy__', '__delattr__', '__delitem__', '__dir__', '__divmod__', '__dlpack__', '__dlpack_device__', '__doc__', '__eq__', '__float__', '__floordiv__', '__format__', '__ge__', '__getattribute__', '__getitem__', '__gt__', '__hash__', '__iadd__', '__iand__', '__ifloordiv__', '__ilshift__', '__imatmul__', '__imod__', '__imul__', '__index__', '__init__', '__init_subclass__', '__int__', '__invert__', '__ior__', '__ipow__', '__irshift__', '__isub__', '__iter__', '__itruediv__', '__ixor__', '__le__', '__len__', '__lshift__', '__lt__', '__matmul__', '__mod__', '__mul__', '__ne__', '__neg__', '__new__', '__or__', '__pos__', '__pow__', '__radd__', '__rand__', '__rdivmod__', '__reduce__', '__reduce_ex__', '__repr__', '__rfloordiv__', '__rlshift__', '__rmatmul__', '__rmod__', '__rmul__', '__ror__', '__rpow__', '__rrshift__', '__rshift__', '__rsub__', '__rtruediv__', '__rxor__', '__setattr__', '__setitem__', '__setstate__', '__sizeof__', '__str__', '__sub__', '__subclasshook__', '__truediv__', '__xor__', 'all', 'any', 'argmax', 'argmin', 'argpartition', 'argsort', 'astype', 'base', 'byteswap', 'choose', 'clip', 'compress', 'conj', 'conjugate', 'copy', 'ctypes', 'cumprod', 'cumsum', 'data', 'diagonal', 'dot', 'dtype', 'dump', 'dumps', 'fill', 'flags', 'flat', 'flatten', 'getfield', 'imag', 'item', 'itemset', 'itemsize', 'max', 'mean', 'min', 'nbytes', 'ndim', 'newbyteorder', 'nonzero', 'partition', 'prod', 'ptp', 'put', 'ravel', 'real', 'repeat', 'reshape', 'resize', 'round', 'searchsorted', 'setfield', 'setflags', 'shape', 'size', 'sort', 'squeeze', 'std', 'strides', 'sum', 'swapaxes', 'take', 'tobytes', 'tofile', 'tolist', 'tostring', 'trace', 'transpose', 'var', 'view']\n"
          ]
        }
      ]
    },
    {
      "cell_type": "code",
      "source": [
        "print(a.__repr__)\n",
        "print(a.__str__)"
      ],
      "metadata": {
        "colab": {
          "base_uri": "https://localhost:8080/"
        },
        "id": "rho3qqjGS3wL",
        "outputId": "b5e9752f-a839-4d32-84ab-ea7d3a4a6da9"
      },
      "execution_count": 18,
      "outputs": [
        {
          "output_type": "stream",
          "name": "stdout",
          "text": [
            "<method-wrapper '__repr__' of numpy.ndarray object at 0x799c883aaf10>\n",
            "<method-wrapper '__str__' of numpy.ndarray object at 0x799c883aaf10>\n"
          ]
        }
      ]
    },
    {
      "cell_type": "code",
      "source": [
        "print(type(a))"
      ],
      "metadata": {
        "colab": {
          "base_uri": "https://localhost:8080/"
        },
        "id": "nPn7D5GhTKiD",
        "outputId": "eaabd44f-64d9-40ef-af18-df2d670a08fa"
      },
      "execution_count": 19,
      "outputs": [
        {
          "output_type": "stream",
          "name": "stdout",
          "text": [
            "<class 'numpy.ndarray'>\n"
          ]
        }
      ]
    },
    {
      "cell_type": "markdown",
      "source": [
        "np.array()\n",
        "\n"
      ],
      "metadata": {
        "id": "9S96IkJPR-Bs"
      }
    },
    {
      "cell_type": "code",
      "source": [
        "a = np.array([1,2,3])   # 1차원 배열 =벡터\n",
        "a"
      ],
      "metadata": {
        "colab": {
          "base_uri": "https://localhost:8080/"
        },
        "id": "cozCYNOsT7wv",
        "outputId": "ca01b8c2-e060-4834-b1a6-c11cce8036bb"
      },
      "execution_count": 20,
      "outputs": [
        {
          "output_type": "execute_result",
          "data": {
            "text/plain": [
              "array([1, 2, 3])"
            ]
          },
          "metadata": {},
          "execution_count": 20
        }
      ]
    },
    {
      "cell_type": "code",
      "source": [
        "print(a)\n",
        "print(type(a))\n",
        "print(dir(a))"
      ],
      "metadata": {
        "colab": {
          "base_uri": "https://localhost:8080/"
        },
        "id": "xoR6koUFUBXq",
        "outputId": "85bc78ff-c842-420c-cf10-0c10da8c987a"
      },
      "execution_count": 21,
      "outputs": [
        {
          "output_type": "stream",
          "name": "stdout",
          "text": [
            "[1 2 3]\n",
            "<class 'numpy.ndarray'>\n",
            "['T', '__abs__', '__add__', '__and__', '__array__', '__array_finalize__', '__array_function__', '__array_interface__', '__array_prepare__', '__array_priority__', '__array_struct__', '__array_ufunc__', '__array_wrap__', '__bool__', '__class__', '__class_getitem__', '__complex__', '__contains__', '__copy__', '__deepcopy__', '__delattr__', '__delitem__', '__dir__', '__divmod__', '__dlpack__', '__dlpack_device__', '__doc__', '__eq__', '__float__', '__floordiv__', '__format__', '__ge__', '__getattribute__', '__getitem__', '__gt__', '__hash__', '__iadd__', '__iand__', '__ifloordiv__', '__ilshift__', '__imatmul__', '__imod__', '__imul__', '__index__', '__init__', '__init_subclass__', '__int__', '__invert__', '__ior__', '__ipow__', '__irshift__', '__isub__', '__iter__', '__itruediv__', '__ixor__', '__le__', '__len__', '__lshift__', '__lt__', '__matmul__', '__mod__', '__mul__', '__ne__', '__neg__', '__new__', '__or__', '__pos__', '__pow__', '__radd__', '__rand__', '__rdivmod__', '__reduce__', '__reduce_ex__', '__repr__', '__rfloordiv__', '__rlshift__', '__rmatmul__', '__rmod__', '__rmul__', '__ror__', '__rpow__', '__rrshift__', '__rshift__', '__rsub__', '__rtruediv__', '__rxor__', '__setattr__', '__setitem__', '__setstate__', '__sizeof__', '__str__', '__sub__', '__subclasshook__', '__truediv__', '__xor__', 'all', 'any', 'argmax', 'argmin', 'argpartition', 'argsort', 'astype', 'base', 'byteswap', 'choose', 'clip', 'compress', 'conj', 'conjugate', 'copy', 'ctypes', 'cumprod', 'cumsum', 'data', 'diagonal', 'dot', 'dtype', 'dump', 'dumps', 'fill', 'flags', 'flat', 'flatten', 'getfield', 'imag', 'item', 'itemset', 'itemsize', 'max', 'mean', 'min', 'nbytes', 'ndim', 'newbyteorder', 'nonzero', 'partition', 'prod', 'ptp', 'put', 'ravel', 'real', 'repeat', 'reshape', 'resize', 'round', 'searchsorted', 'setfield', 'setflags', 'shape', 'size', 'sort', 'squeeze', 'std', 'strides', 'sum', 'swapaxes', 'take', 'tobytes', 'tofile', 'tolist', 'tostring', 'trace', 'transpose', 'var', 'view']\n"
          ]
        }
      ]
    },
    {
      "cell_type": "code",
      "source": [
        "#2차원 배열 = 행렬\n",
        "b = np.array([[1,2],[3,4]])   #2행 2열\n",
        "b"
      ],
      "metadata": {
        "colab": {
          "base_uri": "https://localhost:8080/"
        },
        "id": "s1nmBLWSURyF",
        "outputId": "86414e8a-b8fd-4c7f-e42f-09958b2dcff5"
      },
      "execution_count": 22,
      "outputs": [
        {
          "output_type": "execute_result",
          "data": {
            "text/plain": [
              "array([[1, 2],\n",
              "       [3, 4]])"
            ]
          },
          "metadata": {},
          "execution_count": 22
        }
      ]
    },
    {
      "cell_type": "code",
      "source": [
        "print(b)\n",
        "print(type(b))\n",
        "print(dir(b))\n",
        "print(b.shape)   #.shape 현재 몇행 몇렬인지 알고싶다."
      ],
      "metadata": {
        "colab": {
          "base_uri": "https://localhost:8080/"
        },
        "id": "J-E-mn_3Uuts",
        "outputId": "b3196f77-2153-44ed-bc10-4dd1dad55f15"
      },
      "execution_count": 23,
      "outputs": [
        {
          "output_type": "stream",
          "name": "stdout",
          "text": [
            "[[1 2]\n",
            " [3 4]]\n",
            "<class 'numpy.ndarray'>\n",
            "['T', '__abs__', '__add__', '__and__', '__array__', '__array_finalize__', '__array_function__', '__array_interface__', '__array_prepare__', '__array_priority__', '__array_struct__', '__array_ufunc__', '__array_wrap__', '__bool__', '__class__', '__class_getitem__', '__complex__', '__contains__', '__copy__', '__deepcopy__', '__delattr__', '__delitem__', '__dir__', '__divmod__', '__dlpack__', '__dlpack_device__', '__doc__', '__eq__', '__float__', '__floordiv__', '__format__', '__ge__', '__getattribute__', '__getitem__', '__gt__', '__hash__', '__iadd__', '__iand__', '__ifloordiv__', '__ilshift__', '__imatmul__', '__imod__', '__imul__', '__index__', '__init__', '__init_subclass__', '__int__', '__invert__', '__ior__', '__ipow__', '__irshift__', '__isub__', '__iter__', '__itruediv__', '__ixor__', '__le__', '__len__', '__lshift__', '__lt__', '__matmul__', '__mod__', '__mul__', '__ne__', '__neg__', '__new__', '__or__', '__pos__', '__pow__', '__radd__', '__rand__', '__rdivmod__', '__reduce__', '__reduce_ex__', '__repr__', '__rfloordiv__', '__rlshift__', '__rmatmul__', '__rmod__', '__rmul__', '__ror__', '__rpow__', '__rrshift__', '__rshift__', '__rsub__', '__rtruediv__', '__rxor__', '__setattr__', '__setitem__', '__setstate__', '__sizeof__', '__str__', '__sub__', '__subclasshook__', '__truediv__', '__xor__', 'all', 'any', 'argmax', 'argmin', 'argpartition', 'argsort', 'astype', 'base', 'byteswap', 'choose', 'clip', 'compress', 'conj', 'conjugate', 'copy', 'ctypes', 'cumprod', 'cumsum', 'data', 'diagonal', 'dot', 'dtype', 'dump', 'dumps', 'fill', 'flags', 'flat', 'flatten', 'getfield', 'imag', 'item', 'itemset', 'itemsize', 'max', 'mean', 'min', 'nbytes', 'ndim', 'newbyteorder', 'nonzero', 'partition', 'prod', 'ptp', 'put', 'ravel', 'real', 'repeat', 'reshape', 'resize', 'round', 'searchsorted', 'setfield', 'setflags', 'shape', 'size', 'sort', 'squeeze', 'std', 'strides', 'sum', 'swapaxes', 'take', 'tobytes', 'tofile', 'tolist', 'tostring', 'trace', 'transpose', 'var', 'view']\n",
            "(2, 2)\n"
          ]
        }
      ]
    },
    {
      "cell_type": "code",
      "source": [
        "# 3차월 배열 , 그이상은 텐서(tensor)라고 함\n",
        "c = np. array([[[1,2],[3,4]],[[5,6],[7,8]]])  #2층(면,공간), 2행, 2열\n",
        "c"
      ],
      "metadata": {
        "colab": {
          "base_uri": "https://localhost:8080/"
        },
        "id": "eJ9MDLn7Ve2s",
        "outputId": "f471b781-c3ab-478b-bfd9-43274970337b"
      },
      "execution_count": 24,
      "outputs": [
        {
          "output_type": "execute_result",
          "data": {
            "text/plain": [
              "array([[[1, 2],\n",
              "        [3, 4]],\n",
              "\n",
              "       [[5, 6],\n",
              "        [7, 8]]])"
            ]
          },
          "metadata": {},
          "execution_count": 24
        }
      ]
    },
    {
      "cell_type": "code",
      "source": [
        "print(c)\n",
        "print(type(c))\n",
        "print(dir(c))\n",
        "print(c.shape)"
      ],
      "metadata": {
        "colab": {
          "base_uri": "https://localhost:8080/"
        },
        "id": "VIc7w1PPWEYK",
        "outputId": "bac79166-d8c6-4d42-d243-a3c31a6d89de"
      },
      "execution_count": 25,
      "outputs": [
        {
          "output_type": "stream",
          "name": "stdout",
          "text": [
            "[[[1 2]\n",
            "  [3 4]]\n",
            "\n",
            " [[5 6]\n",
            "  [7 8]]]\n",
            "<class 'numpy.ndarray'>\n",
            "['T', '__abs__', '__add__', '__and__', '__array__', '__array_finalize__', '__array_function__', '__array_interface__', '__array_prepare__', '__array_priority__', '__array_struct__', '__array_ufunc__', '__array_wrap__', '__bool__', '__class__', '__class_getitem__', '__complex__', '__contains__', '__copy__', '__deepcopy__', '__delattr__', '__delitem__', '__dir__', '__divmod__', '__dlpack__', '__dlpack_device__', '__doc__', '__eq__', '__float__', '__floordiv__', '__format__', '__ge__', '__getattribute__', '__getitem__', '__gt__', '__hash__', '__iadd__', '__iand__', '__ifloordiv__', '__ilshift__', '__imatmul__', '__imod__', '__imul__', '__index__', '__init__', '__init_subclass__', '__int__', '__invert__', '__ior__', '__ipow__', '__irshift__', '__isub__', '__iter__', '__itruediv__', '__ixor__', '__le__', '__len__', '__lshift__', '__lt__', '__matmul__', '__mod__', '__mul__', '__ne__', '__neg__', '__new__', '__or__', '__pos__', '__pow__', '__radd__', '__rand__', '__rdivmod__', '__reduce__', '__reduce_ex__', '__repr__', '__rfloordiv__', '__rlshift__', '__rmatmul__', '__rmod__', '__rmul__', '__ror__', '__rpow__', '__rrshift__', '__rshift__', '__rsub__', '__rtruediv__', '__rxor__', '__setattr__', '__setitem__', '__setstate__', '__sizeof__', '__str__', '__sub__', '__subclasshook__', '__truediv__', '__xor__', 'all', 'any', 'argmax', 'argmin', 'argpartition', 'argsort', 'astype', 'base', 'byteswap', 'choose', 'clip', 'compress', 'conj', 'conjugate', 'copy', 'ctypes', 'cumprod', 'cumsum', 'data', 'diagonal', 'dot', 'dtype', 'dump', 'dumps', 'fill', 'flags', 'flat', 'flatten', 'getfield', 'imag', 'item', 'itemset', 'itemsize', 'max', 'mean', 'min', 'nbytes', 'ndim', 'newbyteorder', 'nonzero', 'partition', 'prod', 'ptp', 'put', 'ravel', 'real', 'repeat', 'reshape', 'resize', 'round', 'searchsorted', 'setfield', 'setflags', 'shape', 'size', 'sort', 'squeeze', 'std', 'strides', 'sum', 'swapaxes', 'take', 'tobytes', 'tofile', 'tolist', 'tostring', 'trace', 'transpose', 'var', 'view']\n",
            "(2, 2, 2)\n"
          ]
        }
      ]
    },
    {
      "cell_type": "code",
      "source": [
        "a = np.array ([1,2,3])\n",
        "print(a)\n",
        "print(a[0])"
      ],
      "metadata": {
        "colab": {
          "base_uri": "https://localhost:8080/"
        },
        "id": "pF0FcgzVWS7y",
        "outputId": "2c0b96cc-5a75-422b-991a-8144b73a4f19"
      },
      "execution_count": 26,
      "outputs": [
        {
          "output_type": "stream",
          "name": "stdout",
          "text": [
            "[1 2 3]\n",
            "1\n"
          ]
        }
      ]
    },
    {
      "cell_type": "code",
      "source": [
        "# 문자 데이터가 하나라도 있으면 전체가 문자로 출력된다.\n",
        "# numpy는homogenous이다. 즉, 같은 타입만 저장 할 수 있다.\n",
        "a = np.array ([1,'2',3])\n",
        "print(a)\n",
        "print(a[0])"
      ],
      "metadata": {
        "colab": {
          "base_uri": "https://localhost:8080/"
        },
        "id": "vAdGVMahWvSa",
        "outputId": "57903603-a72a-4b3b-f533-659668f35cd2"
      },
      "execution_count": 27,
      "outputs": [
        {
          "output_type": "stream",
          "name": "stdout",
          "text": [
            "['1' '2' '3']\n",
            "1\n"
          ]
        }
      ]
    },
    {
      "cell_type": "code",
      "source": [
        "#논리값에서 False는 0, True는 1로 저장함\n",
        "a = np.array ([0,False,1,True])\n",
        "print(a)\n",
        "print(a[0])"
      ],
      "metadata": {
        "colab": {
          "base_uri": "https://localhost:8080/"
        },
        "id": "binKRtBqXZBG",
        "outputId": "88c998cb-ae3b-4925-cb27-a31a5785212c"
      },
      "execution_count": 28,
      "outputs": [
        {
          "output_type": "stream",
          "name": "stdout",
          "text": [
            "[0 0 1 1]\n",
            "0\n"
          ]
        }
      ]
    },
    {
      "cell_type": "markdown",
      "source": [
        "\n",
        "#np.zeros\n",
        "```\n",
        "-tuple로 인자를 넣으면 그대로 모양을 만든다.   \n",
        "- (2,3): 2행 3열의 행렬을 만든다.   \n",
        "- zeros는 기본값으로 0.으로 값을 모두 채운다.\n",
        "  -np.zeros((2,3))\n",
        "  -np.zeros([2,3])\n",
        "\n",
        "```"
      ],
      "metadata": {
        "id": "GE2Zdo4MT4MT"
      }
    },
    {
      "cell_type": "code",
      "execution_count": 29,
      "metadata": {
        "colab": {
          "base_uri": "https://localhost:8080/"
        },
        "id": "8obUbKrkPvfZ",
        "outputId": "dca19977-05dc-4472-d72d-e8b93dc356f6"
      },
      "outputs": [
        {
          "output_type": "stream",
          "name": "stdout",
          "text": [
            "[0. 0. 0.]\n",
            "(3,)\n"
          ]
        }
      ],
      "source": [
        "a = np.zeros(3)\n",
        "\n",
        "print(a)\n",
        "print(a.shape)"
      ]
    },
    {
      "cell_type": "code",
      "source": [
        "a = np.zeros((2,3))\n",
        "\n",
        "print(a)\n",
        "print(a.shape)"
      ],
      "metadata": {
        "colab": {
          "base_uri": "https://localhost:8080/"
        },
        "id": "H_OVIH6LYura",
        "outputId": "3c8adbde-5103-433b-8a86-db6c9cb54018"
      },
      "execution_count": 30,
      "outputs": [
        {
          "output_type": "stream",
          "name": "stdout",
          "text": [
            "[[0. 0. 0.]\n",
            " [0. 0. 0.]]\n",
            "(2, 3)\n"
          ]
        }
      ]
    },
    {
      "cell_type": "code",
      "source": [
        "a = np.zeros([2,3])\n",
        "\n",
        "print(a)\n",
        "print(a.shape)"
      ],
      "metadata": {
        "colab": {
          "base_uri": "https://localhost:8080/"
        },
        "id": "XOfDTbZkYzkp",
        "outputId": "cee6f8d6-6e17-4733-ee0a-5cd6f6f4b932"
      },
      "execution_count": 31,
      "outputs": [
        {
          "output_type": "stream",
          "name": "stdout",
          "text": [
            "[[0. 0. 0.]\n",
            " [0. 0. 0.]]\n",
            "(2, 3)\n"
          ]
        }
      ]
    },
    {
      "cell_type": "markdown",
      "source": [
        "### np.eye\n",
        "- eye는 단위행렬\n",
        "- 숫자만 사용할 수 있다.\n"
      ],
      "metadata": {
        "id": "hC3YRVzEPzzI"
      }
    },
    {
      "cell_type": "code",
      "source": [
        "a= np.eye(3)\n",
        "a"
      ],
      "metadata": {
        "colab": {
          "base_uri": "https://localhost:8080/"
        },
        "id": "9Pwg9_WIq2-e",
        "outputId": "9958362d-fcc9-4d0c-cab6-8c3a6da8c9b7"
      },
      "execution_count": 32,
      "outputs": [
        {
          "output_type": "execute_result",
          "data": {
            "text/plain": [
              "array([[1., 0., 0.],\n",
              "       [0., 1., 0.],\n",
              "       [0., 0., 1.]])"
            ]
          },
          "metadata": {},
          "execution_count": 32
        }
      ]
    },
    {
      "cell_type": "code",
      "source": [
        "# eye는 행과 열의 크기를 지정할 수 있다.\n",
        "# 3행 2열 행렬생성\n",
        "a = np.eye(3,2) #3행 2열\n",
        "a"
      ],
      "metadata": {
        "colab": {
          "base_uri": "https://localhost:8080/"
        },
        "id": "QCzAtW4braHl",
        "outputId": "9862bfc0-143f-446a-e05b-1829586a7b43"
      },
      "execution_count": 33,
      "outputs": [
        {
          "output_type": "execute_result",
          "data": {
            "text/plain": [
              "array([[1., 0.],\n",
              "       [0., 1.],\n",
              "       [0., 0.]])"
            ]
          },
          "metadata": {},
          "execution_count": 33
        }
      ]
    },
    {
      "cell_type": "code",
      "source": [
        "# 1이 시작되는 위치를 지정할 수 있다. (k=1)\n",
        "a= np.eye(3,4,k=1) #3행 4열\n",
        "a"
      ],
      "metadata": {
        "colab": {
          "base_uri": "https://localhost:8080/"
        },
        "id": "NYRPcPZPr350",
        "outputId": "9094d2d7-fa5f-426f-9442-fcc96fcc9f8b"
      },
      "execution_count": 34,
      "outputs": [
        {
          "output_type": "execute_result",
          "data": {
            "text/plain": [
              "array([[0., 1., 0., 0.],\n",
              "       [0., 0., 1., 0.],\n",
              "       [0., 0., 0., 1.]])"
            ]
          },
          "metadata": {},
          "execution_count": 34
        }
      ]
    },
    {
      "cell_type": "markdown",
      "source": [
        "### 단위행렬 identity\n",
        "- 수학에서 단위행렬은 영어로 identity matrix\n",
        "- 크기 한 개만 지정해서 생성할 수 있다."
      ],
      "metadata": {
        "id": "6kye8BgHsjX1"
      }
    },
    {
      "cell_type": "code",
      "source": [
        "a = np.identity(3)\n",
        "a"
      ],
      "metadata": {
        "colab": {
          "base_uri": "https://localhost:8080/"
        },
        "id": "9-Bm3w1NssDL",
        "outputId": "1c9da631-1edd-4834-a385-64eb52964cb2"
      },
      "execution_count": 35,
      "outputs": [
        {
          "output_type": "execute_result",
          "data": {
            "text/plain": [
              "array([[1., 0., 0.],\n",
              "       [0., 1., 0.],\n",
              "       [0., 0., 1.]])"
            ]
          },
          "metadata": {},
          "execution_count": 35
        }
      ]
    },
    {
      "cell_type": "markdown",
      "source": [
        "### np.full\n",
        " - 지정한 크기의 배열을 생성하고 채울값을 지정 한다."
      ],
      "metadata": {
        "id": "ynxbPi-dtH7s"
      }
    },
    {
      "cell_type": "code",
      "source": [
        "#2행 2열의 행렬을 생성하고 1로 초기화 해준다.\n",
        "a = np.full((3,4),1) #np.full(shape. fill_value)\n",
        "a"
      ],
      "metadata": {
        "colab": {
          "base_uri": "https://localhost:8080/"
        },
        "id": "FnTO6DyOtMny",
        "outputId": "1a418ab7-ee40-4c24-824f-f93cd09eb29a"
      },
      "execution_count": 36,
      "outputs": [
        {
          "output_type": "execute_result",
          "data": {
            "text/plain": [
              "array([[1, 1, 1, 1],\n",
              "       [1, 1, 1, 1],\n",
              "       [1, 1, 1, 1]])"
            ]
          },
          "metadata": {},
          "execution_count": 36
        }
      ]
    },
    {
      "cell_type": "code",
      "source": [
        "#2행 2열의 행렬을 생성하고 각 행마다 1, 2로 초기화 해준다.\n",
        "a= np.full((2,2),[1,2])\n",
        "a"
      ],
      "metadata": {
        "colab": {
          "base_uri": "https://localhost:8080/"
        },
        "id": "iV8v6aJCtgrS",
        "outputId": "8c43f12f-7761-4f9a-aedf-2176d077f1a8"
      },
      "execution_count": 37,
      "outputs": [
        {
          "output_type": "execute_result",
          "data": {
            "text/plain": [
              "array([[1, 2],\n",
              "       [1, 2]])"
            ]
          },
          "metadata": {},
          "execution_count": 37
        }
      ]
    },
    {
      "cell_type": "code",
      "source": [
        "# 2행 2열의 행렬을 생성하고 각각 1,2,3,4,로 초기화 해준다.\n",
        "a= np.full((2,2),[[1,2],[3,4]])\n",
        "a"
      ],
      "metadata": {
        "colab": {
          "base_uri": "https://localhost:8080/"
        },
        "id": "Kq62RLcfsYXs",
        "outputId": "cd2e0a83-2951-4070-b868-04b160ff8cfe"
      },
      "execution_count": 38,
      "outputs": [
        {
          "output_type": "execute_result",
          "data": {
            "text/plain": [
              "array([[1, 2],\n",
              "       [3, 4]])"
            ]
          },
          "metadata": {},
          "execution_count": 38
        }
      ]
    },
    {
      "cell_type": "markdown",
      "source": [
        "### np.empty\n",
        "- 배열을 생성하고 초기화를 지정하지 않는다.\n",
        "- 메모리에 있는 값이나 이전에 사용했던 값들로 채워진다.  "
      ],
      "metadata": {
        "id": "MmueFO61uN50"
      }
    },
    {
      "cell_type": "code",
      "source": [
        "a = np.empty(3)\n",
        "a"
      ],
      "metadata": {
        "colab": {
          "base_uri": "https://localhost:8080/"
        },
        "id": "hDG2my-cuVV0",
        "outputId": "8a823418-e240-48dd-849a-27594fd134d1"
      },
      "execution_count": 39,
      "outputs": [
        {
          "output_type": "execute_result",
          "data": {
            "text/plain": [
              "array([1., 1., 1.])"
            ]
          },
          "metadata": {},
          "execution_count": 39
        }
      ]
    },
    {
      "cell_type": "code",
      "source": [
        "# 2행2열이 생성됨\n",
        "a= np.empty((2,3))\n",
        "a"
      ],
      "metadata": {
        "colab": {
          "base_uri": "https://localhost:8080/"
        },
        "id": "7sd8rZqEvP7d",
        "outputId": "daa7ab13-1a0d-4a2d-e07a-ffae7ee4e609"
      },
      "execution_count": 40,
      "outputs": [
        {
          "output_type": "execute_result",
          "data": {
            "text/plain": [
              "array([[1., 0., 0.],\n",
              "       [1., 0., 0.]])"
            ]
          },
          "metadata": {},
          "execution_count": 40
        }
      ]
    },
    {
      "cell_type": "markdown",
      "source": [
        "### np.ones\n",
        " - 배열의 모든 값을 1로 채운다.\n"
      ],
      "metadata": {
        "id": "nz0TCD6cvvzk"
      }
    },
    {
      "cell_type": "code",
      "source": [
        "a = np.ones(3)\n",
        "a"
      ],
      "metadata": {
        "colab": {
          "base_uri": "https://localhost:8080/"
        },
        "id": "mvmia95Nvmtj",
        "outputId": "044aa6ec-2156-4e19-dc39-d42c59a76e7c"
      },
      "execution_count": 41,
      "outputs": [
        {
          "output_type": "execute_result",
          "data": {
            "text/plain": [
              "array([1., 1., 1.])"
            ]
          },
          "metadata": {},
          "execution_count": 41
        }
      ]
    },
    {
      "cell_type": "code",
      "source": [
        "a = np.ones((2,3))\n",
        "a\n"
      ],
      "metadata": {
        "colab": {
          "base_uri": "https://localhost:8080/"
        },
        "id": "yXkx7Tyfv4zK",
        "outputId": "ed2ca5de-1abc-4619-e3e2-ff5593c2c6e1"
      },
      "execution_count": 42,
      "outputs": [
        {
          "output_type": "execute_result",
          "data": {
            "text/plain": [
              "array([[1., 1., 1.],\n",
              "       [1., 1., 1.]])"
            ]
          },
          "metadata": {},
          "execution_count": 42
        }
      ]
    },
    {
      "cell_type": "markdown",
      "source": [
        "### _like\n",
        "- _like가 붙으면 shape가 같게 만들어 진다.\n",
        "- 연산하기 위해서 shape를 맞춰야 하는 경우가 있다.\n"
      ],
      "metadata": {
        "id": "GW1rS4gWwNMZ"
      }
    },
    {
      "cell_type": "code",
      "source": [
        "# 2행 3열의 배열 생성\n",
        "\n",
        "a = np.array([[1,2,3],[4,5,6]])\n",
        "a"
      ],
      "metadata": {
        "colab": {
          "base_uri": "https://localhost:8080/"
        },
        "id": "OLbyipNOwYVD",
        "outputId": "33b6a2ba-39da-45d5-e4ae-f67d861dc625"
      },
      "execution_count": 43,
      "outputs": [
        {
          "output_type": "execute_result",
          "data": {
            "text/plain": [
              "array([[1, 2, 3],\n",
              "       [4, 5, 6]])"
            ]
          },
          "metadata": {},
          "execution_count": 43
        }
      ]
    },
    {
      "cell_type": "code",
      "source": [
        "b = np.ones_like(a) # a배열의 shape를 복사한다.\n",
        "b"
      ],
      "metadata": {
        "colab": {
          "base_uri": "https://localhost:8080/"
        },
        "id": "vJ4t0frgwofS",
        "outputId": "8ac7a8b0-962d-45fb-e0cc-f16ca3abf56e"
      },
      "execution_count": 44,
      "outputs": [
        {
          "output_type": "execute_result",
          "data": {
            "text/plain": [
              "array([[1, 1, 1],\n",
              "       [1, 1, 1]])"
            ]
          },
          "metadata": {},
          "execution_count": 44
        }
      ]
    },
    {
      "cell_type": "code",
      "source": [
        "c = a+b\n",
        "c"
      ],
      "metadata": {
        "colab": {
          "base_uri": "https://localhost:8080/"
        },
        "id": "ANFCVJihxXnK",
        "outputId": "3d761cf4-63bb-4868-9141-a3d72a00df1b"
      },
      "execution_count": 45,
      "outputs": [
        {
          "output_type": "execute_result",
          "data": {
            "text/plain": [
              "array([[2, 3, 4],\n",
              "       [5, 6, 7]])"
            ]
          },
          "metadata": {},
          "execution_count": 45
        }
      ]
    },
    {
      "cell_type": "markdown",
      "source": [
        "### linespace\n",
        "- 동등한 간격으로 값을 생성한다.\n",
        "- 0부터 49까지 50개가 생성된다면 세번째 num 인자 값이 생략되어 있으므로 start와\n",
        "  end 계산해서 default 50이 생성된다.\n",
        "- linspace(start, end, num)\n",
        "- linspace (0,49) # 50 #num의 default value 50\n",
        "\n"
      ],
      "metadata": {
        "id": "qTitoppGwNK8"
      }
    },
    {
      "cell_type": "code",
      "source": [
        "a = np.linspace(0,49)\n",
        "a"
      ],
      "metadata": {
        "colab": {
          "base_uri": "https://localhost:8080/"
        },
        "id": "jQXVhp0ZwJqq",
        "outputId": "3beca5d2-763d-408d-b5ea-a264183752ea"
      },
      "execution_count": 46,
      "outputs": [
        {
          "output_type": "execute_result",
          "data": {
            "text/plain": [
              "array([ 0.,  1.,  2.,  3.,  4.,  5.,  6.,  7.,  8.,  9., 10., 11., 12.,\n",
              "       13., 14., 15., 16., 17., 18., 19., 20., 21., 22., 23., 24., 25.,\n",
              "       26., 27., 28., 29., 30., 31., 32., 33., 34., 35., 36., 37., 38.,\n",
              "       39., 40., 41., 42., 43., 44., 45., 46., 47., 48., 49.])"
            ]
          },
          "metadata": {},
          "execution_count": 46
        }
      ]
    },
    {
      "cell_type": "code",
      "source": [
        "#endpoint를 False로 설정을 하면 5가 포함이 안된다.\n",
        "a = np.linspace(0, 5, endpoint=False)\n",
        "a"
      ],
      "metadata": {
        "colab": {
          "base_uri": "https://localhost:8080/"
        },
        "id": "gdNec64uy4Dr",
        "outputId": "7fcddd90-7210-4a7e-eaed-fe737fbc1acb"
      },
      "execution_count": 47,
      "outputs": [
        {
          "output_type": "execute_result",
          "data": {
            "text/plain": [
              "array([0. , 0.1, 0.2, 0.3, 0.4, 0.5, 0.6, 0.7, 0.8, 0.9, 1. , 1.1, 1.2,\n",
              "       1.3, 1.4, 1.5, 1.6, 1.7, 1.8, 1.9, 2. , 2.1, 2.2, 2.3, 2.4, 2.5,\n",
              "       2.6, 2.7, 2.8, 2.9, 3. , 3.1, 3.2, 3.3, 3.4, 3.5, 3.6, 3.7, 3.8,\n",
              "       3.9, 4. , 4.1, 4.2, 4.3, 4.4, 4.5, 4.6, 4.7, 4.8, 4.9])"
            ]
          },
          "metadata": {},
          "execution_count": 47
        }
      ]
    },
    {
      "cell_type": "markdown",
      "source": [
        "## logspace\n",
        "-linspace와 비슷하다.   \n",
        "-log scale을 사용하는 차이가 있다.   "
      ],
      "metadata": {
        "id": "oowKMrd4u9nl"
      }
    },
    {
      "cell_type": "code",
      "source": [
        "np.logspace(1,50,30) #1부터 50까지 사이의 30개의 요소를 생성한다."
      ],
      "metadata": {
        "colab": {
          "base_uri": "https://localhost:8080/"
        },
        "id": "T7vLm5sc0LSO",
        "outputId": "f388e568-2552-4b0f-f019-6256f03a8d08"
      },
      "execution_count": 48,
      "outputs": [
        {
          "output_type": "execute_result",
          "data": {
            "text/plain": [
              "array([1.00000000e+01, 4.89390092e+02, 2.39502662e+04, 1.17210230e+06,\n",
              "       5.73615251e+07, 2.80721620e+09, 1.37382380e+11, 6.72335754e+12,\n",
              "       3.29034456e+14, 1.61026203e+16, 7.88046282e+17, 3.85662042e+19,\n",
              "       1.88739182e+21, 9.23670857e+22, 4.52035366e+24, 2.21221629e+26,\n",
              "       1.08263673e+28, 5.29831691e+29, 2.59294380e+31, 1.26896100e+33,\n",
              "       6.21016942e+34, 3.03919538e+36, 1.48735211e+38, 7.27895384e+39,\n",
              "       3.56224789e+41, 1.74332882e+43, 8.53167852e+44, 4.17531894e+46,\n",
              "       2.04335972e+48, 1.00000000e+50])"
            ]
          },
          "metadata": {},
          "execution_count": 48
        }
      ]
    },
    {
      "cell_type": "markdown",
      "source": [
        "##데이터타입"
      ],
      "metadata": {
        "id": "pE85mh3h4xJv"
      }
    },
    {
      "cell_type": "code",
      "source": [
        "a = np.array([1,2,3])\n",
        "a"
      ],
      "metadata": {
        "colab": {
          "base_uri": "https://localhost:8080/"
        },
        "id": "nzuhk-pP41bv",
        "outputId": "506edb5e-9323-4879-8152-5aaaee7ff5a2"
      },
      "execution_count": 49,
      "outputs": [
        {
          "output_type": "execute_result",
          "data": {
            "text/plain": [
              "array([1, 2, 3])"
            ]
          },
          "metadata": {},
          "execution_count": 49
        }
      ]
    },
    {
      "cell_type": "code",
      "source": [
        "print(type(a))\n",
        "print(a.dtype)"
      ],
      "metadata": {
        "colab": {
          "base_uri": "https://localhost:8080/"
        },
        "id": "QMxr_x-_40H4",
        "outputId": "9ac6d9d1-c21a-459e-91be-8ddcbd27cb9a"
      },
      "execution_count": 50,
      "outputs": [
        {
          "output_type": "stream",
          "name": "stdout",
          "text": [
            "<class 'numpy.ndarray'>\n",
            "int64\n"
          ]
        }
      ]
    },
    {
      "cell_type": "code",
      "source": [
        "b = np.array([1,2,3], dtype=np.int8) # -128~ +127까지만 허용이 된다.\n",
        "b"
      ],
      "metadata": {
        "colab": {
          "base_uri": "https://localhost:8080/"
        },
        "id": "x7J35M8CrHqV",
        "outputId": "a6818eba-0635-4707-dd69-9ea0905e78e5"
      },
      "execution_count": 51,
      "outputs": [
        {
          "output_type": "execute_result",
          "data": {
            "text/plain": [
              "array([1, 2, 3], dtype=int8)"
            ]
          },
          "metadata": {},
          "execution_count": 51
        }
      ]
    },
    {
      "cell_type": "code",
      "source": [
        "b = np.array([-128,-127,5,100,127], dtype=np.int8)\n",
        "b"
      ],
      "metadata": {
        "colab": {
          "base_uri": "https://localhost:8080/"
        },
        "id": "jViJcGJn8O1Q",
        "outputId": "49c80172-8d25-4254-9d14-a11a1c7be44d"
      },
      "execution_count": 52,
      "outputs": [
        {
          "output_type": "execute_result",
          "data": {
            "text/plain": [
              "array([-128, -127,    5,  100,  127], dtype=int8)"
            ]
          },
          "metadata": {},
          "execution_count": 52
        }
      ]
    },
    {
      "cell_type": "code",
      "source": [
        "#np.int8은 -128~127 사이의 값을 저장할 수 있다.\n",
        "b = np.array([-128,-127,5,100,128], dtype=np.int8)\n",
        "b"
      ],
      "metadata": {
        "colab": {
          "base_uri": "https://localhost:8080/"
        },
        "id": "4I72O4Ag8cRl",
        "outputId": "39314cbe-e962-4215-de4b-299f50a6557c"
      },
      "execution_count": 53,
      "outputs": [
        {
          "output_type": "execute_result",
          "data": {
            "text/plain": [
              "array([-128, -127,    5,  100, -128], dtype=int8)"
            ]
          },
          "metadata": {},
          "execution_count": 53
        }
      ]
    },
    {
      "cell_type": "code",
      "source": [
        "#np.int8은 -128~127 사이의 값을 저장할 수 있다.\n",
        "#128이 -128로 저장된다. (쓰레기 값)\n",
        "b = np.array([-128,-127,5,100,128], dtype=np.int8)\n",
        "b"
      ],
      "metadata": {
        "colab": {
          "base_uri": "https://localhost:8080/"
        },
        "id": "2lJFj1_r8cQZ",
        "outputId": "cdb5a295-bad1-4f75-841b-90c3466c4013"
      },
      "execution_count": 54,
      "outputs": [
        {
          "output_type": "execute_result",
          "data": {
            "text/plain": [
              "array([-128, -127,    5,  100, -128], dtype=int8)"
            ]
          },
          "metadata": {},
          "execution_count": 54
        }
      ]
    },
    {
      "cell_type": "code",
      "source": [
        "#python의int를 지정한다.\n",
        "c= np.array([127,2,3,-128],dtype=int)  #int는 python의 데이터타입이다.\n",
        "c"
      ],
      "metadata": {
        "colab": {
          "base_uri": "https://localhost:8080/"
        },
        "id": "XhYsHTas9Lc-",
        "outputId": "4ac27628-1a8d-414a-e503-46eade5bc935"
      },
      "execution_count": 55,
      "outputs": [
        {
          "output_type": "execute_result",
          "data": {
            "text/plain": [
              "array([ 127,    2,    3, -128])"
            ]
          },
          "metadata": {},
          "execution_count": 55
        }
      ]
    },
    {
      "cell_type": "code",
      "source": [
        "print(c.dtype)            #python의 int == numpy의 64\n",
        "print(type(c))"
      ],
      "metadata": {
        "colab": {
          "base_uri": "https://localhost:8080/"
        },
        "id": "i2DnC1Q49am3",
        "outputId": "ddb67403-edf4-4a86-a903-381a0f235758"
      },
      "execution_count": 56,
      "outputs": [
        {
          "output_type": "stream",
          "name": "stdout",
          "text": [
            "int64\n",
            "<class 'numpy.ndarray'>\n"
          ]
        }
      ]
    },
    {
      "cell_type": "markdown",
      "source": [
        "# python의 도움말"
      ],
      "metadata": {
        "id": "xR-cLoVg-T7y"
      }
    },
    {
      "cell_type": "code",
      "source": [
        "sum?"
      ],
      "metadata": {
        "id": "FS-Px5xQ-J3H"
      },
      "execution_count": 57,
      "outputs": []
    },
    {
      "cell_type": "code",
      "source": [
        "help(sum)"
      ],
      "metadata": {
        "id": "yumO30vh-aOw",
        "colab": {
          "base_uri": "https://localhost:8080/"
        },
        "outputId": "5da04fa9-319c-403b-884a-73a0bfdff1ae"
      },
      "execution_count": 58,
      "outputs": [
        {
          "output_type": "stream",
          "name": "stdout",
          "text": [
            "Help on built-in function sum in module builtins:\n",
            "\n",
            "sum(iterable, /, start=0)\n",
            "    Return the sum of a 'start' value (default: 0) plus an iterable of numbers\n",
            "    \n",
            "    When the iterable is empty, return the start value.\n",
            "    This function is intended specifically for use with numeric values and may\n",
            "    reject non-numeric types.\n",
            "\n"
          ]
        }
      ]
    },
    {
      "cell_type": "markdown",
      "source": [
        "#numpy 도움말"
      ],
      "metadata": {
        "id": "TSGc7csm-OTS"
      }
    },
    {
      "cell_type": "code",
      "source": [
        "# np.lookfor('sum')"
      ],
      "metadata": {
        "id": "4cPgniAo-fAV"
      },
      "execution_count": 59,
      "outputs": []
    },
    {
      "cell_type": "markdown",
      "source": [],
      "metadata": {
        "id": "ztpMNmB5-zAv"
      }
    },
    {
      "cell_type": "code",
      "source": [
        "a = np.array([[1,2,3],[4,5,6]])\n",
        "# array의 shape를 알려준다.\n",
        "a.shape    #(2,3)은 2행 3열이라는 뜻"
      ],
      "metadata": {
        "colab": {
          "base_uri": "https://localhost:8080/"
        },
        "id": "st1aa5Pc-q5e",
        "outputId": "529e9295-10c0-4753-bc6b-82213cefd2fc"
      },
      "execution_count": 60,
      "outputs": [
        {
          "output_type": "execute_result",
          "data": {
            "text/plain": [
              "(2, 3)"
            ]
          },
          "metadata": {},
          "execution_count": 60
        }
      ]
    },
    {
      "cell_type": "code",
      "source": [
        "# array이 몇차원인지 알려준다.\n",
        "a.ndim # ndim 은 몇차원인지를 알려줌"
      ],
      "metadata": {
        "colab": {
          "base_uri": "https://localhost:8080/"
        },
        "id": "i-ppNU8z_J0U",
        "outputId": "c48b73d4-cc74-4ead-c90a-7149045fa61d"
      },
      "execution_count": 61,
      "outputs": [
        {
          "output_type": "execute_result",
          "data": {
            "text/plain": [
              "2"
            ]
          },
          "metadata": {},
          "execution_count": 61
        }
      ]
    },
    {
      "cell_type": "code",
      "source": [
        "a.dtype  # array배열의 타입을 알수있다."
      ],
      "metadata": {
        "colab": {
          "base_uri": "https://localhost:8080/"
        },
        "id": "UbB7yCFG_ZYV",
        "outputId": "4ec79fca-5580-42b7-cc0b-f95769dba0a3"
      },
      "execution_count": 62,
      "outputs": [
        {
          "output_type": "execute_result",
          "data": {
            "text/plain": [
              "dtype('int64')"
            ]
          },
          "metadata": {},
          "execution_count": 62
        }
      ]
    },
    {
      "cell_type": "code",
      "source": [
        "a.size   #요소개수를 알려준다.\n",
        "        #shape로도 알수있다."
      ],
      "metadata": {
        "colab": {
          "base_uri": "https://localhost:8080/"
        },
        "id": "dNBbBLwm_hq1",
        "outputId": "e15930c1-61d6-4369-cc64-793bbc634c13"
      },
      "execution_count": 63,
      "outputs": [
        {
          "output_type": "execute_result",
          "data": {
            "text/plain": [
              "6"
            ]
          },
          "metadata": {},
          "execution_count": 63
        }
      ]
    },
    {
      "cell_type": "code",
      "source": [
        "# 요소당 byte수를 알려준다.\n",
        "a.itemsize   #8bit = 1byte   / 64bit = 8 byte"
      ],
      "metadata": {
        "colab": {
          "base_uri": "https://localhost:8080/"
        },
        "id": "1xXCQDgj_kLt",
        "outputId": "9356a909-89af-4add-a460-f4a6537d6e98"
      },
      "execution_count": 64,
      "outputs": [
        {
          "output_type": "execute_result",
          "data": {
            "text/plain": [
              "8"
            ]
          },
          "metadata": {},
          "execution_count": 64
        }
      ]
    },
    {
      "cell_type": "markdown",
      "source": [
        "## numpy 와 python의 속도차이"
      ],
      "metadata": {
        "id": "y-SexatxBV9g"
      }
    },
    {
      "cell_type": "code",
      "source": [
        "np.arange(10)  # ([start,] end, [step]) 1,3은 생략가능 range랑 동일"
      ],
      "metadata": {
        "colab": {
          "base_uri": "https://localhost:8080/"
        },
        "id": "QCdRtbqpBZS9",
        "outputId": "df6f4803-2817-4374-b870-1360073fdf57"
      },
      "execution_count": 65,
      "outputs": [
        {
          "output_type": "execute_result",
          "data": {
            "text/plain": [
              "array([0, 1, 2, 3, 4, 5, 6, 7, 8, 9])"
            ]
          },
          "metadata": {},
          "execution_count": 65
        }
      ]
    },
    {
      "cell_type": "code",
      "source": [
        "#num을 이용한 계산\n",
        "%time np.sum(np.arange(1000000000))"
      ],
      "metadata": {
        "colab": {
          "base_uri": "https://localhost:8080/"
        },
        "id": "Z1yZLGH-BsAd",
        "outputId": "fe289645-6ae6-4445-dd65-c0174f675aca"
      },
      "execution_count": 66,
      "outputs": [
        {
          "output_type": "stream",
          "name": "stdout",
          "text": [
            "CPU times: user 1.34 s, sys: 2.33 s, total: 3.67 s\n",
            "Wall time: 3.69 s\n"
          ]
        },
        {
          "output_type": "execute_result",
          "data": {
            "text/plain": [
              "499999999500000000"
            ]
          },
          "metadata": {},
          "execution_count": 66
        }
      ]
    },
    {
      "cell_type": "markdown",
      "source": [],
      "metadata": {
        "id": "dT260KIQBV7w"
      }
    },
    {
      "cell_type": "code",
      "source": [
        "#python을 이용한 계산\n",
        "%time sum(range(1000000000))"
      ],
      "metadata": {
        "colab": {
          "base_uri": "https://localhost:8080/"
        },
        "id": "s_AET0Vf_2h9",
        "outputId": "01a2e6bc-2836-4033-906d-e4b83b4cc414"
      },
      "execution_count": 67,
      "outputs": [
        {
          "output_type": "stream",
          "name": "stdout",
          "text": [
            "CPU times: user 27.3 s, sys: 151 ms, total: 27.5 s\n",
            "Wall time: 32.8 s\n"
          ]
        },
        {
          "output_type": "execute_result",
          "data": {
            "text/plain": [
              "499999999500000000"
            ]
          },
          "metadata": {},
          "execution_count": 67
        }
      ]
    },
    {
      "cell_type": "markdown",
      "source": [
        "같은 np.sum()을 사용하더라도 값을 생성하는 방법에 따라 속도가 달라진다.\n"
      ],
      "metadata": {
        "id": "QROnm3shCt7g"
      }
    },
    {
      "cell_type": "code",
      "source": [
        "%time np.sum(np.arange(1000000000))"
      ],
      "metadata": {
        "colab": {
          "base_uri": "https://localhost:8080/"
        },
        "id": "QoKWZ9lmCaS7",
        "outputId": "afaecdaa-a28d-4990-d20d-d5ae1b9fd795"
      },
      "execution_count": 68,
      "outputs": [
        {
          "output_type": "stream",
          "name": "stdout",
          "text": [
            "CPU times: user 1.72 s, sys: 1.68 s, total: 3.39 s\n",
            "Wall time: 4.6 s\n"
          ]
        },
        {
          "output_type": "execute_result",
          "data": {
            "text/plain": [
              "499999999500000000"
            ]
          },
          "metadata": {},
          "execution_count": 68
        }
      ]
    },
    {
      "cell_type": "code",
      "source": [
        "%time np.sum(range(100000000))"
      ],
      "metadata": {
        "colab": {
          "base_uri": "https://localhost:8080/"
        },
        "id": "a7K9lkUlCgRo",
        "outputId": "6babb6bc-3042-4995-b22a-51ff2cccf1f3"
      },
      "execution_count": 69,
      "outputs": [
        {
          "output_type": "stream",
          "name": "stdout",
          "text": [
            "CPU times: user 14.1 s, sys: 2.64 s, total: 16.7 s\n",
            "Wall time: 21.9 s\n"
          ]
        },
        {
          "output_type": "execute_result",
          "data": {
            "text/plain": [
              "4999999950000000"
            ]
          },
          "metadata": {},
          "execution_count": 69
        }
      ]
    },
    {
      "cell_type": "markdown",
      "source": [
        "## copy\n",
        "\n",
        " ※ 대입문 6가지\n",
        " a = 1\n",
        " a = b = 1\n",
        " a,*b = 1,2,3 #튜플 할당\n",
        " a += 1\n",
        " global , nolocal"
      ],
      "metadata": {
        "id": "UX6er-J6-FEp"
      }
    },
    {
      "cell_type": "markdown",
      "source": [
        "#python 에서 copy"
      ],
      "metadata": {
        "id": "WeTE6KkQGkuV"
      }
    },
    {
      "cell_type": "code",
      "source": [
        "a= [1,2,3] #list"
      ],
      "metadata": {
        "id": "utGVLRbQGnEH"
      },
      "execution_count": 70,
      "outputs": []
    },
    {
      "cell_type": "code",
      "source": [
        "b =a"
      ],
      "metadata": {
        "id": "u3RURnWXGpMz"
      },
      "execution_count": 71,
      "outputs": []
    },
    {
      "cell_type": "code",
      "source": [
        "b"
      ],
      "metadata": {
        "colab": {
          "base_uri": "https://localhost:8080/"
        },
        "id": "Lx5n5iiYGqKr",
        "outputId": "a459c96d-e38e-4d07-eaac-fb6c39d60461"
      },
      "execution_count": 72,
      "outputs": [
        {
          "output_type": "execute_result",
          "data": {
            "text/plain": [
              "[1, 2, 3]"
            ]
          },
          "metadata": {},
          "execution_count": 72
        }
      ]
    },
    {
      "cell_type": "code",
      "source": [
        "a is b"
      ],
      "metadata": {
        "colab": {
          "base_uri": "https://localhost:8080/"
        },
        "id": "qok_Ka-oGquD",
        "outputId": "469189d3-57c7-40be-d283-6f9a98a77887"
      },
      "execution_count": 73,
      "outputs": [
        {
          "output_type": "execute_result",
          "data": {
            "text/plain": [
              "True"
            ]
          },
          "metadata": {},
          "execution_count": 73
        }
      ]
    },
    {
      "cell_type": "code",
      "source": [
        "# a와 b가 메모리 공유\n",
        "# b값을 변경하면 a도 같이 변경된다\n",
        "b[0] = 7"
      ],
      "metadata": {
        "id": "3rl8efCYG-8D"
      },
      "execution_count": 74,
      "outputs": []
    },
    {
      "cell_type": "code",
      "source": [
        "print(b)\n",
        "print(a)"
      ],
      "metadata": {
        "colab": {
          "base_uri": "https://localhost:8080/"
        },
        "id": "_K37jUdCGrvc",
        "outputId": "1e85690c-46b4-4cd2-ad17-ef1f6b5ac595"
      },
      "execution_count": 75,
      "outputs": [
        {
          "output_type": "stream",
          "name": "stdout",
          "text": [
            "[7, 2, 3]\n",
            "[7, 2, 3]\n"
          ]
        }
      ]
    },
    {
      "cell_type": "markdown",
      "source": [
        "1차원일때 copy"
      ],
      "metadata": {
        "id": "Q6MaybnBII60"
      }
    },
    {
      "cell_type": "code",
      "source": [
        " a = [1,2,3]\n"
      ],
      "metadata": {
        "id": "U61bzyQYGgcN"
      },
      "execution_count": 76,
      "outputs": []
    },
    {
      "cell_type": "code",
      "source": [
        "# copy()는 똑같은 값만 가지고 메모리는 공유하지 않는다. 즉 deep copy가 된다.\n",
        "b = a.copy()"
      ],
      "metadata": {
        "id": "T6T2en55HLTm"
      },
      "execution_count": 77,
      "outputs": []
    },
    {
      "cell_type": "code",
      "source": [],
      "metadata": {
        "id": "f8vF3MkvHlfq"
      },
      "execution_count": 77,
      "outputs": []
    },
    {
      "cell_type": "code",
      "source": [
        "a is b"
      ],
      "metadata": {
        "colab": {
          "base_uri": "https://localhost:8080/"
        },
        "id": "gzPG2dbKHOAr",
        "outputId": "04cda7b7-ea80-4d30-f915-caa55bac1ba1"
      },
      "execution_count": 78,
      "outputs": [
        {
          "output_type": "execute_result",
          "data": {
            "text/plain": [
              "False"
            ]
          },
          "metadata": {},
          "execution_count": 78
        }
      ]
    },
    {
      "cell_type": "code",
      "source": [
        "id(a)"
      ],
      "metadata": {
        "colab": {
          "base_uri": "https://localhost:8080/"
        },
        "id": "nbvkjK4mHmUj",
        "outputId": "1b3a9368-d6e3-4d1c-aefe-f298f24f7cd7"
      },
      "execution_count": 79,
      "outputs": [
        {
          "output_type": "execute_result",
          "data": {
            "text/plain": [
              "133714056675904"
            ]
          },
          "metadata": {},
          "execution_count": 79
        }
      ]
    },
    {
      "cell_type": "code",
      "source": [
        "id(b)"
      ],
      "metadata": {
        "colab": {
          "base_uri": "https://localhost:8080/"
        },
        "id": "YUjvbheUHnej",
        "outputId": "2bf3eace-cac3-4d24-9c8c-eb93596ab6c7"
      },
      "execution_count": 80,
      "outputs": [
        {
          "output_type": "execute_result",
          "data": {
            "text/plain": [
              "133713210454016"
            ]
          },
          "metadata": {},
          "execution_count": 80
        }
      ]
    },
    {
      "cell_type": "code",
      "source": [
        "a == b  #값 비교\n"
      ],
      "metadata": {
        "colab": {
          "base_uri": "https://localhost:8080/"
        },
        "id": "-djWo9ugHooz",
        "outputId": "727a2a55-35ff-4f63-b281-58a238bafdd6"
      },
      "execution_count": 81,
      "outputs": [
        {
          "output_type": "execute_result",
          "data": {
            "text/plain": [
              "True"
            ]
          },
          "metadata": {},
          "execution_count": 81
        }
      ]
    },
    {
      "cell_type": "code",
      "source": [
        "b[0]= 8\n",
        "\n",
        "print(a)\n",
        "print(b)"
      ],
      "metadata": {
        "colab": {
          "base_uri": "https://localhost:8080/"
        },
        "id": "rfgOxcD3HwOj",
        "outputId": "634960ba-9d55-4bd7-bba7-1aaf1d620b07"
      },
      "execution_count": 82,
      "outputs": [
        {
          "output_type": "stream",
          "name": "stdout",
          "text": [
            "[1, 2, 3]\n",
            "[8, 2, 3]\n"
          ]
        }
      ]
    },
    {
      "cell_type": "code",
      "source": [
        "print(a is b)\n",
        "print (a == b)"
      ],
      "metadata": {
        "colab": {
          "base_uri": "https://localhost:8080/"
        },
        "id": "UOFigSnrH24U",
        "outputId": "0d311719-86e6-4894-9747-350cf652109b"
      },
      "execution_count": 83,
      "outputs": [
        {
          "output_type": "stream",
          "name": "stdout",
          "text": [
            "False\n",
            "False\n"
          ]
        }
      ]
    },
    {
      "cell_type": "markdown",
      "source": [
        "list가 2차원 일때 copy"
      ],
      "metadata": {
        "id": "MqL8JZq_ILb8"
      }
    },
    {
      "cell_type": "code",
      "source": [
        "a = [[1,2,3]]"
      ],
      "metadata": {
        "id": "YXz0Ekp6INdL"
      },
      "execution_count": 84,
      "outputs": []
    },
    {
      "cell_type": "code",
      "source": [
        "type(a)"
      ],
      "metadata": {
        "colab": {
          "base_uri": "https://localhost:8080/"
        },
        "id": "Li-w4SZMIXLq",
        "outputId": "004522bd-a741-4ebd-ccb7-41414575eab9"
      },
      "execution_count": 85,
      "outputs": [
        {
          "output_type": "execute_result",
          "data": {
            "text/plain": [
              "list"
            ]
          },
          "metadata": {},
          "execution_count": 85
        }
      ]
    },
    {
      "cell_type": "code",
      "source": [
        "# shallow copy (얕은 카피 )\n",
        "b=a.copy()"
      ],
      "metadata": {
        "id": "-1k83QlVIYpr"
      },
      "execution_count": 86,
      "outputs": []
    },
    {
      "cell_type": "code",
      "source": [
        "print (a is b)\n",
        "print (a == b)"
      ],
      "metadata": {
        "colab": {
          "base_uri": "https://localhost:8080/"
        },
        "id": "Xbt95uEjIapk",
        "outputId": "0ab25e4b-1697-49f2-f4d6-95884189753a"
      },
      "execution_count": 87,
      "outputs": [
        {
          "output_type": "stream",
          "name": "stdout",
          "text": [
            "False\n",
            "True\n"
          ]
        }
      ]
    },
    {
      "cell_type": "code",
      "source": [
        "print(a[0])\n",
        "print(b[0])"
      ],
      "metadata": {
        "colab": {
          "base_uri": "https://localhost:8080/"
        },
        "id": "FTlnUJ3vJyAM",
        "outputId": "eb407633-ffc1-40f6-fec2-e728554bf677"
      },
      "execution_count": 88,
      "outputs": [
        {
          "output_type": "stream",
          "name": "stdout",
          "text": [
            "[1, 2, 3]\n",
            "[1, 2, 3]\n"
          ]
        }
      ]
    },
    {
      "cell_type": "code",
      "source": [
        "b[0][0] = 10"
      ],
      "metadata": {
        "id": "5suvoGUIJ9Xi"
      },
      "execution_count": 89,
      "outputs": []
    },
    {
      "cell_type": "code",
      "source": [
        "print(a[0])\n",
        "print(b[0])"
      ],
      "metadata": {
        "colab": {
          "base_uri": "https://localhost:8080/"
        },
        "id": "TTD0DlLKKAwr",
        "outputId": "3d9a5789-b7f3-4ac6-9b16-c038b4394a35"
      },
      "execution_count": 90,
      "outputs": [
        {
          "output_type": "stream",
          "name": "stdout",
          "text": [
            "[10, 2, 3]\n",
            "[10, 2, 3]\n"
          ]
        }
      ]
    },
    {
      "cell_type": "code",
      "source": [
        "print(a[0] == b[0])\n",
        "print(a[0] is b[0])"
      ],
      "metadata": {
        "colab": {
          "base_uri": "https://localhost:8080/"
        },
        "id": "0vS0swidKFKp",
        "outputId": "03d56c12-a145-40b6-a5f8-a95fa727d2f5"
      },
      "execution_count": 91,
      "outputs": [
        {
          "output_type": "stream",
          "name": "stdout",
          "text": [
            "True\n",
            "True\n"
          ]
        }
      ]
    },
    {
      "cell_type": "code",
      "source": [
        "import copy"
      ],
      "metadata": {
        "id": "Bcnlv6tjJAKh"
      },
      "execution_count": 92,
      "outputs": []
    },
    {
      "cell_type": "code",
      "source": [
        "a = [[1,2,3]]\n",
        "b = copy.deepcopy(a) # list가 2차원 일 때, deep copy를 하기 위해서 copy 모듈에 있는 deepcopy 메소드를 사용한다."
      ],
      "metadata": {
        "id": "uW-efeVdJD0y"
      },
      "execution_count": 93,
      "outputs": []
    },
    {
      "cell_type": "code",
      "source": [
        "print (a is b)  #메모리 주소\n",
        "print (a == b)  # 값 주소"
      ],
      "metadata": {
        "colab": {
          "base_uri": "https://localhost:8080/"
        },
        "id": "iz3e6A2NJVFz",
        "outputId": "50899bf7-4b8f-475e-e877-dfa5a4eeab22"
      },
      "execution_count": 94,
      "outputs": [
        {
          "output_type": "stream",
          "name": "stdout",
          "text": [
            "False\n",
            "True\n"
          ]
        }
      ]
    },
    {
      "cell_type": "code",
      "source": [
        "b[0][0] = 10"
      ],
      "metadata": {
        "id": "yEpLVTRqMFaK"
      },
      "execution_count": 95,
      "outputs": []
    },
    {
      "cell_type": "code",
      "source": [
        "print(a[0])\n",
        "print(b[0])"
      ],
      "metadata": {
        "colab": {
          "base_uri": "https://localhost:8080/"
        },
        "id": "Ss5BCrsVMB_z",
        "outputId": "e4384044-b658-4b72-fb4d-fe826135110e"
      },
      "execution_count": 96,
      "outputs": [
        {
          "output_type": "stream",
          "name": "stdout",
          "text": [
            "[1, 2, 3]\n",
            "[10, 2, 3]\n"
          ]
        }
      ]
    },
    {
      "cell_type": "code",
      "source": [
        "print(a[0] == b[0])\n",
        "print(a[0] is b[0])"
      ],
      "metadata": {
        "colab": {
          "base_uri": "https://localhost:8080/"
        },
        "id": "ap9OnUYTMHeB",
        "outputId": "3db8600e-4e4a-49fb-dbce-06c346aeeba4"
      },
      "execution_count": 97,
      "outputs": [
        {
          "output_type": "stream",
          "name": "stdout",
          "text": [
            "False\n",
            "False\n"
          ]
        }
      ]
    },
    {
      "cell_type": "markdown",
      "source": [
        "[:] 는 전체라는 뜻이다.   \n",
        "슬라이싱 방식으로 1차 리스트 일때는 재할당 하면 deep copy가 발생된다.   \n",
        "슬라이싱 방식으로 2차 리스트 이상인 경우는 shallow copy가 발생된다.  "
      ],
      "metadata": {
        "id": "shTjqRJsNCg3"
      }
    },
    {
      "cell_type": "code",
      "source": [
        "a = [1,2,3]\n",
        "b= a[:]\n",
        "\n",
        "print (a is b)\n",
        "print (a == b )\n",
        "\n",
        "a = [[1,2,3]]\n",
        "b = a[:]\n",
        "print (a is b)\n",
        "print (a == b)"
      ],
      "metadata": {
        "colab": {
          "base_uri": "https://localhost:8080/"
        },
        "id": "MLtnJWOZMHca",
        "outputId": "82f9202a-c1c2-4c28-d23b-ad1001d5fbda"
      },
      "execution_count": 98,
      "outputs": [
        {
          "output_type": "stream",
          "name": "stdout",
          "text": [
            "False\n",
            "True\n",
            "False\n",
            "True\n"
          ]
        }
      ]
    },
    {
      "cell_type": "code",
      "source": [
        "m= 100\n",
        "n= m\n",
        "print (m is n )\n",
        "print (m == n )"
      ],
      "metadata": {
        "colab": {
          "base_uri": "https://localhost:8080/"
        },
        "id": "fK14EVzmMuZx",
        "outputId": "42d34c00-c59f-40ef-d657-3348644d3434"
      },
      "execution_count": 99,
      "outputs": [
        {
          "output_type": "stream",
          "name": "stdout",
          "text": [
            "True\n",
            "True\n"
          ]
        }
      ]
    },
    {
      "cell_type": "code",
      "source": [
        "a = 256\n",
        "b = 256\n",
        "\n",
        "a is b   # True\n",
        "\n",
        "a = 257\n",
        "b = 257\n",
        "\n",
        "a is b    #False"
      ],
      "metadata": {
        "colab": {
          "base_uri": "https://localhost:8080/"
        },
        "id": "qYsZD9MlMuYD",
        "outputId": "4be218b7-e213-4fce-b924-6f2c61b407a5"
      },
      "execution_count": 100,
      "outputs": [
        {
          "output_type": "execute_result",
          "data": {
            "text/plain": [
              "False"
            ]
          },
          "metadata": {},
          "execution_count": 100
        }
      ]
    },
    {
      "cell_type": "code",
      "source": [
        " a = [257,2,3]\n",
        " b = a[:]    # a[:] = a.copy()와 같다\n",
        "\n",
        " print( a == b )\n",
        " print(a is b )\n",
        "\n",
        "\n",
        "print(id(a))\n",
        "print(id(b))\n",
        "print(a[0] == b[0])\n",
        "print(a[0] is b[0])"
      ],
      "metadata": {
        "colab": {
          "base_uri": "https://localhost:8080/"
        },
        "id": "XoDjMy_uXcEY",
        "outputId": "01009a4c-269a-41b8-da4b-f852dde60edf"
      },
      "execution_count": 101,
      "outputs": [
        {
          "output_type": "stream",
          "name": "stdout",
          "text": [
            "True\n",
            "False\n",
            "133713207663808\n",
            "133714056675904\n",
            "True\n",
            "True\n"
          ]
        }
      ]
    },
    {
      "cell_type": "code",
      "source": [
        "# intering 기법\n",
        "# 파이썬은 느리기 때문에 중간에 cache 저장하는 기법이 있다.\n",
        "# -5에서 256은 파이썬에서 같은 메모리 주소를 사용한다. (interning 기법)\n",
        "# 문자열에서 a-zA-Z0-9는 내부적으로 interning 기법을 사용한다. (한글은 무조건 다른메모리를 사용함.)\n",
        "# is 는 값을 비교\n",
        "\n",
        "m= 256\n",
        "n = 256\n",
        "print (m is n )      ## -5 ~ 256 까지는 같은 메모리를 쓰기때문에 같다\n",
        "\n",
        "m=257\n",
        "n=257\n",
        "print(m is n )       ## 257 이기 때문에 각각 다른 메모리를 써서 False\n",
        "\n",
        "k = 'python3_파이썬'\n",
        "p = 'python3_파이썬'  # 한글은 다른 메모리를 사용함 False 한글빼면 True\n",
        "\n",
        "print(k is p)"
      ],
      "metadata": {
        "colab": {
          "base_uri": "https://localhost:8080/"
        },
        "id": "5ReJceidYJqW",
        "outputId": "80d4953c-11a0-4793-f859-f05f16cb0c17"
      },
      "execution_count": 102,
      "outputs": [
        {
          "output_type": "stream",
          "name": "stdout",
          "text": [
            "True\n",
            "False\n",
            "False\n"
          ]
        }
      ]
    },
    {
      "cell_type": "code",
      "source": [
        "a = [[1,2,3],[4,5,6]]\n",
        "b = a\n",
        "\n",
        "print( a is b)\n",
        "print (a == b)\n"
      ],
      "metadata": {
        "colab": {
          "base_uri": "https://localhost:8080/"
        },
        "id": "jeC4mirOwKCi",
        "outputId": "91beb819-e988-45fc-b102-d9ca2b18fd1a"
      },
      "execution_count": 103,
      "outputs": [
        {
          "output_type": "stream",
          "name": "stdout",
          "text": [
            "True\n",
            "True\n"
          ]
        }
      ]
    },
    {
      "cell_type": "code",
      "source": [
        "c = a.copy()\n",
        "\n",
        "print(a is c)\n",
        "print( a == c)\n",
        "\n",
        "a[0][0] = 20\n",
        "print( a is c)\n",
        "print(a == c)"
      ],
      "metadata": {
        "colab": {
          "base_uri": "https://localhost:8080/"
        },
        "id": "ShKdPX_0w5mC",
        "outputId": "0b8f36ae-dd29-4511-efc6-0367fb432f5e"
      },
      "execution_count": 104,
      "outputs": [
        {
          "output_type": "stream",
          "name": "stdout",
          "text": [
            "False\n",
            "True\n",
            "False\n",
            "True\n"
          ]
        }
      ]
    },
    {
      "cell_type": "markdown",
      "source": [
        "numpy의 copy"
      ],
      "metadata": {
        "id": "nriXvojmAJt1"
      }
    },
    {
      "cell_type": "code",
      "source": [
        "import copy\n",
        "\n",
        "d = copy. deepcopy(a)\n",
        "\n",
        "\n",
        "d[0][0] = 30\n",
        "\n",
        "print(d is a)   ## is는 주소비교\n",
        "print(d == a)   ## ==는 값 비교\n",
        "\n",
        "print(d[0] is a[0])\n",
        "print(d[0] == a[0])\n",
        "\n",
        "print(d[0][0] is a[0][0])\n",
        "print(d[0][0] == a[0][0])\n",
        "\n",
        "print(d[1] is a[1])\n",
        "print(d[1] == a[1])"
      ],
      "metadata": {
        "colab": {
          "base_uri": "https://localhost:8080/"
        },
        "id": "edU3P93r3MY-",
        "outputId": "0062442c-cb1c-4653-fa5e-ad3ab86918d5"
      },
      "execution_count": 105,
      "outputs": [
        {
          "output_type": "stream",
          "name": "stdout",
          "text": [
            "False\n",
            "False\n",
            "False\n",
            "False\n",
            "False\n",
            "False\n",
            "False\n",
            "True\n"
          ]
        }
      ]
    },
    {
      "cell_type": "code",
      "source": [
        "a = b = np.array([1,2,3])\n"
      ],
      "metadata": {
        "id": "bN6djOuQ3MX2"
      },
      "execution_count": 106,
      "outputs": []
    },
    {
      "cell_type": "code",
      "source": [
        "print(a is b)\n",
        "print (a == b)"
      ],
      "metadata": {
        "colab": {
          "base_uri": "https://localhost:8080/"
        },
        "id": "9GSjwj26_NX0",
        "outputId": "080bfafb-c5e6-45f6-994c-a77351fd739f"
      },
      "execution_count": 107,
      "outputs": [
        {
          "output_type": "stream",
          "name": "stdout",
          "text": [
            "True\n",
            "[ True  True  True]\n"
          ]
        }
      ]
    },
    {
      "cell_type": "code",
      "source": [
        "a[0]"
      ],
      "metadata": {
        "colab": {
          "base_uri": "https://localhost:8080/"
        },
        "id": "jgmHAnWF_RRk",
        "outputId": "2bfbaf7e-f72a-4713-c2bf-932e35eb7d99"
      },
      "execution_count": 108,
      "outputs": [
        {
          "output_type": "execute_result",
          "data": {
            "text/plain": [
              "1"
            ]
          },
          "metadata": {},
          "execution_count": 108
        }
      ]
    },
    {
      "cell_type": "code",
      "source": [
        "a[:]"
      ],
      "metadata": {
        "colab": {
          "base_uri": "https://localhost:8080/"
        },
        "id": "H9EfQrxC_T7V",
        "outputId": "1d4bafb2-d34d-439a-f19b-1694a626c2db"
      },
      "execution_count": 109,
      "outputs": [
        {
          "output_type": "execute_result",
          "data": {
            "text/plain": [
              "array([1, 2, 3])"
            ]
          },
          "metadata": {},
          "execution_count": 109
        }
      ]
    },
    {
      "cell_type": "code",
      "source": [
        "a[0] = 100\n",
        "print(a[0])\n",
        "print(b[0])"
      ],
      "metadata": {
        "colab": {
          "base_uri": "https://localhost:8080/"
        },
        "id": "jN-zxCAz_bG7",
        "outputId": "63a47289-feb3-4fec-eb1b-44b2b86d2e89"
      },
      "execution_count": 110,
      "outputs": [
        {
          "output_type": "stream",
          "name": "stdout",
          "text": [
            "100\n",
            "100\n"
          ]
        }
      ]
    },
    {
      "cell_type": "markdown",
      "source": [
        "array는homogeneous, sequence, mutable 이다.  \n",
        "list는 heterogeneous, sequence, mutable 이다.  "
      ],
      "metadata": {
        "id": "z_Vn5YnGBm9-"
      }
    },
    {
      "cell_type": "code",
      "source": [
        "a = np.array([1,2,3])\n",
        "#numpy는 기본적으로 deepcopy가 발생된다.\n",
        "\n",
        "b = a.copy()\n",
        "\n",
        "print(a is b)\n",
        "print(a == b )\n"
      ],
      "metadata": {
        "colab": {
          "base_uri": "https://localhost:8080/"
        },
        "id": "ky2NMO-PAN8c",
        "outputId": "dd907dae-03be-4824-df51-b1fec5d4181b"
      },
      "execution_count": 111,
      "outputs": [
        {
          "output_type": "stream",
          "name": "stdout",
          "text": [
            "False\n",
            "[ True  True  True]\n"
          ]
        }
      ]
    },
    {
      "cell_type": "markdown",
      "source": [
        "### as 계열\n",
        "다른 데이터 타입을 가져와 바꿔서 사용할 때는 as라는 이름이 보통 붙는다.   \n"
      ],
      "metadata": {
        "id": "nAvH_gSSCT4P"
      }
    },
    {
      "cell_type": "code",
      "source": [
        "a = [1.5,2.5,3.5]\n",
        "b = np.array(a)\n",
        "\n",
        "print(type(a))\n",
        "print(type(b))\n",
        "print(type(a[0]))\n",
        "print(type(b[0]))"
      ],
      "metadata": {
        "colab": {
          "base_uri": "https://localhost:8080/"
        },
        "id": "AQurPAwyCQXo",
        "outputId": "df9a2b23-830f-4c50-e17f-902a4e0a2c6a"
      },
      "execution_count": 112,
      "outputs": [
        {
          "output_type": "stream",
          "name": "stdout",
          "text": [
            "<class 'list'>\n",
            "<class 'numpy.ndarray'>\n",
            "<class 'float'>\n",
            "<class 'numpy.float64'>\n"
          ]
        }
      ]
    },
    {
      "cell_type": "code",
      "source": [
        "a = [1.5,2.5,3.5]\n",
        "b = np.asarray(a)\n",
        "\n",
        "print(type(a))\n",
        "print(type(b))\n",
        "print(type(a[0]))\n",
        "print(type(b[0]))"
      ],
      "metadata": {
        "colab": {
          "base_uri": "https://localhost:8080/"
        },
        "id": "4tHA2lTzDJmv",
        "outputId": "f520698e-63bb-4a70-dc60-79fa5081958b"
      },
      "execution_count": 113,
      "outputs": [
        {
          "output_type": "stream",
          "name": "stdout",
          "text": [
            "<class 'list'>\n",
            "<class 'numpy.ndarray'>\n",
            "<class 'float'>\n",
            "<class 'numpy.float64'>\n"
          ]
        }
      ]
    },
    {
      "cell_type": "code",
      "source": [
        "a = [1,2,3]\n",
        "b = np.asfarray(a)\n",
        "\n",
        "print(type(a))\n",
        "print(type(b))\n",
        "print(type(a[0]))\n",
        "print(type(b[0]))\n"
      ],
      "metadata": {
        "colab": {
          "base_uri": "https://localhost:8080/"
        },
        "id": "e-R4MO_FDu--",
        "outputId": "08d8da54-4bd7-44ea-c870-8ab8fdc7effe"
      },
      "execution_count": 114,
      "outputs": [
        {
          "output_type": "stream",
          "name": "stdout",
          "text": [
            "<class 'list'>\n",
            "<class 'numpy.ndarray'>\n",
            "<class 'int'>\n",
            "<class 'numpy.float64'>\n"
          ]
        }
      ]
    },
    {
      "cell_type": "markdown",
      "source": [
        "## 값 가져오기"
      ],
      "metadata": {
        "id": "cxe3CtZhEWEK"
      }
    },
    {
      "cell_type": "markdown",
      "source": [
        "### (1) 인덱싱, 슬라이싱 방법 가능"
      ],
      "metadata": {
        "id": "uHUGtHH9O6lo"
      }
    },
    {
      "cell_type": "code",
      "source": [
        "a = [[1,2,3],[4,5,6]] # 파이썬 리스트\n",
        "b = np.array ([[1,2,3],[4,5,6]]) #넘파이의 array (배열)\n",
        "\n",
        "print(a[0])\n",
        "print(b[0])"
      ],
      "metadata": {
        "colab": {
          "base_uri": "https://localhost:8080/"
        },
        "id": "Zh2ZPNxnEXeh",
        "outputId": "f48b3fcf-a830-4815-aad6-73038a6f7290"
      },
      "execution_count": 115,
      "outputs": [
        {
          "output_type": "stream",
          "name": "stdout",
          "text": [
            "[1, 2, 3]\n",
            "[1 2 3]\n"
          ]
        }
      ]
    },
    {
      "cell_type": "code",
      "source": [
        "print(type(a[0]))   #리스트\n",
        "print(type(b[0]))    # 배열"
      ],
      "metadata": {
        "colab": {
          "base_uri": "https://localhost:8080/"
        },
        "id": "Wswjwq8EEqI0",
        "outputId": "dff5c2c0-154c-4074-a320-8f04c958fcb8"
      },
      "execution_count": 116,
      "outputs": [
        {
          "output_type": "stream",
          "name": "stdout",
          "text": [
            "<class 'list'>\n",
            "<class 'numpy.ndarray'>\n"
          ]
        }
      ]
    },
    {
      "cell_type": "code",
      "source": [
        "#print(a[0,1])\n",
        "print(a[0][1])\n",
        "print(b[0,1]) # array일때 인덱스 이렇게 가능함"
      ],
      "metadata": {
        "colab": {
          "base_uri": "https://localhost:8080/"
        },
        "id": "s8pXX-zQF0UZ",
        "outputId": "6cbf1748-60db-4618-9011-9dae17a097ec"
      },
      "execution_count": 117,
      "outputs": [
        {
          "output_type": "stream",
          "name": "stdout",
          "text": [
            "2\n",
            "2\n"
          ]
        }
      ]
    },
    {
      "cell_type": "code",
      "source": [
        "print(a[slice(0,1)]) # 0행부터 1행 미만의 데이터를 가져온다.\n",
        "print(a[0])\n",
        "\n",
        "print(type(a[slice(0,1)]))\n",
        "print(type(a[0]))"
      ],
      "metadata": {
        "colab": {
          "base_uri": "https://localhost:8080/"
        },
        "id": "5vo50VcJGqmL",
        "outputId": "00c14bf1-80db-4834-bc1f-af6294b95672"
      },
      "execution_count": 118,
      "outputs": [
        {
          "output_type": "stream",
          "name": "stdout",
          "text": [
            "[[1, 2, 3]]\n",
            "[1, 2, 3]\n",
            "<class 'list'>\n",
            "<class 'list'>\n"
          ]
        }
      ]
    },
    {
      "cell_type": "markdown",
      "source": [
        "numpy는 기본적으로 인덱싱/슬라이싱할 때 comma를 사용 할 수 있다.  "
      ],
      "metadata": {
        "id": "ucyu6ft-ICGZ"
      }
    },
    {
      "cell_type": "code",
      "source": [
        "#numpy\n",
        "\n",
        "print(type(b))\n",
        "print(b[0,1])     # b [행,열]   인덱싱\n",
        "print(b[0][1])    # b [행][열]  인덱싱\n",
        "print(b[0,-1])    #             인덱싱\n",
        "print(b[0:1,0:2]) #             슬라이싱 [[1 2]]\n",
        "print(b[0:2,0:2]) #             [[12][45]]\n",
        "\n",
        "\n",
        "\n"
      ],
      "metadata": {
        "colab": {
          "base_uri": "https://localhost:8080/"
        },
        "id": "aFDlqgf3HPog",
        "outputId": "6b89364d-f683-45d0-f0ae-4f1eaf005e85"
      },
      "execution_count": 119,
      "outputs": [
        {
          "output_type": "stream",
          "name": "stdout",
          "text": [
            "<class 'numpy.ndarray'>\n",
            "2\n",
            "2\n",
            "3\n",
            "[[1 2]]\n",
            "[[1 2]\n",
            " [4 5]]\n"
          ]
        }
      ]
    },
    {
      "cell_type": "code",
      "source": [
        "#python\n",
        "print(type(a))\n",
        "print(a[0][1])\n",
        "print(a[0:1])\n",
        "print(a[0:1 ][0:1])"
      ],
      "metadata": {
        "colab": {
          "base_uri": "https://localhost:8080/"
        },
        "id": "UBUj7S0rMXNP",
        "outputId": "e1bed819-46c6-4364-80b2-f976bd728c6f"
      },
      "execution_count": 120,
      "outputs": [
        {
          "output_type": "stream",
          "name": "stdout",
          "text": [
            "<class 'list'>\n",
            "2\n",
            "[[1, 2, 3]]\n",
            "[[1, 2, 3]]\n"
          ]
        }
      ]
    },
    {
      "cell_type": "markdown",
      "source": [
        "(2) boolen indexing\n",
        "\n"
      ],
      "metadata": {
        "id": "hsO4mGJAPKjS"
      }
    },
    {
      "cell_type": "code",
      "source": [
        "a=[[1,2,3],[4,5,6]]"
      ],
      "metadata": {
        "id": "LnbL4iZpPO7Q"
      },
      "execution_count": 121,
      "outputs": []
    },
    {
      "cell_type": "code",
      "source": [
        "print(type(a))\n",
        "print(a*3)\n",
        "#a>3 은안됨"
      ],
      "metadata": {
        "colab": {
          "base_uri": "https://localhost:8080/"
        },
        "id": "c2vCb3unPUe-",
        "outputId": "385d331e-f8cb-4a1d-c3bc-5ff31aab930d"
      },
      "execution_count": 122,
      "outputs": [
        {
          "output_type": "stream",
          "name": "stdout",
          "text": [
            "<class 'list'>\n",
            "[[1, 2, 3], [4, 5, 6], [1, 2, 3], [4, 5, 6], [1, 2, 3], [4, 5, 6]]\n"
          ]
        }
      ]
    },
    {
      "cell_type": "code",
      "source": [
        "b = np. array([[1,2,3,4]])\n",
        "c = np. array([[2,2,2,2]])\n",
        "\n",
        "b>c"
      ],
      "metadata": {
        "colab": {
          "base_uri": "https://localhost:8080/"
        },
        "id": "k9Dh5cpQPx8Y",
        "outputId": "4f4f7faf-3e96-458c-b1dc-1d6233be0bd1"
      },
      "execution_count": 123,
      "outputs": [
        {
          "output_type": "execute_result",
          "data": {
            "text/plain": [
              "array([[False, False,  True,  True]])"
            ]
          },
          "metadata": {},
          "execution_count": 123
        }
      ]
    },
    {
      "cell_type": "markdown",
      "source": [
        "array 는 scalar와 연산하면 elementwise로 계산한다.   \n",
        "(elementswise: 원소별로 각각 계산이 된다.)   "
      ],
      "metadata": {
        "id": "QTCPhtedQaCC"
      }
    },
    {
      "cell_type": "markdown",
      "source": [],
      "metadata": {
        "id": "I5bXgg4LQZ__"
      }
    },
    {
      "cell_type": "code",
      "source": [
        "b>2"
      ],
      "metadata": {
        "colab": {
          "base_uri": "https://localhost:8080/"
        },
        "id": "QTtEVYXuQNuW",
        "outputId": "e3fc76e8-1a60-4bb0-8462-6c7c1f928f11"
      },
      "execution_count": 124,
      "outputs": [
        {
          "output_type": "execute_result",
          "data": {
            "text/plain": [
              "array([[False, False,  True,  True]])"
            ]
          },
          "metadata": {},
          "execution_count": 124
        }
      ]
    },
    {
      "cell_type": "markdown",
      "source": [],
      "metadata": {
        "id": "uTYAdkJGPKhu"
      }
    },
    {
      "cell_type": "code",
      "source": [
        "b[np.array([[False,False,True,True]])]"
      ],
      "metadata": {
        "colab": {
          "base_uri": "https://localhost:8080/"
        },
        "id": "K2QkOfVJPJ9Q",
        "outputId": "fa0d2320-5e3c-4f65-dfa5-a306834842dc"
      },
      "execution_count": 125,
      "outputs": [
        {
          "output_type": "execute_result",
          "data": {
            "text/plain": [
              "array([3, 4])"
            ]
          },
          "metadata": {},
          "execution_count": 125
        }
      ]
    },
    {
      "cell_type": "code",
      "source": [
        "b[b>2]"
      ],
      "metadata": {
        "colab": {
          "base_uri": "https://localhost:8080/"
        },
        "id": "X7Ws8ycSReKY",
        "outputId": "0d7e9afa-0deb-4e3d-8b56-00b0ea91bfc8"
      },
      "execution_count": 126,
      "outputs": [
        {
          "output_type": "execute_result",
          "data": {
            "text/plain": [
              "array([3, 4])"
            ]
          },
          "metadata": {},
          "execution_count": 126
        }
      ]
    },
    {
      "cell_type": "markdown",
      "source": [
        "nu에서 boolean indexing조건\n",
        " - array만 가능하다.\n",
        " -numpy True, False로만 가능하다.\n",
        " -shape이 맞아야 한다. (개수가 맞을때만 사용할수있다.)\n"
      ],
      "metadata": {
        "id": "NMe0-ueMSjIc"
      }
    },
    {
      "cell_type": "markdown",
      "source": [
        "(3) fancy indexing"
      ],
      "metadata": {
        "id": "H8B70kjlSjGq"
      }
    },
    {
      "cell_type": "code",
      "source": [
        "#np.arange([start,]end [step])\n",
        "# reshape(행 갯수, 열갯수) : 배열의 구조변경\n",
        "a= np.arange(100)\n",
        "b= a.reshape(20, 5)\n",
        "print(a.shape)\n",
        "print(b.shape)\n",
        "\n",
        "b=np.arange(100).reshape(20,5)\n",
        "b"
      ],
      "metadata": {
        "colab": {
          "base_uri": "https://localhost:8080/"
        },
        "id": "smqOhNVFTeUs",
        "outputId": "391de771-5e94-4a96-9703-427121cf3fd3"
      },
      "execution_count": 127,
      "outputs": [
        {
          "output_type": "stream",
          "name": "stdout",
          "text": [
            "(100,)\n",
            "(20, 5)\n"
          ]
        },
        {
          "output_type": "execute_result",
          "data": {
            "text/plain": [
              "array([[ 0,  1,  2,  3,  4],\n",
              "       [ 5,  6,  7,  8,  9],\n",
              "       [10, 11, 12, 13, 14],\n",
              "       [15, 16, 17, 18, 19],\n",
              "       [20, 21, 22, 23, 24],\n",
              "       [25, 26, 27, 28, 29],\n",
              "       [30, 31, 32, 33, 34],\n",
              "       [35, 36, 37, 38, 39],\n",
              "       [40, 41, 42, 43, 44],\n",
              "       [45, 46, 47, 48, 49],\n",
              "       [50, 51, 52, 53, 54],\n",
              "       [55, 56, 57, 58, 59],\n",
              "       [60, 61, 62, 63, 64],\n",
              "       [65, 66, 67, 68, 69],\n",
              "       [70, 71, 72, 73, 74],\n",
              "       [75, 76, 77, 78, 79],\n",
              "       [80, 81, 82, 83, 84],\n",
              "       [85, 86, 87, 88, 89],\n",
              "       [90, 91, 92, 93, 94],\n",
              "       [95, 96, 97, 98, 99]])"
            ]
          },
          "metadata": {},
          "execution_count": 127
        }
      ]
    },
    {
      "cell_type": "code",
      "source": [
        "#print(b[:])  전체를 가져온다 b[:,:]와 같다.\n",
        "# print(b[1,3])   #b[행,열]   / 인덱싱으로 가지고오면 1차원\n",
        "# print(b[1:3,2:4]) # 1행부터 3행미만, 2열부터 4열미만의 데이터를 가져온다\n",
        "print(b[[1,3,5],[0,2,4]])  # 1행 0열 . 3행2열 5행 4열의 데이터를 가져온다\n",
        "print(b[[1,3,5],])  # 1행 3행 5행의 데이터를 가져온다\n",
        "\n",
        "\n",
        "print(b[:,[0,2,4]])    #0 열, 2열, 4열의 데이터를 가져온다"
      ],
      "metadata": {
        "colab": {
          "base_uri": "https://localhost:8080/"
        },
        "id": "J58iTpgDUb7M",
        "outputId": "7c0de5ad-2a77-43d5-c7aa-18d064f74754"
      },
      "execution_count": 128,
      "outputs": [
        {
          "output_type": "stream",
          "name": "stdout",
          "text": [
            "[ 5 17 29]\n",
            "[[ 5  6  7  8  9]\n",
            " [15 16 17 18 19]\n",
            " [25 26 27 28 29]]\n",
            "[[ 0  2  4]\n",
            " [ 5  7  9]\n",
            " [10 12 14]\n",
            " [15 17 19]\n",
            " [20 22 24]\n",
            " [25 27 29]\n",
            " [30 32 34]\n",
            " [35 37 39]\n",
            " [40 42 44]\n",
            " [45 47 49]\n",
            " [50 52 54]\n",
            " [55 57 59]\n",
            " [60 62 64]\n",
            " [65 67 69]\n",
            " [70 72 74]\n",
            " [75 77 79]\n",
            " [80 82 84]\n",
            " [85 87 89]\n",
            " [90 92 94]\n",
            " [95 97 99]]\n"
          ]
        }
      ]
    },
    {
      "cell_type": "code",
      "source": [
        "#fancy indexing 주의사항\n",
        "\n",
        "#print( b[[1,3,4],[0,2,]]) #행과 열의개수를 맞춰야함\n",
        "\n",
        "# print(b[[:],[1,2,3]])# fancying indexing에서는 슬라이싱 사용할수없음\n"
      ],
      "metadata": {
        "id": "oJ8l3sS2axJQ"
      },
      "execution_count": 129,
      "outputs": []
    },
    {
      "cell_type": "code",
      "source": [
        "#broadcast로 처리가 되어서 개수가 다르지만 정상적으로 수행한다.\n",
        "print(b[[1,3,4,],[0]]) # 자동으로 [0,0,0]으로 인식함(꼭 한자리만되는건 아님)"
      ],
      "metadata": {
        "colab": {
          "base_uri": "https://localhost:8080/"
        },
        "id": "z4ftlfKpbok-",
        "outputId": "bd03213b-2647-45fa-d155-11469ee577c7"
      },
      "execution_count": 130,
      "outputs": [
        {
          "output_type": "stream",
          "name": "stdout",
          "text": [
            "[ 5 15 20]\n"
          ]
        }
      ]
    },
    {
      "cell_type": "code",
      "source": [
        "#print(b[[0,1,3,4],[0,1]])"
      ],
      "metadata": {
        "id": "FgWSIqZ4b_tF"
      },
      "execution_count": 131,
      "outputs": []
    },
    {
      "cell_type": "code",
      "source": [
        "m = np.arange(1,13).reshape(2,6)\n",
        "#n = np.array([[2,2]])\n",
        "n= np.array([[2,2,2,2,2,2]])\n",
        "\n",
        "print(m)\n",
        "print(m.shape)\n",
        "print(n)\n",
        "print(n.shape)"
      ],
      "metadata": {
        "colab": {
          "base_uri": "https://localhost:8080/"
        },
        "id": "qf1QPM4fdDoB",
        "outputId": "8e6893b5-2a15-435f-8e74-b39af0ae2561"
      },
      "execution_count": 132,
      "outputs": [
        {
          "output_type": "stream",
          "name": "stdout",
          "text": [
            "[[ 1  2  3  4  5  6]\n",
            " [ 7  8  9 10 11 12]]\n",
            "(2, 6)\n",
            "[[2 2 2 2 2 2]]\n",
            "(1, 6)\n"
          ]
        }
      ]
    },
    {
      "cell_type": "code",
      "source": [
        "print(m+n)"
      ],
      "metadata": {
        "colab": {
          "base_uri": "https://localhost:8080/"
        },
        "id": "7mAILgAseSHI",
        "outputId": "77e5b8f7-4f87-4deb-ade0-dc0cba300f3a"
      },
      "execution_count": 133,
      "outputs": [
        {
          "output_type": "stream",
          "name": "stdout",
          "text": [
            "[[ 3  4  5  6  7  8]\n",
            " [ 9 10 11 12 13 14]]\n"
          ]
        }
      ]
    },
    {
      "cell_type": "markdown",
      "source": [
        "## 3차원에서 이상에서 차원구분법"
      ],
      "metadata": {
        "id": "3dU8EP4Ih0kB"
      }
    },
    {
      "cell_type": "code",
      "source": [
        "b= np.arange(24).reshape(2,3,4)  #3차원 (2층(면)), 3행 4열\n",
        "b"
      ],
      "metadata": {
        "colab": {
          "base_uri": "https://localhost:8080/"
        },
        "id": "bvYj2Eugh1Oi",
        "outputId": "596ea3a8-fa2d-4430-b406-321cf07fcdd0"
      },
      "execution_count": 134,
      "outputs": [
        {
          "output_type": "execute_result",
          "data": {
            "text/plain": [
              "array([[[ 0,  1,  2,  3],\n",
              "        [ 4,  5,  6,  7],\n",
              "        [ 8,  9, 10, 11]],\n",
              "\n",
              "       [[12, 13, 14, 15],\n",
              "        [16, 17, 18, 19],\n",
              "        [20, 21, 22, 23]]])"
            ]
          },
          "metadata": {},
          "execution_count": 134
        }
      ]
    },
    {
      "cell_type": "code",
      "source": [
        "b[0] # 2차원으로 반환"
      ],
      "metadata": {
        "colab": {
          "base_uri": "https://localhost:8080/"
        },
        "id": "Znc4XpcOh5eX",
        "outputId": "8f933289-e4b5-4b24-fd81-8a002e180ec5"
      },
      "execution_count": 135,
      "outputs": [
        {
          "output_type": "execute_result",
          "data": {
            "text/plain": [
              "array([[ 0,  1,  2,  3],\n",
              "       [ 4,  5,  6,  7],\n",
              "       [ 8,  9, 10, 11]])"
            ]
          },
          "metadata": {},
          "execution_count": 135
        }
      ]
    },
    {
      "cell_type": "code",
      "source": [
        "b[0][0] # 1차원으로 반환"
      ],
      "metadata": {
        "colab": {
          "base_uri": "https://localhost:8080/"
        },
        "id": "nNzgb2PMh_Tv",
        "outputId": "b15da05b-914a-4a27-b010-15cf7c8b4beb"
      },
      "execution_count": 136,
      "outputs": [
        {
          "output_type": "execute_result",
          "data": {
            "text/plain": [
              "array([0, 1, 2, 3])"
            ]
          },
          "metadata": {},
          "execution_count": 136
        }
      ]
    },
    {
      "cell_type": "code",
      "source": [
        "b[1,1]"
      ],
      "metadata": {
        "colab": {
          "base_uri": "https://localhost:8080/"
        },
        "id": "kNWDdylFiimj",
        "outputId": "211a2c5a-b1be-4bfb-850f-798d464a5404"
      },
      "execution_count": 137,
      "outputs": [
        {
          "output_type": "execute_result",
          "data": {
            "text/plain": [
              "array([16, 17, 18, 19])"
            ]
          },
          "metadata": {},
          "execution_count": 137
        }
      ]
    },
    {
      "cell_type": "code",
      "source": [
        "b[0,1,3] # 0공간 1행 3열"
      ],
      "metadata": {
        "colab": {
          "base_uri": "https://localhost:8080/"
        },
        "id": "2gN3fFJfipFK",
        "outputId": "215c573e-0b28-4081-d794-c20d58e9776b"
      },
      "execution_count": 138,
      "outputs": [
        {
          "output_type": "execute_result",
          "data": {
            "text/plain": [
              "7"
            ]
          },
          "metadata": {},
          "execution_count": 138
        }
      ]
    },
    {
      "cell_type": "code",
      "source": [
        "b[:,1,3] # 모든 공간 1행 3열"
      ],
      "metadata": {
        "colab": {
          "base_uri": "https://localhost:8080/"
        },
        "id": "G7VLco_GjeR7",
        "outputId": "84db9c1f-ab09-4bd9-af93-e75d75eff7a0"
      },
      "execution_count": 139,
      "outputs": [
        {
          "output_type": "execute_result",
          "data": {
            "text/plain": [
              "array([ 7, 19])"
            ]
          },
          "metadata": {},
          "execution_count": 139
        }
      ]
    },
    {
      "cell_type": "code",
      "source": [
        "b[:,:,1] # 모든층, 모든 행의 1열"
      ],
      "metadata": {
        "colab": {
          "base_uri": "https://localhost:8080/"
        },
        "id": "9Q1aPTD6jirL",
        "outputId": "6dc4b319-f7a8-471d-d9db-e9b64c001bdb"
      },
      "execution_count": 140,
      "outputs": [
        {
          "output_type": "execute_result",
          "data": {
            "text/plain": [
              "array([[ 1,  5,  9],\n",
              "       [13, 17, 21]])"
            ]
          },
          "metadata": {},
          "execution_count": 140
        }
      ]
    },
    {
      "cell_type": "code",
      "source": [
        "m= np.arange(1,9).reshape(2,4)\n",
        "# n= np.array([2])    #(1,)\n",
        "# n= np.array([[2]])  #(1,1)\n",
        "\n",
        "n=np.array([[1,2,3,4]])  #(1,4)\n",
        "# n=np.array([1,2,3,4]) #(4,)\n",
        "n=np.array([[1],[2]])   #(2,1)\n",
        "\n",
        "\n",
        "print(m)\n",
        "print(m.shape)\n",
        "print(n)\n",
        "print(n.shape)"
      ],
      "metadata": {
        "colab": {
          "base_uri": "https://localhost:8080/"
        },
        "id": "lj1KpWZX2quo",
        "outputId": "d61cc972-5222-4906-ba10-bf6cb65367d7"
      },
      "execution_count": 141,
      "outputs": [
        {
          "output_type": "stream",
          "name": "stdout",
          "text": [
            "[[1 2 3 4]\n",
            " [5 6 7 8]]\n",
            "(2, 4)\n",
            "[[1]\n",
            " [2]]\n",
            "(2, 1)\n"
          ]
        }
      ]
    },
    {
      "cell_type": "markdown",
      "source": [
        "###fancy indexing 과 indexing 차이\n",
        "- indexing은 원래차원에서 하나 감소해서 가져오고 fancy indexing은 원래 차원 그대로 가져온다.  \n",
        "\n",
        "-"
      ],
      "metadata": {
        "id": "XCxTNl-n4wXW"
      }
    },
    {
      "cell_type": "code",
      "source": [
        "#indexing은 차원이 하나 감소해서 가져온다 (3차원을 2차원으로 가져온다.)\n",
        "b [0]"
      ],
      "metadata": {
        "colab": {
          "base_uri": "https://localhost:8080/"
        },
        "id": "6mjKEwr_5DG0",
        "outputId": "d4b9fbd7-8800-4fd5-e4a3-3e2556e11f78"
      },
      "execution_count": 142,
      "outputs": [
        {
          "output_type": "execute_result",
          "data": {
            "text/plain": [
              "array([[ 0,  1,  2,  3],\n",
              "       [ 4,  5,  6,  7],\n",
              "       [ 8,  9, 10, 11]])"
            ]
          },
          "metadata": {},
          "execution_count": 142
        }
      ]
    },
    {
      "cell_type": "code",
      "source": [
        "#fancy indexing은 원래 3차원 그대로 가지고온다.\n",
        "b[[0]]"
      ],
      "metadata": {
        "colab": {
          "base_uri": "https://localhost:8080/"
        },
        "id": "svcqGeOL4H0t",
        "outputId": "a8b1f494-4d8f-4bce-e63c-5fa81d009806"
      },
      "execution_count": 143,
      "outputs": [
        {
          "output_type": "execute_result",
          "data": {
            "text/plain": [
              "array([[[ 0,  1,  2,  3],\n",
              "        [ 4,  5,  6,  7],\n",
              "        [ 8,  9, 10, 11]]])"
            ]
          },
          "metadata": {},
          "execution_count": 143
        }
      ]
    },
    {
      "cell_type": "code",
      "source": [
        "#b[0]은 b[0,:,:] 의 단축 표현법이다.\n",
        "b[0,:,:]"
      ],
      "metadata": {
        "colab": {
          "base_uri": "https://localhost:8080/"
        },
        "id": "rQynuUet4Hy_",
        "outputId": "eb0b0eac-ab58-4824-fcba-9991a35194eb"
      },
      "execution_count": 144,
      "outputs": [
        {
          "output_type": "execute_result",
          "data": {
            "text/plain": [
              "array([[ 0,  1,  2,  3],\n",
              "       [ 4,  5,  6,  7],\n",
              "       [ 8,  9, 10, 11]])"
            ]
          },
          "metadata": {},
          "execution_count": 144
        }
      ]
    },
    {
      "cell_type": "code",
      "source": [
        "# b[[0]] b[[0],:,:] 의 단축 표현법이다.\n",
        "b[[0],:,:]"
      ],
      "metadata": {
        "colab": {
          "base_uri": "https://localhost:8080/"
        },
        "id": "8cskfuiP5679",
        "outputId": "05ce8c5e-b606-4397-f591-0cd315b835c8"
      },
      "execution_count": 145,
      "outputs": [
        {
          "output_type": "execute_result",
          "data": {
            "text/plain": [
              "array([[[ 0,  1,  2,  3],\n",
              "        [ 4,  5,  6,  7],\n",
              "        [ 8,  9, 10, 11]]])"
            ]
          },
          "metadata": {},
          "execution_count": 145
        }
      ]
    },
    {
      "cell_type": "markdown",
      "source": [
        "## Ellipsis\n",
        "- ...(Ellipsis)는 이후로 모든것을 의미한다.  "
      ],
      "metadata": {
        "id": "MYZ6s1xA6Rgi"
      }
    },
    {
      "cell_type": "code",
      "source": [
        "#b[0] = b[0,:,:] = b[0,...]\n",
        "b[0]  #생략기법\n",
        "b[0,:,:] #slicing 기법\n",
        "b[0,...] #ellipsis 기법"
      ],
      "metadata": {
        "colab": {
          "base_uri": "https://localhost:8080/"
        },
        "id": "vBseKNog6Ywy",
        "outputId": "9fc847c3-d4ee-47e3-ea3e-aa5f896a14ae"
      },
      "execution_count": 146,
      "outputs": [
        {
          "output_type": "execute_result",
          "data": {
            "text/plain": [
              "array([[ 0,  1,  2,  3],\n",
              "       [ 4,  5,  6,  7],\n",
              "       [ 8,  9, 10, 11]])"
            ]
          },
          "metadata": {},
          "execution_count": 146
        }
      ]
    },
    {
      "cell_type": "code",
      "source": [
        "type(...)"
      ],
      "metadata": {
        "colab": {
          "base_uri": "https://localhost:8080/"
        },
        "id": "11PH4cfH51NS",
        "outputId": "bb042802-afb6-4c68-913a-9969b3147861"
      },
      "execution_count": 147,
      "outputs": [
        {
          "output_type": "execute_result",
          "data": {
            "text/plain": [
              "ellipsis"
            ]
          },
          "metadata": {},
          "execution_count": 147
        }
      ]
    },
    {
      "cell_type": "code",
      "source": [
        "#숫자 1,5,9 만 가져온다 .\n",
        "b [0,:,1]"
      ],
      "metadata": {
        "colab": {
          "base_uri": "https://localhost:8080/"
        },
        "id": "0qXiViva7Bk7",
        "outputId": "77e3d266-b6b8-49f2-b2d3-07db8ffcc8c1"
      },
      "execution_count": 148,
      "outputs": [
        {
          "output_type": "execute_result",
          "data": {
            "text/plain": [
              "array([1, 5, 9])"
            ]
          },
          "metadata": {},
          "execution_count": 148
        }
      ]
    },
    {
      "cell_type": "code",
      "source": [
        "b[[0],:,[1]]"
      ],
      "metadata": {
        "colab": {
          "base_uri": "https://localhost:8080/"
        },
        "id": "DBVOy7267U9D",
        "outputId": "e16460a3-a714-4598-8f18-2f719ec58aba"
      },
      "execution_count": 149,
      "outputs": [
        {
          "output_type": "execute_result",
          "data": {
            "text/plain": [
              "array([[1, 5, 9]])"
            ]
          },
          "metadata": {},
          "execution_count": 149
        }
      ]
    },
    {
      "cell_type": "code",
      "source": [
        "#숫자 1,3,9,3,7,11 가져오기"
      ],
      "metadata": {
        "id": "aZ3VPcNu7hXG"
      },
      "execution_count": 150,
      "outputs": []
    },
    {
      "cell_type": "code",
      "source": [
        "b[0,:,[1,3]]"
      ],
      "metadata": {
        "colab": {
          "base_uri": "https://localhost:8080/"
        },
        "id": "TM4KD-UE7k88",
        "outputId": "452c64b8-08d9-4aac-d872-5367614631cb"
      },
      "execution_count": 151,
      "outputs": [
        {
          "output_type": "execute_result",
          "data": {
            "text/plain": [
              "array([[ 1,  5,  9],\n",
              "       [ 3,  7, 11]])"
            ]
          },
          "metadata": {},
          "execution_count": 151
        }
      ]
    },
    {
      "cell_type": "code",
      "source": [
        "# 숫자 4,5,6,7,16,17,18,19 가져오기\n",
        "b[:,1,:]   # 2차원으로 가져옴"
      ],
      "metadata": {
        "colab": {
          "base_uri": "https://localhost:8080/"
        },
        "id": "HtZoAjAf735C",
        "outputId": "468c3ed0-bf87-4a30-9f2f-cd0d8e2b9c5e"
      },
      "execution_count": 152,
      "outputs": [
        {
          "output_type": "execute_result",
          "data": {
            "text/plain": [
              "array([[ 4,  5,  6,  7],\n",
              "       [16, 17, 18, 19]])"
            ]
          },
          "metadata": {},
          "execution_count": 152
        }
      ]
    },
    {
      "cell_type": "code",
      "source": [
        "b[:,1:2,:]    #3차원으로 가져옴"
      ],
      "metadata": {
        "colab": {
          "base_uri": "https://localhost:8080/"
        },
        "id": "O9YDGjhI8WjI",
        "outputId": "24af2140-d478-468d-c2b8-195453ba2ab7"
      },
      "execution_count": 153,
      "outputs": [
        {
          "output_type": "execute_result",
          "data": {
            "text/plain": [
              "array([[[ 4,  5,  6,  7]],\n",
              "\n",
              "       [[16, 17, 18, 19]]])"
            ]
          },
          "metadata": {},
          "execution_count": 153
        }
      ]
    },
    {
      "cell_type": "code",
      "source": [
        "# 숫자 3,7,11,15,19,23 가져오기\n",
        "\n",
        "b[:,:,3]\n",
        "b[:,:,-1]"
      ],
      "metadata": {
        "colab": {
          "base_uri": "https://localhost:8080/"
        },
        "id": "GCZSLa0k8p9S",
        "outputId": "9a3b3ea3-18cc-4665-ca48-d3e2fe5f92d0"
      },
      "execution_count": 154,
      "outputs": [
        {
          "output_type": "execute_result",
          "data": {
            "text/plain": [
              "array([[ 3,  7, 11],\n",
              "       [15, 19, 23]])"
            ]
          },
          "metadata": {},
          "execution_count": 154
        }
      ]
    },
    {
      "cell_type": "code",
      "source": [
        "b[:,:,3:4]  #3차원 그대로 가져옴"
      ],
      "metadata": {
        "colab": {
          "base_uri": "https://localhost:8080/"
        },
        "id": "hzadc48W9Jvb",
        "outputId": "51c4b91a-88e9-447a-ea3c-9bead678f24a"
      },
      "execution_count": 155,
      "outputs": [
        {
          "output_type": "execute_result",
          "data": {
            "text/plain": [
              "array([[[ 3],\n",
              "        [ 7],\n",
              "        [11]],\n",
              "\n",
              "       [[15],\n",
              "        [19],\n",
              "        [23]]])"
            ]
          },
          "metadata": {},
          "execution_count": 155
        }
      ]
    },
    {
      "cell_type": "code",
      "source": [
        "b[:,:,[3]]  #3차원으로 가져옴"
      ],
      "metadata": {
        "colab": {
          "base_uri": "https://localhost:8080/"
        },
        "id": "yrA4tvPY9bdV",
        "outputId": "40f2777b-8fc1-4149-9743-884cbe911ace"
      },
      "execution_count": 156,
      "outputs": [
        {
          "output_type": "execute_result",
          "data": {
            "text/plain": [
              "array([[[ 3],\n",
              "        [ 7],\n",
              "        [11]],\n",
              "\n",
              "       [[15],\n",
              "        [19],\n",
              "        [23]]])"
            ]
          },
          "metadata": {},
          "execution_count": 156
        }
      ]
    },
    {
      "cell_type": "code",
      "source": [
        "b[...,3]"
      ],
      "metadata": {
        "colab": {
          "base_uri": "https://localhost:8080/"
        },
        "id": "rQxG59WH9gM7",
        "outputId": "54776ec5-2573-48f4-e5d9-b25feada2b9e"
      },
      "execution_count": 157,
      "outputs": [
        {
          "output_type": "execute_result",
          "data": {
            "text/plain": [
              "array([[ 3,  7, 11],\n",
              "       [15, 19, 23]])"
            ]
          },
          "metadata": {},
          "execution_count": 157
        }
      ]
    },
    {
      "cell_type": "markdown",
      "source": [
        " ## 줄임표현 (...)\n",
        "  출력해야할 데이터수가 엄청 클때 보이는 ... 은 ellipsis와 다르다  \n",
        "\n"
      ],
      "metadata": {
        "id": "W0CIBxG79rx4"
      }
    },
    {
      "cell_type": "code",
      "source": [
        "#out에 나오는 ... 은 단순히 줄임표현이다.\n",
        "np.arange(10000)"
      ],
      "metadata": {
        "colab": {
          "base_uri": "https://localhost:8080/"
        },
        "id": "1L3q0P5y94ed",
        "outputId": "a1a7f483-c437-4603-de66-fc0ae3ed2981"
      },
      "execution_count": 158,
      "outputs": [
        {
          "output_type": "execute_result",
          "data": {
            "text/plain": [
              "array([   0,    1,    2, ..., 9997, 9998, 9999])"
            ]
          },
          "metadata": {},
          "execution_count": 158
        }
      ]
    },
    {
      "cell_type": "code",
      "source": [
        "# ... 양쪽으로 출력갯수 지정\n",
        "np.set_printoptions(edgeitems=6)"
      ],
      "metadata": {
        "id": "JAZwC9vC-KS0"
      },
      "execution_count": 159,
      "outputs": []
    },
    {
      "cell_type": "code",
      "source": [
        "np.arange(10000)"
      ],
      "metadata": {
        "colab": {
          "base_uri": "https://localhost:8080/"
        },
        "id": "RmhyHLYn-O91",
        "outputId": "0a5370fc-b86f-43c0-c91f-7a981886a6d3"
      },
      "execution_count": 160,
      "outputs": [
        {
          "output_type": "execute_result",
          "data": {
            "text/plain": [
              "array([   0,    1,    2,    3,    4,    5, ..., 9994, 9995, 9996, 9997,\n",
              "       9998, 9999])"
            ]
          },
          "metadata": {},
          "execution_count": 160
        }
      ]
    },
    {
      "cell_type": "markdown",
      "source": [
        "## 연산\n",
        "numpy연산의 기본은 두개의 shape가 같아야 한다.\n"
      ],
      "metadata": {
        "id": "bytXLZKU-suX"
      }
    },
    {
      "cell_type": "code",
      "source": [
        "a= np.arange(1,13).reshape(3,4)\n",
        "a"
      ],
      "metadata": {
        "colab": {
          "base_uri": "https://localhost:8080/"
        },
        "id": "_yajwR4j_Ow9",
        "outputId": "2001f24c-e5af-4d6a-ba0f-3b74ee40d313"
      },
      "execution_count": 161,
      "outputs": [
        {
          "output_type": "execute_result",
          "data": {
            "text/plain": [
              "array([[ 1,  2,  3,  4],\n",
              "       [ 5,  6,  7,  8],\n",
              "       [ 9, 10, 11, 12]])"
            ]
          },
          "metadata": {},
          "execution_count": 161
        }
      ]
    },
    {
      "cell_type": "code",
      "source": [
        "b= np.arange(1,13).reshape(3,4)\n",
        "b"
      ],
      "metadata": {
        "colab": {
          "base_uri": "https://localhost:8080/"
        },
        "id": "N8VD3Reg-ytU",
        "outputId": "33d75aff-ebc6-47e3-b1a6-8df0161ef36b"
      },
      "execution_count": 162,
      "outputs": [
        {
          "output_type": "execute_result",
          "data": {
            "text/plain": [
              "array([[ 1,  2,  3,  4],\n",
              "       [ 5,  6,  7,  8],\n",
              "       [ 9, 10, 11, 12]])"
            ]
          },
          "metadata": {},
          "execution_count": 162
        }
      ]
    },
    {
      "cell_type": "code",
      "source": [
        "b.shape"
      ],
      "metadata": {
        "colab": {
          "base_uri": "https://localhost:8080/"
        },
        "id": "3maY17r3_IYt",
        "outputId": "b44a0878-0052-4a72-e555-98f094742a3a"
      },
      "execution_count": 163,
      "outputs": [
        {
          "output_type": "execute_result",
          "data": {
            "text/plain": [
              "(3, 4)"
            ]
          },
          "metadata": {},
          "execution_count": 163
        }
      ]
    },
    {
      "cell_type": "code",
      "source": [
        "#같은 위치의 원소끼리 더해준다\n",
        "a+b"
      ],
      "metadata": {
        "colab": {
          "base_uri": "https://localhost:8080/"
        },
        "id": "WGUlBK2J_JwN",
        "outputId": "cadd2218-f781-42b4-d753-98390a2826b1"
      },
      "execution_count": 164,
      "outputs": [
        {
          "output_type": "execute_result",
          "data": {
            "text/plain": [
              "array([[ 2,  4,  6,  8],\n",
              "       [10, 12, 14, 16],\n",
              "       [18, 20, 22, 24]])"
            ]
          },
          "metadata": {},
          "execution_count": 164
        }
      ]
    },
    {
      "cell_type": "markdown",
      "source": [
        "numpy는 elementwise vectorize 연산을 한다.   \n",
        "vectorze는 데이터의 연산을 일괄적으로 처리하는 기능이다.   \n"
      ],
      "metadata": {
        "id": "x8yUmYsp-ssG"
      }
    },
    {
      "cell_type": "code",
      "source": [
        "#python의 list에서 + 연산자는 elementwise가 아니라 list를 확장시킨다. (연결 )\n",
        "\n",
        "[1,2,3]+[4,5,6]"
      ],
      "metadata": {
        "colab": {
          "base_uri": "https://localhost:8080/"
        },
        "id": "E-Ji7NuDDo_x",
        "outputId": "63568c3e-c3c1-4e98-b4ad-605ba1155688"
      },
      "execution_count": 165,
      "outputs": [
        {
          "output_type": "execute_result",
          "data": {
            "text/plain": [
              "[1, 2, 3, 4, 5, 6]"
            ]
          },
          "metadata": {},
          "execution_count": 165
        }
      ]
    },
    {
      "cell_type": "code",
      "source": [
        "@np.vectorize\n",
        "\n",
        "def plus(a,b):\n",
        "  return a+b\n",
        "\n",
        "plus([1,2,3],[4,5,6])"
      ],
      "metadata": {
        "colab": {
          "base_uri": "https://localhost:8080/"
        },
        "id": "-779l_0MD7Mu",
        "outputId": "b4a12a63-c8f6-41b0-c77b-5955be55c40e"
      },
      "execution_count": 166,
      "outputs": [
        {
          "output_type": "execute_result",
          "data": {
            "text/plain": [
              "array([5, 7, 9])"
            ]
          },
          "metadata": {},
          "execution_count": 166
        }
      ]
    },
    {
      "cell_type": "code",
      "source": [
        "a = np.arange(6).reshape(2,3)\n",
        "a\n"
      ],
      "metadata": {
        "colab": {
          "base_uri": "https://localhost:8080/"
        },
        "id": "-p2DpkrvETb7",
        "outputId": "9207d23d-99e0-444d-d53f-7f75a13a00aa"
      },
      "execution_count": 167,
      "outputs": [
        {
          "output_type": "execute_result",
          "data": {
            "text/plain": [
              "array([[0, 1, 2],\n",
              "       [3, 4, 5]])"
            ]
          },
          "metadata": {},
          "execution_count": 167
        }
      ]
    },
    {
      "cell_type": "code",
      "source": [
        "b = np.arange(6,12).reshape(2,3)\n",
        "b"
      ],
      "metadata": {
        "colab": {
          "base_uri": "https://localhost:8080/"
        },
        "id": "lVYPnUNwEgsk",
        "outputId": "6d8f3927-5788-48f7-d772-1f69d0424a17"
      },
      "execution_count": 168,
      "outputs": [
        {
          "output_type": "execute_result",
          "data": {
            "text/plain": [
              "array([[ 6,  7,  8],\n",
              "       [ 9, 10, 11]])"
            ]
          },
          "metadata": {},
          "execution_count": 168
        }
      ]
    },
    {
      "cell_type": "code",
      "source": [
        "a*b"
      ],
      "metadata": {
        "colab": {
          "base_uri": "https://localhost:8080/"
        },
        "id": "uEgZNkwPEjIC",
        "outputId": "3e2d9aff-39c7-4bf6-e03a-25cf3c9aabda"
      },
      "execution_count": 169,
      "outputs": [
        {
          "output_type": "execute_result",
          "data": {
            "text/plain": [
              "array([[ 0,  7, 16],\n",
              "       [27, 40, 55]])"
            ]
          },
          "metadata": {},
          "execution_count": 169
        }
      ]
    },
    {
      "cell_type": "code",
      "source": [
        "#python에서 list끼리 *(곱하기)를 할수없다\n",
        "#[1,2,3] * [4,5,6]"
      ],
      "metadata": {
        "id": "6IDefVmwE0tY"
      },
      "execution_count": 170,
      "outputs": []
    },
    {
      "cell_type": "code",
      "source": [
        "c = np.matrix([[1,2],[3,4]])\n",
        "c"
      ],
      "metadata": {
        "colab": {
          "base_uri": "https://localhost:8080/"
        },
        "id": "79v-Hl-9E8Cg",
        "outputId": "9cf6d63f-b863-4294-f30e-6e36b92866b0"
      },
      "execution_count": 171,
      "outputs": [
        {
          "output_type": "execute_result",
          "data": {
            "text/plain": [
              "matrix([[1, 2],\n",
              "        [3, 4]])"
            ]
          },
          "metadata": {},
          "execution_count": 171
        }
      ]
    },
    {
      "cell_type": "code",
      "source": [
        "type(c)"
      ],
      "metadata": {
        "colab": {
          "base_uri": "https://localhost:8080/"
        },
        "id": "KQkU12SrE0rS",
        "outputId": "cd6fa630-b1c4-42c7-94d7-2d4d42076515"
      },
      "execution_count": 172,
      "outputs": [
        {
          "output_type": "execute_result",
          "data": {
            "text/plain": [
              "numpy.matrix"
            ]
          },
          "metadata": {},
          "execution_count": 172
        }
      ]
    },
    {
      "cell_type": "code",
      "source": [
        "print(c)\n",
        "c*c\n",
        "\n",
        "# 1*1 + 2*3 = 7 , 1*2+2*4 = 10\n",
        "# 3*1 + 4*3 = 15 , 3*2+4*4 = 22\n",
        "\n",
        "# 1*1 + 2*3 , 1*2+2*4    [[7,10]]\n",
        "# 3*1 + 4*3 , 3*2+4*4    [[15,22]]\n",
        "\n",
        "# (2,2) (2,2)  #앞의 행과 뒤의 열의 갯수가 같아야 한다."
      ],
      "metadata": {
        "colab": {
          "base_uri": "https://localhost:8080/"
        },
        "id": "VRZ2V0bBFiGZ",
        "outputId": "6eda3a19-1eba-4631-a752-8974b9abc25c"
      },
      "execution_count": 173,
      "outputs": [
        {
          "output_type": "stream",
          "name": "stdout",
          "text": [
            "[[1 2]\n",
            " [3 4]]\n"
          ]
        },
        {
          "output_type": "execute_result",
          "data": {
            "text/plain": [
              "matrix([[ 7, 10],\n",
              "        [15, 22]])"
            ]
          },
          "metadata": {},
          "execution_count": 173
        }
      ]
    },
    {
      "cell_type": "markdown",
      "source": [
        "ndarray 에서 행렬곱 연산자 @이다.\n",
        "python 재단에서 numpy를 위해 만들어준 연산자이다.   "
      ],
      "metadata": {
        "id": "BDdLbTFuHg3k"
      }
    },
    {
      "cell_type": "markdown",
      "source": [
        "행렬곱을 하기 위해서는 shape가 맞아야 한다.\n",
        "T는 transpose(전치)의 약자이다.   "
      ],
      "metadata": {
        "id": "3cTUb7NJIUN1"
      }
    },
    {
      "cell_type": "code",
      "source": [
        "print(a)\n",
        "print(a.shape)"
      ],
      "metadata": {
        "colab": {
          "base_uri": "https://localhost:8080/"
        },
        "id": "cDtGsc3AIkM5",
        "outputId": "1ec49539-09c0-4902-b334-8ebb316f3495"
      },
      "execution_count": 174,
      "outputs": [
        {
          "output_type": "stream",
          "name": "stdout",
          "text": [
            "[[0 1 2]\n",
            " [3 4 5]]\n",
            "(2, 3)\n"
          ]
        }
      ]
    },
    {
      "cell_type": "code",
      "source": [
        "print(a.T)\n",
        "print(a.T.shape)\n",
        "\n",
        "# (3,4)(4,2) => 결과 (3,2)\n",
        "# (2,3)(3,5) => 결과 (2,5)\n",
        "# (1000, 7) (7, 3) => 결과 (1000, 3)"
      ],
      "metadata": {
        "colab": {
          "base_uri": "https://localhost:8080/"
        },
        "id": "R2TGc3MaIm-D",
        "outputId": "57a1ddde-0a53-4346-8076-bacd9c47df84"
      },
      "execution_count": 175,
      "outputs": [
        {
          "output_type": "stream",
          "name": "stdout",
          "text": [
            "[[0 3]\n",
            " [1 4]\n",
            " [2 5]]\n",
            "(3, 2)\n"
          ]
        }
      ]
    },
    {
      "cell_type": "code",
      "source": [
        "a @ a.T"
      ],
      "metadata": {
        "colab": {
          "base_uri": "https://localhost:8080/"
        },
        "id": "y8Qx_nvDI-0N",
        "outputId": "274c8353-8dbe-4c9e-bcde-de43bd3eb27d"
      },
      "execution_count": 176,
      "outputs": [
        {
          "output_type": "execute_result",
          "data": {
            "text/plain": [
              "array([[ 5, 14],\n",
              "       [14, 50]])"
            ]
          },
          "metadata": {},
          "execution_count": 176
        }
      ]
    },
    {
      "cell_type": "code",
      "source": [
        "a= np.arange(1,17).reshape(1,16)\n",
        "a"
      ],
      "metadata": {
        "colab": {
          "base_uri": "https://localhost:8080/"
        },
        "id": "MSyfxtq7KljR",
        "outputId": "bf168dec-9110-4aab-8f53-be5fe6475b2a"
      },
      "execution_count": 177,
      "outputs": [
        {
          "output_type": "execute_result",
          "data": {
            "text/plain": [
              "array([[ 1,  2,  3,  4,  5,  6,  7,  8,  9, 10, 11, 12, 13, 14, 15, 16]])"
            ]
          },
          "metadata": {},
          "execution_count": 177
        }
      ]
    },
    {
      "cell_type": "code",
      "source": [
        "print(a.shape)            # (1,16)\n",
        "print(a.T.shape)          #(16,1)\n",
        "a @ a.T                 # 결과 (1,1)"
      ],
      "metadata": {
        "colab": {
          "base_uri": "https://localhost:8080/"
        },
        "id": "hZuvYMDEK5cs",
        "outputId": "30561af6-c3b6-400f-9ce5-2918c89a9229"
      },
      "execution_count": 178,
      "outputs": [
        {
          "output_type": "stream",
          "name": "stdout",
          "text": [
            "(1, 16)\n",
            "(16, 1)\n"
          ]
        },
        {
          "output_type": "execute_result",
          "data": {
            "text/plain": [
              "array([[1496]])"
            ]
          },
          "metadata": {},
          "execution_count": 178
        }
      ]
    },
    {
      "cell_type": "markdown",
      "source": [
        "matrix는 * 와 @ 모두가 가능하다."
      ],
      "metadata": {
        "id": "a3c3VfBqLYOS"
      }
    },
    {
      "cell_type": "code",
      "source": [
        "c * c.T"
      ],
      "metadata": {
        "colab": {
          "base_uri": "https://localhost:8080/"
        },
        "id": "AjJj8AslKlhe",
        "outputId": "e42cc50a-71a6-4d41-a423-ffd7cdef5a98"
      },
      "execution_count": 179,
      "outputs": [
        {
          "output_type": "execute_result",
          "data": {
            "text/plain": [
              "matrix([[ 5, 11],\n",
              "        [11, 25]])"
            ]
          },
          "metadata": {},
          "execution_count": 179
        }
      ]
    },
    {
      "cell_type": "code",
      "source": [
        "c @ c.T"
      ],
      "metadata": {
        "colab": {
          "base_uri": "https://localhost:8080/"
        },
        "id": "TlNqXxxFL7u0",
        "outputId": "ef655acc-555a-479e-94f1-6678dd4b9a78"
      },
      "execution_count": 180,
      "outputs": [
        {
          "output_type": "execute_result",
          "data": {
            "text/plain": [
              "matrix([[ 5, 11],\n",
              "        [11, 25]])"
            ]
          },
          "metadata": {},
          "execution_count": 180
        }
      ]
    },
    {
      "cell_type": "code",
      "source": [
        "print(type(a))\n",
        "np.dot(a, a.T)"
      ],
      "metadata": {
        "colab": {
          "base_uri": "https://localhost:8080/"
        },
        "id": "SgAXaZO5L-aE",
        "outputId": "6ae1ccee-8416-4c98-b3da-9cbedcd07d90"
      },
      "execution_count": 181,
      "outputs": [
        {
          "output_type": "stream",
          "name": "stdout",
          "text": [
            "<class 'numpy.ndarray'>\n"
          ]
        },
        {
          "output_type": "execute_result",
          "data": {
            "text/plain": [
              "array([[1496]])"
            ]
          },
          "metadata": {},
          "execution_count": 181
        }
      ]
    },
    {
      "cell_type": "code",
      "source": [
        "print(type(c))\n",
        "np.dot(c, c.T)"
      ],
      "metadata": {
        "colab": {
          "base_uri": "https://localhost:8080/"
        },
        "id": "H2uDSleZMC09",
        "outputId": "375f4c23-25bd-4f52-d2e4-97225cb456a2"
      },
      "execution_count": 182,
      "outputs": [
        {
          "output_type": "stream",
          "name": "stdout",
          "text": [
            "<class 'numpy.matrix'>\n"
          ]
        },
        {
          "output_type": "execute_result",
          "data": {
            "text/plain": [
              "matrix([[ 5, 11],\n",
              "        [11, 25]])"
            ]
          },
          "metadata": {},
          "execution_count": 182
        }
      ]
    },
    {
      "cell_type": "markdown",
      "source": [
        "\n",
        "* : matrix  \n",
        "@ : matrix , adarray  \n",
        "dot() : matrix, adarray   \n",
        "\n",
        "\n"
      ],
      "metadata": {
        "id": "eW_wpb_gHg1g"
      }
    },
    {
      "cell_type": "markdown",
      "source": [
        "method 방식으로 행렬곱 할 수 있다.   \n",
        "function 방법과 사용하는 방법이 다르므로 주의한다.  "
      ],
      "metadata": {
        "id": "07g5r52LNAyL"
      }
    },
    {
      "cell_type": "code",
      "source": [
        "np. dot (c,c.T)"
      ],
      "metadata": {
        "colab": {
          "base_uri": "https://localhost:8080/"
        },
        "id": "qjgCDItkKPXh",
        "outputId": "93dee9f9-0fde-4088-90af-91bac41ad483"
      },
      "execution_count": 183,
      "outputs": [
        {
          "output_type": "execute_result",
          "data": {
            "text/plain": [
              "matrix([[ 5, 11],\n",
              "        [11, 25]])"
            ]
          },
          "metadata": {},
          "execution_count": 183
        }
      ]
    },
    {
      "cell_type": "code",
      "source": [
        "c.dot (c.T)"
      ],
      "metadata": {
        "colab": {
          "base_uri": "https://localhost:8080/"
        },
        "id": "EVv-eusUNHJs",
        "outputId": "b1442d3c-e2ce-41c8-9792-5ad478e1747e"
      },
      "execution_count": 184,
      "outputs": [
        {
          "output_type": "execute_result",
          "data": {
            "text/plain": [
              "matrix([[ 5, 11],\n",
              "        [11, 25]])"
            ]
          },
          "metadata": {},
          "execution_count": 184
        }
      ]
    },
    {
      "cell_type": "markdown",
      "source": [
        "##strides\n",
        "\n",
        "strides는 다음 원소끼리의 메모리크기를 차원별로 알려준다.   \n",
        "C의 포인터 개념을 알고 있으면 이해하기가 쉽다.\n"
      ],
      "metadata": {
        "id": "sfu5sVABQ5ZN"
      }
    },
    {
      "cell_type": "code",
      "source": [
        "a= np.arange(12).reshape(3,4)\n",
        "a"
      ],
      "metadata": {
        "colab": {
          "base_uri": "https://localhost:8080/"
        },
        "id": "bJ2QV9MfRCGA",
        "outputId": "9a4085aa-b2ce-413d-95e4-e0c6406b7ba4"
      },
      "execution_count": 185,
      "outputs": [
        {
          "output_type": "execute_result",
          "data": {
            "text/plain": [
              "array([[ 0,  1,  2,  3],\n",
              "       [ 4,  5,  6,  7],\n",
              "       [ 8,  9, 10, 11]])"
            ]
          },
          "metadata": {},
          "execution_count": 185
        }
      ]
    },
    {
      "cell_type": "code",
      "source": [
        "# 행의 메모리 간격은 32 bytes\n",
        "# 열의 메모리 간격은 8 bytes\n",
        "a.strides"
      ],
      "metadata": {
        "colab": {
          "base_uri": "https://localhost:8080/"
        },
        "id": "8ZjUUsI1RIqA",
        "outputId": "fa09bc95-e9e0-4235-b967-4128b1ed745d"
      },
      "execution_count": 186,
      "outputs": [
        {
          "output_type": "execute_result",
          "data": {
            "text/plain": [
              "(32, 8)"
            ]
          },
          "metadata": {},
          "execution_count": 186
        }
      ]
    },
    {
      "cell_type": "code",
      "source": [
        "a.itemsize"
      ],
      "metadata": {
        "colab": {
          "base_uri": "https://localhost:8080/"
        },
        "id": "cp2yiyRNSHnK",
        "outputId": "b52a2384-5bd1-4423-b24f-0129eeb37312"
      },
      "execution_count": 187,
      "outputs": [
        {
          "output_type": "execute_result",
          "data": {
            "text/plain": [
              "8"
            ]
          },
          "metadata": {},
          "execution_count": 187
        }
      ]
    },
    {
      "cell_type": "code",
      "source": [
        "#열의 원소 갯수 * itemsize = 행의메모리간격\n",
        "# itemsize = 열의 메모리 간격\n",
        "a.shape"
      ],
      "metadata": {
        "id": "JfkxzPTTSJoB",
        "colab": {
          "base_uri": "https://localhost:8080/"
        },
        "outputId": "8b802860-aaa9-4633-deeb-767c74efef2e"
      },
      "execution_count": 188,
      "outputs": [
        {
          "output_type": "execute_result",
          "data": {
            "text/plain": [
              "(3, 4)"
            ]
          },
          "metadata": {},
          "execution_count": 188
        }
      ]
    },
    {
      "cell_type": "markdown",
      "source": [
        "## axis\n",
        "axis는 다차원 배열을 연산할때 기준이 되는 축이다.  "
      ],
      "metadata": {
        "id": "tc7XcWupSWlv"
      }
    },
    {
      "cell_type": "code",
      "source": [
        "a"
      ],
      "metadata": {
        "colab": {
          "base_uri": "https://localhost:8080/"
        },
        "id": "ab1b-GqTSepq",
        "outputId": "201f162c-42d1-4908-acac-2ad1e052027d"
      },
      "execution_count": 189,
      "outputs": [
        {
          "output_type": "execute_result",
          "data": {
            "text/plain": [
              "array([[ 0,  1,  2,  3],\n",
              "       [ 4,  5,  6,  7],\n",
              "       [ 8,  9, 10, 11]])"
            ]
          },
          "metadata": {},
          "execution_count": 189
        }
      ]
    },
    {
      "cell_type": "code",
      "source": [
        "np.sum(a)"
      ],
      "metadata": {
        "colab": {
          "base_uri": "https://localhost:8080/"
        },
        "id": "EgwsyXOBSkFy",
        "outputId": "4df63e22-9123-4178-ea4f-6cca10dca1f2"
      },
      "execution_count": 190,
      "outputs": [
        {
          "output_type": "execute_result",
          "data": {
            "text/plain": [
              "66"
            ]
          },
          "metadata": {},
          "execution_count": 190
        }
      ]
    },
    {
      "cell_type": "code",
      "source": [
        "np.sum(a, axis=0) # a 배열은 2차원이므로 axis=0은 행기준 (행마다)\n",
        "np.sum(a, axis=1)                       #axis=1은 열기준 (열마다)"
      ],
      "metadata": {
        "colab": {
          "base_uri": "https://localhost:8080/"
        },
        "id": "FFLGcGIuSndK",
        "outputId": "3ad91928-cf3f-4ef9-8b86-f64ac39ace15"
      },
      "execution_count": 191,
      "outputs": [
        {
          "output_type": "execute_result",
          "data": {
            "text/plain": [
              "array([ 6, 22, 38])"
            ]
          },
          "metadata": {},
          "execution_count": 191
        }
      ]
    },
    {
      "cell_type": "markdown",
      "source": [
        "```\n",
        "(0,0) (0,1) (0,2) (0,3)\n",
        "(1,0) (0,1) (0,2) (1,3)\n",
        "(2,0) (2,1) (2,2) (2,3)\n",
        "\n",
        "\n",
        "```\n"
      ],
      "metadata": {
        "id": "3cmXcE5ZQ5W0"
      }
    },
    {
      "cell_type": "code",
      "source": [
        "a = np.arange(24).reshape(2,3,4) #2공간 3행 4열\n",
        "a"
      ],
      "metadata": {
        "id": "OLwNqJ5yVBLt",
        "colab": {
          "base_uri": "https://localhost:8080/"
        },
        "outputId": "80ae468e-298f-4c6d-adbf-7fe0ee432a25"
      },
      "execution_count": 192,
      "outputs": [
        {
          "output_type": "execute_result",
          "data": {
            "text/plain": [
              "array([[[ 0,  1,  2,  3],\n",
              "        [ 4,  5,  6,  7],\n",
              "        [ 8,  9, 10, 11]],\n",
              "\n",
              "       [[12, 13, 14, 15],\n",
              "        [16, 17, 18, 19],\n",
              "        [20, 21, 22, 23]]])"
            ]
          },
          "metadata": {},
          "execution_count": 192
        }
      ]
    },
    {
      "cell_type": "markdown",
      "source": [
        "```\n",
        "(0,0,0) (0,0,1) (0,0,2) (0,0,3)\n",
        "(0,1,0) (0,1,1) (0,1,2) (0,1,3)\n",
        "(0,2,0) (0,2,1) (0,2,2) (0,2,3)\n",
        "\n",
        "(1,0,0) (1,0,1) (1,0,2) (1,0,3)\n",
        "(1,1,0) (1,1,1) (1,1,2) (1,1,3)\n",
        "(1,2,0) (1,2,1) (1,2,2) (1,2,3)\n",
        "```"
      ],
      "metadata": {
        "id": "rq6788kdVC6d"
      }
    },
    {
      "cell_type": "code",
      "source": [
        "a"
      ],
      "metadata": {
        "colab": {
          "base_uri": "https://localhost:8080/"
        },
        "id": "48LkjXhfV1EN",
        "outputId": "4084446a-4be9-4660-ee57-82fd31de60ec"
      },
      "execution_count": 193,
      "outputs": [
        {
          "output_type": "execute_result",
          "data": {
            "text/plain": [
              "array([[[ 0,  1,  2,  3],\n",
              "        [ 4,  5,  6,  7],\n",
              "        [ 8,  9, 10, 11]],\n",
              "\n",
              "       [[12, 13, 14, 15],\n",
              "        [16, 17, 18, 19],\n",
              "        [20, 21, 22, 23]]])"
            ]
          },
          "metadata": {},
          "execution_count": 193
        }
      ]
    },
    {
      "cell_type": "code",
      "source": [
        "np.sum(a)  #(2,3,4) => (1,)"
      ],
      "metadata": {
        "colab": {
          "base_uri": "https://localhost:8080/"
        },
        "id": "7RiUkqgHVdft",
        "outputId": "234977e6-4845-4908-d1b9-eb0393e69a22"
      },
      "execution_count": 194,
      "outputs": [
        {
          "output_type": "execute_result",
          "data": {
            "text/plain": [
              "276"
            ]
          },
          "metadata": {},
          "execution_count": 194
        }
      ]
    },
    {
      "cell_type": "code",
      "source": [
        "np.sum(a, axis=0)    # #(2,3,4) => (3,4)"
      ],
      "metadata": {
        "colab": {
          "base_uri": "https://localhost:8080/"
        },
        "id": "ZPRoYjeOVfcL",
        "outputId": "8423b6ba-ceb1-49f2-fed0-541e4a5d5617"
      },
      "execution_count": 195,
      "outputs": [
        {
          "output_type": "execute_result",
          "data": {
            "text/plain": [
              "array([[12, 14, 16, 18],\n",
              "       [20, 22, 24, 26],\n",
              "       [28, 30, 32, 34]])"
            ]
          },
          "metadata": {},
          "execution_count": 195
        }
      ]
    },
    {
      "cell_type": "code",
      "source": [
        "np.sum(a, axis=1)  # #(2,3,4) => (2,4)"
      ],
      "metadata": {
        "colab": {
          "base_uri": "https://localhost:8080/"
        },
        "id": "QqoSnBa6WRt1",
        "outputId": "54b7a069-5544-432e-9eb9-212004dd3f21"
      },
      "execution_count": 196,
      "outputs": [
        {
          "output_type": "execute_result",
          "data": {
            "text/plain": [
              "array([[12, 15, 18, 21],\n",
              "       [48, 51, 54, 57]])"
            ]
          },
          "metadata": {},
          "execution_count": 196
        }
      ]
    },
    {
      "cell_type": "code",
      "source": [
        "np.sum(a, axis=2)  # #(2,3,4) => (2,3)"
      ],
      "metadata": {
        "colab": {
          "base_uri": "https://localhost:8080/"
        },
        "id": "4q34SrJRXHVg",
        "outputId": "c2a4f7e1-b9c6-4f19-8e65-721aaa529d48"
      },
      "execution_count": 197,
      "outputs": [
        {
          "output_type": "execute_result",
          "data": {
            "text/plain": [
              "array([[ 6, 22, 38],\n",
              "       [54, 70, 86]])"
            ]
          },
          "metadata": {},
          "execution_count": 197
        }
      ]
    },
    {
      "cell_type": "markdown",
      "source": [
        "## array 모양 바꾸기\n"
      ],
      "metadata": {
        "id": "6HuDJ72EZ767"
      }
    },
    {
      "cell_type": "markdown",
      "source": [
        "(1)reshape\n",
        "reshape는 차원을 바꿔주는 기능을 한다."
      ],
      "metadata": {
        "id": "La5th_g-Z-_A"
      }
    },
    {
      "cell_type": "code",
      "source": [
        "a = np.arange(24)\n",
        "a"
      ],
      "metadata": {
        "colab": {
          "base_uri": "https://localhost:8080/"
        },
        "id": "1QuMBwP6aCNG",
        "outputId": "de333060-0822-4255-9c8d-b02665f8b0d6"
      },
      "execution_count": 198,
      "outputs": [
        {
          "output_type": "execute_result",
          "data": {
            "text/plain": [
              "array([ 0,  1,  2,  3,  4,  5,  6,  7,  8,  9, 10, 11, 12, 13, 14, 15, 16,\n",
              "       17, 18, 19, 20, 21, 22, 23])"
            ]
          },
          "metadata": {},
          "execution_count": 198
        }
      ]
    },
    {
      "cell_type": "code",
      "source": [
        "b = a.reshape(3,8)\n",
        "b"
      ],
      "metadata": {
        "colab": {
          "base_uri": "https://localhost:8080/"
        },
        "id": "k3FeE2L6Z7Vb",
        "outputId": "ee64efa0-4e8c-4a15-a922-9366f4cf1638"
      },
      "execution_count": 199,
      "outputs": [
        {
          "output_type": "execute_result",
          "data": {
            "text/plain": [
              "array([[ 0,  1,  2,  3,  4,  5,  6,  7],\n",
              "       [ 8,  9, 10, 11, 12, 13, 14, 15],\n",
              "       [16, 17, 18, 19, 20, 21, 22, 23]])"
            ]
          },
          "metadata": {},
          "execution_count": 199
        }
      ]
    },
    {
      "cell_type": "code",
      "source": [
        "#value error => 크기가 맞게 () 안의 숫자를 조정해줘야함\n",
        "b= a.reshape(2,3,4)\n",
        "b"
      ],
      "metadata": {
        "colab": {
          "base_uri": "https://localhost:8080/"
        },
        "id": "dqJJQ7NDZ7To",
        "outputId": "dfb9ee7e-5dc9-45fc-9e65-8b36df04413f"
      },
      "execution_count": 200,
      "outputs": [
        {
          "output_type": "execute_result",
          "data": {
            "text/plain": [
              "array([[[ 0,  1,  2,  3],\n",
              "        [ 4,  5,  6,  7],\n",
              "        [ 8,  9, 10, 11]],\n",
              "\n",
              "       [[12, 13, 14, 15],\n",
              "        [16, 17, 18, 19],\n",
              "        [20, 21, 22, 23]]])"
            ]
          },
          "metadata": {},
          "execution_count": 200
        }
      ]
    },
    {
      "cell_type": "code",
      "source": [
        "# 음수를 쓰면 알아서 shape를 맞춘다\n",
        "#음수값은 아무거나 상관없다 .\n",
        "b = a.reshape(2,3,-1)\n",
        "b"
      ],
      "metadata": {
        "colab": {
          "base_uri": "https://localhost:8080/"
        },
        "id": "Zzyaeapeaiwf",
        "outputId": "f7e15e5d-f0a2-4c26-e34e-e2ebf3bb3135"
      },
      "execution_count": 201,
      "outputs": [
        {
          "output_type": "execute_result",
          "data": {
            "text/plain": [
              "array([[[ 0,  1,  2,  3],\n",
              "        [ 4,  5,  6,  7],\n",
              "        [ 8,  9, 10, 11]],\n",
              "\n",
              "       [[12, 13, 14, 15],\n",
              "        [16, 17, 18, 19],\n",
              "        [20, 21, 22, 23]]])"
            ]
          },
          "metadata": {},
          "execution_count": 201
        }
      ]
    },
    {
      "cell_type": "code",
      "source": [
        "b = a.reshape(2,3,-100)\n",
        "b"
      ],
      "metadata": {
        "colab": {
          "base_uri": "https://localhost:8080/"
        },
        "id": "9PK2fzcTayfM",
        "outputId": "57f18e16-7590-4a7c-e698-523b6e90edb7"
      },
      "execution_count": 202,
      "outputs": [
        {
          "output_type": "execute_result",
          "data": {
            "text/plain": [
              "array([[[ 0,  1,  2,  3],\n",
              "        [ 4,  5,  6,  7],\n",
              "        [ 8,  9, 10, 11]],\n",
              "\n",
              "       [[12, 13, 14, 15],\n",
              "        [16, 17, 18, 19],\n",
              "        [20, 21, 22, 23]]])"
            ]
          },
          "metadata": {},
          "execution_count": 202
        }
      ]
    },
    {
      "cell_type": "code",
      "source": [
        "b = a.reshape(3,4,-1)\n",
        "b"
      ],
      "metadata": {
        "colab": {
          "base_uri": "https://localhost:8080/"
        },
        "id": "lSSik_L5aydA",
        "outputId": "44823a9d-a82a-4391-ff01-a5dae5073d6d"
      },
      "execution_count": 203,
      "outputs": [
        {
          "output_type": "execute_result",
          "data": {
            "text/plain": [
              "array([[[ 0,  1],\n",
              "        [ 2,  3],\n",
              "        [ 4,  5],\n",
              "        [ 6,  7]],\n",
              "\n",
              "       [[ 8,  9],\n",
              "        [10, 11],\n",
              "        [12, 13],\n",
              "        [14, 15]],\n",
              "\n",
              "       [[16, 17],\n",
              "        [18, 19],\n",
              "        [20, 21],\n",
              "        [22, 23]]])"
            ]
          },
          "metadata": {},
          "execution_count": 203
        }
      ]
    },
    {
      "cell_type": "code",
      "source": [
        "b= a.reshape(3,-1,2)\n",
        "b"
      ],
      "metadata": {
        "id": "p9cuPByYfP8h",
        "outputId": "8fcaeff5-5f12-4cf9-94c1-299f6ded7384",
        "colab": {
          "base_uri": "https://localhost:8080/"
        }
      },
      "execution_count": 204,
      "outputs": [
        {
          "output_type": "execute_result",
          "data": {
            "text/plain": [
              "array([[[ 0,  1],\n",
              "        [ 2,  3],\n",
              "        [ 4,  5],\n",
              "        [ 6,  7]],\n",
              "\n",
              "       [[ 8,  9],\n",
              "        [10, 11],\n",
              "        [12, 13],\n",
              "        [14, 15]],\n",
              "\n",
              "       [[16, 17],\n",
              "        [18, 19],\n",
              "        [20, 21],\n",
              "        [22, 23]]])"
            ]
          },
          "metadata": {},
          "execution_count": 204
        }
      ]
    },
    {
      "cell_type": "markdown",
      "source": [],
      "metadata": {
        "id": "VDTYXDOFOfcA"
      }
    },
    {
      "cell_type": "markdown",
      "source": [
        "#resize"
      ],
      "metadata": {
        "id": "uEMQlRccOdri"
      }
    },
    {
      "cell_type": "markdown",
      "source": [
        "size의 원소개수를 알려준다"
      ],
      "metadata": {
        "id": "40TAv52lOgFH"
      }
    },
    {
      "cell_type": "code",
      "source": [
        "#mutable이다. return이 없고 자기 자신을 바꾼다.\n",
        "#원래의 원소 개수와 변경하는 원소 개수가 안 맞아도 된다. (0으로 채워준다) => reshape와 차이점 2\n",
        "a= np.arange(24)\n",
        "print(a.size)\n",
        "print(len(a))"
      ],
      "metadata": {
        "colab": {
          "base_uri": "https://localhost:8080/"
        },
        "id": "akYCmYkJOjdi",
        "outputId": "c6546f57-5110-41a4-e6a3-caf6176e8a83"
      },
      "execution_count": 205,
      "outputs": [
        {
          "output_type": "stream",
          "name": "stdout",
          "text": [
            "24\n",
            "24\n"
          ]
        }
      ]
    },
    {
      "cell_type": "code",
      "source": [
        "#원래의 원소 개수보다 작으면 버린다.\n",
        "b= np.arange(24)\n",
        "b.resize(2,3,8)\n",
        "b"
      ],
      "metadata": {
        "colab": {
          "base_uri": "https://localhost:8080/"
        },
        "id": "W8_XctS6Ox38",
        "outputId": "91115baf-17ea-4368-cc2e-44fe0f9bf85c"
      },
      "execution_count": 206,
      "outputs": [
        {
          "output_type": "execute_result",
          "data": {
            "text/plain": [
              "array([[[ 0,  1,  2,  3,  4,  5,  6,  7],\n",
              "        [ 8,  9, 10, 11, 12, 13, 14, 15],\n",
              "        [16, 17, 18, 19, 20, 21, 22, 23]],\n",
              "\n",
              "       [[ 0,  0,  0,  0,  0,  0,  0,  0],\n",
              "        [ 0,  0,  0,  0,  0,  0,  0,  0],\n",
              "        [ 0,  0,  0,  0,  0,  0,  0,  0]]])"
            ]
          },
          "metadata": {},
          "execution_count": 206
        }
      ]
    },
    {
      "cell_type": "markdown",
      "source": [
        "## array 쪼개기\n"
      ],
      "metadata": {
        "id": "NZmUbgUtP9Oh"
      }
    },
    {
      "cell_type": "markdown",
      "source": [
        "split"
      ],
      "metadata": {
        "id": "-v_ApJsTQDEI"
      }
    },
    {
      "cell_type": "code",
      "source": [
        "a = np. arange(24)\n",
        "a"
      ],
      "metadata": {
        "colab": {
          "base_uri": "https://localhost:8080/"
        },
        "id": "rJ_zrLcFQEZY",
        "outputId": "5f021bf6-1efd-4a6a-eb59-e51a7ad7f4a5"
      },
      "execution_count": 212,
      "outputs": [
        {
          "output_type": "execute_result",
          "data": {
            "text/plain": [
              "array([ 0,  1,  2,  3,  4,  5,  6,  7,  8,  9, 10, 11, 12, 13, 14, 15, 16,\n",
              "       17, 18, 19, 20, 21, 22, 23])"
            ]
          },
          "metadata": {},
          "execution_count": 212
        }
      ]
    },
    {
      "cell_type": "code",
      "source": [
        "b= np.split(a,3, axis=0)  #축 : 0\n",
        "print(b)\n",
        "print(type(b))\n"
      ],
      "metadata": {
        "colab": {
          "base_uri": "https://localhost:8080/"
        },
        "id": "v5hIDD2jQIto",
        "outputId": "e8b08bcb-6dc0-417b-db03-04dc3edc38ed"
      },
      "execution_count": 208,
      "outputs": [
        {
          "output_type": "execute_result",
          "data": {
            "text/plain": [
              "[array([0, 1, 2, 3, 4, 5, 6, 7]),\n",
              " array([ 8,  9, 10, 11, 12, 13, 14, 15]),\n",
              " array([16, 17, 18, 19, 20, 21, 22, 23])]"
            ]
          },
          "metadata": {},
          "execution_count": 208
        }
      ]
    },
    {
      "cell_type": "code",
      "source": [
        "# 0부터 5 미만 인덱스\n",
        "# 5이상 8 미만 인덱스\n",
        "# 8이상 13미만 인덱스\n",
        "#13이상 인덱스\n",
        "\n",
        "np.split(a, [5, 8, 13])"
      ],
      "metadata": {
        "colab": {
          "base_uri": "https://localhost:8080/"
        },
        "id": "c3TDrOaTQCFb",
        "outputId": "ecd42f14-50d0-4820-ff52-db04d731c3c9"
      },
      "execution_count": 214,
      "outputs": [
        {
          "output_type": "execute_result",
          "data": {
            "text/plain": [
              "[array([0, 1, 2, 3, 4]),\n",
              " array([5, 6, 7]),\n",
              " array([ 8,  9, 10, 11, 12]),\n",
              " array([13, 14, 15, 16, 17, 18, 19, 20, 21, 22, 23])]"
            ]
          },
          "metadata": {},
          "execution_count": 214
        }
      ]
    },
    {
      "cell_type": "markdown",
      "source": [
        "hsplit & vsplit"
      ],
      "metadata": {
        "id": "O6szrBFOSVE3"
      }
    },
    {
      "cell_type": "code",
      "source": [
        "a = np.arange(24)\n",
        "b = a.reshape (4,6)\n",
        "b"
      ],
      "metadata": {
        "colab": {
          "base_uri": "https://localhost:8080/"
        },
        "id": "3kahMZcwSZm-",
        "outputId": "00932e83-13bf-42be-e293-cf6cd133d6c1"
      },
      "execution_count": 216,
      "outputs": [
        {
          "output_type": "execute_result",
          "data": {
            "text/plain": [
              "array([[ 0,  1,  2,  3,  4,  5],\n",
              "       [ 6,  7,  8,  9, 10, 11],\n",
              "       [12, 13, 14, 15, 16, 17],\n",
              "       [18, 19, 20, 21, 22, 23]])"
            ]
          },
          "metadata": {},
          "execution_count": 216
        }
      ]
    },
    {
      "cell_type": "code",
      "source": [
        "np.split(b,2, axis =0)  #b는 2차원이므로 axis= 0의 의미는 행이다."
      ],
      "metadata": {
        "colab": {
          "base_uri": "https://localhost:8080/"
        },
        "id": "GJMeRQSFShOQ",
        "outputId": "9bf6e2c6-75ea-4d54-973e-92b1c597859a"
      },
      "execution_count": 218,
      "outputs": [
        {
          "output_type": "execute_result",
          "data": {
            "text/plain": [
              "[array([[ 0,  1,  2,  3,  4,  5],\n",
              "        [ 6,  7,  8,  9, 10, 11]]),\n",
              " array([[12, 13, 14, 15, 16, 17],\n",
              "        [18, 19, 20, 21, 22, 23]])]"
            ]
          },
          "metadata": {},
          "execution_count": 218
        }
      ]
    },
    {
      "cell_type": "code",
      "source": [
        "# 2차원이므로 axis=1을 사용할 수 없다.\n",
        "np.split(b, 2, axis=1) # b는 2차원이므로 axis =1의 의미는 열이다."
      ],
      "metadata": {
        "colab": {
          "base_uri": "https://localhost:8080/"
        },
        "id": "rLAOD1XHStZf",
        "outputId": "5f25674c-e5f0-4cb8-decf-02ac7db9890a"
      },
      "execution_count": 219,
      "outputs": [
        {
          "output_type": "execute_result",
          "data": {
            "text/plain": [
              "[array([[ 0,  1,  2],\n",
              "        [ 6,  7,  8],\n",
              "        [12, 13, 14],\n",
              "        [18, 19, 20]]),\n",
              " array([[ 3,  4,  5],\n",
              "        [ 9, 10, 11],\n",
              "        [15, 16, 17],\n",
              "        [21, 22, 23]])]"
            ]
          },
          "metadata": {},
          "execution_count": 219
        }
      ]
    },
    {
      "cell_type": "code",
      "source": [
        "# vertical (수직)\n",
        "np. vsplit(b,2)    #np.split(b,2 axis=0)과 같은결과"
      ],
      "metadata": {
        "colab": {
          "base_uri": "https://localhost:8080/"
        },
        "id": "i7FK840qSP-M",
        "outputId": "ddbad00f-1d14-4ebc-9367-aca549dd9112"
      },
      "execution_count": 221,
      "outputs": [
        {
          "output_type": "execute_result",
          "data": {
            "text/plain": [
              "[array([[ 0,  1,  2,  3,  4,  5],\n",
              "        [ 6,  7,  8,  9, 10, 11]]),\n",
              " array([[12, 13, 14, 15, 16, 17],\n",
              "        [18, 19, 20, 21, 22, 23]])]"
            ]
          },
          "metadata": {},
          "execution_count": 221
        }
      ]
    },
    {
      "cell_type": "code",
      "source": [
        "# horizental (수평)\n",
        "np.hsplit(b,2)  # np split(b,2, axis=1)과 결과가 같음"
      ],
      "metadata": {
        "colab": {
          "base_uri": "https://localhost:8080/"
        },
        "id": "Oww8kY_yTrq3",
        "outputId": "fe9e8df2-28dd-4779-ad84-c392ed24847c"
      },
      "execution_count": 222,
      "outputs": [
        {
          "output_type": "execute_result",
          "data": {
            "text/plain": [
              "[array([[ 0,  1,  2],\n",
              "        [ 6,  7,  8],\n",
              "        [12, 13, 14],\n",
              "        [18, 19, 20]]),\n",
              " array([[ 3,  4,  5],\n",
              "        [ 9, 10, 11],\n",
              "        [15, 16, 17],\n",
              "        [21, 22, 23]])]"
            ]
          },
          "metadata": {},
          "execution_count": 222
        }
      ]
    },
    {
      "cell_type": "markdown",
      "source": [],
      "metadata": {
        "id": "_xTMxN9VP9MI"
      }
    },
    {
      "cell_type": "markdown",
      "source": [],
      "metadata": {
        "id": "WbWRF3qdOdpg"
      }
    }
  ]
}