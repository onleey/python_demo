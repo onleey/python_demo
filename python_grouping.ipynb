{
  "nbformat": 4,
  "nbformat_minor": 0,
  "metadata": {
    "colab": {
      "provenance": [],
      "authorship_tag": "ABX9TyOd9bmeI3+Znbn8kOn7NPtT",
      "include_colab_link": true
    },
    "kernelspec": {
      "name": "python3",
      "display_name": "Python 3"
    },
    "language_info": {
      "name": "python"
    }
  },
  "cells": [
    {
      "cell_type": "markdown",
      "metadata": {
        "id": "view-in-github",
        "colab_type": "text"
      },
      "source": [
        "<a href=\"https://colab.research.google.com/github/onleey/python_demo/blob/master/python_grouping.ipynb\" target=\"_parent\"><img src=\"https://colab.research.google.com/assets/colab-badge.svg\" alt=\"Open In Colab\"/></a>"
      ]
    },
    {
      "cell_type": "markdown",
      "source": [
        "##그룹핑\n",
        "문자열이 계속해서 반복되는지 조사하는 정규식"
      ],
      "metadata": {
        "id": "xTIlxnJ01kS3"
      }
    },
    {
      "cell_type": "markdown",
      "source": [
        "( ) : 그룹을 만들어 주는 메타 문자이다.\n",
        "group( ) group(0) group(1) group(2)\n"
      ],
      "metadata": {
        "id": "KQBFqgVw1q2c"
      }
    },
    {
      "cell_type": "code",
      "source": [
        "import re"
      ],
      "metadata": {
        "id": "dewTpnM43Bhc"
      },
      "execution_count": 1,
      "outputs": []
    },
    {
      "cell_type": "code",
      "source": [
        "p = re.compile(r'(ABC)+')\n",
        "m = p.search('ABCABCABC OK!')\n",
        "print(m)\n",
        "print(m.group() ,m.start(), m.end())\n",
        "print(m.group(0), m.start(), m.end())\n",
        "print(m.group(1) ,m.start(), m.end())\n",
        "## print(m.group(2)) #IndexError 오류 발생"
      ],
      "metadata": {
        "colab": {
          "base_uri": "https://localhost:8080/"
        },
        "id": "lDnc3XBF3Dmc",
        "outputId": "15972c37-9ff3-435e-d631-5bc85daf1bf0"
      },
      "execution_count": 12,
      "outputs": [
        {
          "output_type": "stream",
          "name": "stdout",
          "text": [
            "<re.Match object; span=(0, 9), match='ABCABCABC'>\n",
            "ABCABCABC 0 9\n",
            "ABCABCABC 0 9\n",
            "ABC 0 9\n"
          ]
        }
      ]
    },
    {
      "cell_type": "code",
      "source": [
        "r = re.compile('\\w+\\s+(\\d+[-]?){3}')  #? 는 1개 아니면 0개의 뜻\n",
        "m = r.search('park 010-1234-3345')\n",
        "print(m)\n",
        "print(m.group() ,m.start(), m.end())\n",
        "print(m.group(0), m.start(), m.end())\n",
        "print(m.group(1) ,m.start(), m.end())\n",
        "#print(m.group(1) ,m.start(), m.end()) IndexError\n",
        "\n"
      ],
      "metadata": {
        "colab": {
          "base_uri": "https://localhost:8080/"
        },
        "id": "o86RSs1A4hP5",
        "outputId": "6e6b7f44-6964-4315-ae5c-5ad2f173199d"
      },
      "execution_count": 18,
      "outputs": [
        {
          "output_type": "stream",
          "name": "stdout",
          "text": [
            "<re.Match object; span=(0, 18), match='park 010-1234-3345'>\n",
            "park 010-1234-3345 0 18\n",
            "park 010-1234-3345 0 18\n",
            "3345 0 18\n"
          ]
        }
      ]
    },
    {
      "cell_type": "code",
      "source": [
        "r = re.compile('(\\w+)\\s+((\\d+)-\\d+-\\d+)')  #그룹핑의 인덱스는 왼쪽에서 오른쪽, 바깥에서 안쪽으로\n",
        "m = r.search('park 010-1234-3345')\n",
        "print(m)\n",
        "print(m.group() ,m.start(), m.end())\n",
        "print(m.group(0), m.start(), m.end())\n",
        "print(m.group(1) ,m.start(), m.end()) # (\\w+)\n",
        "print(m.group(2), m.start(), m.end()) # ((\\d+)-\\d+-\\d+)\n",
        "print(m.group(3) ,m.start(), m.end()) # (\\d+)"
      ],
      "metadata": {
        "colab": {
          "base_uri": "https://localhost:8080/"
        },
        "id": "28jHt3CM55gE",
        "outputId": "4e9fc457-4731-4b1a-9339-5554d432cdf6"
      },
      "execution_count": 21,
      "outputs": [
        {
          "output_type": "stream",
          "name": "stdout",
          "text": [
            "<re.Match object; span=(0, 18), match='park 010-1234-3345'>\n",
            "park 010-1234-3345 0 18\n",
            "park 010-1234-3345 0 18\n",
            "park 0 18\n",
            "010-1234-3345 0 18\n",
            "010 0 18\n"
          ]
        }
      ]
    },
    {
      "cell_type": "code",
      "source": [
        "#?P <그룹명>\n",
        "r = re.compile('(?P<name>\\w+)\\s+(?P<phone>(?P<ko>\\d+)-\\d+-\\d+)')  #그룹핑의 인덱스는 왼쪽에서 오른쪽, 바깥에서 안쪽으로\n",
        "m = r.search('park 010-1234-3345')\n",
        "print(m)\n",
        "print(m.group() ,m.start(), m.end())\n",
        "print(m.group(0), m.start(), m.end())\n",
        "print(m.group(1), m.group('name'))\n",
        "print(m.group(2), m.group('phone'))\n",
        "print(m.group(3),m.group('ko'))"
      ],
      "metadata": {
        "colab": {
          "base_uri": "https://localhost:8080/"
        },
        "id": "FpXq73LN6StV",
        "outputId": "3ee904c7-a902-4c2a-8e76-62b16552d190"
      },
      "execution_count": 24,
      "outputs": [
        {
          "output_type": "stream",
          "name": "stdout",
          "text": [
            "<re.Match object; span=(0, 18), match='park 010-1234-3345'>\n",
            "park 010-1234-3345 0 18\n",
            "park 010-1234-3345 0 18\n",
            "park park\n",
            "010-1234-3345 010-1234-3345\n",
            "010 010\n"
          ]
        }
      ]
    },
    {
      "cell_type": "code",
      "source": [
        "r = re.compile('.+:')\n",
        "m = r.search ('http://google.com')\n",
        "print(m)\n"
      ],
      "metadata": {
        "colab": {
          "base_uri": "https://localhost:8080/"
        },
        "id": "dsxcrpEa8PRW",
        "outputId": "dcdecb48-1082-4377-c363-04ac9d70ef17"
      },
      "execution_count": 26,
      "outputs": [
        {
          "output_type": "stream",
          "name": "stdout",
          "text": [
            "<re.Match object; span=(0, 5), match='http:'>\n"
          ]
        }
      ]
    },
    {
      "cell_type": "code",
      "source": [
        "r = re.compile('.+(?=:)')\n",
        "m = r.search ('http://google.com')\n",
        "print(m)"
      ],
      "metadata": {
        "colab": {
          "base_uri": "https://localhost:8080/"
        },
        "id": "Fxd4Rufu8iKq",
        "outputId": "76cfdc45-ba1f-457e-f9d9-85bf632d154a"
      },
      "execution_count": 34,
      "outputs": [
        {
          "output_type": "stream",
          "name": "stdout",
          "text": [
            "<re.Match object; span=(0, 4), match='http'>\n"
          ]
        }
      ]
    },
    {
      "cell_type": "code",
      "source": [
        "r = re.compile('(?=:).+')\n",
        "m = r.search ('http://google.com')\n",
        "print(m)"
      ],
      "metadata": {
        "colab": {
          "base_uri": "https://localhost:8080/"
        },
        "id": "dlaAY-OO9Jea",
        "outputId": "87fe3fa2-f1c1-4cbe-ba34-7ecef6bfb73e"
      },
      "execution_count": 35,
      "outputs": [
        {
          "output_type": "stream",
          "name": "stdout",
          "text": [
            "<re.Match object; span=(4, 17), match='://google.com'>\n"
          ]
        }
      ]
    },
    {
      "cell_type": "code",
      "source": [
        "r = re.compile('(?=.*:).+')\n",
        "m = r.search ('http://google.com')\n",
        "print(m)"
      ],
      "metadata": {
        "colab": {
          "base_uri": "https://localhost:8080/"
        },
        "id": "-6P7W6lh9QpK",
        "outputId": "cb10074e-b90a-42a5-9e92-d47ec684c59c"
      },
      "execution_count": 41,
      "outputs": [
        {
          "output_type": "stream",
          "name": "stdout",
          "text": [
            "<re.Match object; span=(0, 17), match='http://google.com'>\n"
          ]
        }
      ]
    },
    {
      "cell_type": "code",
      "source": [
        "r = re.compile('[:].+')  #[]는 소멸문자로 처리\n",
        "m = r.search ('http://google.com')\n",
        "print(m)"
      ],
      "metadata": {
        "colab": {
          "base_uri": "https://localhost:8080/"
        },
        "id": "2lOPSQnv9yFS",
        "outputId": "622c285a-2cd4-471f-93c2-5d98058f0e20"
      },
      "execution_count": 44,
      "outputs": [
        {
          "output_type": "stream",
          "name": "stdout",
          "text": [
            "<re.Match object; span=(4, 17), match='://google.com'>\n"
          ]
        }
      ]
    },
    {
      "cell_type": "code",
      "source": [
        "# \\n \\t \\b \\\\ \\' \\''\n",
        "r = re.compile('\\section') #\\s 는 공백으로 처리\n",
        "m = r.match (' ection')\n",
        "print(m)"
      ],
      "metadata": {
        "colab": {
          "base_uri": "https://localhost:8080/"
        },
        "id": "Fgll0qhUCG65",
        "outputId": "86d2f73d-3ae9-4bf8-e59a-b3275adc62f5"
      },
      "execution_count": 47,
      "outputs": [
        {
          "output_type": "stream",
          "name": "stdout",
          "text": [
            "<re.Match object; span=(0, 7), match=' ection'>\n"
          ]
        }
      ]
    },
    {
      "cell_type": "code",
      "source": [
        "r = re.compile(r'\\\\section')   # Ws공백, r은 raw string(일반문자열)의미\n",
        "m = r.match('\\section')\n",
        "print(m)"
      ],
      "metadata": {
        "colab": {
          "base_uri": "https://localhost:8080/"
        },
        "id": "8ZPv3kt0DMmk",
        "outputId": "3d895cfc-9626-4b1f-fd3e-a447e165aec3"
      },
      "execution_count": 60,
      "outputs": [
        {
          "output_type": "stream",
          "name": "stdout",
          "text": [
            "<re.Match object; span=(0, 8), match='\\\\section'>\n"
          ]
        }
      ]
    },
    {
      "cell_type": "code",
      "source": [
        "r = re.compile(r'section')   # Ws공백, r은 raw string(일반문자열)의미\n",
        "m = r.search('section')\n",
        "print(m)"
      ],
      "metadata": {
        "colab": {
          "base_uri": "https://localhost:8080/"
        },
        "id": "NxmscnCOE9q5",
        "outputId": "10b29b52-607a-414b-e81d-56e4ef4a04e1"
      },
      "execution_count": 62,
      "outputs": [
        {
          "output_type": "stream",
          "name": "stdout",
          "text": [
            "<re.Match object; span=(0, 7), match='section'>\n"
          ]
        }
      ]
    },
    {
      "cell_type": "markdown",
      "source": [
        "```\n",
        "아이디 정규표현식\n",
        "\n",
        "1. 전체길이 5~8자\n",
        "2. 영문자로 시작\n",
        "3. 숫자가 2개이상 포함되어있어야함\n",
        "4. 2자이상의 반복문자가 연속 2번 있으면 안됨.\n",
        "```"
      ],
      "metadata": {
        "id": "4NBW-Vs7Ff7T"
      }
    },
    {
      "cell_type": "code",
      "source": [
        "id = 'golee23'\n",
        "r = re.compile(r'^(?=.*\\d+.*\\d+)(?!.*(\\w{2})\\1)[a-zA-Z][a-zA-Z0-9]{4,7}$')\n",
        "m = re.search(r,id)\n",
        "print(m)"
      ],
      "metadata": {
        "colab": {
          "base_uri": "https://localhost:8080/"
        },
        "id": "6NfWcDC6Fu3v",
        "outputId": "8bc05124-8acc-4c16-92c5-03cf7a438a0f"
      },
      "execution_count": 125,
      "outputs": [
        {
          "output_type": "stream",
          "name": "stdout",
          "text": [
            "<re.Match object; span=(0, 7), match='golee23'>\n"
          ]
        }
      ]
    },
    {
      "cell_type": "code",
      "source": [
        "id = 'golee23'\n",
        "r = re.compile(r'^(?=.*\\d+.*\\d+)(?!.*(\\w{2})\\1)[a-zA-Z][a-zA-Z0-9]{4,7}$')\n",
        "m = re.search(r,id)\n",
        "print(m)\n",
        "\n",
        "\n",
        "if m :\n",
        "  print('ok')\n",
        "else:\n",
        "  print('다시입력하세요')"
      ],
      "metadata": {
        "colab": {
          "base_uri": "https://localhost:8080/"
        },
        "id": "H4l_Rl0FFjbA",
        "outputId": "36abdb73-df32-499f-e0db-84c77770887e"
      },
      "execution_count": 127,
      "outputs": [
        {
          "output_type": "stream",
          "name": "stdout",
          "text": [
            "<re.Match object; span=(0, 7), match='golee23'>\n",
            "ok\n"
          ]
        }
      ]
    }
  ]
}