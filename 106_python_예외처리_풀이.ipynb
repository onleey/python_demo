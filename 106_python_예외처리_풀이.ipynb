{
  "nbformat": 4,
  "nbformat_minor": 0,
  "metadata": {
    "colab": {
      "provenance": [],
      "authorship_tag": "ABX9TyOh9zq+706i7voQPekT3Nok",
      "include_colab_link": true
    },
    "kernelspec": {
      "name": "python3",
      "display_name": "Python 3"
    },
    "language_info": {
      "name": "python"
    }
  },
  "cells": [
    {
      "cell_type": "markdown",
      "metadata": {
        "id": "view-in-github",
        "colab_type": "text"
      },
      "source": [
        "<a href=\"https://colab.research.google.com/github/onleey/python_demo/blob/master/106_python_%EC%98%88%EC%99%B8%EC%B2%98%EB%A6%AC_%ED%92%80%EC%9D%B4.ipynb\" target=\"_parent\"><img src=\"https://colab.research.google.com/assets/colab-badge.svg\" alt=\"Open In Colab\"/></a>"
      ]
    },
    {
      "cell_type": "code",
      "execution_count": 1,
      "metadata": {
        "id": "kjIGP3W4ywZp"
      },
      "outputs": [],
      "source": [
        "class InvalidException(Exception):\n",
        "    def __init__ (self):\n",
        "      super().__init__('입력값에 오류가 있습니다.')"
      ]
    },
    {
      "cell_type": "code",
      "source": [
        "class Calculator:\n",
        "\n",
        "    @staticmethod\n",
        "    def getsum(data):\n",
        "      total = 0.0\n",
        "      if( data < 2 or data > 5):\n",
        "        try:\n",
        "          raise InvalidException\n",
        "        except InvalidException as e :\n",
        "          print(e)\n",
        "          print('2보다 크거나 같고 5보다 작거나 같아야 한다. ')\n",
        "\n",
        "      else:\n",
        "        for i in range(1, data+1):\n",
        "          total += i\n",
        "      return total\n",
        "\n",
        "if __name__ == '__main__' :\n",
        "  data = int(input('숫자입력:'))\n",
        "  res = Calculator.getsum(data)\n",
        "  print('결과값:',res)"
      ],
      "metadata": {
        "colab": {
          "base_uri": "https://localhost:8080/"
        },
        "id": "cWs-hGWTzLjB",
        "outputId": "8691c0a9-8c7b-4712-ed56-b3b36abc9108"
      },
      "execution_count": 9,
      "outputs": [
        {
          "output_type": "stream",
          "name": "stdout",
          "text": [
            "숫자입력:23\n",
            "입력값에 오류가 있습니다.\n",
            "2보다 크거나 같고 5보다 작거나 같아야 한다. \n",
            "결과값: 0.0\n"
          ]
        }
      ]
    },
    {
      "cell_type": "code",
      "source": [
        "class Calculator:\n",
        "\n",
        "    @staticmethod\n",
        "    def getsum(data):\n",
        "      total = 0.0\n",
        "      try:\n",
        "         if( data < 2 or data > 5):\n",
        "            raise InvalidException\n",
        "\n",
        "         else:\n",
        "            for i in range(1, data+1):\n",
        "             total += i\n",
        "\n",
        "      except InvalidException as e :\n",
        "          print(e)\n",
        "          print('2보다 크거나 같고 5보다 작거나 같아야 한다. ')\n",
        "\n",
        "\n",
        "      return total\n",
        "\n",
        "if __name__ == '__main__' :\n",
        "  data = int(input('숫자입력:'))\n",
        "  res = Calculator.getsum(data)\n",
        "  print('결과값:',res)"
      ],
      "metadata": {
        "colab": {
          "base_uri": "https://localhost:8080/"
        },
        "id": "bvjQRxiz5yZB",
        "outputId": "54299644-8af8-4991-c444-53b563d8bf43"
      },
      "execution_count": 18,
      "outputs": [
        {
          "output_type": "stream",
          "name": "stdout",
          "text": [
            "숫자입력:222\n",
            "입력값에 오류가 있습니다.\n",
            "2보다 크거나 같고 5보다 작거나 같아야 한다. \n",
            "결과값: 0.0\n"
          ]
        }
      ]
    }
  ]
}