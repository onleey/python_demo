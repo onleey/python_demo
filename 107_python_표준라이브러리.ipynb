{
  "nbformat": 4,
  "nbformat_minor": 0,
  "metadata": {
    "colab": {
      "provenance": [],
      "authorship_tag": "ABX9TyNepD4YmbS+ESFFVqtBJOCf",
      "include_colab_link": true
    },
    "kernelspec": {
      "name": "python3",
      "display_name": "Python 3"
    },
    "language_info": {
      "name": "python"
    }
  },
  "cells": [
    {
      "cell_type": "markdown",
      "metadata": {
        "id": "view-in-github",
        "colab_type": "text"
      },
      "source": [
        "<a href=\"https://colab.research.google.com/github/onleey/python_demo/blob/master/107_python_%ED%91%9C%EC%A4%80%EB%9D%BC%EC%9D%B4%EB%B8%8C%EB%9F%AC%EB%A6%AC.ipynb\" target=\"_parent\"><img src=\"https://colab.research.google.com/assets/colab-badge.svg\" alt=\"Open In Colab\"/></a>"
      ]
    },
    {
      "cell_type": "code",
      "execution_count": 1,
      "metadata": {
        "colab": {
          "base_uri": "https://localhost:8080/"
        },
        "id": "Bd7q7_Ni7pXY",
        "outputId": "7cc37bb7-3a08-49d5-b181-87449e7b0c18"
      },
      "outputs": [
        {
          "output_type": "stream",
          "name": "stdout",
          "text": [
            "['MAXYEAR', 'MINYEAR', '__all__', '__builtins__', '__cached__', '__doc__', '__file__', '__loader__', '__name__', '__package__', '__spec__', 'date', 'datetime', 'datetime_CAPI', 'sys', 'time', 'timedelta', 'timezone', 'tzinfo']\n"
          ]
        }
      ],
      "source": [
        "import datetime\n",
        "\n",
        "print(dir(datetime))"
      ]
    },
    {
      "cell_type": "code",
      "source": [
        "day1 = datetime.date(2023, 11, 19)\n",
        "day2 = datetime.date(2023, 11, 22)\n",
        "\n",
        "print(type(day1))\n",
        "\n",
        "diff = day2 - day1\n",
        "\n",
        "print(type(diff))\n",
        "print(dir(diff))\n",
        "\n",
        "print(diff.days)   # 일 차이값을 리턴\n",
        "\n",
        "# 0 월요일 ~ 6 일요일\n",
        "print(day1.weekday())\n",
        "\n",
        "# 1 월요일 ~ 7 일요일\n",
        "print(day1.isoweekday())\n"
      ],
      "metadata": {
        "colab": {
          "base_uri": "https://localhost:8080/"
        },
        "id": "CtUf3Igw8XbR",
        "outputId": "b4463df7-66bd-487a-fd4a-80da27b37233"
      },
      "execution_count": 6,
      "outputs": [
        {
          "output_type": "stream",
          "name": "stdout",
          "text": [
            "<class 'datetime.date'>\n",
            "<class 'datetime.timedelta'>\n",
            "['__abs__', '__add__', '__bool__', '__class__', '__delattr__', '__dir__', '__divmod__', '__doc__', '__eq__', '__floordiv__', '__format__', '__ge__', '__getattribute__', '__gt__', '__hash__', '__init__', '__init_subclass__', '__le__', '__lt__', '__mod__', '__mul__', '__ne__', '__neg__', '__new__', '__pos__', '__radd__', '__rdivmod__', '__reduce__', '__reduce_ex__', '__repr__', '__rfloordiv__', '__rmod__', '__rmul__', '__rsub__', '__rtruediv__', '__setattr__', '__sizeof__', '__str__', '__sub__', '__subclasshook__', '__truediv__', 'days', 'max', 'microseconds', 'min', 'resolution', 'seconds', 'total_seconds']\n",
            "3\n",
            "6\n",
            "7\n"
          ]
        }
      ]
    },
    {
      "cell_type": "code",
      "source": [
        "import time\n",
        "\n",
        "print(time)\n",
        "print(dir(time))\n",
        "print(time.time())\n",
        "print(time.strftime('%x', time.localtime( time.time())))\n",
        "print(time.strftime('%c', time.localtime( time.time())))\n"
      ],
      "metadata": {
        "colab": {
          "base_uri": "https://localhost:8080/"
        },
        "id": "P941XRYl9mBR",
        "outputId": "bb34e2f9-ba69-4643-f8d6-cc815f4b8ba1"
      },
      "execution_count": 14,
      "outputs": [
        {
          "output_type": "stream",
          "name": "stdout",
          "text": [
            "<module 'time' (built-in)>\n",
            "['CLOCK_BOOTTIME', 'CLOCK_MONOTONIC', 'CLOCK_MONOTONIC_RAW', 'CLOCK_PROCESS_CPUTIME_ID', 'CLOCK_REALTIME', 'CLOCK_TAI', 'CLOCK_THREAD_CPUTIME_ID', '_STRUCT_TM_ITEMS', '__doc__', '__loader__', '__name__', '__package__', '__spec__', 'altzone', 'asctime', 'clock_getres', 'clock_gettime', 'clock_gettime_ns', 'clock_settime', 'clock_settime_ns', 'ctime', 'daylight', 'get_clock_info', 'gmtime', 'localtime', 'mktime', 'monotonic', 'monotonic_ns', 'perf_counter', 'perf_counter_ns', 'process_time', 'process_time_ns', 'pthread_getcpuclockid', 'sleep', 'strftime', 'strptime', 'struct_time', 'thread_time', 'thread_time_ns', 'time', 'time_ns', 'timezone', 'tzname', 'tzset']\n",
            "1700622109.6190789\n",
            "11/22/23\n",
            "Wed Nov 22 03:01:49 2023\n"
          ]
        }
      ]
    },
    {
      "cell_type": "code",
      "source": [
        "import time\n",
        "\n",
        "for i in range(5):\n",
        " print(i)\n",
        " time.sleep(1)"
      ],
      "metadata": {
        "colab": {
          "base_uri": "https://localhost:8080/"
        },
        "id": "V-SAO9A0_MyJ",
        "outputId": "029b2afa-1534-48d4-e824-ac718aec4d24"
      },
      "execution_count": 17,
      "outputs": [
        {
          "output_type": "stream",
          "name": "stdout",
          "text": [
            "0\n",
            "1\n",
            "2\n",
            "3\n",
            "4\n"
          ]
        }
      ]
    },
    {
      "cell_type": "code",
      "source": [
        "import math\n",
        "\n",
        "print (dir(math))\n",
        "print (math.gcd(60,100,80)) # 최대공약수 (gcd,gretest common divisor )\n",
        "print (math.lcm(15,25))  # 최소 공배수 (lcm,least common multiple )"
      ],
      "metadata": {
        "colab": {
          "base_uri": "https://localhost:8080/"
        },
        "id": "IQvfJc95_koF",
        "outputId": "d5c99c21-9efa-4c7a-db49-b7d0a460ce94"
      },
      "execution_count": 20,
      "outputs": [
        {
          "output_type": "stream",
          "name": "stdout",
          "text": [
            "['__doc__', '__loader__', '__name__', '__package__', '__spec__', 'acos', 'acosh', 'asin', 'asinh', 'atan', 'atan2', 'atanh', 'ceil', 'comb', 'copysign', 'cos', 'cosh', 'degrees', 'dist', 'e', 'erf', 'erfc', 'exp', 'expm1', 'fabs', 'factorial', 'floor', 'fmod', 'frexp', 'fsum', 'gamma', 'gcd', 'hypot', 'inf', 'isclose', 'isfinite', 'isinf', 'isnan', 'isqrt', 'lcm', 'ldexp', 'lgamma', 'log', 'log10', 'log1p', 'log2', 'modf', 'nan', 'nextafter', 'perm', 'pi', 'pow', 'prod', 'radians', 'remainder', 'sin', 'sinh', 'sqrt', 'tan', 'tanh', 'tau', 'trunc', 'ulp']\n",
            "20\n",
            "75\n"
          ]
        }
      ]
    },
    {
      "cell_type": "code",
      "source": [
        "import random\n",
        "\n",
        "print(dir(random))\n",
        "\n",
        "print (random.random()) # 0부터 1 미만 [0,1]\n",
        "print (random.randint(1,10)) # 1부터 10까지\n",
        "\n",
        "data = [10,20,30,40,50]\n",
        "print(random.choice(data))\n",
        "print(random.sample(data,3))"
      ],
      "metadata": {
        "colab": {
          "base_uri": "https://localhost:8080/"
        },
        "id": "_jFnB1vAAf-z",
        "outputId": "5a9bedf4-b42b-495b-ced5-111ff314f714"
      },
      "execution_count": 29,
      "outputs": [
        {
          "output_type": "stream",
          "name": "stdout",
          "text": [
            "['BPF', 'LOG4', 'NV_MAGICCONST', 'RECIP_BPF', 'Random', 'SG_MAGICCONST', 'SystemRandom', 'TWOPI', '_ONE', '_Sequence', '_Set', '__all__', '__builtins__', '__cached__', '__doc__', '__file__', '__loader__', '__name__', '__package__', '__spec__', '_accumulate', '_acos', '_bisect', '_ceil', '_cos', '_e', '_exp', '_floor', '_index', '_inst', '_isfinite', '_log', '_os', '_pi', '_random', '_repeat', '_sha512', '_sin', '_sqrt', '_test', '_test_generator', '_urandom', '_warn', 'betavariate', 'choice', 'choices', 'expovariate', 'gammavariate', 'gauss', 'getrandbits', 'getstate', 'lognormvariate', 'normalvariate', 'paretovariate', 'randbytes', 'randint', 'random', 'randrange', 'sample', 'seed', 'setstate', 'shuffle', 'triangular', 'uniform', 'vonmisesvariate', 'weibullvariate']\n",
            "0.04901055168678459\n",
            "9\n",
            "40\n",
            "[40, 10, 30]\n"
          ]
        }
      ]
    },
    {
      "cell_type": "code",
      "source": [
        "import itertools\n",
        "\n",
        "print(dir(itertools))\n",
        "\n",
        "students = ['한민서','황지민','이영철','이광수','김승민']\n",
        "snacks = ['사탕','초콜릿','젤리']\n",
        "\n",
        "# zip과 zip_longest 공통점\n",
        "# 객체들을 묶어준다.\n",
        "# zip과 zip_longest 다른점\n",
        "# 1. zip은 짧은 객체만큼만 묶어준다.\n",
        "# 2. zip_longest는 긴 객체의 길이에 맞춰 묶어준다.\n",
        "#    이때, 기본은 짧은 객체에는 None으로 채워준다.\n",
        "#    fillvalue를 이용해서 짧은 객체에 채워줄 값을 지정해 줄 수 있다.\n",
        "\n",
        "\n",
        "\n",
        "for i in zip(students, snacks):\n",
        "  print(i)\n",
        "\n",
        "result = itertools.zip_longest(students,snacks)\n",
        "print(result)\n",
        "print(list(result))\n",
        "\n",
        "print(list(itertools.permutations([1,2,3],2)))\n",
        "print(list(itertools.combinations([1,2,3],2)))"
      ],
      "metadata": {
        "colab": {
          "base_uri": "https://localhost:8080/"
        },
        "id": "jWq06OCiF6mF",
        "outputId": "8e8805ec-9cb7-4649-bf6b-77f7dd1ffcc0"
      },
      "execution_count": 33,
      "outputs": [
        {
          "output_type": "stream",
          "name": "stdout",
          "text": [
            "['__doc__', '__loader__', '__name__', '__package__', '__spec__', '_grouper', '_tee', '_tee_dataobject', 'accumulate', 'chain', 'combinations', 'combinations_with_replacement', 'compress', 'count', 'cycle', 'dropwhile', 'filterfalse', 'groupby', 'islice', 'pairwise', 'permutations', 'product', 'repeat', 'starmap', 'takewhile', 'tee', 'zip_longest']\n",
            "('한민서', '사탕')\n",
            "('황지민', '초콜릿')\n",
            "('이영철', '젤리')\n",
            "<itertools.zip_longest object at 0x783d701f3bf0>\n",
            "[('한민서', '사탕'), ('황지민', '초콜릿'), ('이영철', '젤리'), ('이광수', None), ('김승민', None)]\n",
            "[(1, 2), (1, 3), (2, 1), (2, 3), (3, 1), (3, 2)]\n"
          ]
        }
      ]
    },
    {
      "cell_type": "code",
      "source": [
        "import functools\n",
        "\n",
        "print(dir(functools))\n",
        "\n",
        "data = [1,2,3,4,5]\n",
        "print(functools.reduce(lambda x,y : x+y, data))"
      ],
      "metadata": {
        "colab": {
          "base_uri": "https://localhost:8080/"
        },
        "id": "oLuHNzt4GH1N",
        "outputId": "32c0888a-4981-4eb3-dd7f-b72b9cd330d2"
      },
      "execution_count": 35,
      "outputs": [
        {
          "output_type": "stream",
          "name": "stdout",
          "text": [
            "['GenericAlias', 'RLock', 'WRAPPER_ASSIGNMENTS', 'WRAPPER_UPDATES', '_CacheInfo', '_HashedSeq', '_NOT_FOUND', '__all__', '__builtins__', '__cached__', '__doc__', '__file__', '__loader__', '__name__', '__package__', '__spec__', '_c3_merge', '_c3_mro', '_compose_mro', '_convert', '_find_impl', '_ge_from_gt', '_ge_from_le', '_ge_from_lt', '_gt_from_ge', '_gt_from_le', '_gt_from_lt', '_initial_missing', '_le_from_ge', '_le_from_gt', '_le_from_lt', '_lru_cache_wrapper', '_lt_from_ge', '_lt_from_gt', '_lt_from_le', '_make_key', '_unwrap_partial', 'cache', 'cached_property', 'cmp_to_key', 'get_cache_token', 'lru_cache', 'namedtuple', 'partial', 'partialmethod', 'recursive_repr', 'reduce', 'singledispatch', 'singledispatchmethod', 'total_ordering', 'update_wrapper', 'wraps']\n",
            "15\n"
          ]
        }
      ]
    },
    {
      "cell_type": "code",
      "source": [
        "from operator import itemgetter\n",
        "\n",
        "print(dir(itemgetter))"
      ],
      "metadata": {
        "colab": {
          "base_uri": "https://localhost:8080/"
        },
        "id": "C-naAU2oJ-Og",
        "outputId": "44985089-c87b-4d06-bcc5-6a490eb874d6"
      },
      "execution_count": 36,
      "outputs": [
        {
          "output_type": "stream",
          "name": "stdout",
          "text": [
            "['__call__', '__class__', '__delattr__', '__dir__', '__doc__', '__eq__', '__format__', '__ge__', '__getattribute__', '__gt__', '__hash__', '__init__', '__init_subclass__', '__le__', '__lt__', '__module__', '__ne__', '__new__', '__reduce__', '__reduce_ex__', '__repr__', '__setattr__', '__sizeof__', '__str__', '__subclasshook__']\n"
          ]
        }
      ]
    },
    {
      "cell_type": "code",
      "source": [
        "from operator import itemgetter\n",
        "\n",
        "\n",
        "\n",
        "\n",
        "result = sorted(students, key=itemgetter(0), reverse=True)\n",
        "print(result)\n",
        "\n",
        "result = sorted(students, key=itemgetter(1), reverse = True)\n",
        "print(result)\n",
        "\n",
        "result = sorted(students, key=itemgetter(2), reverse = True)\n",
        "print(result)\n",
        "\n",
        "\n"
      ],
      "metadata": {
        "colab": {
          "base_uri": "https://localhost:8080/",
          "height": 147
        },
        "id": "httjtlExKYMo",
        "outputId": "728f918d-ad43-40cd-8026-ce01ff1d3337"
      },
      "execution_count": 37,
      "outputs": [
        {
          "output_type": "error",
          "ename": "SyntaxError",
          "evalue": "ignored",
          "traceback": [
            "\u001b[0;36m  File \u001b[0;32m\"<ipython-input-37-1cadebd86da0>\"\u001b[0;36m, line \u001b[0;32m1\u001b[0m\n\u001b[0;31m    from operator impoer itemgetter\u001b[0m\n\u001b[0m                  ^\u001b[0m\n\u001b[0;31mSyntaxError\u001b[0m\u001b[0;31m:\u001b[0m invalid syntax\n"
          ]
        }
      ]
    },
    {
      "cell_type": "code",
      "source": [
        "import json\n",
        "\n",
        "print(dir(json))\n",
        "\n",
        "d= {'name':'홍길동', 'birth':'0525', 'age':30} #dict\n",
        "json_data =  json.dumps(d)\n",
        "print(type(json_data))\n",
        "print(json_data)\n",
        "\n",
        "\n",
        "n = json.loads(json_data)\n",
        "print(type(n))\n",
        "print(n)\n",
        "\n",
        "m= [10,20,30,40,50] #list\n",
        "json_m = json.dumps(m) #list ->str\n",
        "print(type(json_m)) #str\n",
        "print(json_m)\n",
        "json_m\n",
        "\n",
        "p= json.loads(json_m)\n",
        "print(type(p))\n",
        "p\n"
      ],
      "metadata": {
        "colab": {
          "base_uri": "https://localhost:8080/"
        },
        "id": "ngpyQ8fYMc8u",
        "outputId": "beebd45e-67da-4d32-cab3-7c56a1b0effc"
      },
      "execution_count": 50,
      "outputs": [
        {
          "output_type": "stream",
          "name": "stdout",
          "text": [
            "['JSONDecodeError', 'JSONDecoder', 'JSONEncoder', '__all__', '__author__', '__builtins__', '__cached__', '__doc__', '__file__', '__loader__', '__name__', '__package__', '__path__', '__spec__', '__version__', '_default_decoder', '_default_encoder', 'codecs', 'decoder', 'detect_encoding', 'dump', 'dumps', 'encoder', 'load', 'loads', 'scanner']\n",
            "<class 'str'>\n",
            "{\"name\": \"\\ud64d\\uae38\\ub3d9\", \"birth\": \"0525\", \"age\": 30}\n",
            "<class 'dict'>\n",
            "{'name': '홍길동', 'birth': '0525', 'age': 30}\n",
            "<class 'str'>\n",
            "[10, 20, 30, 40, 50]\n",
            "<class 'list'>\n"
          ]
        },
        {
          "output_type": "execute_result",
          "data": {
            "text/plain": [
              "[10, 20, 30, 40, 50]"
            ]
          },
          "metadata": {},
          "execution_count": 50
        }
      ]
    },
    {
      "cell_type": "code",
      "source": [
        "from google.colab import drive\n",
        "drive.mount('/content/drive')"
      ],
      "metadata": {
        "colab": {
          "base_uri": "https://localhost:8080/"
        },
        "id": "VP7z5PtZMc7x",
        "outputId": "06a97e04-9628-456d-9979-4a4c157f82d8"
      },
      "execution_count": 51,
      "outputs": [
        {
          "output_type": "stream",
          "name": "stdout",
          "text": [
            "Mounted at /content/drive\n"
          ]
        }
      ]
    },
    {
      "cell_type": "code",
      "source": [
        "%cd /content/drive/My Drive/001"
      ],
      "metadata": {
        "colab": {
          "base_uri": "https://localhost:8080/"
        },
        "id": "jqqEqNnuhrJb",
        "outputId": "892c8dcd-b5dc-4008-814c-8828d2f7cafd"
      },
      "execution_count": 52,
      "outputs": [
        {
          "output_type": "stream",
          "name": "stdout",
          "text": [
            "/content/drive/My Drive/001\n"
          ]
        }
      ]
    },
    {
      "cell_type": "code",
      "source": [
        "!pwd"
      ],
      "metadata": {
        "colab": {
          "base_uri": "https://localhost:8080/"
        },
        "id": "VYHhm-rdhvbK",
        "outputId": "64f5e137-8da4-4485-e1a2-a288efdc82c1"
      },
      "execution_count": 55,
      "outputs": [
        {
          "output_type": "stream",
          "name": "stdout",
          "text": [
            "/content/drive/My Drive/001\n"
          ]
        }
      ]
    },
    {
      "cell_type": "markdown",
      "source": [
        "## json\n",
        "- dumps와 loads\n",
        "  - dumps(data) : dict(list, tuple...) -> str\n",
        "  - loads(data) :  str -> dict(list, tuple...)\n",
        "- dump와 load\n",
        "  - dump(data, file) : dict(list, tuple...) -> file\n",
        "  - load(file) : file -> dict(list, tuple...)"
      ],
      "metadata": {
        "id": "c0KF05Q5jofj"
      }
    },
    {
      "cell_type": "code",
      "source": [
        "import json\n",
        "\n",
        "d= {'name':'홍길동', 'birth':'0525', 'age':30} #dict\n",
        "m= [10,20,30,40,50]\n",
        "\n",
        "with open('./001_1/jsondata.json','w') as f:\n",
        " # json.dump (d,f)  dict ->file에 저장\n",
        "  json.dump (m,f)  #list -> file에 저장\n",
        "\n",
        "\n",
        "\n",
        "with open('./001_1/jsondata.json','r') as f:\n",
        "  k= json.load(f)    # file -> dict로 읽어옴\n",
        "  print(k)\n",
        "  print(type(k))"
      ],
      "metadata": {
        "colab": {
          "base_uri": "https://localhost:8080/"
        },
        "id": "zCT9dbXphxY5",
        "outputId": "2175fe9c-0858-4f64-842b-3e85130ddb43"
      },
      "execution_count": 62,
      "outputs": [
        {
          "output_type": "stream",
          "name": "stdout",
          "text": [
            "[10, 20, 30, 40, 50]\n",
            "<class 'list'>\n"
          ]
        }
      ]
    },
    {
      "cell_type": "code",
      "source": [
        "{\n",
        "    \"schema_version\": \"v1\",\n",
        "    \"name_for_human\": \"TODO List (no auth)\",\n",
        "    \"name_for_model\": \"todo\",\n",
        "    \"description_for_human\": \"Manage your TODO list. You can add, remove and view your TODOs.\",\n",
        "    \"description_for_model\": \"Plugin for managing a TODO list, you can add, remove and view your TODOs.\",\n",
        "    \"auth\": {\n",
        "      \"type\": \"none\"\n",
        "    },\n",
        "    \"api\": {\n",
        "      \"type\": \"openapi\",\n",
        "      \"url\": \"http://localhost:5003/openapi.yaml\"\n",
        "    },\n",
        "    \"logo_url\": \"http://localhost:5003/logo.png\",\n",
        "    \"contact_email\": \"legal@example.com\",\n",
        "    \"legal_info_url\": \"http://example.com/legal\"\n",
        "  }\n",
        ""
      ],
      "metadata": {
        "colab": {
          "base_uri": "https://localhost:8080/"
        },
        "id": "sXyyQ7bxkBO8",
        "outputId": "6cc08349-2cd1-4dfe-dfc6-c245dffa9f63"
      },
      "execution_count": 63,
      "outputs": [
        {
          "output_type": "execute_result",
          "data": {
            "text/plain": [
              "{'schema_version': 'v1',\n",
              " 'name_for_human': 'TODO List (no auth)',\n",
              " 'name_for_model': 'todo',\n",
              " 'description_for_human': 'Manage your TODO list. You can add, remove and view your TODOs.',\n",
              " 'description_for_model': 'Plugin for managing a TODO list, you can add, remove and view your TODOs.',\n",
              " 'auth': {'type': 'none'},\n",
              " 'api': {'type': 'openapi', 'url': 'http://localhost:5003/openapi.yaml'},\n",
              " 'logo_url': 'http://localhost:5003/logo.png',\n",
              " 'contact_email': 'legal@example.com',\n",
              " 'legal_info_url': 'http://example.com/legal'}"
            ]
          },
          "metadata": {},
          "execution_count": 63
        }
      ]
    }
  ]
}