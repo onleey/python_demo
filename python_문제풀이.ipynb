{
  "nbformat": 4,
  "nbformat_minor": 0,
  "metadata": {
    "colab": {
      "provenance": [],
      "authorship_tag": "ABX9TyOOflfs2PJSqbfIFL3DTOZM",
      "include_colab_link": true
    },
    "kernelspec": {
      "name": "python3",
      "display_name": "Python 3"
    },
    "language_info": {
      "name": "python"
    }
  },
  "cells": [
    {
      "cell_type": "markdown",
      "metadata": {
        "id": "view-in-github",
        "colab_type": "text"
      },
      "source": [
        "<a href=\"https://colab.research.google.com/github/onleey/python_demo/blob/master/python_%EB%AC%B8%EC%A0%9C%ED%92%80%EC%9D%B4.ipynb\" target=\"_parent\"><img src=\"https://colab.research.google.com/assets/colab-badge.svg\" alt=\"Open In Colab\"/></a>"
      ]
    },
    {
      "cell_type": "markdown",
      "source": [
        "[문제1]  \n",
        "문자열 하나를 입력받아 인터넷 주소를 반환하는 make_url 함수를 정의하세요.    \n",
        "make_url(\"naver\")  \n",
        "\n",
        "[출력결과]    \n",
        "www.naver.com  "
      ],
      "metadata": {
        "id": "UurT5oC-QfqM"
      }
    },
    {
      "cell_type": "code",
      "source": [
        "string=\"naver\"\n",
        "\n",
        "def make_url(string) :\n",
        "  url = \"www.\" + string + \".com\"\n",
        "\n",
        "  return url\n",
        "\n"
      ],
      "metadata": {
        "colab": {
          "base_uri": "https://localhost:8080/"
        },
        "id": "neiXV8tcQxCM",
        "outputId": "b64b7592-31e2-40fd-df03-1708814e7797"
      },
      "execution_count": 45,
      "outputs": [
        {
          "output_type": "stream",
          "name": "stdout",
          "text": [
            "<function make_url at 0x7cc613a50280>\n"
          ]
        }
      ]
    },
    {
      "cell_type": "code",
      "source": [
        "make_url(\"naver\")"
      ],
      "metadata": {
        "colab": {
          "base_uri": "https://localhost:8080/",
          "height": 35
        },
        "id": "MyxZfP-yW6gf",
        "outputId": "14d0153b-589e-45ba-a39f-07cbdb08ec98"
      },
      "execution_count": 66,
      "outputs": [
        {
          "output_type": "execute_result",
          "data": {
            "text/plain": [
              "'www.naver.com'"
            ],
            "application/vnd.google.colaboratory.intrinsic+json": {
              "type": "string"
            }
          },
          "metadata": {},
          "execution_count": 66
        }
      ]
    },
    {
      "cell_type": "markdown",
      "source": [
        "[문제2]   \n",
        "문자열을 입력받아 각 문자들로 구성된 리스트로 반환하는 make_list 함수를 정의하세요.  \n",
        "make_list(\"abcd\")  \n",
        "\n",
        "[출력결과]\n",
        "\n",
        "['a', 'b', 'c', 'd']"
      ],
      "metadata": {
        "id": "WgbXWkvQQhr6"
      }
    },
    {
      "cell_type": "code",
      "source": [
        "make_list(\"abcd\")\n",
        "\n",
        "def make_list (string):\n",
        "  my_list=[]\n",
        "  for i in string :\n",
        "    my_list.append(i)\n",
        "  return my_list\n"
      ],
      "metadata": {
        "id": "8d7SPvIeQ3Oa"
      },
      "execution_count": 61,
      "outputs": []
    },
    {
      "cell_type": "code",
      "source": [
        "make_list(\"abcd\")"
      ],
      "metadata": {
        "colab": {
          "base_uri": "https://localhost:8080/"
        },
        "id": "38rK3LnLV5BS",
        "outputId": "a337af04-00ba-44db-d509-0456fde9a57d"
      },
      "execution_count": 67,
      "outputs": [
        {
          "output_type": "execute_result",
          "data": {
            "text/plain": [
              "['a', 'b', 'c', 'd']"
            ]
          },
          "metadata": {},
          "execution_count": 67
        }
      ]
    },
    {
      "cell_type": "markdown",
      "source": [
        "[문제3]   \n",
        "숫자로 구성된 하나의 리스트를 입력받아, 짝수들을 추출하여 리스트로 반환하는 pickup_even 함수를 구현하세요.   \n",
        "\n",
        "pickup_even([3, 4, 5, 6, 7, 8])\n",
        "\n",
        "[출력결과]   \n",
        "[4, 6, 8]"
      ],
      "metadata": {
        "id": "TpDznWfzQkPz"
      }
    },
    {
      "cell_type": "code",
      "source": [
        "a= [3, 4, 5, 6, 7, 8]\n",
        "\n",
        "for i in a:\n",
        "  if i %2 == 1 :\n",
        "   continue\n",
        "\n",
        "  print(i)"
      ],
      "metadata": {
        "colab": {
          "base_uri": "https://localhost:8080/"
        },
        "id": "W3yOC4rhQ37Z",
        "outputId": "b19def2f-56b5-4b32-d333-56e8aa4dde2a"
      },
      "execution_count": 34,
      "outputs": [
        {
          "output_type": "stream",
          "name": "stdout",
          "text": [
            "4\n",
            "6\n",
            "8\n"
          ]
        }
      ]
    },
    {
      "cell_type": "code",
      "source": [
        "def pickup_even(items):\n",
        "    result = []\n",
        "    for item in items:\n",
        "        if item % 2 == 0:\n",
        "            result.append(item)\n",
        "    return result"
      ],
      "metadata": {
        "id": "o-lsjMteXRzP"
      },
      "execution_count": 69,
      "outputs": []
    },
    {
      "cell_type": "code",
      "source": [
        "pickup_even([3, 4, 5, 6, 7, 8])"
      ],
      "metadata": {
        "colab": {
          "base_uri": "https://localhost:8080/"
        },
        "id": "fSe--vxmXRyI",
        "outputId": "bb760476-626a-46fa-c2d0-23473dd1467e"
      },
      "execution_count": 70,
      "outputs": [
        {
          "output_type": "execute_result",
          "data": {
            "text/plain": [
              "[4, 6, 8]"
            ]
          },
          "metadata": {},
          "execution_count": 70
        }
      ]
    },
    {
      "cell_type": "markdown",
      "source": [
        "[문제4]  \n",
        "콤마가 포함된 문자열 숫자를 입력받아 정수로 변환하는 convert_int 함수를 정의하세요.\n",
        "\n",
        "convert_int(\"1,234,567\")\n",
        "\n",
        "[출력결과]   \n",
        "1234567"
      ],
      "metadata": {
        "id": "WsRWLzDgQlrq"
      }
    },
    {
      "cell_type": "code",
      "source": [
        "def convert_int (string) :\n",
        "    return int(string.replace(',', ''))"
      ],
      "metadata": {
        "id": "ihpzlfcyQ4ex"
      },
      "execution_count": 65,
      "outputs": []
    },
    {
      "cell_type": "code",
      "source": [
        "convert_int(\"1,234,567\")"
      ],
      "metadata": {
        "colab": {
          "base_uri": "https://localhost:8080/"
        },
        "id": "EsByVjShXg5X",
        "outputId": "51a2a856-0403-4ec0-e32a-c89fd3787972"
      },
      "execution_count": 71,
      "outputs": [
        {
          "output_type": "execute_result",
          "data": {
            "text/plain": [
              "1234567"
            ]
          },
          "metadata": {},
          "execution_count": 71
        }
      ]
    },
    {
      "cell_type": "markdown",
      "source": [
        "[문제4]  \n",
        "세 개의 숫자를 입력받아 가장 큰수를 출력하는 print_max 함수를 정의하라. 단 if 문을 사용해서 수를 비교하세요.   \n",
        "max(10, 2, 5)\n",
        "\n",
        "[출력결과]  \n",
        "10"
      ],
      "metadata": {
        "id": "OWObU1BCQn5z"
      }
    },
    {
      "cell_type": "code",
      "source": [
        "def print_max (a,b,c):\n",
        " max_aa= 0\n",
        " if a > max_aa :\n",
        "   max_aa =a\n",
        " if b > max_aa :\n",
        "   max_aa =b\n",
        " if c > max_aa:\n",
        "   max_aa =c"
      ],
      "metadata": {
        "id": "LK7lG-OsQ4-5"
      },
      "execution_count": 74,
      "outputs": []
    },
    {
      "cell_type": "code",
      "source": [
        "max(10, 2, 5)"
      ],
      "metadata": {
        "colab": {
          "base_uri": "https://localhost:8080/"
        },
        "id": "FYQw3_OJXk-6",
        "outputId": "32481b39-efed-490a-a4aa-4632ee147ad8"
      },
      "execution_count": 75,
      "outputs": [
        {
          "output_type": "execute_result",
          "data": {
            "text/plain": [
              "10"
            ]
          },
          "metadata": {},
          "execution_count": 75
        }
      ]
    },
    {
      "cell_type": "markdown",
      "source": [
        "[문제5]    \n",
        "2 와 5의 배수가 아닌 갯수와 합계를 구하는 함수를 구현하세요.    \n",
        "\n",
        "resultr(1, 3, 5, 8, 9, 11, 15, 19, 18, 20, 30, 33, 31)  \n",
        "\n",
        "[출력결과]    \n",
        "2 와 5의 배수가 아닌 갯수 : 7    \n",
        "2 와 5의 배수가 아닌 합계 : 107   \n",
        "\n",
        "==============================================  \n",
        "result(5,2,7,9,10,8,6)     \n",
        "\n",
        "[출력결과]    \n",
        "2 와 5의 배수가 아닌 갯수 :  2\n",
        "2 와 5의 배수가 아닌 합계 :  16"
      ],
      "metadata": {
        "id": "85ukbonFQsm5"
      }
    },
    {
      "cell_type": "code",
      "source": [
        "def result(*data):\n",
        "      cnt = 0\n",
        "      total = 0\n",
        "\n",
        "      for i in data:\n",
        "        if i % 2 != 0 and i % 5 != 0:\n",
        "            cnt +=  1\n",
        "            total += i\n",
        "\n",
        "      print(\"2 와 5의 배수가 아닌 갯수 : \", cnt)\n",
        "      print(\"2 와 5의 배수가 아닌 합계 : \", total)"
      ],
      "metadata": {
        "id": "nEaTEXx5Q6Qh"
      },
      "execution_count": 89,
      "outputs": []
    },
    {
      "cell_type": "code",
      "source": [
        "result (1, 3, 5, 8, 9, 11, 15, 19, 18, 20, 30, 33, 31)"
      ],
      "metadata": {
        "colab": {
          "base_uri": "https://localhost:8080/"
        },
        "id": "3Aypcy0pQ6Po",
        "outputId": "b7fb5e87-ee17-44e6-bb5a-ae7cd327ef1c"
      },
      "execution_count": 90,
      "outputs": [
        {
          "output_type": "stream",
          "name": "stdout",
          "text": [
            "2 와 5의 배수가 아닌 갯수 :  7\n",
            "2 와 5의 배수가 아닌 합계 :  107\n"
          ]
        }
      ]
    },
    {
      "cell_type": "code",
      "source": [
        "result(5,2,7,9,10,8,6)"
      ],
      "metadata": {
        "colab": {
          "base_uri": "https://localhost:8080/"
        },
        "id": "6SticCVsZ4li",
        "outputId": "f5258f55-cdf4-47ad-ef08-97d20e68bafa"
      },
      "execution_count": 91,
      "outputs": [
        {
          "output_type": "stream",
          "name": "stdout",
          "text": [
            "2 와 5의 배수가 아닌 갯수 :  2\n",
            "2 와 5의 배수가 아닌 합계 :  16\n"
          ]
        }
      ]
    }
  ]
}