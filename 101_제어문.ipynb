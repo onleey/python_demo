{
  "nbformat": 4,
  "nbformat_minor": 0,
  "metadata": {
    "colab": {
      "provenance": [],
      "authorship_tag": "ABX9TyNi3kIwSKJ2fGA11pc2dfkW",
      "include_colab_link": true
    },
    "kernelspec": {
      "name": "python3",
      "display_name": "Python 3"
    },
    "language_info": {
      "name": "python"
    }
  },
  "cells": [
    {
      "cell_type": "markdown",
      "metadata": {
        "id": "view-in-github",
        "colab_type": "text"
      },
      "source": [
        "<a href=\"https://colab.research.google.com/github/onleey/python_demo/blob/master/101_%EC%A0%9C%EC%96%B4%EB%AC%B8.ipynb\" target=\"_parent\"><img src=\"https://colab.research.google.com/assets/colab-badge.svg\" alt=\"Open In Colab\"/></a>"
      ]
    },
    {
      "cell_type": "markdown",
      "source": [
        "## 비교연산자  \n",
        "\n",
        " - <  >  <= >= == !=  \n",
        " - 결과는 논리값 : True , False  "
      ],
      "metadata": {
        "id": "WERei9LodYMR"
      }
    },
    {
      "cell_type": "code",
      "source": [
        "print (3 < 2)\n",
        "print (3 > 2)\n",
        "print (3 == 2)\n",
        "print (3 != 2)"
      ],
      "metadata": {
        "colab": {
          "base_uri": "https://localhost:8080/"
        },
        "id": "O6CuPNGldksP",
        "outputId": "c17b70f8-c794-44fa-995e-d7d87fc665b0"
      },
      "execution_count": null,
      "outputs": [
        {
          "output_type": "stream",
          "name": "stdout",
          "text": [
            "False\n",
            "True\n",
            "False\n",
            "True\n"
          ]
        }
      ]
    },
    {
      "cell_type": "markdown",
      "source": [
        "## 논리연산자\n",
        " - & (and) ,|(or), ^ (not)    "
      ],
      "metadata": {
        "id": "oyh5M0hVeIbm"
      }
    },
    {
      "cell_type": "code",
      "source": [
        "print (True & True)\n",
        "print (True and True)\n",
        "print (True & False)\n",
        "print (True | True)\n",
        "print (True or True)\n",
        "print (True | False)\n",
        "print (not True)\n",
        "\n",
        "print (True and True)\n",
        "print (True or True)\n",
        "print (not True)"
      ],
      "metadata": {
        "colab": {
          "base_uri": "https://localhost:8080/"
        },
        "id": "ycVAn3hyeKij",
        "outputId": "13cf64d4-e3a6-41fe-f4ee-cceedae68b3b"
      },
      "execution_count": null,
      "outputs": [
        {
          "output_type": "stream",
          "name": "stdout",
          "text": [
            "True\n",
            "True\n",
            "False\n",
            "True\n",
            "True\n",
            "True\n",
            "False\n",
            "True\n",
            "True\n",
            "False\n"
          ]
        }
      ]
    },
    {
      "cell_type": "markdown",
      "source": [
        "# existance  \n",
        "-python에서 조건은 존재론(existance)적이다. => truthy, falsey  "
      ],
      "metadata": {
        "id": "0I95IIFqfx6G"
      }
    },
    {
      "cell_type": "code",
      "source": [
        "# 0은 숫자가 없는것과 같음 -> Falsy\n",
        "a = 0.0\n",
        "if a:\n",
        "  print('Yes')\n",
        "\n",
        "else :\n",
        "  print('no')\n"
      ],
      "metadata": {
        "colab": {
          "base_uri": "https://localhost:8080/"
        },
        "id": "rkofP4Pkf9Yp",
        "outputId": "51eff2de-87fe-4264-f6fb-6b558cebf9bc"
      },
      "execution_count": null,
      "outputs": [
        {
          "output_type": "stream",
          "name": "stdout",
          "text": [
            "no\n"
          ]
        }
      ]
    },
    {
      "cell_type": "code",
      "source": [
        "# None은 숫자가 없는 것과 같음 -> falsy\n",
        "a = None\n",
        "if a:\n",
        "  print('Yes')\n",
        "else:\n",
        "  print('No')"
      ],
      "metadata": {
        "colab": {
          "base_uri": "https://localhost:8080/"
        },
        "id": "O-AbFYfdidWx",
        "outputId": "507a73fe-041a-4870-ad7b-935e36342e47"
      },
      "execution_count": null,
      "outputs": [
        {
          "output_type": "stream",
          "name": "stdout",
          "text": [
            "No\n"
          ]
        }
      ]
    },
    {
      "cell_type": "code",
      "source": [
        "# 비어 있는 dict는 없는 것과 같음 -> falsy\n",
        "a = {}\n",
        "if a :\n",
        "  print('Yes')\n",
        "else:\n",
        "  print('No')"
      ],
      "metadata": {
        "colab": {
          "base_uri": "https://localhost:8080/"
        },
        "id": "J_Chfc-eiseD",
        "outputId": "5c82d472-c61f-4f67-dafd-1f7c063b0b21"
      },
      "execution_count": null,
      "outputs": [
        {
          "output_type": "stream",
          "name": "stdout",
          "text": [
            "No\n"
          ]
        }
      ]
    },
    {
      "cell_type": "code",
      "source": [
        "a= int()\n",
        "b= float()\n",
        "c= list()\n",
        "d= tuple()\n",
        "e= str()\n",
        "f= set()\n",
        "g= frozenset()\n",
        "\n",
        "if a :\n",
        "  print('Yes')\n",
        "else:\n",
        "  print('No')"
      ],
      "metadata": {
        "colab": {
          "base_uri": "https://localhost:8080/"
        },
        "id": "E4hVn8p3i-Ga",
        "outputId": "779c6368-4182-4e4c-d7a2-4d15ccd7fa47"
      },
      "execution_count": null,
      "outputs": [
        {
          "output_type": "stream",
          "name": "stdout",
          "text": [
            "No\n"
          ]
        }
      ]
    },
    {
      "cell_type": "code",
      "source": [
        "3<2 or 4<5"
      ],
      "metadata": {
        "colab": {
          "base_uri": "https://localhost:8080/"
        },
        "id": "u0TYFn7fjf2x",
        "outputId": "6a9ba219-efff-4067-b8a6-d362fb105918"
      },
      "execution_count": null,
      "outputs": [
        {
          "output_type": "execute_result",
          "data": {
            "text/plain": [
              "True"
            ]
          },
          "metadata": {},
          "execution_count": 23
        }
      ]
    },
    {
      "cell_type": "code",
      "source": [
        "# and는 앞이 True이면 뒤에 값을 반환한다.\n",
        "3 and 4"
      ],
      "metadata": {
        "colab": {
          "base_uri": "https://localhost:8080/"
        },
        "id": "bAv9kXpKjs3F",
        "outputId": "4ee5ae36-9fe2-4de5-a778-eb31c57cc9dc"
      },
      "execution_count": null,
      "outputs": [
        {
          "output_type": "execute_result",
          "data": {
            "text/plain": [
              "4"
            ]
          },
          "metadata": {},
          "execution_count": 34
        }
      ]
    },
    {
      "cell_type": "code",
      "source": [
        "3 and 0"
      ],
      "metadata": {
        "colab": {
          "base_uri": "https://localhost:8080/"
        },
        "id": "9RTCRgHRjs2S",
        "outputId": "ee53cf39-1efa-435b-f14a-4ab8e40e85e6"
      },
      "execution_count": null,
      "outputs": [
        {
          "output_type": "execute_result",
          "data": {
            "text/plain": [
              "0"
            ]
          },
          "metadata": {},
          "execution_count": 29
        }
      ]
    },
    {
      "cell_type": "code",
      "source": [
        "# and는 앞이 false 이면 앞에있는 값을 반환한다.\n",
        "# 비어 있는 문자열은 없는 것과 같음 -> falsey\n",
        "0 and 3"
      ],
      "metadata": {
        "colab": {
          "base_uri": "https://localhost:8080/"
        },
        "id": "pazkaJfSkQak",
        "outputId": "c7327166-8938-4a99-b24a-fa82036adc2b"
      },
      "execution_count": null,
      "outputs": [
        {
          "output_type": "execute_result",
          "data": {
            "text/plain": [
              "0"
            ]
          },
          "metadata": {},
          "execution_count": 35
        }
      ]
    },
    {
      "cell_type": "code",
      "source": [
        "'' and 4"
      ],
      "metadata": {
        "colab": {
          "base_uri": "https://localhost:8080/",
          "height": 35
        },
        "id": "SkT6y0N5op9n",
        "outputId": "88411862-f919-4187-c73c-9426cf40ec07"
      },
      "execution_count": null,
      "outputs": [
        {
          "output_type": "execute_result",
          "data": {
            "text/plain": [
              "''"
            ],
            "application/vnd.google.colaboratory.intrinsic+json": {
              "type": "string"
            }
          },
          "metadata": {},
          "execution_count": 37
        }
      ]
    },
    {
      "cell_type": "code",
      "source": [
        "# or은 앞이 true이면 앞의 값이 리턴된다.\n",
        "1 or 4\n"
      ],
      "metadata": {
        "colab": {
          "base_uri": "https://localhost:8080/"
        },
        "id": "kKAeQ2PQo8ln",
        "outputId": "57310574-c65f-4a4c-9789-e129ea5cb891"
      },
      "execution_count": null,
      "outputs": [
        {
          "output_type": "execute_result",
          "data": {
            "text/plain": [
              "1"
            ]
          },
          "metadata": {},
          "execution_count": 38
        }
      ]
    },
    {
      "cell_type": "code",
      "source": [
        "# or은 앞이 false이면 뒤의 값을 리턴한다.\n",
        "'' or 4"
      ],
      "metadata": {
        "colab": {
          "base_uri": "https://localhost:8080/"
        },
        "id": "GffgdVWvpOZn",
        "outputId": "9a5975b6-87a0-4570-983d-689082b2001d"
      },
      "execution_count": null,
      "outputs": [
        {
          "output_type": "execute_result",
          "data": {
            "text/plain": [
              "4"
            ]
          },
          "metadata": {},
          "execution_count": 39
        }
      ]
    },
    {
      "cell_type": "markdown",
      "source": [
        "# 제어문 (statrment controller)\n",
        "- 문장의 흐름을 제어해 준다.   \n",
        "- 조건문, 반복문   \n",
        "- 조건문   \n",
        "  if ~ else\n",
        "- 반복문\n",
        "  -for ~ in\n",
        "  -while  \n",
        "- break, continue    "
      ],
      "metadata": {
        "id": "KSgmWT8Zfx47"
      }
    },
    {
      "cell_type": "markdown",
      "source": [
        "'''\n",
        "if 조건식 :    \n",
        "    수행할 문장\n",
        "\n",
        "else :     \n",
        "    수행할 문장   \n",
        "'''    "
      ],
      "metadata": {
        "id": "lJ6okaxFrHK_"
      }
    },
    {
      "cell_type": "code",
      "source": [
        "a = 8\n",
        "if a>5 :\n",
        "  print('ok')\n",
        "else :\n",
        "  print('Fail')"
      ],
      "metadata": {
        "colab": {
          "base_uri": "https://localhost:8080/"
        },
        "id": "jRFwHm8nqsgB",
        "outputId": "f22f36ed-af9d-436e-8581-88f96d984846"
      },
      "execution_count": null,
      "outputs": [
        {
          "output_type": "stream",
          "name": "stdout",
          "text": [
            "ok\n"
          ]
        }
      ]
    },
    {
      "cell_type": "code",
      "source": [
        "a = 3\n",
        "if a%2 == 0 :\n",
        "  print ('good')\n",
        "else :\n",
        "  print ('아니거든')"
      ],
      "metadata": {
        "colab": {
          "base_uri": "https://localhost:8080/"
        },
        "id": "teLErGfvrFv6",
        "outputId": "3069d066-07d2-47c0-c5dd-7c7cb90509cd"
      },
      "execution_count": null,
      "outputs": [
        {
          "output_type": "stream",
          "name": "stdout",
          "text": [
            "아니거든\n"
          ]
        }
      ]
    },
    {
      "cell_type": "code",
      "source": [
        "name ='홍길동'\n",
        "if name :\n",
        "  print(name + '님')\n",
        "\n"
      ],
      "metadata": {
        "colab": {
          "base_uri": "https://localhost:8080/"
        },
        "id": "_Ofzx8_usXAx",
        "outputId": "87a47a3e-295e-4027-e1a1-83eace41a70e"
      },
      "execution_count": null,
      "outputs": [
        {
          "output_type": "stream",
          "name": "stdout",
          "text": [
            "홍길동님\n"
          ]
        }
      ]
    },
    {
      "cell_type": "code",
      "source": [
        "# if 조건에 문장을 사용 할 수 없다.\n",
        "if a=4:\n",
        "  print(a)"
      ],
      "metadata": {
        "colab": {
          "base_uri": "https://localhost:8080/",
          "height": 147
        },
        "id": "DPJkJpRNsvjW",
        "outputId": "6e4919c4-e28a-4de5-b02d-cedd93fd619a"
      },
      "execution_count": null,
      "outputs": [
        {
          "output_type": "error",
          "ename": "SyntaxError",
          "evalue": "ignored",
          "traceback": [
            "\u001b[0;36m  File \u001b[0;32m\"<ipython-input-50-55c1cf8d691c>\"\u001b[0;36m, line \u001b[0;32m2\u001b[0m\n\u001b[0;31m    if a=4:\u001b[0m\n\u001b[0m       ^\u001b[0m\n\u001b[0;31mSyntaxError\u001b[0m\u001b[0;31m:\u001b[0m invalid syntax. Maybe you meant '==' or ':=' instead of '='?\n"
          ]
        }
      ]
    },
    {
      "cell_type": "code",
      "source": [
        "# 80 이상이면 '상' , 60 이상이면 '중' 60 미만이면 '하'\n",
        "\n",
        "a= 85\n",
        "if  a >= 80 :\n",
        "    print ('상')\n",
        "elif  a >= 60 :\n",
        "    print ('중')\n",
        "else :\n",
        "    print('하')"
      ],
      "metadata": {
        "colab": {
          "base_uri": "https://localhost:8080/"
        },
        "id": "asoknXfMtR-F",
        "outputId": "97a7c5cd-af7d-49fa-c581-c53942e9ed6f"
      },
      "execution_count": null,
      "outputs": [
        {
          "output_type": "stream",
          "name": "stdout",
          "text": [
            "상\n"
          ]
        }
      ]
    },
    {
      "cell_type": "code",
      "source": [
        "a= 85\n",
        "if a >= 80:\n",
        "  print('상')\n",
        "else:\n",
        "  if a>= 60 :\n",
        "    print ('중')\n",
        "  else :\n",
        "    print ('하')"
      ],
      "metadata": {
        "colab": {
          "base_uri": "https://localhost:8080/"
        },
        "id": "zA8eq1ceumZN",
        "outputId": "cdb5ef13-81a5-494d-d6bb-e0141c42f212"
      },
      "execution_count": null,
      "outputs": [
        {
          "output_type": "stream",
          "name": "stdout",
          "text": [
            "상\n"
          ]
        }
      ]
    },
    {
      "cell_type": "code",
      "source": [
        "a = 60\n",
        "if a >= 60  :\n",
        "  if a >= 80 :\n",
        "    print('상')\n",
        "  else :\n",
        "    print ('중')\n",
        "else:\n",
        "    print ('하')"
      ],
      "metadata": {
        "colab": {
          "base_uri": "https://localhost:8080/"
        },
        "id": "3cbyi7CEu_bV",
        "outputId": "9a3339d6-e3a3-4dd2-e3d3-7adf5c0c516b"
      },
      "execution_count": null,
      "outputs": [
        {
          "output_type": "stream",
          "name": "stdout",
          "text": [
            "중\n"
          ]
        }
      ]
    },
    {
      "cell_type": "code",
      "source": [
        "member = True\n",
        "grade = 'A'  # 'S' 50, 'A' 30\n",
        "point = 0\n",
        "\n",
        "if member :\n",
        "  #pass\n",
        "  if grade == 'S' :\n",
        "     point = 50\n",
        "  else:\n",
        "    point = 30\n",
        "else:\n",
        "  point=0\n",
        "\n",
        "print(point)\n",
        "\n",
        "\n"
      ],
      "metadata": {
        "colab": {
          "base_uri": "https://localhost:8080/"
        },
        "id": "XEudV0m0wOOP",
        "outputId": "55fc6ba5-2525-4a75-b78a-505975132183"
      },
      "execution_count": null,
      "outputs": [
        {
          "output_type": "stream",
          "name": "stdout",
          "text": [
            "30\n"
          ]
        }
      ]
    },
    {
      "cell_type": "code",
      "source": [
        "\n",
        "age = int(input('나이: '))\n",
        "gender = input('성별[남,여]:')\n",
        "\n",
        "if gender =='남' :\n",
        "  if age >= 20   :\n",
        "    print('성인 남성입니다.')\n",
        "  else:\n",
        "    print('청소년 남성입니다')\n",
        "elif gender =='여':\n",
        "    else:\n",
        "if age >= 20:\n",
        "    print('성인 여성입니다.')\n",
        "   else:\n",
        "    print('청소년 여성입니다.')\n",
        "   else:\n",
        "    print('다시입력해주세요 [남,여]')"
      ],
      "metadata": {
        "colab": {
          "base_uri": "https://localhost:8080/",
          "height": 147
        },
        "id": "JReA4K620u6u",
        "outputId": "72c0a993-19aa-452a-d95e-6dc93ef0326c"
      },
      "execution_count": null,
      "outputs": [
        {
          "output_type": "error",
          "ename": "IndentationError",
          "evalue": "ignored",
          "traceback": [
            "\u001b[0;36m  File \u001b[0;32m\"<tokenize>\"\u001b[0;36m, line \u001b[0;32m13\u001b[0m\n\u001b[0;31m    else:\u001b[0m\n\u001b[0m    ^\u001b[0m\n\u001b[0;31mIndentationError\u001b[0m\u001b[0;31m:\u001b[0m unindent does not match any outer indentation level\n"
          ]
        }
      ]
    },
    {
      "cell_type": "code",
      "source": [
        "#윤년 : 연도를 4로 나누어 떨어지고 100으로 나누어 떨어지거나\n",
        "#              400으로 나누어 떨어지면 된다.\n",
        "\n",
        "import sys\n",
        "year = int(input('year:'))\n",
        "month= int(input('month'))\n",
        "\n",
        "end_day_31 = [1,3,5,7,8,10,12]\n",
        "end_day_30 = [4,6,9,11]\n",
        "day = 28\n",
        "check = ' '\n",
        "\n",
        "if not (month >= 1 and month <=12):\n",
        "   print (' 월은 1부터 12까지만 입력해주세요.')\n",
        "   sys.exit()\n",
        "\n",
        "#if month ==4 or month==6 or month==9 or month ==11:\n",
        "if month in end_day_30:\n",
        "   day=30\n",
        "\n",
        "else:\n",
        "  day=31\n",
        "\n",
        "if (year %4==0 and year %100!=0) or year %400==0 :\n",
        "   check = '윤년'\n",
        "   if month ==2:\n",
        "      day =29\n",
        "\n",
        "else:\n",
        "    check ='평년'\n",
        "    if month ==2:\n",
        "       day =28\n",
        "\n",
        "print('{}년도는 {}월은 {}, 마지막 {}일 입니다.' .format(year, month,check ,day))\n"
      ],
      "metadata": {
        "colab": {
          "base_uri": "https://localhost:8080/"
        },
        "id": "WO9Tc7P7CupY",
        "outputId": "8fa504be-93ef-4ca6-ad80-ec47242a2f3b"
      },
      "execution_count": null,
      "outputs": [
        {
          "output_type": "stream",
          "name": "stdout",
          "text": [
            "year:2013\n",
            "month2\n",
            "2013년도는 2월은 평년, 마지막 28일 입니다.\n"
          ]
        }
      ]
    },
    {
      "cell_type": "code",
      "source": [
        "height = int(input('키를 입력하세요'))\n",
        "age = int(input('나이를 입력하세요'))\n",
        "\n",
        "if height >= 140 :\n",
        "   if age >= 8 :\n",
        "    print('놀이기구에 탑승 할 수 있습니다.')\n",
        "else:\n",
        "    print('놀이기구에 탑승 할 수 없습니다.')\n",
        "\n",
        "\n",
        "print('오늘 하루 즐거운 시간되세요!')"
      ],
      "metadata": {
        "colab": {
          "base_uri": "https://localhost:8080/"
        },
        "id": "EMrKfjnd3YuK",
        "outputId": "9d0df9d3-b8e4-47c7-eb65-d1e960ea7e73"
      },
      "execution_count": null,
      "outputs": [
        {
          "output_type": "stream",
          "name": "stdout",
          "text": [
            "키를 입력하세요133\n",
            "나이를 입력하세요2\n",
            "놀이기구에 탑승 할 수 없습니다.\n",
            "오늘 하루 즐거운 시간되세요!\n"
          ]
        }
      ]
    },
    {
      "cell_type": "code",
      "source": [
        "height = int(input('키를 입력하세요'))\n",
        "age = int(input('나이를 입력하세요'))\n",
        "\n",
        "if height >=140 and age >=8 :\n",
        "  print('놀이기구에 탑승 할 수 있습니다.')\n",
        "else:\n",
        "  print('놀이기구에 탑승 할 수 없습니다.')\n",
        "\n",
        "print('오늘 하루 즐거운 시간되세요!')"
      ],
      "metadata": {
        "colab": {
          "base_uri": "https://localhost:8080/"
        },
        "id": "jT1GBGbe5a9y",
        "outputId": "c0043b00-998e-4e5a-df97-3701a41c17fd"
      },
      "execution_count": null,
      "outputs": [
        {
          "output_type": "stream",
          "name": "stdout",
          "text": [
            "키를 입력하세요165\n",
            "나이를 입력하세요33\n",
            "놀이기구에 탑승 할 수 있습니다.\n",
            "오늘 하루 즐거운 시간되세요!\n"
          ]
        }
      ]
    },
    {
      "cell_type": "markdown",
      "source": [
        "'''\n",
        "[조건]\n",
        "1. 18세 미만은 이 영화를 볼 수 없다\n",
        "2. 18세 이상 59세 이하의 손님은 8000원\n",
        "3. 60세 이상의 손님은 5000원\n",
        "4. 포인트카드를 가지고 있고 지금까지 5편의 영화를 본 손님은 5000원\n",
        "\n",
        "18세 미만이면 '티켓을 팔 수 없다'를 기술한 부분이다.\n",
        "60세 이상이거나 포인트가 있고 5편 관람한 할인 대상자는 '티켓은 5000원입니다.\n",
        "그외는 '티켓은 8000원입니다'로 출력하는 프로그램을 구현하시오.\n",
        "\n",
        "[테스트1]\n",
        "age=35\n",
        "point_card =True\n",
        "count=5\n",
        "\n",
        "출력결과 : 티켓은 5000원입니다\n",
        "\n",
        "[테스트2]\n",
        "age=35\n",
        "point_card =True\n",
        "count=5\n",
        "\n",
        "출력결과 : 티켓을 판매할 수 없습니다\n",
        "\n",
        "[테스트3]\n",
        "age=35\n",
        "point_card =True\n",
        "count=3\n",
        "\n",
        "출력결과: 티켓은 8000원입니다\n",
        "'''"
      ],
      "metadata": {
        "id": "i8uXSZK-eIaj"
      }
    },
    {
      "cell_type": "code",
      "source": [
        "age = int(input('나이를 입력하세요'))\n",
        "point_card = bool(input('포인트소지여부 :'))\n",
        "count = int(input('영화 관람 티켓 갯수 : '))\n",
        "\n",
        "if age <18 :\n",
        "  print('티켓을 판매할 수 없습니다.')\n",
        "elif age >=60 or (point_card== True and count==5) :\n",
        "  print('티켓은 5000원 입니다.')\n",
        "else:\n",
        "  print('티켓은 8000원 입니다.')\n",
        "\n",
        "\n",
        "\n"
      ],
      "metadata": {
        "colab": {
          "base_uri": "https://localhost:8080/"
        },
        "id": "QsfkYiP-7FID",
        "outputId": "5bca8855-5ac6-4fdf-e67e-2532a954e261"
      },
      "execution_count": null,
      "outputs": [
        {
          "output_type": "stream",
          "name": "stdout",
          "text": [
            "나이를 입력하세요22\n",
            "포인트소지여부 :12\n",
            "영화 관람 티켓 갯수 : 55\n",
            "티켓은 8000원 입니다.\n"
          ]
        }
      ]
    },
    {
      "cell_type": "markdown",
      "source": [
        "## 반복문 : While\n",
        "반복문에서 else는 반복문이 완벽하게 끝났을 때 실행된다.  \n",
        "대부분의 프로그래밍 언어는 while과 for를 지원한다.  \n",
        "else\n",
        "  -if ~ else  \n",
        "  -try ~ except ~ else ~ finally  \n",
        "  - while ~ else   \n",
        "\n",
        "```\n",
        "while 조건식 :\n",
        "  수행할 문장\n",
        "\n",
        "else:  \n",
        "  수행할 문장   \n",
        "\n",
        "```  "
      ],
      "metadata": {
        "id": "bYG1MDp6NFhM"
      }
    },
    {
      "cell_type": "code",
      "source": [
        "# while 문이 완벽하게 실행되어 end가 출력됨\n",
        "a = 10\n",
        "while  a>5 :\n",
        "  a -= 1 # a= a-1\n",
        "  print(a)\n",
        "\n",
        "else:\n",
        "  print('end')"
      ],
      "metadata": {
        "colab": {
          "base_uri": "https://localhost:8080/"
        },
        "id": "YCa8rW6WgGTn",
        "outputId": "8a81ef8b-c7f1-4064-913e-6d1a5cbdf110"
      },
      "execution_count": null,
      "outputs": [
        {
          "output_type": "stream",
          "name": "stdout",
          "text": [
            "9\n",
            "8\n",
            "7\n",
            "6\n",
            "5\n",
            "end\n"
          ]
        }
      ]
    },
    {
      "cell_type": "code",
      "source": [
        "# while문을 강제적으로 빠져나왔기 때문에 else 영역을 실행하지 않는다.\n",
        "a = 10\n",
        "while  a > 5 :\n",
        "  a -= 1 # a= a-1\n",
        "  print(a)\n",
        "  if a ==5:\n",
        "    break    # 반복문을 강제적으로 빠져나올때 사용한다. 즉 반복문을 중단시킨다.\n",
        "else:\n",
        "  print('end')"
      ],
      "metadata": {
        "colab": {
          "base_uri": "https://localhost:8080/"
        },
        "id": "ihY7yiBhher8",
        "outputId": "c9ccfc95-ca18-45f5-b446-9b89a2bebb2f"
      },
      "execution_count": null,
      "outputs": [
        {
          "output_type": "stream",
          "name": "stdout",
          "text": [
            "9\n",
            "8\n",
            "7\n",
            "6\n",
            "5\n"
          ]
        }
      ]
    },
    {
      "cell_type": "code",
      "source": [
        "# continue는 다음 루프(조건식)로 바로 넘어간다.\n",
        "# 반복문을 중단하지 않기 때문에 else문이 실행된다.\n",
        "\n",
        "a = 10\n",
        "while a>5 :\n",
        "  a-= 1\n",
        "  if a == 6 :   # a % 2 == 0 (짝수)\n",
        "    continue    # 위로 이동\n",
        "  print(a)\n",
        "\n",
        "else:\n",
        "   print ('end')"
      ],
      "metadata": {
        "colab": {
          "base_uri": "https://localhost:8080/"
        },
        "id": "LEJtXNGyi8NM",
        "outputId": "9e1a665b-74b3-4779-ab08-ab3615494574"
      },
      "execution_count": null,
      "outputs": [
        {
          "output_type": "stream",
          "name": "stdout",
          "text": [
            "9\n",
            "8\n",
            "7\n",
            "5\n",
            "end\n"
          ]
        }
      ]
    },
    {
      "cell_type": "code",
      "source": [
        "# 1부터 10까지 출력하는 프로그램을 구현하라\n",
        "a = 1\n",
        "\n",
        "while a <= 10 :\n",
        "  print(a)\n",
        "  a= a+1 # a += 1\n"
      ],
      "metadata": {
        "colab": {
          "base_uri": "https://localhost:8080/"
        },
        "id": "ZiGu4WC4lAwc",
        "outputId": "0f7acca8-610d-4f79-cbaf-bc24d5f24b5a"
      },
      "execution_count": null,
      "outputs": [
        {
          "output_type": "stream",
          "name": "stdout",
          "text": [
            "1\n",
            "2\n",
            "3\n",
            "4\n",
            "5\n",
            "6\n",
            "7\n",
            "8\n",
            "9\n",
            "10\n"
          ]
        }
      ]
    },
    {
      "cell_type": "code",
      "source": [
        "# 1부터 10까지 출력을 하고 합계를 구하는 프로그램을 작성하라\n",
        "a = 1\n",
        "sum = 0\n",
        "\n",
        "while a <= 10 :\n",
        "\n",
        "  sum = sum + a\n",
        "  print(a)\n",
        "  a = a+1 # a += 1\n",
        "\n",
        "else :\n",
        "  print('sum={}'.format(sum))"
      ],
      "metadata": {
        "colab": {
          "base_uri": "https://localhost:8080/"
        },
        "id": "oXcr8lR2lxuW",
        "outputId": "47e83333-5d8a-423f-d087-a0acadc5670b"
      },
      "execution_count": null,
      "outputs": [
        {
          "output_type": "stream",
          "name": "stdout",
          "text": [
            "1\n",
            "2\n",
            "3\n",
            "4\n",
            "5\n",
            "6\n",
            "7\n",
            "8\n",
            "9\n",
            "10\n",
            "sum=55\n"
          ]
        }
      ]
    },
    {
      "cell_type": "code",
      "source": [
        "# 1부터 10까지 짝수,홀수 합계를 구하는 프로그램을 작성하라\n",
        "a = 1\n",
        "even = 0 #짝수\n",
        "odd = 0 #홀수\n",
        "\n",
        "while a <= 103 :\n",
        "  if a % 2 == 1 : # 홀수 ?\n",
        "   odd = odd + a   # odd += a\n",
        "  else :\n",
        "    even =even + a   # even += a\n",
        "\n",
        "  a = a+1 # a += 1\n",
        "\n",
        "else :\n",
        "  print('짝수={}'.format(even))\n",
        "  print('홀수={}'.format(odd))"
      ],
      "metadata": {
        "colab": {
          "base_uri": "https://localhost:8080/"
        },
        "id": "WzHy305inD2L",
        "outputId": "cb0dd113-a76c-4bf1-9746-f30ba96c087f"
      },
      "execution_count": null,
      "outputs": [
        {
          "output_type": "stream",
          "name": "stdout",
          "text": [
            "짝수=2652\n",
            "홀수=2704\n"
          ]
        }
      ]
    },
    {
      "cell_type": "markdown",
      "source": [
        " ## for 변수 in iterable :   \n",
        "      실행구문    \n",
        "```\n",
        "for문과 함께 사용되는 함수   \n",
        "\n",
        "for 변수 in range(시작번호, 마지막번호, 증감값):  \n",
        "    실행구문\n",
        "\n",
        "for 변수 in enumerate(sequence, start):\n",
        "    실행구문\n",
        "\n",
        "for 변수 in zip(data1, data2, ...):\n",
        "    실행구문\n",
        "\n",
        "```"
      ],
      "metadata": {
        "id": "lYoYhOYztRuZ"
      }
    },
    {
      "cell_type": "code",
      "source": [
        "# range (end)\n",
        "for i in range (5) :  #0부터 5미만의 값이 1씩 증가해서 생성됨\n",
        "  print(i)"
      ],
      "metadata": {
        "colab": {
          "base_uri": "https://localhost:8080/"
        },
        "id": "mdBFKmELuWW7",
        "outputId": "7cba418b-b813-4962-89f6-efc50abde864"
      },
      "execution_count": null,
      "outputs": [
        {
          "output_type": "stream",
          "name": "stdout",
          "text": [
            "0\n",
            "1\n",
            "2\n",
            "3\n",
            "4\n"
          ]
        }
      ]
    },
    {
      "cell_type": "code",
      "source": [
        "# range (start, end)\n",
        "for i in range (1,5):   # 1부터 5미만의 값이 1씩 증가해서 생성된다.\n",
        "  print (i)"
      ],
      "metadata": {
        "colab": {
          "base_uri": "https://localhost:8080/"
        },
        "id": "biik3Og9vGpK",
        "outputId": "7080e3e9-41b1-49fa-8aa4-272360b85512"
      },
      "execution_count": null,
      "outputs": [
        {
          "output_type": "stream",
          "name": "stdout",
          "text": [
            "1\n",
            "2\n",
            "3\n",
            "4\n"
          ]
        }
      ]
    },
    {
      "cell_type": "code",
      "source": [
        "# range (start , end, step)\n",
        "for i in range (1,5,2):  #1부터 5 미만의 값이 2씩 증가해서 생성된다.\n",
        "  print(i)"
      ],
      "metadata": {
        "colab": {
          "base_uri": "https://localhost:8080/"
        },
        "id": "DKn2fDi5vYcH",
        "outputId": "1ddde8b5-c707-4085-f95f-28c3da24adab"
      },
      "execution_count": null,
      "outputs": [
        {
          "output_type": "stream",
          "name": "stdout",
          "text": [
            "1\n",
            "3\n"
          ]
        }
      ]
    },
    {
      "cell_type": "markdown",
      "source": [
        "#### enumerate 함수\n",
        " - enumerate()함수는 인덱스와 객체를 동시에 저장할 수 있는 특징을 가진 for문을 좀더 효율적으로 사용하기 위한 함수이다.\n",
        " - enumerate()함수는 순서자료형(list, tuple, str)을 입력으로 받아 인덱스를 포함하는 enumerate 객체를 리턴한다.\n",
        " - enumerate([순서자료형], [시작값=0])의 형식을 가지며 순서자료형은 반복자가 가능한 객체가 입력도고 시작값은 입력시 해당수 부터 증가하며, 생략했을 경우 기본값은 0 이다."
      ],
      "metadata": {
        "id": "eXzA2-QlwQ-x"
      }
    },
    {
      "cell_type": "code",
      "source": [
        "for k in enumerate(['apple','python','microsoft']) :\n",
        " print(k)"
      ],
      "metadata": {
        "colab": {
          "base_uri": "https://localhost:8080/"
        },
        "id": "8sQxcCAQvjvG",
        "outputId": "e8a9ab9e-ade6-4a78-85df-f8b8d975cd42"
      },
      "execution_count": null,
      "outputs": [
        {
          "output_type": "stream",
          "name": "stdout",
          "text": [
            "(0, 'apple')\n",
            "(1, 'python')\n",
            "(2, 'microsoft')\n"
          ]
        }
      ]
    },
    {
      "cell_type": "code",
      "source": [
        "for k,v in enumerate(['apple','python','microsoft']) :\n",
        " print(k, v)"
      ],
      "metadata": {
        "colab": {
          "base_uri": "https://localhost:8080/"
        },
        "id": "vIKypVy6wzv2",
        "outputId": "254f6cf8-d565-438c-e97f-a8545caad014"
      },
      "execution_count": null,
      "outputs": [
        {
          "output_type": "stream",
          "name": "stdout",
          "text": [
            "0 apple\n",
            "1 python\n",
            "2 microsoft\n"
          ]
        }
      ]
    },
    {
      "cell_type": "code",
      "source": [
        "for k,v in enumerate(['apple','python','microsoft'] ,1 ):\n",
        " print(k, v)"
      ],
      "metadata": {
        "colab": {
          "base_uri": "https://localhost:8080/"
        },
        "id": "-xYHXPetwzub",
        "outputId": "e2866fc4-81d1-4539-ebc7-db6489f72e46"
      },
      "execution_count": null,
      "outputs": [
        {
          "output_type": "stream",
          "name": "stdout",
          "text": [
            "1 apple\n",
            "2 python\n",
            "3 microsoft\n"
          ]
        }
      ]
    },
    {
      "cell_type": "code",
      "source": [
        "a= {'one':10, 'two':20 }\n",
        "for k,v in enumerate(a):\n",
        "  print(k,a[v])"
      ],
      "metadata": {
        "colab": {
          "base_uri": "https://localhost:8080/"
        },
        "id": "PL7oFwW7wzsQ",
        "outputId": "ee21e955-f943-465b-dad2-1de4c60954dd"
      },
      "execution_count": null,
      "outputs": [
        {
          "output_type": "stream",
          "name": "stdout",
          "text": [
            "0 10\n",
            "1 20\n"
          ]
        }
      ]
    },
    {
      "cell_type": "code",
      "source": [
        "a= {'one':10, 'two':20 }\n",
        "for k in enumerate(a):\n",
        "  print(k)"
      ],
      "metadata": {
        "colab": {
          "base_uri": "https://localhost:8080/"
        },
        "id": "BgIC7eoWxbH_",
        "outputId": "f7e71187-8325-409f-c699-4ada0c492263"
      },
      "execution_count": null,
      "outputs": [
        {
          "output_type": "stream",
          "name": "stdout",
          "text": [
            "(0, 'one')\n",
            "(1, 'two')\n"
          ]
        }
      ]
    },
    {
      "cell_type": "code",
      "source": [
        "for k, v in enumerate({10,20,30}):\n",
        "  print(k,v)"
      ],
      "metadata": {
        "colab": {
          "base_uri": "https://localhost:8080/"
        },
        "id": "cKyk60zTx2lI",
        "outputId": "64881903-f7be-494e-bcbb-1a7c8e328eb0"
      },
      "execution_count": null,
      "outputs": [
        {
          "output_type": "stream",
          "name": "stdout",
          "text": [
            "0 10\n",
            "1 20\n",
            "2 30\n"
          ]
        }
      ]
    },
    {
      "cell_type": "markdown",
      "source": [
        "## zip\n",
        "- 매개인자로 여러 목록을 받아 각 목록의 요소를 튜플에 담아 목록에 저장한다.   "
      ],
      "metadata": {
        "id": "Pg6-i_DsyUIL"
      }
    },
    {
      "cell_type": "code",
      "source": [
        "a= [1,2,3,4,5]\n",
        "b= ['a','b','c','d','f']\n",
        "\n",
        "for x in zip(a,b):\n",
        "  print (x)"
      ],
      "metadata": {
        "colab": {
          "base_uri": "https://localhost:8080/"
        },
        "id": "Ja6R65Scyfgg",
        "outputId": "e3dea6af-44f7-46d6-b63c-fea19e30a505"
      },
      "execution_count": null,
      "outputs": [
        {
          "output_type": "stream",
          "name": "stdout",
          "text": [
            "(1, 'a')\n",
            "(2, 'b')\n",
            "(3, 'c')\n",
            "(4, 'd')\n",
            "(5, 'f')\n"
          ]
        }
      ]
    },
    {
      "cell_type": "code",
      "source": [
        "print = 3\n",
        "del print\n",
        "print(3)\n"
      ],
      "metadata": {
        "colab": {
          "base_uri": "https://localhost:8080/"
        },
        "id": "zjKIKtGezPbN",
        "outputId": "8a8b51f7-4238-49d3-f1c9-fb148f9830ed"
      },
      "execution_count": null,
      "outputs": [
        {
          "output_type": "stream",
          "name": "stdout",
          "text": [
            "3\n"
          ]
        }
      ]
    },
    {
      "cell_type": "code",
      "source": [
        "a = []\n",
        "for x in range( 2, 10 ):\n",
        "  a.append(x)\n",
        "print(a)"
      ],
      "metadata": {
        "colab": {
          "base_uri": "https://localhost:8080/"
        },
        "id": "E5fmNjkCz8Cp",
        "outputId": "11ea0ec0-05be-4164-bb6b-903433edb07e"
      },
      "execution_count": 3,
      "outputs": [
        {
          "output_type": "stream",
          "name": "stdout",
          "text": [
            "[2, 3, 4, 5, 6, 7, 8, 9]\n"
          ]
        }
      ]
    },
    {
      "cell_type": "code",
      "source": [
        "a = []\n",
        "for x in range (1,10): #x가 2~9일때\n",
        "  for y in range (2,10):  #y가 1~9일때\n",
        "     print('{}x{}={}'.format(y,x,x*y),end = ' \\t  ') #\\t 는 일정한 간격으로 줄맞춤\n",
        "  print()"
      ],
      "metadata": {
        "colab": {
          "base_uri": "https://localhost:8080/"
        },
        "id": "Ak367uGqz8Bd",
        "outputId": "0e3c60b7-447d-47aa-9ad7-404f984cf1eb"
      },
      "execution_count": null,
      "outputs": [
        {
          "output_type": "stream",
          "name": "stdout",
          "text": [
            "2x1=2 \t  3x1=3 \t  4x1=4 \t  5x1=5 \t  6x1=6 \t  7x1=7 \t  8x1=8 \t  9x1=9 \t  \n",
            "2x2=4 \t  3x2=6 \t  4x2=8 \t  5x2=10 \t  6x2=12 \t  7x2=14 \t  8x2=16 \t  9x2=18 \t  \n",
            "2x3=6 \t  3x3=9 \t  4x3=12 \t  5x3=15 \t  6x3=18 \t  7x3=21 \t  8x3=24 \t  9x3=27 \t  \n",
            "2x4=8 \t  3x4=12 \t  4x4=16 \t  5x4=20 \t  6x4=24 \t  7x4=28 \t  8x4=32 \t  9x4=36 \t  \n",
            "2x5=10 \t  3x5=15 \t  4x5=20 \t  5x5=25 \t  6x5=30 \t  7x5=35 \t  8x5=40 \t  9x5=45 \t  \n",
            "2x6=12 \t  3x6=18 \t  4x6=24 \t  5x6=30 \t  6x6=36 \t  7x6=42 \t  8x6=48 \t  9x6=54 \t  \n",
            "2x7=14 \t  3x7=21 \t  4x7=28 \t  5x7=35 \t  6x7=42 \t  7x7=49 \t  8x7=56 \t  9x7=63 \t  \n",
            "2x8=16 \t  3x8=24 \t  4x8=32 \t  5x8=40 \t  6x8=48 \t  7x8=56 \t  8x8=64 \t  9x8=72 \t  \n",
            "2x9=18 \t  3x9=27 \t  4x9=36 \t  5x9=45 \t  6x9=54 \t  7x9=63 \t  8x9=72 \t  9x9=81 \t  \n"
          ]
        }
      ]
    },
    {
      "cell_type": "code",
      "source": [
        "a = []\n",
        "for x in range (1,10): #\n",
        "  for y in range (2,10):  #\n",
        "    # print('{}x{}={}'.format(y,x,x*y),end = ' \\t  ') #\\t 는 일정한 간격으로 줄맞춤\n",
        "    a.append('{}x{}={}'.format(y,x,x*y))\n",
        "    a.append('\\t')\n",
        "a.append('\\n')\n",
        "\n",
        "print(a)"
      ],
      "metadata": {
        "colab": {
          "base_uri": "https://localhost:8080/"
        },
        "id": "2aH8zyZR5V17",
        "outputId": "b3c9c8f1-fd09-46b4-da23-21a811c548f0"
      },
      "execution_count": null,
      "outputs": [
        {
          "output_type": "stream",
          "name": "stdout",
          "text": [
            "['2x1=2', '\\t', '3x1=3', '\\t', '4x1=4', '\\t', '5x1=5', '\\t', '6x1=6', '\\t', '7x1=7', '\\t', '8x1=8', '\\t', '9x1=9', '\\t', '2x2=4', '\\t', '3x2=6', '\\t', '4x2=8', '\\t', '5x2=10', '\\t', '6x2=12', '\\t', '7x2=14', '\\t', '8x2=16', '\\t', '9x2=18', '\\t', '2x3=6', '\\t', '3x3=9', '\\t', '4x3=12', '\\t', '5x3=15', '\\t', '6x3=18', '\\t', '7x3=21', '\\t', '8x3=24', '\\t', '9x3=27', '\\t', '2x4=8', '\\t', '3x4=12', '\\t', '4x4=16', '\\t', '5x4=20', '\\t', '6x4=24', '\\t', '7x4=28', '\\t', '8x4=32', '\\t', '9x4=36', '\\t', '2x5=10', '\\t', '3x5=15', '\\t', '4x5=20', '\\t', '5x5=25', '\\t', '6x5=30', '\\t', '7x5=35', '\\t', '8x5=40', '\\t', '9x5=45', '\\t', '2x6=12', '\\t', '3x6=18', '\\t', '4x6=24', '\\t', '5x6=30', '\\t', '6x6=36', '\\t', '7x6=42', '\\t', '8x6=48', '\\t', '9x6=54', '\\t', '2x7=14', '\\t', '3x7=21', '\\t', '4x7=28', '\\t', '5x7=35', '\\t', '6x7=42', '\\t', '7x7=49', '\\t', '8x7=56', '\\t', '9x7=63', '\\t', '2x8=16', '\\t', '3x8=24', '\\t', '4x8=32', '\\t', '5x8=40', '\\t', '6x8=48', '\\t', '7x8=56', '\\t', '8x8=64', '\\t', '9x8=72', '\\t', '2x9=18', '\\t', '3x9=27', '\\t', '4x9=36', '\\t', '5x9=45', '\\t', '6x9=54', '\\t', '7x9=63', '\\t', '8x9=72', '\\t', '9x9=81', '\\t', '\\n']\n"
          ]
        }
      ]
    },
    {
      "cell_type": "markdown",
      "source": [
        "## Compression\n",
        " - compression 이란 iterable한 오브젝트를 생성하기 위한 방법 중 하나이다.   \n",
        " - List compression(LC)  # 이걸 많이 사용함 ㅋ\n",
        " - Set Compression (SC)  \n",
        " - Dict Compression (DC)  "
      ],
      "metadata": {
        "id": "0Sc5ZSAX6qmL"
      }
    },
    {
      "cell_type": "markdown",
      "source": [
        "### List Compression\n",
        " - List 정의시 값을 정하지 않고 호출시 리스트 내의 값들이 처리되도록 구성\n",
        " - A = [표현식 for 항목 in squence]\n",
        " - A=  [표현식 for 항목 in squence if 논리식]\n",
        " - A=  [표현식 for 항목1 in squence1 for 항목2 in 반복가능객체 (iterable)2 if 논리식]  "
      ],
      "metadata": {
        "id": "UCCLXoiAyUGp"
      }
    },
    {
      "cell_type": "code",
      "source": [
        "s = []\n",
        "for x in range (10):\n",
        "  s.append(x**2)\n",
        "print(s)"
      ],
      "metadata": {
        "colab": {
          "base_uri": "https://localhost:8080/"
        },
        "id": "gsOmEsVk6eMk",
        "outputId": "29f3efdc-8bc0-4fa2-cb74-f5fe4bb40658"
      },
      "execution_count": null,
      "outputs": [
        {
          "output_type": "stream",
          "name": "stdout",
          "text": [
            "[0, 1, 4, 9, 16, 25, 36, 49, 64, 81]\n"
          ]
        }
      ]
    },
    {
      "cell_type": "code",
      "source": [
        "s=[ x**2  for x in range (10)]\n",
        "print(s)"
      ],
      "metadata": {
        "colab": {
          "base_uri": "https://localhost:8080/"
        },
        "id": "UGPmCzcR8Hqh",
        "outputId": "8a02df2f-4c8b-47ac-de19-58aa62a7bfc6"
      },
      "execution_count": null,
      "outputs": [
        {
          "output_type": "stream",
          "name": "stdout",
          "text": [
            "[0, 1, 4, 9, 16, 25, 36, 49, 64, 81]\n"
          ]
        }
      ]
    },
    {
      "cell_type": "code",
      "source": [
        "s = []\n",
        "for x in range (10):\n",
        "  if x %2 ==0:\n",
        "   s.append(x**2)\n",
        "print(s)"
      ],
      "metadata": {
        "colab": {
          "base_uri": "https://localhost:8080/"
        },
        "id": "8onDSlZ389-f",
        "outputId": "16780ed0-f0c0-429a-9a1f-2ceb166e705a"
      },
      "execution_count": null,
      "outputs": [
        {
          "output_type": "stream",
          "name": "stdout",
          "text": [
            "[0, 4, 16, 36, 64]\n"
          ]
        }
      ]
    },
    {
      "cell_type": "code",
      "source": [
        "s=[ x**2  for x in range (10) if x%2==0 ]\n",
        "print(s)"
      ],
      "metadata": {
        "colab": {
          "base_uri": "https://localhost:8080/"
        },
        "id": "y0c39MOE899L",
        "outputId": "e4c31b01-5a40-427c-e545-096063aa3c62"
      },
      "execution_count": null,
      "outputs": [
        {
          "output_type": "stream",
          "name": "stdout",
          "text": [
            "[0, 4, 16, 36, 64]\n"
          ]
        }
      ]
    },
    {
      "cell_type": "code",
      "source": [
        "s= []\n",
        "for i in range(1,3):\n",
        "  for j in range (4,8):\n",
        "    print('{}{}'.format(i,j))\n",
        "    s.append((i,j))\n",
        "\n",
        "print(s)"
      ],
      "metadata": {
        "colab": {
          "base_uri": "https://localhost:8080/"
        },
        "id": "96mr4Sl09asG",
        "outputId": "5922f93c-37f5-4893-d1f8-70dae71b2c4b"
      },
      "execution_count": null,
      "outputs": [
        {
          "output_type": "stream",
          "name": "stdout",
          "text": [
            "14\n",
            "15\n",
            "16\n",
            "17\n",
            "24\n",
            "25\n",
            "26\n",
            "27\n",
            "[(1, 4), (1, 5), (1, 6), (1, 7), (2, 4), (2, 5), (2, 6), (2, 7)]\n"
          ]
        }
      ]
    },
    {
      "cell_type": "code",
      "source": [
        "s= [ (i,j) for i in range(1,3) for j in range (4,8)    ]\n",
        "\n",
        "\n",
        "print(s)"
      ],
      "metadata": {
        "colab": {
          "base_uri": "https://localhost:8080/"
        },
        "id": "7HiK-yul86Bx",
        "outputId": "579a00e4-856f-4e69-8573-e7fc5486180e"
      },
      "execution_count": null,
      "outputs": [
        {
          "output_type": "stream",
          "name": "stdout",
          "text": [
            "[(1, 4), (1, 5), (1, 6), (1, 7), (2, 4), (2, 5), (2, 6), (2, 7)]\n"
          ]
        }
      ]
    },
    {
      "cell_type": "markdown",
      "source": [
        "총판매금액을 구하는 프로그램(list comprehension을 사용)  \n",
        "cnt = [1, 1, 2, 1]  \n",
        "prod = [500, 1000, 400, 600]  "
      ],
      "metadata": {
        "id": "a3pRIk34-r-s"
      }
    },
    {
      "cell_type": "code",
      "source": [
        "cnt = [1, 1, 2, 1]\n",
        "prod = [500, 1000, 400, 600]\n",
        "\n",
        "for x in zip(cnt,prod):\n",
        "  print (x)"
      ],
      "metadata": {
        "colab": {
          "base_uri": "https://localhost:8080/"
        },
        "id": "Cj2vBxq5-hFY",
        "outputId": "317c94f2-bea2-48a4-a247-5858cc1be9ca"
      },
      "execution_count": null,
      "outputs": [
        {
          "output_type": "stream",
          "name": "stdout",
          "text": [
            "(1, 500)\n",
            "(1, 1000)\n",
            "(2, 400)\n",
            "(1, 600)\n"
          ]
        }
      ]
    },
    {
      "cell_type": "code",
      "source": [
        "del sum"
      ],
      "metadata": {
        "id": "Lsu9uzQYAc1K"
      },
      "execution_count": null,
      "outputs": []
    },
    {
      "cell_type": "code",
      "source": [
        "s = [ ]\n",
        "cnt = [1, 1, 2, 1]\n",
        "prod = [500, 1000, 400, 600]\n",
        "for i,j in zip (cnt, prod):\n",
        "  s.append(i*j)\n",
        "\n",
        "print(sum (s))"
      ],
      "metadata": {
        "colab": {
          "base_uri": "https://localhost:8080/"
        },
        "id": "509dihit_Q9n",
        "outputId": "0fc966f0-2f6d-4620-e3f8-2e74eb6188b0"
      },
      "execution_count": null,
      "outputs": [
        {
          "output_type": "stream",
          "name": "stdout",
          "text": [
            "2900\n"
          ]
        }
      ]
    },
    {
      "cell_type": "code",
      "source": [
        "s= sum ([i*j for i,j in zip(cnt, prod)])\n",
        "print(s)"
      ],
      "metadata": {
        "colab": {
          "base_uri": "https://localhost:8080/"
        },
        "id": "zfcwvLvgAMsK",
        "outputId": "bd537e50-1ce5-4514-db05-1427c322fee4"
      },
      "execution_count": null,
      "outputs": [
        {
          "output_type": "stream",
          "name": "stdout",
          "text": [
            "2900\n"
          ]
        }
      ]
    },
    {
      "cell_type": "markdown",
      "source": [
        "'e'가 포함되어 있는 과일들만 추출해서 대문자로 출력하는 프로그램을 구현하세요.\n",
        "fruits = ['apple', 'banana', 'cherry', 'grape', 'kiwi', 'tomato']\n",
        "\n",
        "[출력결과]\n",
        "['APPLE', 'CHERRY', 'GRAPE']"
      ],
      "metadata": {
        "id": "8fSVnEgEAwzb"
      }
    },
    {
      "cell_type": "code",
      "source": [
        "##'e'가 포함되어 있는 과일들만 추출해서 대문자로 출력하는 프로그램을 구현하세요.\n",
        "fruits = ['appLE', 'banana', 'cherry', 'grape', 'kiwi', 'tomato']\n",
        "\n",
        "\n",
        "s = [item.upper() for item in fruits  if 'e' in item.lower() ]\n",
        "print(s)\n",
        "\n",
        "\n",
        "\n",
        "##[출력결과]\n",
        "##['APPLE', 'CHERRY', 'GRAPE']"
      ],
      "metadata": {
        "colab": {
          "base_uri": "https://localhost:8080/"
        },
        "id": "zHLxyamcAzIZ",
        "outputId": "6a2dada8-d534-4c21-d940-60cb7f804882"
      },
      "execution_count": null,
      "outputs": [
        {
          "output_type": "stream",
          "name": "stdout",
          "text": [
            "['APPLE', 'CHERRY', 'GRAPE']\n"
          ]
        }
      ]
    },
    {
      "cell_type": "markdown",
      "source": [
        "## 예제"
      ],
      "metadata": {
        "id": "gnIsYbHvIR7X"
      }
    },
    {
      "cell_type": "code",
      "source": [
        "##제어문이나 comprehension을 이용한 문제풀이\n",
        "\n",
        "##[문제1]  리스트에 저장된 문자열 중에서 길이가 5인 것들만 리스트 형태로 출력하도록 구현하세요.\n",
        "\n",
        "\n",
        "a= ['alpha', 'bravo', 'charlie', 'delta', 'echo', 'foxtrot', 'golf', 'hotel', 'india']\n",
        "\n",
        "b = [i for i in a if len(i) ==5]\n",
        "b\n",
        "\n",
        "\n",
        "\n",
        "##[출력결과]     ['alpha', 'bravo', 'delta', 'hotel', 'india']"
      ],
      "metadata": {
        "colab": {
          "base_uri": "https://localhost:8080/"
        },
        "id": "HQ6KpKQPHTgA",
        "outputId": "26571340-6f3f-47be-e90e-6727d7b7a9d1"
      },
      "execution_count": null,
      "outputs": [
        {
          "output_type": "execute_result",
          "data": {
            "text/plain": [
              "['alpha', 'bravo', 'delta', 'hotel', 'india']"
            ]
          },
          "metadata": {},
          "execution_count": 128
        }
      ]
    },
    {
      "cell_type": "code",
      "source": [
        "##[문제2]   가로 크기를 저장한 리스트를 활용해서 가로 크기가 불규칙한  리스트를 생성하도록 프로그램을 구현하세요.\n",
        "\n",
        "a = [3, 1, 3, 2, 5]\n",
        "b = [[0] * i for i in a]\n",
        "b\n",
        "\n",
        "##[출력결과]  [[0, 0, 0], [0], [0, 0, 0], [0, 0], [0, 0, 0, 0, 0]]"
      ],
      "metadata": {
        "id": "Uc1iDDxlHclh"
      },
      "execution_count": null,
      "outputs": []
    },
    {
      "cell_type": "code",
      "source": [
        "##[문제3]    포트폴리오의 총 비용을 계산하는 프로그램을 구현하세요.\n",
        "\n",
        "portfolio = [{'name':'AA', 'shares':100, 'price':32.20},{'name':'IBM', 'shares':50, 'price':91.10},{'name':'CAT', 'shares':150, 'price':83.44},{'name':'MSFT', 'shares':200, 'price':51.23},{'name':'GE', 'shares':95, 'price':40.37},{'name':'MSFT', 'shares':50, 'price':65.10},{'name':'IBM', 'shares':100, 'price':70.44} ]\n",
        "\n",
        "\n",
        "cost = sum([ s['shares'] * s['price'] for s in portfolio ])\n",
        "cost\n",
        "\n",
        "\n",
        "## [출력결과]  44671.15"
      ],
      "metadata": {
        "id": "ySTPs6TaHeKo"
      },
      "execution_count": null,
      "outputs": []
    },
    {
      "cell_type": "code",
      "source": [
        "##[문제4]  포트폴리오에서 100주 이상 보유한 종목의 리스트를 출력하는 프로그램을 구현하세요.\n",
        "\n",
        "portfolio = [{'name':'AA', 'shares':100, 'price':32.20},{'name':'IBM', 'shares':50, 'price':91.10},{'name':'CAT', 'shares':150, 'price':83.44},{'name':'MSFT', 'shares':200, 'price':51.23},{'name':'GE', 'shares':95, 'price':40.37},{'name':'MSFT', 'shares':50, 'price':65.10},{'name':'IBM', 'shares':100, 'price':70.44} ]\n",
        "\n",
        "more100 = [ s for s in portfolio if s['shares'] >= 100 ]\n",
        "more100\n",
        "\n",
        "\n",
        "##[출력결과]\n",
        "##[{'name': 'AA', 'shares': 100, 'price': 32.2},\n",
        "## {'name': 'CAT', 'shares': 150, 'price': 83.44},\n",
        "## {'name': 'MSFT', 'shares': 200, 'price': 51.23},\n",
        "## {'name': 'IBM', 'shares': 100, 'price': 70.44}]\n"
      ],
      "metadata": {
        "id": "Q_jSu53NHgW3"
      },
      "execution_count": null,
      "outputs": []
    },
    {
      "cell_type": "code",
      "source": [
        "##[문제5]보유한 MSFT와 IBM주식 전체 리스트를 출력하는 프로그램을 구현하세요.\n",
        "\n",
        "portfolio = [{'name':'AA', 'shares':100, 'price':32.20},{'name':'IBM', 'shares':50, 'price':91.10},{'name':'CAT', 'shares':150, 'price':83.44},{'name':'MSFT', 'shares':200, 'price':51.23},{'name':'GE', 'shares':95, 'price':40.37},{'name':'MSFT', 'shares':50, 'price':65.10},{'name':'IBM', 'shares':100, 'price':70.44} ]\n",
        "\n",
        "msftibm = [ s for s in portfolio if s['name'] in {'MSFT','IBM'} ]\n",
        "msftibm\n",
        "\n",
        "##[출력결과]\n",
        "##[{'name': 'IBM', 'price': 91.1, 'shares': 50},\n",
        "## {'name': 'MSFT', 'price': 51.23, 'shares': 200},\n",
        "## {'name': 'MSFT', 'price': 65.1, 'shares': 50},\n",
        "## {'name': 'IBM', 'price': 70.44, 'shares': 100}]\n"
      ],
      "metadata": {
        "id": "WZ94Af1kHiKv"
      },
      "execution_count": null,
      "outputs": []
    },
    {
      "cell_type": "code",
      "source": [
        "##[문제6]보유 종목 중 가격이 10,000달러가 넘는 것의 리스트를 구현하는 프로그램을 구현하세요.\n",
        "portfolio = [{'name':'AA', 'shares':100, 'price':32.20},{'name':'IBM', 'shares':50, 'price':91.10},{'name':'CAT', 'shares':150, 'price':83.44},{'name':'MSFT', 'shares':200, 'price':51.23},{'name':'GE', 'shares':95, 'price':40.37},{'name':'MSFT', 'shares':50, 'price':65.10},{'name':'IBM', 'shares':100, 'price':70.44} ]\n",
        "\n",
        "cost = [s for s in portfolio if s['shares'] * s['price'] >10000 ]\n",
        "print(cost)\n",
        "\n",
        "\n",
        "\n",
        "\n",
        "##[출력결과]\n",
        "##[{'name': 'CAT', 'price': 83.44, 'shares': 150},\n",
        "## {'name': 'MSFT', 'price': 51.23, 'shares': 200}]\n",
        "\n"
      ],
      "metadata": {
        "colab": {
          "base_uri": "https://localhost:8080/"
        },
        "id": "vr8iuAHqHkOx",
        "outputId": "b91fe0c2-89df-4921-9a05-6382469eb368"
      },
      "execution_count": null,
      "outputs": [
        {
          "output_type": "stream",
          "name": "stdout",
          "text": [
            "[{'name': 'CAT', 'shares': 150, 'price': 83.44}, {'name': 'MSFT', 'shares': 200, 'price': 51.23}]\n"
          ]
        }
      ]
    },
    {
      "cell_type": "code",
      "source": [
        "##[문제7]    portfolio에서 얻은 name과 shares를 가지고 튜플의 리스트 (name, shares)를 만드는 프로그램을 구현하세요.\n",
        "portfolio = [{'name':'AA', 'shares':100, 'price':32.20},{'name':'IBM', 'shares':50, 'price':91.10},{'name':'CAT', 'shares':150, 'price':83.44},{'name':'MSFT', 'shares':200, 'price':51.23},{'name':'GE', 'shares':95, 'price':40.37},{'name':'MSFT', 'shares':50, 'price':65.10},{'name':'IBM', 'shares':100, 'price':70.44} ]\n",
        "\n",
        "name_shares=[ (s['name'],s['shares']) for s in portfolio ]\n",
        "print(name_share)\n",
        "\n",
        "\n",
        "##[출력결과]\n",
        "##[('AA', 100),\n",
        "## ('IBM', 50),\n",
        "## ('CAT', 150),\n",
        "## ('MSFT', 200),\n",
        "## ('GE', 95),\n",
        "## ('MSFT', 50),\n",
        "## ('IBM', 100)]"
      ],
      "metadata": {
        "colab": {
          "base_uri": "https://localhost:8080/"
        },
        "id": "-R4PMG4wHkNY",
        "outputId": "ea686ebd-4e63-4825-ff76-94e92dbcd508"
      },
      "execution_count": null,
      "outputs": [
        {
          "output_type": "stream",
          "name": "stdout",
          "text": [
            "[('AA', 100), ('IBM', 50), ('CAT', 150), ('MSFT', 200), ('GE', 95), ('MSFT', 50), ('IBM', 100)]\n"
          ]
        }
      ]
    },
    {
      "cell_type": "code",
      "source": [
        "##[문제8]  리스트에서 int만 추출하는 프로그램을 구현하세요.\n",
        "\n",
        "oldlist = [1, 2, 'A', False, 3]\n",
        "\n",
        "\n",
        "newlist = [i for i in oldlist if type(i)==int]\n",
        "newlist\n",
        "\n",
        "\n"
      ],
      "metadata": {
        "colab": {
          "base_uri": "https://localhost:8080/"
        },
        "id": "1AbDcZmfpdNA",
        "outputId": "f46b7073-6ccd-450e-bafa-de19e3d7be95"
      },
      "execution_count": 39,
      "outputs": [
        {
          "output_type": "execute_result",
          "data": {
            "text/plain": [
              "[1, 2, 3]"
            ]
          },
          "metadata": {},
          "execution_count": 39
        }
      ]
    },
    {
      "cell_type": "code",
      "source": [
        "##[문제9]   1부터 10까지의 홀수, 짝수로 출력하는 프로그램을 구현하세요.\n",
        "\n",
        "reselt= { n:'짝수' if n%2==0 else '홀수' for n in range(1,11)}\n",
        "print(reselt)\n",
        "\n",
        "\n",
        "\n",
        "\n",
        "\n",
        "\n",
        "##[출력결과]\n",
        "##{1: '홀수',\n",
        "## 2: '짝수',\n",
        "## 3: '홀수',\n",
        "## 4: '짝수',\n",
        "## 5: '홀수',\n",
        "## 6: '짝수',\n",
        "## 7: '홀수',\n",
        "## 8: '짝수',\n",
        "## 9: '홀수',\n",
        "## 10: '짝수'}"
      ],
      "metadata": {
        "colab": {
          "base_uri": "https://localhost:8080/"
        },
        "id": "G6JjCsNBHpDv",
        "outputId": "5e6384a4-2797-4a9b-a256-eb0c28db8751"
      },
      "execution_count": null,
      "outputs": [
        {
          "output_type": "stream",
          "name": "stdout",
          "text": [
            "{1: '홀수', 2: '짝수', 3: '홀수', 4: '짝수', 5: '홀수', 6: '짝수', 7: '홀수', 8: '짝수', 9: '홀수', 10: '짝수'}\n"
          ]
        }
      ]
    },
    {
      "cell_type": "markdown",
      "source": [
        "### dict comprehension  \n",
        "- 사전 정의시 값을 정하지 않고 호출시 사전 내의 값들이 처리되도록 구성\n",
        "- A ={표현식 for (k,v) in 반복가능객체 if 논리식 }"
      ],
      "metadata": {
        "id": "Yz7j7jrajOaT"
      }
    },
    {
      "cell_type": "code",
      "source": [
        "d = {}\n",
        "for k, v in zip(range(9), range(9)) :\n",
        "  d[k]=v\n",
        "print(d)\n"
      ],
      "metadata": {
        "colab": {
          "base_uri": "https://localhost:8080/"
        },
        "id": "MUy07Zm8kBet",
        "outputId": "b4e46184-9a84-463e-fe38-53a04071b077"
      },
      "execution_count": 2,
      "outputs": [
        {
          "output_type": "stream",
          "name": "stdout",
          "text": [
            "{0: 0, 1: 1, 2: 2, 3: 3, 4: 4, 5: 5, 6: 6, 7: 7, 8: 8}\n"
          ]
        }
      ]
    },
    {
      "cell_type": "code",
      "source": [
        "d = { k:v for k, v in zip(range(9), range(9)) }\n",
        "print(d)"
      ],
      "metadata": {
        "colab": {
          "base_uri": "https://localhost:8080/"
        },
        "id": "5CC49sOGkx4v",
        "outputId": "8eb1f297-fd37-40b4-fcd4-bfb9f199f00a"
      },
      "execution_count": 5,
      "outputs": [
        {
          "output_type": "stream",
          "name": "stdout",
          "text": [
            "{0: 0, 1: 1, 2: 2, 3: 3, 4: 4, 5: 5, 6: 6, 7: 7, 8: 8}\n"
          ]
        }
      ]
    },
    {
      "cell_type": "code",
      "source": [
        "a = {'x':1 ,'y':2 ,'z':3}\n",
        "b = {'w':10,'x':11 ,'y':2 }\n",
        "\n",
        "print(a.keys())\n",
        "print(b.keys())\n",
        "\n",
        "c = a.keys() - b.keys()\n",
        "print(c)\n",
        "print(type(c))\n",
        "\n",
        "d = c.pop()\n",
        "\n",
        "print('{}:{}'.format(d,a[d]))"
      ],
      "metadata": {
        "colab": {
          "base_uri": "https://localhost:8080/"
        },
        "id": "hA88dIU6kx3a",
        "outputId": "d3da2c95-804b-43d9-e96f-5e2facd9775b"
      },
      "execution_count": 29,
      "outputs": [
        {
          "output_type": "stream",
          "name": "stdout",
          "text": [
            "dict_keys(['x', 'y', 'z'])\n",
            "dict_keys(['w', 'x', 'y'])\n",
            "{'z'}\n",
            "<class 'set'>\n",
            "z:3\n"
          ]
        }
      ]
    },
    {
      "cell_type": "code",
      "source": [
        "a = {'x':1 ,'y':2 ,'z':3}\n",
        "b = {'w':10,'x':11 ,'y':2 }\n",
        "k = {key:b[key] for key in b.keys() - a.keys()}\n",
        "print(k)"
      ],
      "metadata": {
        "colab": {
          "base_uri": "https://localhost:8080/"
        },
        "id": "_318Oos5nokx",
        "outputId": "fb741cc0-3a08-486b-d6f3-ed15798af6af"
      },
      "execution_count": 27,
      "outputs": [
        {
          "output_type": "stream",
          "name": "stdout",
          "text": [
            "{'w': 10}\n"
          ]
        }
      ]
    },
    {
      "cell_type": "markdown",
      "source": [
        "### set comprehension  \n",
        "- Set 정의시 값을 정하지 않고 호출시 Set내의 값들이 처리되도록 구성\n",
        "- A = {표현식 for 항목 in 반복가능객체 if 논리식}  "
      ],
      "metadata": {
        "id": "h_K41EXToXX5"
      }
    },
    {
      "cell_type": "code",
      "source": [
        "  k = {(i,j)   for i in range(1,3) for j in range(4,8)}\n",
        "print(k)"
      ],
      "metadata": {
        "colab": {
          "base_uri": "https://localhost:8080/"
        },
        "id": "EBGmI59bokrc",
        "outputId": "6a3286b4-2629-4a9b-a0e1-0fffd72d33e6"
      },
      "execution_count": 36,
      "outputs": [
        {
          "output_type": "stream",
          "name": "stdout",
          "text": [
            "{(2, 4), (2, 7), (1, 5), (1, 4), (1, 7), (2, 6), (1, 6), (2, 5)}\n"
          ]
        }
      ]
    },
    {
      "cell_type": "code",
      "source": [],
      "metadata": {
        "id": "wrHTdX77pJjQ"
      },
      "execution_count": null,
      "outputs": []
    }
  ]
}