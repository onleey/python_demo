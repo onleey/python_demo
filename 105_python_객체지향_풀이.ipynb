{
  "nbformat": 4,
  "nbformat_minor": 0,
  "metadata": {
    "colab": {
      "provenance": [],
      "authorship_tag": "ABX9TyO3tW+FcCHE1gRPnFSWoBPw",
      "include_colab_link": true
    },
    "kernelspec": {
      "name": "python3",
      "display_name": "Python 3"
    },
    "language_info": {
      "name": "python"
    }
  },
  "cells": [
    {
      "cell_type": "markdown",
      "metadata": {
        "id": "view-in-github",
        "colab_type": "text"
      },
      "source": [
        "<a href=\"https://colab.research.google.com/github/onleey/python_demo/blob/master/105_python_%EA%B0%9D%EC%B2%B4%EC%A7%80%ED%96%A5_%ED%92%80%EC%9D%B4.ipynb\" target=\"_parent\"><img src=\"https://colab.research.google.com/assets/colab-badge.svg\" alt=\"Open In Colab\"/></a>"
      ]
    },
    {
      "cell_type": "code",
      "execution_count": null,
      "metadata": {
        "id": "H8VAmUvhcYzw"
      },
      "outputs": [],
      "source": [
        "class Movie:\n",
        "\n",
        "  # title  영화제목,  director 감독점수,  acter 배우점수\n",
        "\n",
        "  def __init__(self, title, director, acter):\n",
        "     self.title = title\n",
        "     self.director = director\n",
        "     self.acter = acter\n",
        "\n",
        "\n",
        "  def display(self):\n",
        "     total = self.director + self.acter\n",
        "\n",
        "     print('영화제목: {}'.format(self.title))\n",
        "     print('감독: {}, 배우: {}'.format(self.director, self.acter))\n",
        "     print('영화총점: {}'.format(total))\n",
        "\n",
        "     if total >= 15:\n",
        "       result = '☆☆☆☆☆'\n",
        "     elif total >= 12:\n",
        "       result = '☆☆☆☆'\n",
        "     elif total >= 10:\n",
        "       result = '☆☆☆'\n",
        "     else:\n",
        "       result = '☆☆'\n",
        "     print('영화평점: {}'.format(result))\n",
        "\n",
        "\n",
        "class MovieWork(Movie) :\n",
        "   def __init__(self, title, director, acter,cinematic,popular,scenario):\n",
        "    super().__init__(title, director, acter)\n",
        "\n",
        "    self.cinematic= cinematic\n",
        "    self.popular = popular\n",
        "    self.scenario = scenario\n",
        "    self.total = self.director +self.acter +self.cinematic+ self.popular+self.scenario\n",
        "\n",
        "\n",
        "   def display(self):\n",
        "       total = self.director +self.acter +self.cinematic+ self.popular+self.scenario\n",
        "\n",
        "       print('영화제목: {}'.format(self.title))\n",
        "       print('감독: {},배우:{},작품성:{},대중성:{},대본:{}'.format(self.director,self.acter,self.cinematic,self.popular,self.scenario))\n",
        "       print('영화총점: {}'.format(self.total))\n",
        "\n",
        "       if total >= 45:\n",
        "         result = '☆☆☆☆☆'\n",
        "       elif total >= 40:\n",
        "         result = '☆☆☆☆'\n",
        "       elif total >= 35:\n",
        "         result = '☆☆☆'\n",
        "       else:\n",
        "         result = '☆☆'\n",
        "\n",
        "       print('영화평점: {}'.format(result))\n",
        "\n",
        "\n",
        "\n",
        "#  영화제목:사도세자\n",
        "#  감독:9, 배우:10, 작품성:10, 대중성:8, 대본:9\n",
        "#  영화총점 : 46\n",
        "#  영화평점 : ☆☆☆☆☆\n",
        "\n",
        "\n",
        "if __name__ == '__main__':\n",
        "\n",
        "  # title  영화제목,  director 감독점수,  acter 배우점수\n",
        "  #cinematic 작품성, popular  대중성, scenario 시나리오\n",
        "  # title, director, acter\n",
        "\n",
        "  mv = Movie('추격자', 7, 5)\n",
        "  mv.display()\n",
        "\n",
        "  print('\\n***********************************')\n",
        "\n",
        "  #    title, director, acter, cinematic, popular, scenario\n",
        "  mk = MovieWork(\"사도세자\", 9, 10, 10, 8, 9)\n",
        "  mk.display();"
      ]
    }
  ]
}