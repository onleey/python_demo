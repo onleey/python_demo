{
  "nbformat": 4,
  "nbformat_minor": 0,
  "metadata": {
    "colab": {
      "provenance": [],
      "authorship_tag": "ABX9TyMpMVLg/zsMZWcFmkx6xLa0",
      "include_colab_link": true
    },
    "kernelspec": {
      "name": "python3",
      "display_name": "Python 3"
    },
    "language_info": {
      "name": "python"
    }
  },
  "cells": [
    {
      "cell_type": "markdown",
      "metadata": {
        "id": "view-in-github",
        "colab_type": "text"
      },
      "source": [
        "<a href=\"https://colab.research.google.com/github/onleey/python_demo/blob/master/python_300%EC%A0%9C_%EB%B0%98%EB%B3%B5%EB%AC%B8(~180).ipynb\" target=\"_parent\"><img src=\"https://colab.research.google.com/assets/colab-badge.svg\" alt=\"Open In Colab\"/></a>"
      ]
    },
    {
      "cell_type": "code",
      "execution_count": 3,
      "metadata": {
        "colab": {
          "base_uri": "https://localhost:8080/"
        },
        "id": "vHgb0IP7rl5v",
        "outputId": "1d728333-166d-4973-9df4-604e4c38a233"
      },
      "outputs": [
        {
          "output_type": "stream",
          "name": "stdout",
          "text": [
            "a\n",
            "b\n",
            "c\n"
          ]
        }
      ],
      "source": [
        "print('a')\n",
        "print('b')\n",
        "print('c')"
      ]
    },
    {
      "cell_type": "code",
      "source": [
        "변수=[\"A\", \"B\", \"C\"]\n",
        "print('출력:',변수[0])\n",
        "print('출력:',변수[1])\n",
        "print('출력:',변수[2])"
      ],
      "metadata": {
        "colab": {
          "base_uri": "https://localhost:8080/"
        },
        "id": "6fC1O3AvuCU9",
        "outputId": "165d0eb2-10dc-4dcb-b42a-6263a94881f4"
      },
      "execution_count": 5,
      "outputs": [
        {
          "output_type": "stream",
          "name": "stdout",
          "text": [
            "출력: A\n",
            "출력: B\n",
            "출력: C\n"
          ]
        }
      ]
    },
    {
      "cell_type": "code",
      "source": [
        "변수=[\"A\", \"B\", \"C\"]\n",
        "\n",
        "print('출력:',변수[0].lower())\n",
        "print('출력:',변수[1].lower())\n",
        "print('출력:',변수[2].lower())"
      ],
      "metadata": {
        "colab": {
          "base_uri": "https://localhost:8080/"
        },
        "id": "Ef2OSY6Tu8Ix",
        "outputId": "84905947-1770-441a-f603-be8d4d4e2168"
      },
      "execution_count": 9,
      "outputs": [
        {
          "output_type": "stream",
          "name": "stdout",
          "text": [
            "출력: a\n",
            "출력: b\n",
            "출력: c\n"
          ]
        }
      ]
    },
    {
      "cell_type": "code",
      "source": [
        "변수 = [10,20,30]\n",
        "\n",
        "for i in 변수 :\n",
        "  print(i)"
      ],
      "metadata": {
        "colab": {
          "base_uri": "https://localhost:8080/"
        },
        "id": "qTQtaYU0v2AE",
        "outputId": "af50a7e5-064e-4200-9858-9e3a51af35be"
      },
      "execution_count": 10,
      "outputs": [
        {
          "output_type": "stream",
          "name": "stdout",
          "text": [
            "10\n",
            "20\n",
            "30\n"
          ]
        }
      ]
    },
    {
      "cell_type": "code",
      "source": [
        "for i in [10,20,30] :\n",
        " print(i)"
      ],
      "metadata": {
        "colab": {
          "base_uri": "https://localhost:8080/"
        },
        "id": "0uHfSYZNwS-H",
        "outputId": "c1b5147c-5695-47bb-a7ff-62e8208c57b8"
      },
      "execution_count": 15,
      "outputs": [
        {
          "output_type": "stream",
          "name": "stdout",
          "text": [
            "10\n",
            "20\n",
            "30\n"
          ]
        }
      ]
    },
    {
      "cell_type": "code",
      "source": [
        "변수 = [10,20,30]\n",
        "점선 = ['-------']\n",
        "\n",
        "for i in 변수 :\n",
        "  print(i)\n",
        "  print(점선)"
      ],
      "metadata": {
        "colab": {
          "base_uri": "https://localhost:8080/"
        },
        "id": "O5ayKx2MwkLa",
        "outputId": "5db5bcab-a067-415d-fbce-ef0fa11638f2"
      },
      "execution_count": 17,
      "outputs": [
        {
          "output_type": "stream",
          "name": "stdout",
          "text": [
            "10\n",
            "['-------']\n",
            "20\n",
            "['-------']\n",
            "30\n",
            "['-------']\n"
          ]
        }
      ]
    },
    {
      "cell_type": "code",
      "source": [
        " print(\"+++++\")\n",
        "for i in [10,20,30]:\n",
        "  print(i)"
      ],
      "metadata": {
        "colab": {
          "base_uri": "https://localhost:8080/"
        },
        "id": "I4vcswbbxHUO",
        "outputId": "60916d1f-6b48-4284-a0bb-3473d664ecbd"
      },
      "execution_count": 22,
      "outputs": [
        {
          "output_type": "stream",
          "name": "stdout",
          "text": [
            "+++++\n",
            "10\n",
            "20\n",
            "30\n"
          ]
        }
      ]
    },
    {
      "cell_type": "code",
      "source": [
        "for i in [1,2,3,4] :\n",
        " print('-------')"
      ],
      "metadata": {
        "colab": {
          "base_uri": "https://localhost:8080/"
        },
        "id": "ru-Zu5pKxbFX",
        "outputId": "72cf4fe6-4c37-4b94-902d-dd5639cfe600"
      },
      "execution_count": 24,
      "outputs": [
        {
          "output_type": "stream",
          "name": "stdout",
          "text": [
            "-------\n",
            "-------\n",
            "-------\n",
            "-------\n"
          ]
        }
      ]
    },
    {
      "cell_type": "code",
      "source": [
        "리스트 = [100, 200, 300]\n",
        "\n",
        "for i in 리스트:\n",
        "  print(i+10)"
      ],
      "metadata": {
        "colab": {
          "base_uri": "https://localhost:8080/"
        },
        "id": "AcZ9IJN5xnuk",
        "outputId": "14eca518-3ddb-4020-c695-fecb2d07af61"
      },
      "execution_count": 26,
      "outputs": [
        {
          "output_type": "stream",
          "name": "stdout",
          "text": [
            "110\n",
            "210\n",
            "310\n"
          ]
        }
      ]
    },
    {
      "cell_type": "code",
      "source": [
        "리스트 = [\"김밥\", \"라면\", \"튀김\"]\n",
        "\n",
        "for i in 리스트 :\n",
        "  print(\"오늘의 메뉴:\",i)"
      ],
      "metadata": {
        "colab": {
          "base_uri": "https://localhost:8080/"
        },
        "id": "Hm03qXL4xzzm",
        "outputId": "2e5cc4e7-0ef4-4550-c645-fbbc9299de30"
      },
      "execution_count": 27,
      "outputs": [
        {
          "output_type": "stream",
          "name": "stdout",
          "text": [
            "오늘의 메뉴: 김밥\n",
            "오늘의 메뉴: 라면\n",
            "오늘의 메뉴: 튀김\n"
          ]
        }
      ]
    },
    {
      "cell_type": "code",
      "source": [
        "리스트 = [\"SK하이닉스\", \"삼성전자\", \"LG전자\"]\n",
        "\n",
        "for i in 리스트:\n",
        "  print(len(i))"
      ],
      "metadata": {
        "colab": {
          "base_uri": "https://localhost:8080/"
        },
        "id": "PnqWTqlIx_6J",
        "outputId": "d4facdaa-80d2-4bf4-e7fb-00461f41dcc3"
      },
      "execution_count": 31,
      "outputs": [
        {
          "output_type": "stream",
          "name": "stdout",
          "text": [
            "6\n",
            "4\n",
            "4\n"
          ]
        }
      ]
    },
    {
      "cell_type": "code",
      "source": [
        "리스트 = ['dog', 'cat', 'parrot']\n",
        "for i in 리스트:\n",
        "  print(i,len(i))"
      ],
      "metadata": {
        "colab": {
          "base_uri": "https://localhost:8080/"
        },
        "id": "PSoj9vDnyWIT",
        "outputId": "112ddb88-ca34-4236-af8d-84118a763590"
      },
      "execution_count": 32,
      "outputs": [
        {
          "output_type": "stream",
          "name": "stdout",
          "text": [
            "dog 3\n",
            "cat 3\n",
            "parrot 6\n"
          ]
        }
      ]
    },
    {
      "cell_type": "code",
      "source": [
        "리스트 = ['dog', 'cat', 'parrot']\n",
        "for i in 리스트:\n",
        "  print(i[0])"
      ],
      "metadata": {
        "colab": {
          "base_uri": "https://localhost:8080/"
        },
        "id": "U8Uup0_MyhH_",
        "outputId": "3f166aca-09d6-405b-d836-6223363493ed"
      },
      "execution_count": 34,
      "outputs": [
        {
          "output_type": "stream",
          "name": "stdout",
          "text": [
            "d\n",
            "c\n",
            "p\n"
          ]
        }
      ]
    },
    {
      "cell_type": "code",
      "source": [
        "리스트 = [1, 2, 3]\n",
        "\n",
        "for i in 리스트 :\n",
        "  print('3 x', i)"
      ],
      "metadata": {
        "colab": {
          "base_uri": "https://localhost:8080/"
        },
        "id": "6Wq9UmTVyrqO",
        "outputId": "b4464186-027c-472f-b11d-79fc586e2c43"
      },
      "execution_count": 35,
      "outputs": [
        {
          "output_type": "stream",
          "name": "stdout",
          "text": [
            "3 x 1\n",
            "3 x 2\n",
            "3 x 3\n"
          ]
        }
      ]
    },
    {
      "cell_type": "code",
      "source": [
        "리스트 = [1, 2, 3]\n",
        "for 변수 in 리스트:\n",
        "  print(\"3 x {} = {}\".format(변수, 3 * 변수))\n"
      ],
      "metadata": {
        "colab": {
          "base_uri": "https://localhost:8080/"
        },
        "id": "DNpV5cFYy6WM",
        "outputId": "90f82461-fde5-457e-8839-e905aa0173b3"
      },
      "execution_count": 52,
      "outputs": [
        {
          "output_type": "stream",
          "name": "stdout",
          "text": [
            "3 x 1 = 3\n",
            "3 x 2 = 6\n",
            "3 x 3 = 9\n"
          ]
        }
      ]
    },
    {
      "cell_type": "code",
      "source": [
        "리스트 = [\"가\", \"나\", \"다\", \"라\"]\n",
        "for i in 리스트[1:]:\n",
        "  print(i)"
      ],
      "metadata": {
        "colab": {
          "base_uri": "https://localhost:8080/"
        },
        "id": "DRKSoIQB0U3f",
        "outputId": "7dd3a9d5-779c-45b0-d343-b2782ff332e5"
      },
      "execution_count": 64,
      "outputs": [
        {
          "output_type": "stream",
          "name": "stdout",
          "text": [
            "나\n",
            "다\n",
            "라\n"
          ]
        }
      ]
    },
    {
      "cell_type": "code",
      "source": [
        "리스트 = [\"가\", \"나\", \"다\", \"라\"]\n",
        "for i in 리스트 [::2]:\n",
        "  print(i)"
      ],
      "metadata": {
        "colab": {
          "base_uri": "https://localhost:8080/"
        },
        "id": "rkL2pnkM1EfP",
        "outputId": "2dcd81b0-7373-41d9-ae12-f8812e11f4dd"
      },
      "execution_count": 69,
      "outputs": [
        {
          "output_type": "stream",
          "name": "stdout",
          "text": [
            "가\n",
            "다\n"
          ]
        }
      ]
    },
    {
      "cell_type": "code",
      "source": [
        "리스트 = [\"가\", \"나\", \"다\", \"라\"]\n",
        "\n",
        "for i in 리스트[::-1]:\n",
        " print(i)"
      ],
      "metadata": {
        "colab": {
          "base_uri": "https://localhost:8080/"
        },
        "id": "b6VsvqM_16sG",
        "outputId": "015efc8e-6f24-45f0-f947-ddce51cc68ba"
      },
      "execution_count": 73,
      "outputs": [
        {
          "output_type": "stream",
          "name": "stdout",
          "text": [
            "라\n",
            "다\n",
            "나\n",
            "가\n"
          ]
        }
      ]
    },
    {
      "cell_type": "code",
      "source": [
        "리스트 = [3, -20, -3, 44]\n",
        "for i in 리스트 :\n",
        "  if i < 0 :\n",
        "   print ( i )"
      ],
      "metadata": {
        "colab": {
          "base_uri": "https://localhost:8080/"
        },
        "id": "gkjKlJA92IPh",
        "outputId": "1d06a157-f156-4d9e-f26c-14e0bf1ee607"
      },
      "execution_count": 78,
      "outputs": [
        {
          "output_type": "stream",
          "name": "stdout",
          "text": [
            "-20\n",
            "-3\n"
          ]
        }
      ]
    },
    {
      "cell_type": "code",
      "source": [
        "리스트 = [3, 100, 23, 44]\n",
        "\n",
        "for i in 리스트:\n",
        "  if i %3 == 0 :\n",
        "    print(i)"
      ],
      "metadata": {
        "colab": {
          "base_uri": "https://localhost:8080/"
        },
        "id": "jy5vcnUB2hNj",
        "outputId": "cbc99bd0-87e5-43bf-a6d5-caf9e1ff38d9"
      },
      "execution_count": 80,
      "outputs": [
        {
          "output_type": "stream",
          "name": "stdout",
          "text": [
            "3\n"
          ]
        }
      ]
    },
    {
      "cell_type": "code",
      "source": [
        "리스트 = [13, 21, 12, 14, 30, 18]\n",
        "\n",
        "for i in 리스트 :\n",
        "  if i < 20 and i % 3 == 0 :\n",
        "    print(i)"
      ],
      "metadata": {
        "colab": {
          "base_uri": "https://localhost:8080/"
        },
        "id": "f1Biy6hz2vlV",
        "outputId": "05685116-056d-4c23-df6d-b3a520a338e8"
      },
      "execution_count": 83,
      "outputs": [
        {
          "output_type": "stream",
          "name": "stdout",
          "text": [
            "12\n",
            "18\n"
          ]
        }
      ]
    },
    {
      "cell_type": "code",
      "source": [
        "리스트 = [\"I\", \"study\", \"python\", \"language\", \"!\"]\n",
        "\n",
        "for i in 리스트 :\n",
        "  if len(i) >= 3 :\n",
        "    print(i)"
      ],
      "metadata": {
        "colab": {
          "base_uri": "https://localhost:8080/"
        },
        "id": "z0-DxpS43EJ2",
        "outputId": "ec0479b9-e8ee-49fd-cb4c-5a7ea9db3daf"
      },
      "execution_count": 86,
      "outputs": [
        {
          "output_type": "stream",
          "name": "stdout",
          "text": [
            "study\n",
            "python\n",
            "language\n"
          ]
        }
      ]
    },
    {
      "cell_type": "code",
      "source": [
        "리스트 = [\"A\", \"b\", \"c\", \"D\"]\n",
        "\n",
        "for i in 리스트 :\n",
        " if i.isupper() :\n",
        "   print(i)"
      ],
      "metadata": {
        "colab": {
          "base_uri": "https://localhost:8080/"
        },
        "id": "dz-z_6hn3fTW",
        "outputId": "d10a847a-954e-4ec0-afc0-90f53e41c2f9"
      },
      "execution_count": 90,
      "outputs": [
        {
          "output_type": "stream",
          "name": "stdout",
          "text": [
            "A\n",
            "D\n"
          ]
        }
      ]
    },
    {
      "cell_type": "code",
      "source": [
        "리스트 = [\"A\", \"b\", \"c\", \"D\"]\n",
        "\n",
        "for i in 리스트 :\n",
        "  if i.islower():\n",
        "   print(i)"
      ],
      "metadata": {
        "colab": {
          "base_uri": "https://localhost:8080/"
        },
        "id": "J1srbh8w4IKt",
        "outputId": "d5b764df-2a98-43be-9433-0e14e5b7b77b"
      },
      "execution_count": 92,
      "outputs": [
        {
          "output_type": "stream",
          "name": "stdout",
          "text": [
            "b\n",
            "c\n"
          ]
        }
      ]
    },
    {
      "cell_type": "code",
      "source": [
        "리스트 = ['dog', 'cat', 'parrot']\n",
        "\n",
        "for i in 리스트:\n",
        " print(i[0].upper()+i[1:])"
      ],
      "metadata": {
        "colab": {
          "base_uri": "https://localhost:8080/"
        },
        "id": "PtPMjhyK4TKo",
        "outputId": "1bed606b-150b-4916-cb79-2ac6fd83a8b0"
      },
      "execution_count": 95,
      "outputs": [
        {
          "output_type": "stream",
          "name": "stdout",
          "text": [
            "Dog\n",
            "Cat\n",
            "Parrot\n"
          ]
        }
      ]
    },
    {
      "cell_type": "code",
      "source": [
        "리스트 = ['hello.py', 'ex01.py', 'intro.hwp']\n",
        "\n",
        "for i in 리스트:\n",
        "  제거 =i.split('.')\n",
        "  print(제거[0])"
      ],
      "metadata": {
        "colab": {
          "base_uri": "https://localhost:8080/"
        },
        "id": "tpqUa-H047oc",
        "outputId": "714ff9e2-e0fe-4891-930f-16977901a9df"
      },
      "execution_count": 99,
      "outputs": [
        {
          "output_type": "stream",
          "name": "stdout",
          "text": [
            "hello\n",
            "ex01\n",
            "intro\n"
          ]
        }
      ]
    },
    {
      "cell_type": "code",
      "source": [
        "리스트 = ['intra.h', 'intra.c', 'define.h', 'run.py']\n",
        "\n",
        "for i in 리스트:\n",
        "  분할 = i.split('.')\n",
        "  if 분할[1] == 'h':\n",
        "    print (i)"
      ],
      "metadata": {
        "colab": {
          "base_uri": "https://localhost:8080/"
        },
        "id": "zVM9p2eB5kYZ",
        "outputId": "e4814dec-c217-4fdc-a5c4-13b666119028"
      },
      "execution_count": 103,
      "outputs": [
        {
          "output_type": "stream",
          "name": "stdout",
          "text": [
            "intra.h\n",
            "define.h\n"
          ]
        }
      ]
    },
    {
      "cell_type": "code",
      "source": [
        "리스트 = ['intra.h', 'intra.c', 'define.h', 'run.py']\n",
        "\n",
        "for i in 리스트:\n",
        "  분할 = i.split('.')\n",
        "  if(분할[1] == 'h') or (분할[1] =='c'):\n",
        "     print(i)"
      ],
      "metadata": {
        "colab": {
          "base_uri": "https://localhost:8080/"
        },
        "id": "IHsc6YdK76ij",
        "outputId": "95164999-68eb-4487-a4e9-03ce7073d62e"
      },
      "execution_count": 148,
      "outputs": [
        {
          "output_type": "stream",
          "name": "stdout",
          "text": [
            "intra.h\n",
            "intra.c\n",
            "define.h\n"
          ]
        }
      ]
    },
    {
      "cell_type": "code",
      "source": [
        "for i in range(100):\n",
        " print(i)"
      ],
      "metadata": {
        "colab": {
          "base_uri": "https://localhost:8080/"
        },
        "id": "uqEV95Ab9wYf",
        "outputId": "73f89229-0c80-4a3f-88ad-86d32d7fcb09"
      },
      "execution_count": 151,
      "outputs": [
        {
          "output_type": "stream",
          "name": "stdout",
          "text": [
            "0\n",
            "1\n",
            "2\n",
            "3\n",
            "4\n",
            "5\n",
            "6\n",
            "7\n",
            "8\n",
            "9\n",
            "10\n",
            "11\n",
            "12\n",
            "13\n",
            "14\n",
            "15\n",
            "16\n",
            "17\n",
            "18\n",
            "19\n",
            "20\n",
            "21\n",
            "22\n",
            "23\n",
            "24\n",
            "25\n",
            "26\n",
            "27\n",
            "28\n",
            "29\n",
            "30\n",
            "31\n",
            "32\n",
            "33\n",
            "34\n",
            "35\n",
            "36\n",
            "37\n",
            "38\n",
            "39\n",
            "40\n",
            "41\n",
            "42\n",
            "43\n",
            "44\n",
            "45\n",
            "46\n",
            "47\n",
            "48\n",
            "49\n",
            "50\n",
            "51\n",
            "52\n",
            "53\n",
            "54\n",
            "55\n",
            "56\n",
            "57\n",
            "58\n",
            "59\n",
            "60\n",
            "61\n",
            "62\n",
            "63\n",
            "64\n",
            "65\n",
            "66\n",
            "67\n",
            "68\n",
            "69\n",
            "70\n",
            "71\n",
            "72\n",
            "73\n",
            "74\n",
            "75\n",
            "76\n",
            "77\n",
            "78\n",
            "79\n",
            "80\n",
            "81\n",
            "82\n",
            "83\n",
            "84\n",
            "85\n",
            "86\n",
            "87\n",
            "88\n",
            "89\n",
            "90\n",
            "91\n",
            "92\n",
            "93\n",
            "94\n",
            "95\n",
            "96\n",
            "97\n",
            "98\n",
            "99\n"
          ]
        }
      ]
    },
    {
      "cell_type": "code",
      "source": [
        "for i in range(2002,2051,4):\n",
        " print(i)"
      ],
      "metadata": {
        "colab": {
          "base_uri": "https://localhost:8080/"
        },
        "id": "Z8VRT0gd-JAD",
        "outputId": "f6181ba1-9987-4a94-a68a-381e7ac3f15a"
      },
      "execution_count": 163,
      "outputs": [
        {
          "output_type": "stream",
          "name": "stdout",
          "text": [
            "2002\n",
            "2006\n",
            "2010\n",
            "2014\n",
            "2018\n",
            "2022\n",
            "2026\n",
            "2030\n",
            "2034\n",
            "2038\n",
            "2042\n",
            "2046\n",
            "2050\n"
          ]
        }
      ]
    },
    {
      "cell_type": "code",
      "source": [
        "for i in range(1,31):\n",
        " if i  % 3 == 0 :\n",
        "  print (i)"
      ],
      "metadata": {
        "colab": {
          "base_uri": "https://localhost:8080/"
        },
        "id": "nzuGSufV_4uV",
        "outputId": "a623a28c-eb75-4b2d-c76d-cd3f94ca2a47"
      },
      "execution_count": 165,
      "outputs": [
        {
          "output_type": "stream",
          "name": "stdout",
          "text": [
            "3\n",
            "6\n",
            "9\n",
            "12\n",
            "15\n",
            "18\n",
            "21\n",
            "24\n",
            "27\n",
            "30\n"
          ]
        }
      ]
    },
    {
      "cell_type": "code",
      "source": [
        "for i in range (100):\n",
        "  print(99-i)"
      ],
      "metadata": {
        "colab": {
          "base_uri": "https://localhost:8080/"
        },
        "id": "LzqpSWFVAdir",
        "outputId": "94e4b4dd-61a0-4d8a-cf84-0dc2a994e221"
      },
      "execution_count": 170,
      "outputs": [
        {
          "output_type": "stream",
          "name": "stdout",
          "text": [
            "99\n",
            "98\n",
            "97\n",
            "96\n",
            "95\n",
            "94\n",
            "93\n",
            "92\n",
            "91\n",
            "90\n",
            "89\n",
            "88\n",
            "87\n",
            "86\n",
            "85\n",
            "84\n",
            "83\n",
            "82\n",
            "81\n",
            "80\n",
            "79\n",
            "78\n",
            "77\n",
            "76\n",
            "75\n",
            "74\n",
            "73\n",
            "72\n",
            "71\n",
            "70\n",
            "69\n",
            "68\n",
            "67\n",
            "66\n",
            "65\n",
            "64\n",
            "63\n",
            "62\n",
            "61\n",
            "60\n",
            "59\n",
            "58\n",
            "57\n",
            "56\n",
            "55\n",
            "54\n",
            "53\n",
            "52\n",
            "51\n",
            "50\n",
            "49\n",
            "48\n",
            "47\n",
            "46\n",
            "45\n",
            "44\n",
            "43\n",
            "42\n",
            "41\n",
            "40\n",
            "39\n",
            "38\n",
            "37\n",
            "36\n",
            "35\n",
            "34\n",
            "33\n",
            "32\n",
            "31\n",
            "30\n",
            "29\n",
            "28\n",
            "27\n",
            "26\n",
            "25\n",
            "24\n",
            "23\n",
            "22\n",
            "21\n",
            "20\n",
            "19\n",
            "18\n",
            "17\n",
            "16\n",
            "15\n",
            "14\n",
            "13\n",
            "12\n",
            "11\n",
            "10\n",
            "9\n",
            "8\n",
            "7\n",
            "6\n",
            "5\n",
            "4\n",
            "3\n",
            "2\n",
            "1\n",
            "0\n"
          ]
        }
      ]
    },
    {
      "cell_type": "code",
      "source": [
        "for i in range (10):\n",
        " print(i / 10)"
      ],
      "metadata": {
        "colab": {
          "base_uri": "https://localhost:8080/"
        },
        "id": "Aiq5HqCOA3ic",
        "outputId": "1e88b24b-f9f6-447d-b4b9-05cce918b622"
      },
      "execution_count": 174,
      "outputs": [
        {
          "output_type": "stream",
          "name": "stdout",
          "text": [
            "0.0\n",
            "0.1\n",
            "0.2\n",
            "0.3\n",
            "0.4\n",
            "0.5\n",
            "0.6\n",
            "0.7\n",
            "0.8\n",
            "0.9\n"
          ]
        }
      ]
    },
    {
      "cell_type": "code",
      "source": [
        "for i in range(1,10):\n",
        "\n",
        " print (3, \"x\", i, \"=\" ,3*i)"
      ],
      "metadata": {
        "colab": {
          "base_uri": "https://localhost:8080/"
        },
        "id": "cbzBcHmrBmL4",
        "outputId": "fc0ed38b-8771-4223-edd6-cd5a23486822"
      },
      "execution_count": 178,
      "outputs": [
        {
          "output_type": "stream",
          "name": "stdout",
          "text": [
            "3 x 1 = 3\n",
            "3 x 2 = 6\n",
            "3 x 3 = 9\n",
            "3 x 4 = 12\n",
            "3 x 5 = 15\n",
            "3 x 6 = 18\n",
            "3 x 7 = 21\n",
            "3 x 8 = 24\n",
            "3 x 9 = 27\n"
          ]
        }
      ]
    },
    {
      "cell_type": "code",
      "source": [
        "for i in range(1,10):\n",
        " if i % 2 == 1 :\n",
        "  print (3, \"x\", i, \"=\" ,3*i)\n"
      ],
      "metadata": {
        "colab": {
          "base_uri": "https://localhost:8080/"
        },
        "id": "AsbQ9Ry8CWbQ",
        "outputId": "2f8f4451-8b1e-4aa1-eee8-1b6af0b3803e"
      },
      "execution_count": 183,
      "outputs": [
        {
          "output_type": "stream",
          "name": "stdout",
          "text": [
            "3 x 1 = 3\n",
            "3 x 3 = 9\n",
            "3 x 5 = 15\n",
            "3 x 7 = 21\n",
            "3 x 9 = 27\n"
          ]
        }
      ]
    },
    {
      "cell_type": "code",
      "source": [
        "y=0\n",
        "for i in range(1,11):\n",
        "  y += i\n",
        "print('합:',y)"
      ],
      "metadata": {
        "colab": {
          "base_uri": "https://localhost:8080/"
        },
        "id": "G0aL1OguCvx-",
        "outputId": "36dac757-dd97-4914-9e63-8fd5f1f55e84"
      },
      "execution_count": 190,
      "outputs": [
        {
          "output_type": "stream",
          "name": "stdout",
          "text": [
            "합: 55\n"
          ]
        }
      ]
    },
    {
      "cell_type": "code",
      "source": [
        "y=0\n",
        "\n",
        "for i in range (1,11,2):\n",
        "  y += i\n",
        "print ('합:',y)"
      ],
      "metadata": {
        "colab": {
          "base_uri": "https://localhost:8080/"
        },
        "id": "PIuJWKLUEyax",
        "outputId": "a29be75d-d262-4ff9-f6e3-00e6e5f7ff1f"
      },
      "execution_count": 195,
      "outputs": [
        {
          "output_type": "stream",
          "name": "stdout",
          "text": [
            "합: 25\n"
          ]
        }
      ]
    },
    {
      "cell_type": "code",
      "source": [
        "y= 1\n",
        "\n",
        "for i in range (1,11):\n",
        "  y *= i\n",
        "  print(y)"
      ],
      "metadata": {
        "colab": {
          "base_uri": "https://localhost:8080/"
        },
        "id": "ds-ZXUt4Ff8N",
        "outputId": "158c06a5-6350-4be0-fd62-c70d122997ed"
      },
      "execution_count": 197,
      "outputs": [
        {
          "output_type": "stream",
          "name": "stdout",
          "text": [
            "1\n",
            "2\n",
            "6\n",
            "24\n",
            "120\n",
            "720\n",
            "5040\n",
            "40320\n",
            "362880\n",
            "3628800\n"
          ]
        }
      ]
    },
    {
      "cell_type": "code",
      "source": [
        "price_list = [32100, 32150, 32000, 32500]\n",
        "\n",
        "for i in range(4):\n",
        "  print(price_list[i])"
      ],
      "metadata": {
        "colab": {
          "base_uri": "https://localhost:8080/"
        },
        "id": "eHzYMgjfF7A4",
        "outputId": "c6dc53d2-2f70-4abe-86c5-a470ac4a26c5"
      },
      "execution_count": 200,
      "outputs": [
        {
          "output_type": "stream",
          "name": "stdout",
          "text": [
            "32100\n",
            "32150\n",
            "32000\n",
            "32500\n"
          ]
        }
      ]
    },
    {
      "cell_type": "code",
      "source": [
        "price_list = [32100, 32150, 32000, 32500]\n",
        "\n",
        "for i in range(len(price_list)):\n",
        "  print(price_list[i])"
      ],
      "metadata": {
        "colab": {
          "base_uri": "https://localhost:8080/"
        },
        "id": "D204MypSGf1j",
        "outputId": "1e200159-ec46-4f95-f10c-62d276c5a76e"
      },
      "execution_count": 201,
      "outputs": [
        {
          "output_type": "stream",
          "name": "stdout",
          "text": [
            "32100\n",
            "32150\n",
            "32000\n",
            "32500\n"
          ]
        }
      ]
    },
    {
      "cell_type": "code",
      "source": [
        "price_list = [32100, 32150, 32000, 32500]\n",
        "for i, data in enumerate(price_list):\n",
        "  print(i,data)"
      ],
      "metadata": {
        "colab": {
          "base_uri": "https://localhost:8080/"
        },
        "id": "YPCge48-HoGp",
        "outputId": "72bedde2-5e8a-478b-9b12-7834156d2c2c"
      },
      "execution_count": 203,
      "outputs": [
        {
          "output_type": "stream",
          "name": "stdout",
          "text": [
            "0 32100\n",
            "1 32150\n",
            "2 32000\n",
            "3 32500\n"
          ]
        }
      ]
    },
    {
      "cell_type": "code",
      "source": [
        "price_list = [32100, 32150, 32000, 32500]\n",
        "for i in range (len(price_list)):\n",
        " print( 3 - i, price_list[i])"
      ],
      "metadata": {
        "colab": {
          "base_uri": "https://localhost:8080/"
        },
        "id": "FKpJ2vGzJnYl",
        "outputId": "b7584e70-8990-4b23-80dd-6271d7c7d088"
      },
      "execution_count": 206,
      "outputs": [
        {
          "output_type": "stream",
          "name": "stdout",
          "text": [
            "3 32100\n",
            "2 32150\n",
            "1 32000\n",
            "0 32500\n"
          ]
        }
      ]
    }
  ]
}