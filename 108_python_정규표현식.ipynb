{
  "nbformat": 4,
  "nbformat_minor": 0,
  "metadata": {
    "colab": {
      "provenance": [],
      "authorship_tag": "ABX9TyNlA7L7d+TQ5PGUx7LihWRY",
      "include_colab_link": true
    },
    "kernelspec": {
      "name": "python3",
      "display_name": "Python 3"
    },
    "language_info": {
      "name": "python"
    }
  },
  "cells": [
    {
      "cell_type": "markdown",
      "metadata": {
        "id": "view-in-github",
        "colab_type": "text"
      },
      "source": [
        "<a href=\"https://colab.research.google.com/github/onleey/python_demo/blob/master/108_python_%EC%A0%95%EA%B7%9C%ED%91%9C%ED%98%84%EC%8B%9D.ipynb\" target=\"_parent\"><img src=\"https://colab.research.google.com/assets/colab-badge.svg\" alt=\"Open In Colab\"/></a>"
      ]
    },
    {
      "cell_type": "markdown",
      "source": [
        "## 정규표현식 (Regular Expression)\n",
        "- 복잡한 문자열을 처리할 때 사용하는 기법으로, 파이썬만의 고유 문법이 아니라 문자열을 처리하는 모든 곳에서 사용된다.   \n",
        "  - 일반적인 문자(a~z)와 메타문자(meta characters)라고 부르는 특수한 문자를 조합해서 특정 문자열 패턴을 작성하기 위한 언어이다.\n",
        "\n",
        "  - 메타문자 : 원래 그 문자가 가진 뜻이 아닌 특별한 용도로 사용되는 문자이다. 정규 표현식에서 사용되는 문자 . ^ $ * + ? {} [] \\ | ()"
      ],
      "metadata": {
        "id": "LKcUOoonkgV7"
      }
    },
    {
      "cell_type": "markdown",
      "source": [
        "## 파이썬에서 정규 표현식을 지원하는 re 모듈\n",
        " - re.compile을 이용하여 정규 표현식을 컴파일한다.\n",
        "## 정규식을 이용한 문자열 검색\n",
        "  -  컴파일된 패턴(정규식을 컴파일한 결과) 객체를 이용하여 문자열 검색을 수행하는 4가지 메소드\n",
        "\n",
        "|메소드|목적|\n",
        "|---|---|\n",
        "|match( )|문자열의 처음부터 정규식과 매치되는지 조사한다.|\n",
        "|search( )|문자열 전체를 검색하여 정규식과 매치되는지 조사한다.|\n",
        "|findall( )|정규식과 매치되는 모든 문자열(substring)을 리스트로 리턴한다.|\n",
        "|finditer( )|정규식과 매치되는 모든 문자열(substring)을 반복 가능한 객체로 리턴한다.|"
      ],
      "metadata": {
        "id": "xP3qEZ2mlEVr"
      }
    },
    {
      "cell_type": "markdown",
      "source": [
        "## 정규표현식 문자"
      ],
      "metadata": {
        "id": "pN0pyidKlg5D"
      }
    },
    {
      "cell_type": "code",
      "source": [
        "import re\n",
        "print(dir(re))"
      ],
      "metadata": {
        "colab": {
          "base_uri": "https://localhost:8080/"
        },
        "id": "8XB1bDcRlgsT",
        "outputId": "0e3dd6fd-0fe4-4b04-df70-c4fbd50fa99c"
      },
      "execution_count": 3,
      "outputs": [
        {
          "output_type": "stream",
          "name": "stdout",
          "text": [
            "['A', 'ASCII', 'DEBUG', 'DOTALL', 'I', 'IGNORECASE', 'L', 'LOCALE', 'M', 'MULTILINE', 'Match', 'Pattern', 'RegexFlag', 'S', 'Scanner', 'T', 'TEMPLATE', 'U', 'UNICODE', 'VERBOSE', 'X', '_MAXCACHE', '__all__', '__builtins__', '__cached__', '__doc__', '__file__', '__loader__', '__name__', '__package__', '__spec__', '__version__', '_cache', '_compile', '_compile_repl', '_expand', '_locale', '_pickle', '_special_chars_map', '_subx', 'compile', 'copyreg', 'enum', 'error', 'escape', 'findall', 'finditer', 'fullmatch', 'functools', 'match', 'purge', 'search', 'split', 'sre_compile', 'sre_parse', 'sub', 'subn', 'template']\n"
          ]
        }
      ]
    },
    {
      "cell_type": "markdown",
      "source": [
        "#점(.) 기호 - 한개의 임의의 문자를 나타낸다."
      ],
      "metadata": {
        "id": "TWdBzJ3kl9fq"
      }
    },
    {
      "cell_type": "code",
      "source": [
        "r = re.compile('a.c')"
      ],
      "metadata": {
        "id": "ZnwPZtlslNxv"
      },
      "execution_count": 4,
      "outputs": []
    },
    {
      "cell_type": "code",
      "source": [
        "m = r.search('kabcabcabc')\n",
        "print(m)\n",
        "print(dir(m))\n",
        "print(m.group())\n",
        "print(m.start())\n",
        "print(m.end())\n",
        "print(m.span())"
      ],
      "metadata": {
        "colab": {
          "base_uri": "https://localhost:8080/"
        },
        "id": "wcav6rNxmSfr",
        "outputId": "fec9d147-31bb-411e-8764-0baaa4e5b438"
      },
      "execution_count": 11,
      "outputs": [
        {
          "output_type": "stream",
          "name": "stdout",
          "text": [
            "<re.Match object; span=(1, 4), match='abc'>\n",
            "['__class__', '__class_getitem__', '__copy__', '__deepcopy__', '__delattr__', '__dir__', '__doc__', '__eq__', '__format__', '__ge__', '__getattribute__', '__getitem__', '__gt__', '__hash__', '__init__', '__init_subclass__', '__le__', '__lt__', '__module__', '__ne__', '__new__', '__reduce__', '__reduce_ex__', '__repr__', '__setattr__', '__sizeof__', '__str__', '__subclasshook__', 'end', 'endpos', 'expand', 'group', 'groupdict', 'groups', 'lastgroup', 'lastindex', 'pos', 're', 'regs', 'span', 'start', 'string']\n",
            "abc\n",
            "1\n",
            "4\n",
            "(1, 4)\n"
          ]
        }
      ]
    },
    {
      "cell_type": "code",
      "source": [
        "m = r.search('kabcadc',pos =3)\n",
        "print(m)\n",
        "print(dir(m))\n",
        "print(m.group())\n",
        "print(m.start())\n",
        "print(m.end())\n",
        "print(m.span())"
      ],
      "metadata": {
        "colab": {
          "base_uri": "https://localhost:8080/"
        },
        "id": "LSLy5B6cn9D9",
        "outputId": "596fddbc-38a5-4dce-cc14-8f8f0979db16"
      },
      "execution_count": 13,
      "outputs": [
        {
          "output_type": "stream",
          "name": "stdout",
          "text": [
            "<re.Match object; span=(4, 7), match='adc'>\n",
            "['__class__', '__class_getitem__', '__copy__', '__deepcopy__', '__delattr__', '__dir__', '__doc__', '__eq__', '__format__', '__ge__', '__getattribute__', '__getitem__', '__gt__', '__hash__', '__init__', '__init_subclass__', '__le__', '__lt__', '__module__', '__ne__', '__new__', '__reduce__', '__reduce_ex__', '__repr__', '__setattr__', '__sizeof__', '__str__', '__subclasshook__', 'end', 'endpos', 'expand', 'group', 'groupdict', 'groups', 'lastgroup', 'lastindex', 'pos', 're', 'regs', 'span', 'start', 'string']\n",
            "adc\n",
            "4\n",
            "7\n",
            "(4, 7)\n"
          ]
        }
      ]
    },
    {
      "cell_type": "code",
      "source": [
        "m = r.search('kabcadc',pos=5)\n",
        "print(m)  # 정규식과 일치하는 데이터가 없으면 None을 리턴함\n",
        "print(dir(m))\n",
        "print(m.group())\n",
        "print(m.start())\n",
        "print(m.end())\n",
        "print(m.span())"
      ],
      "metadata": {
        "colab": {
          "base_uri": "https://localhost:8080/",
          "height": 315
        },
        "id": "sDop2PoPoMts",
        "outputId": "eabbd420-6e2d-4a89-96ee-4291ce8febfb"
      },
      "execution_count": 14,
      "outputs": [
        {
          "output_type": "stream",
          "name": "stdout",
          "text": [
            "None\n",
            "['__bool__', '__class__', '__delattr__', '__dir__', '__doc__', '__eq__', '__format__', '__ge__', '__getattribute__', '__gt__', '__hash__', '__init__', '__init_subclass__', '__le__', '__lt__', '__ne__', '__new__', '__reduce__', '__reduce_ex__', '__repr__', '__setattr__', '__sizeof__', '__str__', '__subclasshook__']\n"
          ]
        },
        {
          "output_type": "error",
          "ename": "AttributeError",
          "evalue": "ignored",
          "traceback": [
            "\u001b[0;31m---------------------------------------------------------------------------\u001b[0m",
            "\u001b[0;31mAttributeError\u001b[0m                            Traceback (most recent call last)",
            "\u001b[0;32m<ipython-input-14-48728feaf21b>\u001b[0m in \u001b[0;36m<cell line: 4>\u001b[0;34m()\u001b[0m\n\u001b[1;32m      2\u001b[0m \u001b[0mprint\u001b[0m\u001b[0;34m(\u001b[0m\u001b[0mm\u001b[0m\u001b[0;34m)\u001b[0m\u001b[0;34m\u001b[0m\u001b[0;34m\u001b[0m\u001b[0m\n\u001b[1;32m      3\u001b[0m \u001b[0mprint\u001b[0m\u001b[0;34m(\u001b[0m\u001b[0mdir\u001b[0m\u001b[0;34m(\u001b[0m\u001b[0mm\u001b[0m\u001b[0;34m)\u001b[0m\u001b[0;34m)\u001b[0m\u001b[0;34m\u001b[0m\u001b[0;34m\u001b[0m\u001b[0m\n\u001b[0;32m----> 4\u001b[0;31m \u001b[0mprint\u001b[0m\u001b[0;34m(\u001b[0m\u001b[0mm\u001b[0m\u001b[0;34m.\u001b[0m\u001b[0mgroup\u001b[0m\u001b[0;34m(\u001b[0m\u001b[0;34m)\u001b[0m\u001b[0;34m)\u001b[0m\u001b[0;34m\u001b[0m\u001b[0;34m\u001b[0m\u001b[0m\n\u001b[0m\u001b[1;32m      5\u001b[0m \u001b[0mprint\u001b[0m\u001b[0;34m(\u001b[0m\u001b[0mm\u001b[0m\u001b[0;34m.\u001b[0m\u001b[0mstart\u001b[0m\u001b[0;34m(\u001b[0m\u001b[0;34m)\u001b[0m\u001b[0;34m)\u001b[0m\u001b[0;34m\u001b[0m\u001b[0;34m\u001b[0m\u001b[0m\n\u001b[1;32m      6\u001b[0m \u001b[0mprint\u001b[0m\u001b[0;34m(\u001b[0m\u001b[0mm\u001b[0m\u001b[0;34m.\u001b[0m\u001b[0mend\u001b[0m\u001b[0;34m(\u001b[0m\u001b[0;34m)\u001b[0m\u001b[0;34m)\u001b[0m\u001b[0;34m\u001b[0m\u001b[0;34m\u001b[0m\u001b[0m\n",
            "\u001b[0;31mAttributeError\u001b[0m: 'NoneType' object has no attribute 'group'"
          ]
        }
      ]
    },
    {
      "cell_type": "markdown",
      "source": [
        "### ? 기호\n",
        "- ? 앞의 문자가 존재할 수도 있고, 존재하지 않을 수도 있는 경우\n",
        "- ?:{0,1}의미한다."
      ],
      "metadata": {
        "id": "nrGgvdxro8Ce"
      }
    },
    {
      "cell_type": "code",
      "source": [
        "r =re.compile('ab?c')"
      ],
      "metadata": {
        "id": "eyK3qaHNow_Y"
      },
      "execution_count": 15,
      "outputs": []
    },
    {
      "cell_type": "code",
      "source": [
        "m=r.search('test ac data')\n",
        "print(m)\n",
        "print(m.group())\n",
        "print(m.start())\n",
        "print(m.end())\n",
        "print(m.span())"
      ],
      "metadata": {
        "colab": {
          "base_uri": "https://localhost:8080/"
        },
        "id": "d7hvB_ENow-d",
        "outputId": "6c0fbfa2-98c3-4062-b6e0-d26fc4395f7e"
      },
      "execution_count": 18,
      "outputs": [
        {
          "output_type": "stream",
          "name": "stdout",
          "text": [
            "<re.Match object; span=(5, 7), match='ac'>\n",
            "ac\n",
            "5\n",
            "7\n",
            "(5, 7)\n"
          ]
        }
      ]
    },
    {
      "cell_type": "code",
      "source": [
        "m=r.search('test abc data') # b를 두번넣으면 오류발생함\n",
        "print(m)\n",
        "print(m.group())\n",
        "print(m.start())\n",
        "print(m.end())\n",
        "print(m.span())"
      ],
      "metadata": {
        "colab": {
          "base_uri": "https://localhost:8080/"
        },
        "id": "kF_rDtwQps_o",
        "outputId": "181c635d-1a34-43a1-9f96-cd786d9dd8c4"
      },
      "execution_count": 21,
      "outputs": [
        {
          "output_type": "stream",
          "name": "stdout",
          "text": [
            "<re.Match object; span=(5, 8), match='abc'>\n",
            "abc\n",
            "5\n",
            "8\n",
            "(5, 8)\n"
          ]
        }
      ]
    },
    {
      "cell_type": "markdown",
      "source": [
        "### * 기호\n",
        "- * 기호 앞의 문자가 0개이상일 경우를 나타낸다.\n",
        "- * : {0, }"
      ],
      "metadata": {
        "id": "q0XE0j2YqBcA"
      }
    },
    {
      "cell_type": "code",
      "source": [
        "r = re.compile('ab*c')"
      ],
      "metadata": {
        "id": "7aqoEHCUps-t"
      },
      "execution_count": 22,
      "outputs": []
    },
    {
      "cell_type": "code",
      "source": [
        "m= r.search('abbbc')\n",
        "print(m)\n",
        "print(m.group())\n",
        "print(m.start())\n",
        "print(m.end())\n",
        "print(m.span())"
      ],
      "metadata": {
        "colab": {
          "base_uri": "https://localhost:8080/"
        },
        "id": "m_GisxTVqd12",
        "outputId": "67296dcd-c065-4da6-88cf-385c97c8a122"
      },
      "execution_count": 25,
      "outputs": [
        {
          "output_type": "stream",
          "name": "stdout",
          "text": [
            "<re.Match object; span=(0, 5), match='abbbc'>\n",
            "abbbc\n",
            "0\n",
            "5\n",
            "(0, 5)\n"
          ]
        }
      ]
    },
    {
      "cell_type": "code",
      "source": [
        "m= r.search('abbbc')   #ab와 c 사이에 t가 있으면 오류발생\n",
        "print(m)\n",
        "print(m.group())\n",
        "print(m.start())\n",
        "print(m.end())\n",
        "print(m.span())"
      ],
      "metadata": {
        "colab": {
          "base_uri": "https://localhost:8080/"
        },
        "id": "gP0XwkSSqtTX",
        "outputId": "7d8c92b2-8775-4ff0-8729-cb2fdd621295"
      },
      "execution_count": 27,
      "outputs": [
        {
          "output_type": "stream",
          "name": "stdout",
          "text": [
            "<re.Match object; span=(0, 5), match='abbbc'>\n",
            "abbbc\n",
            "0\n",
            "5\n",
            "(0, 5)\n"
          ]
        }
      ]
    },
    {
      "cell_type": "code",
      "source": [],
      "metadata": {
        "colab": {
          "base_uri": "https://localhost:8080/",
          "height": 203
        },
        "id": "iNuaAk7DvpeR",
        "outputId": "de5a628a-1f22-42e9-82c9-309c396a1457"
      },
      "execution_count": 29,
      "outputs": [
        {
          "output_type": "error",
          "ename": "AttributeError",
          "evalue": "ignored",
          "traceback": [
            "\u001b[0;31m---------------------------------------------------------------------------\u001b[0m",
            "\u001b[0;31mAttributeError\u001b[0m                            Traceback (most recent call last)",
            "\u001b[0;32m<ipython-input-29-6a1384cc9411>\u001b[0m in \u001b[0;36m<cell line: 1>\u001b[0;34m()\u001b[0m\n\u001b[0;32m----> 1\u001b[0;31m \u001b[0mm\u001b[0m\u001b[0;34m=\u001b[0m \u001b[0mr\u001b[0m\u001b[0;34m.\u001b[0m\u001b[0mresesrch\u001b[0m\u001b[0;34m(\u001b[0m\u001b[0;34m\"ac\"\u001b[0m\u001b[0;34m)\u001b[0m\u001b[0;34m\u001b[0m\u001b[0;34m\u001b[0m\u001b[0m\n\u001b[0m\u001b[1;32m      2\u001b[0m \u001b[0mprint\u001b[0m\u001b[0;34m(\u001b[0m\u001b[0mm\u001b[0m\u001b[0;34m)\u001b[0m\u001b[0;34m\u001b[0m\u001b[0;34m\u001b[0m\u001b[0m\n",
            "\u001b[0;31mAttributeError\u001b[0m: 're.Pattern' object has no attribute 'resesrch'"
          ]
        }
      ]
    },
    {
      "cell_type": "markdown",
      "source": [
        "### + 기호\n",
        "- \\+ 기호는 1개이상의 문자가 있어야 함\n",
        "\n",
        "- \\+ : {1,}"
      ],
      "metadata": {
        "id": "9b8l8CZTrQvA"
      }
    },
    {
      "cell_type": "markdown",
      "source": [
        "### ^기호\n",
        "- 시작되는 글자를 지정"
      ],
      "metadata": {
        "id": "5NrMf5oavv2Q"
      }
    },
    {
      "cell_type": "code",
      "source": [
        "r =re.compile('^a')\n"
      ],
      "metadata": {
        "id": "6HTMiEnirEUO"
      },
      "execution_count": 30,
      "outputs": []
    },
    {
      "cell_type": "code",
      "source": [
        "m = r.search('abcd')\n",
        "print(m)"
      ],
      "metadata": {
        "colab": {
          "base_uri": "https://localhost:8080/"
        },
        "id": "65AITVckrETO",
        "outputId": "2b08f125-96ed-4fd7-d49a-72ed24d73538"
      },
      "execution_count": 31,
      "outputs": [
        {
          "output_type": "stream",
          "name": "stdout",
          "text": [
            "<re.Match object; span=(0, 1), match='a'>\n"
          ]
        }
      ]
    },
    {
      "cell_type": "code",
      "source": [
        "m = r.search('bbcd')\n",
        "print(m)"
      ],
      "metadata": {
        "colab": {
          "base_uri": "https://localhost:8080/"
        },
        "id": "zLiBFqe7qtSn",
        "outputId": "c7190f7a-1781-4093-80bd-1fbf2f4536f4"
      },
      "execution_count": 32,
      "outputs": [
        {
          "output_type": "stream",
          "name": "stdout",
          "text": [
            "None\n"
          ]
        }
      ]
    },
    {
      "cell_type": "markdown",
      "source": [
        "### {숫자} 기호\n",
        "- 문자에 해당 기호를 붙이면, 해당 문자를 숫자만큼 반복한다.\n"
      ],
      "metadata": {
        "id": "9_Y77-i3wH8g"
      }
    },
    {
      "cell_type": "code",
      "source": [
        "r= re.compile('ab{2}c')"
      ],
      "metadata": {
        "id": "NfHZS0uZwU2c"
      },
      "execution_count": 35,
      "outputs": []
    },
    {
      "cell_type": "code",
      "source": [
        "m=r.search('abbc')\n",
        "print(m)"
      ],
      "metadata": {
        "colab": {
          "base_uri": "https://localhost:8080/"
        },
        "id": "rH1X0d5awfdI",
        "outputId": "5fc77bd9-3763-4b16-9776-181555f19e7a"
      },
      "execution_count": 38,
      "outputs": [
        {
          "output_type": "stream",
          "name": "stdout",
          "text": [
            "<re.Match object; span=(0, 4), match='abbc'>\n"
          ]
        }
      ]
    },
    {
      "cell_type": "code",
      "source": [
        "m=r.search('abc')\n",
        "print(m)"
      ],
      "metadata": {
        "colab": {
          "base_uri": "https://localhost:8080/"
        },
        "id": "aCr0Mg0awmfZ",
        "outputId": "e35983d6-0fb6-4e06-e00c-a32f01c44ef2"
      },
      "execution_count": 40,
      "outputs": [
        {
          "output_type": "stream",
          "name": "stdout",
          "text": [
            "None\n"
          ]
        }
      ]
    },
    {
      "cell_type": "code",
      "source": [
        "m=r.search('abbbc')\n",
        "print(m)"
      ],
      "metadata": {
        "colab": {
          "base_uri": "https://localhost:8080/"
        },
        "id": "aY8_aelswq6Y",
        "outputId": "5d653d8e-8d49-48ea-e67b-aa3afe4eaeb7"
      },
      "execution_count": 42,
      "outputs": [
        {
          "output_type": "stream",
          "name": "stdout",
          "text": [
            "None\n"
          ]
        }
      ]
    },
    {
      "cell_type": "markdown",
      "source": [
        "### {숫자1, 숫자2} 기호\n",
        "-문자에 해당 기호를 붙이면, 해당 문자를 숫자1 이상 숫자2 이하만큼 반복한다.   \n",
        "-반복 횟수를 고정시킬 때 사용한다.\n"
      ],
      "metadata": {
        "id": "tajv5eLiwweQ"
      }
    },
    {
      "cell_type": "code",
      "source": [
        "r = re.compile('ca{2,4}t')"
      ],
      "metadata": {
        "id": "p9Ak3Vp0w9Rw"
      },
      "execution_count": 60,
      "outputs": []
    },
    {
      "cell_type": "code",
      "source": [
        "m= r.search('caaaat')\n",
        "print(m)"
      ],
      "metadata": {
        "colab": {
          "base_uri": "https://localhost:8080/"
        },
        "id": "lpAC7nEMwuqI",
        "outputId": "872fb257-0287-483f-a761-93a08947ad60"
      },
      "execution_count": 61,
      "outputs": [
        {
          "output_type": "stream",
          "name": "stdout",
          "text": [
            "<re.Match object; span=(0, 6), match='caaaat'>\n"
          ]
        }
      ]
    },
    {
      "cell_type": "code",
      "source": [
        "m= r.search('caaaaaat')\n",
        "print(m)"
      ],
      "metadata": {
        "colab": {
          "base_uri": "https://localhost:8080/"
        },
        "id": "DlH1wGCrxN0c",
        "outputId": "610eb402-123b-4793-c239-bb24bdc7ce31"
      },
      "execution_count": 62,
      "outputs": [
        {
          "output_type": "stream",
          "name": "stdout",
          "text": [
            "None\n"
          ]
        }
      ]
    },
    {
      "cell_type": "code",
      "source": [
        "m= r.search('ct')\n",
        "print(m)"
      ],
      "metadata": {
        "colab": {
          "base_uri": "https://localhost:8080/"
        },
        "id": "iV_2U-6SxTt4",
        "outputId": "b780710d-90b6-4fbf-f652-a355d6da9450"
      },
      "execution_count": 63,
      "outputs": [
        {
          "output_type": "stream",
          "name": "stdout",
          "text": [
            "None\n"
          ]
        }
      ]
    },
    {
      "cell_type": "code",
      "source": [
        "d= r.search('test caat   caaat  caaaaa')\n",
        "print(d)"
      ],
      "metadata": {
        "colab": {
          "base_uri": "https://localhost:8080/"
        },
        "id": "79lU4duNxirL",
        "outputId": "1b791b83-9bf5-48f6-a589-c4f571f816ab"
      },
      "execution_count": 64,
      "outputs": [
        {
          "output_type": "stream",
          "name": "stdout",
          "text": [
            "<re.Match object; span=(5, 9), match='caat'>\n"
          ]
        }
      ]
    },
    {
      "cell_type": "code",
      "source": [
        "m= r.match('caar caaat caaaaat')\n",
        "print(m)"
      ],
      "metadata": {
        "colab": {
          "base_uri": "https://localhost:8080/"
        },
        "id": "aQx0PIeYx9N5",
        "outputId": "1fa02bb6-f070-4e72-cd08-6d78a5af197c"
      },
      "execution_count": 65,
      "outputs": [
        {
          "output_type": "stream",
          "name": "stdout",
          "text": [
            "None\n"
          ]
        }
      ]
    },
    {
      "cell_type": "code",
      "source": [
        "m = r.findall('test caat   caaat  caaaaa') # list로 리턴\n",
        "print(m)\n",
        "print(type(m))\n"
      ],
      "metadata": {
        "colab": {
          "base_uri": "https://localhost:8080/"
        },
        "id": "WZt_ARI7xiqJ",
        "outputId": "95df021f-75fd-4486-b5ca-efef3bfa8491"
      },
      "execution_count": 68,
      "outputs": [
        {
          "output_type": "stream",
          "name": "stdout",
          "text": [
            "['caat', 'caaat']\n",
            "<class 'list'>\n"
          ]
        }
      ]
    },
    {
      "cell_type": "code",
      "source": [
        "m = r.finditer('test caat   caaat  caaaaa')  #callable_iterator로 리턴\n",
        "print(m)\n",
        "print(type(m))\n",
        "#print(list(m))\n",
        "for i in m :\n",
        "  print(i)\n",
        "  print(i.group())\n",
        "  print(i.start())\n",
        "  print(i.end())\n",
        "  print(i.span())\n",
        "\n"
      ],
      "metadata": {
        "colab": {
          "base_uri": "https://localhost:8080/"
        },
        "id": "AjEyhxySyv5B",
        "outputId": "0db9255b-428a-4b12-d53b-d3a02cbce799"
      },
      "execution_count": 76,
      "outputs": [
        {
          "output_type": "stream",
          "name": "stdout",
          "text": [
            "<callable_iterator object at 0x7805f3161bd0>\n",
            "<class 'callable_iterator'>\n",
            "<re.Match object; span=(5, 9), match='caat'>\n",
            "caat\n",
            "5\n",
            "9\n",
            "(5, 9)\n",
            "<re.Match object; span=(12, 17), match='caaat'>\n",
            "caaat\n",
            "12\n",
            "17\n",
            "(12, 17)\n"
          ]
        }
      ]
    },
    {
      "cell_type": "markdown",
      "source": [
        "### {숫자, } 기호\n",
        "- 문자에 해당 기호를 붙이면 문자를 숫자 이상만큼 반복한다.\n",
        "-"
      ],
      "metadata": {
        "id": "GrmWA2iwz_DC"
      }
    },
    {
      "cell_type": "code",
      "source": [
        "r = re.compile('a{2,}bc')\n"
      ],
      "metadata": {
        "id": "MzRdFyr3zvve"
      },
      "execution_count": 77,
      "outputs": []
    },
    {
      "cell_type": "code",
      "source": [
        "m=r.search('aabc')\n",
        "print(m)"
      ],
      "metadata": {
        "colab": {
          "base_uri": "https://localhost:8080/"
        },
        "id": "mRwAjgGo0I0R",
        "outputId": "a9489c0d-225e-4beb-a656-2ed9fb12b6fb"
      },
      "execution_count": 79,
      "outputs": [
        {
          "output_type": "stream",
          "name": "stdout",
          "text": [
            "<re.Match object; span=(0, 4), match='aabc'>\n"
          ]
        }
      ]
    },
    {
      "cell_type": "code",
      "source": [
        "m=r.search('abc')\n",
        "print(m)"
      ],
      "metadata": {
        "colab": {
          "base_uri": "https://localhost:8080/"
        },
        "id": "b-3pzbYR0Mia",
        "outputId": "f09a5a78-ec34-408d-9754-08e22e61cd28"
      },
      "execution_count": 81,
      "outputs": [
        {
          "output_type": "stream",
          "name": "stdout",
          "text": [
            "None\n"
          ]
        }
      ]
    },
    {
      "cell_type": "code",
      "source": [
        "m=r.search('aaabc')\n",
        "print(m)"
      ],
      "metadata": {
        "colab": {
          "base_uri": "https://localhost:8080/"
        },
        "id": "232sxGDX0Ppa",
        "outputId": "fc1c53b3-9512-4dec-c969-5ac15e05a5a6"
      },
      "execution_count": 83,
      "outputs": [
        {
          "output_type": "stream",
          "name": "stdout",
          "text": [
            "<re.Match object; span=(0, 5), match='aaabc'>\n"
          ]
        }
      ]
    },
    {
      "cell_type": "markdown",
      "source": [
        "### [] 기호\n",
        "- []안의 문자들을 넣으면 그 문자들 중 한개의 문자와 매치라는 의미를 가진다.\n",
        "- [] 안에서 범위를 지정하는 것도 가능하다."
      ],
      "metadata": {
        "id": "-kQ8qWWa0Z2i"
      }
    },
    {
      "cell_type": "code",
      "source": [
        "r = re.compile('[abc]')\n",
        "m = r.search('korea')\n",
        "print(m)"
      ],
      "metadata": {
        "colab": {
          "base_uri": "https://localhost:8080/"
        },
        "id": "-wqVtE3A0wdC",
        "outputId": "0faa4d05-de52-4d9f-cacb-cfc81499780b"
      },
      "execution_count": 86,
      "outputs": [
        {
          "output_type": "stream",
          "name": "stdout",
          "text": [
            "<re.Match object; span=(4, 5), match='a'>\n"
          ]
        }
      ]
    },
    {
      "cell_type": "code",
      "source": [
        "m=r.search('jpn')\n",
        "print(m)"
      ],
      "metadata": {
        "colab": {
          "base_uri": "https://localhost:8080/"
        },
        "id": "5UMr_bDL0_uR",
        "outputId": "2af4f242-6bfb-41ec-d1ae-a492799167e0"
      },
      "execution_count": 88,
      "outputs": [
        {
          "output_type": "stream",
          "name": "stdout",
          "text": [
            "None\n"
          ]
        }
      ]
    },
    {
      "cell_type": "code",
      "source": [
        "r = re.compile('[a-z]')"
      ],
      "metadata": {
        "id": "VKsLY6Xg1PZb"
      },
      "execution_count": null,
      "outputs": []
    },
    {
      "cell_type": "code",
      "source": [
        "m=r.search ('12ab3')\n",
        "print(m)"
      ],
      "metadata": {
        "colab": {
          "base_uri": "https://localhost:8080/"
        },
        "id": "JCoTcYAd1FJi",
        "outputId": "777c0bd0-b21f-42a1-91f4-2bd917137f97"
      },
      "execution_count": 90,
      "outputs": [
        {
          "output_type": "stream",
          "name": "stdout",
          "text": [
            "<re.Match object; span=(2, 3), match='a'>\n"
          ]
        }
      ]
    },
    {
      "cell_type": "code",
      "source": [
        "m=r.search ('12AB3')  # 대소문자를 구분함\n",
        "print(m)"
      ],
      "metadata": {
        "colab": {
          "base_uri": "https://localhost:8080/"
        },
        "id": "_KDRqwe-1Y86",
        "outputId": "a06e2cc7-9f0c-4734-9f04-07b9db46100e"
      },
      "execution_count": 91,
      "outputs": [
        {
          "output_type": "stream",
          "name": "stdout",
          "text": [
            "None\n"
          ]
        }
      ]
    },
    {
      "cell_type": "code",
      "source": [
        "r = re.compile ('[a-z]+')\n",
        "m= r.findall('li2fe is to short3')\n",
        "print(m)"
      ],
      "metadata": {
        "colab": {
          "base_uri": "https://localhost:8080/"
        },
        "id": "u-3wQ-iO14mb",
        "outputId": "38e4829b-93e7-487d-b7c9-ba0ed7225c12"
      },
      "execution_count": 93,
      "outputs": [
        {
          "output_type": "stream",
          "name": "stdout",
          "text": [
            "['li', 'fe', 'is', 'to', 'short']\n"
          ]
        }
      ]
    },
    {
      "cell_type": "code",
      "source": [
        "r = re.compile ('[a-z]')\n",
        "m= r.findall('li2fe is to short3')\n",
        "print(m)"
      ],
      "metadata": {
        "colab": {
          "base_uri": "https://localhost:8080/"
        },
        "id": "yhw0Tz7c2FMK",
        "outputId": "9127a3cd-b1a3-4ff8-813f-40dd78e94d8a"
      },
      "execution_count": 94,
      "outputs": [
        {
          "output_type": "stream",
          "name": "stdout",
          "text": [
            "['l', 'i', 'f', 'e', 'i', 's', 't', 'o', 's', 'h', 'o', 'r', 't']\n"
          ]
        }
      ]
    },
    {
      "cell_type": "markdown",
      "source": [
        "###[^문자] 기호\n",
        "-^ 기호 뒤에 붙은 문자들을 제외한 모든 문자와 매치하는 역할을 한다."
      ],
      "metadata": {
        "id": "JMFXPa7d2T0m"
      }
    },
    {
      "cell_type": "code",
      "source": [
        "r= re.compile('[^abc]')\n",
        "m = r.search('test')\n",
        "print(m)"
      ],
      "metadata": {
        "colab": {
          "base_uri": "https://localhost:8080/"
        },
        "id": "posHmwUC2dJZ",
        "outputId": "f20de3ce-739e-4ef4-a095-993e95c4a549"
      },
      "execution_count": 96,
      "outputs": [
        {
          "output_type": "stream",
          "name": "stdout",
          "text": [
            "<re.Match object; span=(0, 1), match='t'>\n"
          ]
        }
      ]
    },
    {
      "cell_type": "code",
      "source": [
        "m = r.findall('tafgabcd')\n",
        "print(m)\n"
      ],
      "metadata": {
        "colab": {
          "base_uri": "https://localhost:8080/"
        },
        "id": "-DTMxiHp2rSw",
        "outputId": "28eef6aa-c139-468b-fb4d-6c632e677733"
      },
      "execution_count": 102,
      "outputs": [
        {
          "output_type": "stream",
          "name": "stdout",
          "text": [
            "['t', 'f', 'g', 'd']\n"
          ]
        }
      ]
    },
    {
      "cell_type": "markdown",
      "source": [
        "## 정규 표현식 옵션\n"
      ],
      "metadata": {
        "id": "B-ZchE8Q3IuM"
      }
    },
    {
      "cell_type": "markdown",
      "source": [
        "### DOTALL : 줄바꿈 문자를 포함하여 모든 문자와 매치할 수 있도록 한다.\n",
        "\n"
      ],
      "metadata": {
        "id": "Zfjt4vCJ3QLQ"
      }
    },
    {
      "cell_type": "code",
      "source": [
        "r= re.compile('a.b')\n",
        "m= r.search('a\\nb')\n",
        "print(m)"
      ],
      "metadata": {
        "colab": {
          "base_uri": "https://localhost:8080/"
        },
        "id": "olkJJg8v3MF3",
        "outputId": "925cea73-e040-4147-8ef0-4334c9babfa9"
      },
      "execution_count": 110,
      "outputs": [
        {
          "output_type": "stream",
          "name": "stdout",
          "text": [
            "None\n"
          ]
        }
      ]
    },
    {
      "cell_type": "code",
      "source": [
        "#r= re.compile('a.b', re.DOTALL)\n",
        "r= re.compile('a.b', re.S)  #DOTALL의 약어 S\n",
        "m= r.search('a\\nb')\n",
        "print(m)"
      ],
      "metadata": {
        "colab": {
          "base_uri": "https://localhost:8080/"
        },
        "id": "ZHj3QJ3Y3AHr",
        "outputId": "6f88757f-1bcf-47d2-f86e-685f735a1dd4"
      },
      "execution_count": 115,
      "outputs": [
        {
          "output_type": "stream",
          "name": "stdout",
          "text": [
            "<re.Match object; span=(0, 3), match='a\\nb'>\n"
          ]
        }
      ]
    },
    {
      "cell_type": "markdown",
      "source": [
        "### IGNORECASE : 대소문자에 관계없이 매치할 수 있도록 한다.   "
      ],
      "metadata": {
        "id": "YO7ZIKir4Tmd"
      }
    },
    {
      "cell_type": "markdown",
      "source": [],
      "metadata": {
        "id": "dCibZfbO4Tk8"
      }
    },
    {
      "cell_type": "code",
      "source": [
        "r = re.compile('[a-z]')\n",
        "m = r.search ('Life is to')\n",
        "print(m)"
      ],
      "metadata": {
        "colab": {
          "base_uri": "https://localhost:8080/"
        },
        "id": "D7vgAcHc4MMr",
        "outputId": "eb501bab-1276-4f83-9c19-fc835ee99594"
      },
      "execution_count": 116,
      "outputs": [
        {
          "output_type": "stream",
          "name": "stdout",
          "text": [
            "<re.Match object; span=(1, 2), match='i'>\n"
          ]
        }
      ]
    },
    {
      "cell_type": "code",
      "source": [
        "#r = re.compile('[a-z]',re.IGNORECASE)\n",
        "r= re.compile('[a-z]',re.I) # IGNORE의 약어 I\n",
        "m = r.search ('Life is to')\n",
        "print(m)"
      ],
      "metadata": {
        "colab": {
          "base_uri": "https://localhost:8080/"
        },
        "id": "FpLYn8AY3wlz",
        "outputId": "80f33863-2ecf-4d84-c0e6-8449495fa7fc"
      },
      "execution_count": 121,
      "outputs": [
        {
          "output_type": "stream",
          "name": "stdout",
          "text": [
            "<re.Match object; span=(0, 1), match='L'>\n"
          ]
        }
      ]
    },
    {
      "cell_type": "markdown",
      "source": [
        "### MULTILINE : 여러 라인에서 매치되는 데이터를 가져 올 때 사용한다.\n"
      ],
      "metadata": {
        "id": "1HXyCLEL5DGV"
      }
    },
    {
      "cell_type": "markdown",
      "source": [
        "- \\d : [0-9] 와 동일한 표현식\n",
        "- \\D : [^0-9] 와 동일한 표현식\n",
        "- \\s : 공백 [\\t\\n\\\\r\\f]와 동일한 표현식\n",
        "- \\S : [^\\t\\n\\\\r\\f] 와 동일한 표현식\n",
        "- \\w : [a-zA-Z0-9_] 와 동일한 표현식\n",
        "- \\W : [^a-zA-Z0-9_] 와 동일한 표현식"
      ],
      "metadata": {
        "id": "DnG8AfU492C2"
      }
    },
    {
      "cell_type": "code",
      "source": [
        "r = re.compile('^python\\s\\w+')\n",
        "\n",
        "m = r.findall('''python one\n",
        "life is too short\n",
        "python two\n",
        "you need python\n",
        "python_\n",
        "python 9\n",
        "python three''')\n",
        "\n",
        "print(m)"
      ],
      "metadata": {
        "colab": {
          "base_uri": "https://localhost:8080/"
        },
        "id": "5NpnHQp55Hus",
        "outputId": "dfe19cdf-6d40-455c-a32f-eb10efd17faa"
      },
      "execution_count": 122,
      "outputs": [
        {
          "output_type": "stream",
          "name": "stdout",
          "text": [
            "['python one']\n"
          ]
        }
      ]
    },
    {
      "cell_type": "code",
      "source": [
        "#r = re.compile('^python\\s\\w+', re.MULTILINE)  # 각 라인에서 파이썬으로 시작하는거만 가지고옴\n",
        "r = re.compile('^python\\s\\w+', re.M) # MULTILINE 약자\n",
        "m = r.findall('''python one\n",
        "life is too short\n",
        "python two\n",
        "you need python\n",
        "python_\n",
        "python 9\n",
        "python three''')\n",
        "\n",
        "print(m)"
      ],
      "metadata": {
        "colab": {
          "base_uri": "https://localhost:8080/"
        },
        "id": "nUO4FvF346ox",
        "outputId": "501c9fd6-bff2-4cc8-e76c-f8c9df41a471"
      },
      "execution_count": 125,
      "outputs": [
        {
          "output_type": "stream",
          "name": "stdout",
          "text": [
            "['python one', 'python two', 'python 9', 'python three']\n"
          ]
        }
      ]
    },
    {
      "cell_type": "markdown",
      "source": [
        "### re.split()\n",
        "- 입력된 정규 표현식을 기준으로 문자열들을 분리하여 리스트로 리턴\n",
        "- 자연어 처리에 있어서 많이 사용되는 정규 표현식 함수중 하나이다."
      ],
      "metadata": {
        "id": "ke7Rty5l_WGC"
      }
    },
    {
      "cell_type": "code",
      "source": [
        "text = '사과 딸기 수박 메론 바나나'\n",
        "re.split(' ', text)"
      ],
      "metadata": {
        "colab": {
          "base_uri": "https://localhost:8080/"
        },
        "id": "Bzw5A-kc_qEH",
        "outputId": "64a7e8ee-3c2e-4c67-abf4-d005cbaaa6c8"
      },
      "execution_count": 126,
      "outputs": [
        {
          "output_type": "execute_result",
          "data": {
            "text/plain": [
              "['사과', '딸기', '수박', '메론', '바나나']"
            ]
          },
          "metadata": {},
          "execution_count": 126
        }
      ]
    },
    {
      "cell_type": "markdown",
      "source": [],
      "metadata": {
        "id": "Q7ww65WG_WEp"
      }
    },
    {
      "cell_type": "code",
      "source": [
        "text = '''사과\n",
        "딸기\n",
        "수박\n",
        "메론\n",
        "바나나'''\n",
        "re.split('\\n', text)"
      ],
      "metadata": {
        "colab": {
          "base_uri": "https://localhost:8080/"
        },
        "id": "71WGbPsT_U6A",
        "outputId": "5f85e8a0-c2d4-4795-8af0-68f28e0c5c74"
      },
      "execution_count": 129,
      "outputs": [
        {
          "output_type": "execute_result",
          "data": {
            "text/plain": [
              "['사과 ', '딸기 ', '수박 ', '메론', '바나나']"
            ]
          },
          "metadata": {},
          "execution_count": 129
        }
      ]
    },
    {
      "cell_type": "code",
      "source": [
        "text = '사과 +딸기+++++수박++메론+++바나나'\n",
        "re.split('\\+{1,}', text)"
      ],
      "metadata": {
        "colab": {
          "base_uri": "https://localhost:8080/"
        },
        "id": "88oLsaVHALIH",
        "outputId": "39582c32-fd69-4a8d-cc4b-65ea27e11211"
      },
      "execution_count": 131,
      "outputs": [
        {
          "output_type": "execute_result",
          "data": {
            "text/plain": [
              "['사과 ', '딸기', '수박', '메론', '바나나']"
            ]
          },
          "metadata": {},
          "execution_count": 131
        }
      ]
    },
    {
      "cell_type": "code",
      "source": [
        "text = '사과 +딸기+++++수박++메론+++바나나'\n",
        "re.split('\\+{1,}', text)"
      ],
      "metadata": {
        "colab": {
          "base_uri": "https://localhost:8080/"
        },
        "id": "kVHNXhyNAhkv",
        "outputId": "9e351efa-4ce8-4bdb-cc09-d07cf654c483"
      },
      "execution_count": 132,
      "outputs": [
        {
          "output_type": "execute_result",
          "data": {
            "text/plain": [
              "['사과 ', '딸기', '수박', '메론', '바나나']"
            ]
          },
          "metadata": {},
          "execution_count": 132
        }
      ]
    },
    {
      "cell_type": "code",
      "source": [
        "text = '''\n",
        "이름 : 홍길동\n",
        "전화번호 : 010-1223-4566\n",
        "나이:30\n",
        "성별:남\n",
        "'''\n",
        "\n"
      ],
      "metadata": {
        "id": "QlIyJAWhAtO3"
      },
      "execution_count": 133,
      "outputs": []
    },
    {
      "cell_type": "code",
      "source": [
        "re.findall('[0-9]+',text)"
      ],
      "metadata": {
        "colab": {
          "base_uri": "https://localhost:8080/"
        },
        "id": "ok8i-83UA-P_",
        "outputId": "42c09a55-25c2-4eb0-b5f2-71a95c054123"
      },
      "execution_count": 136,
      "outputs": [
        {
          "output_type": "execute_result",
          "data": {
            "text/plain": [
              "['010', '1223', '4566', '30']"
            ]
          },
          "metadata": {},
          "execution_count": 136
        }
      ]
    },
    {
      "cell_type": "code",
      "source": [
        "re.findall('[0-9]+',text)"
      ],
      "metadata": {
        "colab": {
          "base_uri": "https://localhost:8080/"
        },
        "id": "0A6ffYR7BY1I",
        "outputId": "bd106496-bdee-4593-e13f-6a6c756564be"
      },
      "execution_count": 138,
      "outputs": [
        {
          "output_type": "execute_result",
          "data": {
            "text/plain": [
              "['010', '1223', '4566', '30']"
            ]
          },
          "metadata": {},
          "execution_count": 138
        }
      ]
    },
    {
      "cell_type": "code",
      "source": [
        "r= re.compile('[0-9]+')\n",
        "r.findall(text)"
      ],
      "metadata": {
        "colab": {
          "base_uri": "https://localhost:8080/"
        },
        "id": "z9ay79YrBeYg",
        "outputId": "3ffe77f2-d678-4219-bfd9-5c1da1d162fa"
      },
      "execution_count": 139,
      "outputs": [
        {
          "output_type": "execute_result",
          "data": {
            "text/plain": [
              "['010', '1223', '4566', '30']"
            ]
          },
          "metadata": {},
          "execution_count": 139
        }
      ]
    },
    {
      "cell_type": "code",
      "source": [
        "print(re.split(r'([0-9]+)', text))\n",
        "print(re.split('[0-9]+',text))\n"
      ],
      "metadata": {
        "colab": {
          "base_uri": "https://localhost:8080/"
        },
        "id": "JVmswnoRB5ai",
        "outputId": "04761080-5dc6-42be-f632-6b6465f81a27"
      },
      "execution_count": 143,
      "outputs": [
        {
          "output_type": "stream",
          "name": "stdout",
          "text": [
            "['\\n이름 : 홍길동\\n전화번호 : ', '010', '-', '1223', '-', '4566', '\\n나이:', '30', '\\n성별:남\\n']\n",
            "['\\n이름 : 홍길동\\n전화번호 : ', '-', '-', '\\n나이:', '\\n성별:남\\n']\n"
          ]
        }
      ]
    },
    {
      "cell_type": "markdown",
      "source": [
        "### 전방 탐색\n",
        "- ? = 긍정적 전방탐색\n",
        "- ?! = 부정적 전방탐색"
      ],
      "metadata": {
        "id": "BlLcvA9ACnxV"
      }
    },
    {
      "cell_type": "code",
      "source": [
        "p = re.compile('.*[.](?=bar$|cf$)')  # $는 끝이라는 뜻?\n",
        "file = ['foo.bar', 'autoexec.bat', 'sendmail.cf','sample.bar.jpg','test.bar.bar']\n",
        "\n",
        "for item in file:\n",
        "  m = p.search (item)\n",
        "  print(m)\n",
        "\n",
        "\n",
        "  if m :\n",
        "      print(m.group(), m.start(),m.end())\n"
      ],
      "metadata": {
        "colab": {
          "base_uri": "https://localhost:8080/"
        },
        "id": "DPIJSrwLCuaW",
        "outputId": "e91a5291-78fd-4cf8-8a95-b5004c18f2d1"
      },
      "execution_count": 157,
      "outputs": [
        {
          "output_type": "stream",
          "name": "stdout",
          "text": [
            "<re.Match object; span=(0, 4), match='foo.'>\n",
            "foo. 0 4\n",
            "None\n",
            "<re.Match object; span=(0, 9), match='sendmail.'>\n",
            "sendmail. 0 9\n",
            "None\n",
            "<re.Match object; span=(0, 9), match='test.bar.'>\n",
            "test.bar. 0 9\n"
          ]
        }
      ]
    },
    {
      "cell_type": "markdown",
      "source": [
        "##subn()\n",
        "- 정규표현식 문자열이 있으면 대체 문자열로 변경 후 튜플로 리턴한다."
      ],
      "metadata": {
        "id": "aQqaDnPyFEia"
      }
    },
    {
      "cell_type": "code",
      "source": [
        "p = re.compile('(blue|white|red)')\n",
        "m = p.subn('color','blue socks and red socks')\n",
        "print(m)"
      ],
      "metadata": {
        "colab": {
          "base_uri": "https://localhost:8080/"
        },
        "id": "I7WsQp47FKAh",
        "outputId": "931f4746-4f7a-4855-c33d-8892978ead9e"
      },
      "execution_count": 159,
      "outputs": [
        {
          "output_type": "stream",
          "name": "stdout",
          "text": [
            "('color socks and color socks', 2)\n"
          ]
        }
      ]
    },
    {
      "cell_type": "code",
      "source": [
        "doc python regular expression"
      ],
      "metadata": {
        "id": "xioNp4BBF0Uq"
      },
      "execution_count": null,
      "outputs": []
    }
  ]
}