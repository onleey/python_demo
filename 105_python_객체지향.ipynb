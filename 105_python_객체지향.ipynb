{
  "nbformat": 4,
  "nbformat_minor": 0,
  "metadata": {
    "colab": {
      "provenance": [],
      "authorship_tag": "ABX9TyM3lzgNgd5iWGE3UgKXBRwY",
      "include_colab_link": true
    },
    "kernelspec": {
      "name": "python3",
      "display_name": "Python 3"
    },
    "language_info": {
      "name": "python"
    }
  },
  "cells": [
    {
      "cell_type": "markdown",
      "metadata": {
        "id": "view-in-github",
        "colab_type": "text"
      },
      "source": [
        "<a href=\"https://colab.research.google.com/github/onleey/python_demo/blob/master/105_python_%EA%B0%9D%EC%B2%B4%EC%A7%80%ED%96%A5.ipynb\" target=\"_parent\"><img src=\"https://colab.research.google.com/assets/colab-badge.svg\" alt=\"Open In Colab\"/></a>"
      ]
    },
    {
      "cell_type": "markdown",
      "source": [
        "```\n",
        "객체: 실세계에 존재하는 모든 사물이나 개념들을 의미한다.\n",
        "\n",
        "\n",
        "객체: 홍길동, 이영희\n",
        "1. 객체모델링: 객체의 특징과 동작 분석\n",
        "   특징과 동작\n",
        "   홍길동                     이영희\n",
        "   이름: 홍길동               이름: 이영희\n",
        "   나이: 30                   나이: 25\n",
        "   직업: 학생                 직업 : 개발자\n",
        "   동작 : 공부를한다.         동작 : 코딩을한다.\n",
        "   밥을먹는다.                걷는다\n",
        "   걷는다.                    커피를 마신다.\n",
        "\n",
        "2. class 정의 : 멤버변수와 메소드  \n",
        "   class person:\n",
        "     def__init__(self, name, age, job ):\n",
        "       self. name = name\n",
        "       self. age = age\n",
        "       self. job = job\n",
        "\n",
        "     def eat(self):\n",
        "         print('eat')\n",
        "\n",
        "     def walk (self):\n",
        "         print ('walk')\n",
        "\n",
        "3. 객체생성\n",
        "   hong = Person('홍길동',30,'학생')\n",
        "   hong. eat ()\n",
        "   hong. walk ()\n",
        "   print (hong,name, hong.age, hong.job)\n",
        "\n",
        "   lee = Person('이영희', 25, '개발자')\n",
        "   lee.eat()\n",
        "   lee.walk()\n",
        "   print(lee.name, lee.age, lee.job)\n",
        "\n",
        "\n",
        "4. 상속\n",
        "class Hong(Person) :\n",
        "  pass\n",
        "\n",
        "class Lee(Person) :\n",
        "  pass\n",
        "\n",
        "```\n",
        "\n"
      ],
      "metadata": {
        "id": "6z9ZqbrnK6F7"
      }
    },
    {
      "cell_type": "markdown",
      "source": [],
      "metadata": {
        "id": "16AZI3mledeW"
      }
    },
    {
      "cell_type": "markdown",
      "source": [
        "is : 메모리 주소  \n",
        "issubclass(child,parent) : 상속여부   \n",
        "isinstance (a, int) : int클래스의 a가 인스턴스 여부  \n",
        "\n",
        "\n",
        "```\n",
        "# 코드로 형식 지정됨\n",
        "```\n",
        "\n"
      ],
      "metadata": {
        "id": "HFPCPA_IK6FS"
      }
    },
    {
      "cell_type": "code",
      "execution_count": null,
      "metadata": {
        "colab": {
          "base_uri": "https://localhost:8080/"
        },
        "id": "QyzBd_NrK05T",
        "outputId": "a55e8484-4655-408f-9a08-c61c7d63d4a6"
      },
      "outputs": [
        {
          "output_type": "execute_result",
          "data": {
            "text/plain": [
              "int"
            ]
          },
          "metadata": {},
          "execution_count": 5
        }
      ],
      "source": [
        "# int의 liternal\n",
        "a = 1\n",
        "type(a)"
      ]
    },
    {
      "cell_type": "code",
      "source": [
        "# 정수값 1 을 int의 인스턴스 방식으로 만들 수 있다.\n",
        "a = int('1')\n",
        "type(a)"
      ],
      "metadata": {
        "colab": {
          "base_uri": "https://localhost:8080/"
        },
        "id": "LzmYHzVoQMy5",
        "outputId": "731408eb-c94d-4b13-f040-c95570dda625"
      },
      "execution_count": null,
      "outputs": [
        {
          "output_type": "execute_result",
          "data": {
            "text/plain": [
              "int"
            ]
          },
          "metadata": {},
          "execution_count": 6
        }
      ]
    },
    {
      "cell_type": "code",
      "source": [
        "isinstance(a,int)"
      ],
      "metadata": {
        "colab": {
          "base_uri": "https://localhost:8080/"
        },
        "id": "sgD9FbEpQbcB",
        "outputId": "fe7b147c-a980-4af9-f466-bb84c7a4d7db"
      },
      "execution_count": null,
      "outputs": [
        {
          "output_type": "execute_result",
          "data": {
            "text/plain": [
              "True"
            ]
          },
          "metadata": {},
          "execution_count": 8
        }
      ]
    },
    {
      "cell_type": "code",
      "source": [
        "isinstance(a,str)"
      ],
      "metadata": {
        "colab": {
          "base_uri": "https://localhost:8080/"
        },
        "id": "GqYvmdhkQ5Xk",
        "outputId": "16e41ba0-39f2-43b0-99c9-4bbecbaa865d"
      },
      "execution_count": null,
      "outputs": [
        {
          "output_type": "execute_result",
          "data": {
            "text/plain": [
              "False"
            ]
          },
          "metadata": {},
          "execution_count": 10
        }
      ]
    },
    {
      "cell_type": "code",
      "source": [
        "class A:\n",
        "  x = 1\n",
        "  def prn(self) :   #clss 에서 메소드를 정의 할때 self가 있어야 함\n",
        "    a = 1"
      ],
      "metadata": {
        "id": "C1uONVX-Q_xI"
      },
      "execution_count": null,
      "outputs": []
    },
    {
      "cell_type": "code",
      "source": [
        "callable(A)"
      ],
      "metadata": {
        "colab": {
          "base_uri": "https://localhost:8080/"
        },
        "id": "8bKAjCpBROzQ",
        "outputId": "94b3c7ed-e66e-4ba8-eafd-40b0d49c1f8c"
      },
      "execution_count": null,
      "outputs": [
        {
          "output_type": "execute_result",
          "data": {
            "text/plain": [
              "True"
            ]
          },
          "metadata": {},
          "execution_count": 14
        }
      ]
    },
    {
      "cell_type": "code",
      "source": [
        "# 사용 할 때 괄호를 붙일 수 있다. -> callable\n",
        "A()"
      ],
      "metadata": {
        "colab": {
          "base_uri": "https://localhost:8080/"
        },
        "id": "7UhO_CwdRg_v",
        "outputId": "0d212a14-ac81-4ddf-eebf-3dcfa3661d62"
      },
      "execution_count": null,
      "outputs": [
        {
          "output_type": "execute_result",
          "data": {
            "text/plain": [
              "<__main__.A at 0x7a5710a9ae90>"
            ]
          },
          "metadata": {},
          "execution_count": 16
        }
      ]
    },
    {
      "cell_type": "code",
      "source": [
        "print(dir(A))"
      ],
      "metadata": {
        "colab": {
          "base_uri": "https://localhost:8080/"
        },
        "id": "1mXkQ0ekRpOg",
        "outputId": "03efac19-661b-4d35-bb53-039e077a42bd"
      },
      "execution_count": null,
      "outputs": [
        {
          "output_type": "stream",
          "name": "stdout",
          "text": [
            "['__class__', '__delattr__', '__dict__', '__dir__', '__doc__', '__eq__', '__format__', '__ge__', '__getattribute__', '__gt__', '__hash__', '__init__', '__init_subclass__', '__le__', '__lt__', '__module__', '__ne__', '__new__', '__reduce__', '__reduce_ex__', '__repr__', '__setattr__', '__sizeof__', '__str__', '__subclasshook__', '__weakref__', 'prn', 'x']\n"
          ]
        }
      ]
    },
    {
      "cell_type": "code",
      "source": [
        "k = A() #객체생성\n"
      ],
      "metadata": {
        "id": "UuJI9XdORzWR"
      },
      "execution_count": null,
      "outputs": []
    },
    {
      "cell_type": "code",
      "source": [
        "isinstance(k,A)"
      ],
      "metadata": {
        "colab": {
          "base_uri": "https://localhost:8080/"
        },
        "id": "RUQeW53FR-6P",
        "outputId": "b98dc55e-b2ed-45d6-da9c-85bd21c2d281"
      },
      "execution_count": null,
      "outputs": [
        {
          "output_type": "execute_result",
          "data": {
            "text/plain": [
              "True"
            ]
          },
          "metadata": {},
          "execution_count": 21
        }
      ]
    },
    {
      "cell_type": "code",
      "source": [
        "k.prn()  #객체. 메소드() # 이방식을 사용하는것을 추천,,"
      ],
      "metadata": {
        "id": "MBkbNNX7SMAA"
      },
      "execution_count": null,
      "outputs": []
    },
    {
      "cell_type": "code",
      "source": [
        "A.prn(k) # 클래스.메소드(객체)"
      ],
      "metadata": {
        "id": "hE0zJuVbSmJI"
      },
      "execution_count": null,
      "outputs": []
    },
    {
      "cell_type": "code",
      "source": [
        "m = A()\n",
        "m.prn()\n",
        "A.prn(m)"
      ],
      "metadata": {
        "id": "7AbR9jXYS8yM"
      },
      "execution_count": null,
      "outputs": []
    },
    {
      "cell_type": "markdown",
      "source": [
        "클래스는 내부에 있는 값을 접근할 수 있다. 2가지 방법으로 접근 가능하다.\n",
        " - 클래스에서 접근\n",
        " - 인스턴스에서 접근\n"
      ],
      "metadata": {
        "id": "3ZTCydTsK5Ti"
      }
    },
    {
      "cell_type": "code",
      "source": [
        "class A :\n",
        "  x = 1  #클래스변수\n"
      ],
      "metadata": {
        "id": "j5o2YwhFUHqi"
      },
      "execution_count": null,
      "outputs": []
    },
    {
      "cell_type": "code",
      "source": [
        "# 클래스에서 접근\n",
        "A.x"
      ],
      "metadata": {
        "colab": {
          "base_uri": "https://localhost:8080/"
        },
        "id": "BprZum2cUKyJ",
        "outputId": "0ebfa488-ad26-4968-f145-f6c0673d1280"
      },
      "execution_count": null,
      "outputs": [
        {
          "output_type": "execute_result",
          "data": {
            "text/plain": [
              "1"
            ]
          },
          "metadata": {},
          "execution_count": 39
        }
      ]
    },
    {
      "cell_type": "code",
      "source": [
        "#인스턴스에서 접근\n",
        "aa= A() # 인스턴스 (객체) 생성\n",
        "aa.x    # 인스턴스 (객체) 생성\n"
      ],
      "metadata": {
        "colab": {
          "base_uri": "https://localhost:8080/"
        },
        "id": "zZjjfpAdUTXQ",
        "outputId": "89e391d7-069f-4c5a-f6df-5bea93db999e"
      },
      "execution_count": null,
      "outputs": [
        {
          "output_type": "execute_result",
          "data": {
            "text/plain": [
              "1"
            ]
          },
          "metadata": {},
          "execution_count": 41
        }
      ]
    },
    {
      "cell_type": "code",
      "source": [
        "#python에서 제공하는 내장클래스이다.\n",
        "type(int)    #클래스의 타입을 물은것임"
      ],
      "metadata": {
        "colab": {
          "base_uri": "https://localhost:8080/"
        },
        "id": "kUfJrPNYY8g1",
        "outputId": "a16e92fd-1735-4e2d-b574-d6de3d29b415"
      },
      "execution_count": null,
      "outputs": [
        {
          "output_type": "execute_result",
          "data": {
            "text/plain": [
              "type"
            ]
          },
          "metadata": {},
          "execution_count": 43
        }
      ]
    },
    {
      "cell_type": "code",
      "source": [
        "m=5\n",
        "type(m)"
      ],
      "metadata": {
        "colab": {
          "base_uri": "https://localhost:8080/"
        },
        "id": "r-7HliVIZGol",
        "outputId": "07da69df-8ab6-4270-ffca-5d05e49496c2"
      },
      "execution_count": null,
      "outputs": [
        {
          "output_type": "execute_result",
          "data": {
            "text/plain": [
              "int"
            ]
          },
          "metadata": {},
          "execution_count": 45
        }
      ]
    },
    {
      "cell_type": "code",
      "source": [
        "#사용자가 정의한 클래스\n",
        "type(A)"
      ],
      "metadata": {
        "colab": {
          "base_uri": "https://localhost:8080/"
        },
        "id": "pV4MNm3SZZMe",
        "outputId": "ef3bf510-d693-417a-90a0-09d8aefdcb5d"
      },
      "execution_count": null,
      "outputs": [
        {
          "output_type": "execute_result",
          "data": {
            "text/plain": [
              "type"
            ]
          },
          "metadata": {},
          "execution_count": 46
        }
      ]
    },
    {
      "cell_type": "code",
      "source": [
        "type(aa)"
      ],
      "metadata": {
        "colab": {
          "base_uri": "https://localhost:8080/"
        },
        "id": "0kVKgzDlZvMI",
        "outputId": "79c6d244-2bd6-4efe-c12c-2d3040265108"
      },
      "execution_count": null,
      "outputs": [
        {
          "output_type": "execute_result",
          "data": {
            "text/plain": [
              "__main__.A"
            ]
          },
          "metadata": {},
          "execution_count": 67
        }
      ]
    },
    {
      "cell_type": "code",
      "source": [
        "class Employee:\n",
        "  x = 1 #클래스변수\n",
        "\n",
        "  def __init__(self):\n",
        "     pass\n",
        "\n",
        "  def display(self, y): #메소드\n",
        "    self.y = y #멤버변수\n",
        "    print(y)"
      ],
      "metadata": {
        "id": "HtqmSpK7ZvLW"
      },
      "execution_count": null,
      "outputs": []
    },
    {
      "cell_type": "code",
      "source": [
        "Employee.x"
      ],
      "metadata": {
        "colab": {
          "base_uri": "https://localhost:8080/"
        },
        "id": "GulPGjeMaUDN",
        "outputId": "38ab0a36-282f-4611-ad60-1c74c4da67b0"
      },
      "execution_count": null,
      "outputs": [
        {
          "output_type": "execute_result",
          "data": {
            "text/plain": [
              "1"
            ]
          },
          "metadata": {},
          "execution_count": 69
        }
      ]
    },
    {
      "cell_type": "code",
      "source": [
        "ps= Employee()   #__init__(self)메소드가 실행된다.\n",
        "ps.x"
      ],
      "metadata": {
        "colab": {
          "base_uri": "https://localhost:8080/"
        },
        "id": "_vuf309_aWkO",
        "outputId": "4342177c-beb1-493d-8fff-f9e4c8043601"
      },
      "execution_count": null,
      "outputs": [
        {
          "output_type": "execute_result",
          "data": {
            "text/plain": [
              "1"
            ]
          },
          "metadata": {},
          "execution_count": 113
        }
      ]
    },
    {
      "cell_type": "code",
      "source": [
        "ps.display(3)"
      ],
      "metadata": {
        "colab": {
          "base_uri": "https://localhost:8080/"
        },
        "id": "c5Hcyjpdagqv",
        "outputId": "2817aafb-f5f0-4e62-a252-62aca0da4d14"
      },
      "execution_count": null,
      "outputs": [
        {
          "output_type": "stream",
          "name": "stdout",
          "text": [
            "3\n"
          ]
        }
      ]
    },
    {
      "cell_type": "code",
      "source": [
        "ps.x"
      ],
      "metadata": {
        "colab": {
          "base_uri": "https://localhost:8080/"
        },
        "id": "J9AWy7SYbmol",
        "outputId": "509c42a8-8a8c-4902-e122-816ccaec18d8"
      },
      "execution_count": null,
      "outputs": [
        {
          "output_type": "execute_result",
          "data": {
            "text/plain": [
              "10"
            ]
          },
          "metadata": {},
          "execution_count": 87
        }
      ]
    },
    {
      "cell_type": "code",
      "source": [
        "pe = Employee"
      ],
      "metadata": {
        "id": "__WymMFHbqzn"
      },
      "execution_count": null,
      "outputs": []
    },
    {
      "cell_type": "code",
      "source": [
        "pe.x"
      ],
      "metadata": {
        "colab": {
          "base_uri": "https://localhost:8080/"
        },
        "id": "8LEP18TZbtMd",
        "outputId": "9383e06f-42a3-458d-c96e-c70f0c4b0622"
      },
      "execution_count": null,
      "outputs": [
        {
          "output_type": "execute_result",
          "data": {
            "text/plain": [
              "1"
            ]
          },
          "metadata": {},
          "execution_count": 81
        }
      ]
    },
    {
      "cell_type": "code",
      "source": [
        "pe.x= 10"
      ],
      "metadata": {
        "id": "SR-d5VRTbvTe"
      },
      "execution_count": null,
      "outputs": []
    },
    {
      "cell_type": "code",
      "source": [
        "pe.x"
      ],
      "metadata": {
        "colab": {
          "base_uri": "https://localhost:8080/"
        },
        "id": "CAIkNxXJbx7G",
        "outputId": "4d89282e-490d-4e6e-ad58-5cb1fb5fa91a"
      },
      "execution_count": null,
      "outputs": [
        {
          "output_type": "execute_result",
          "data": {
            "text/plain": [
              "10"
            ]
          },
          "metadata": {},
          "execution_count": 85
        }
      ]
    },
    {
      "cell_type": "code",
      "source": [
        "ps.x"
      ],
      "metadata": {
        "colab": {
          "base_uri": "https://localhost:8080/"
        },
        "id": "1IrluF2dbzFG",
        "outputId": "8666ab15-cc8e-4c23-deab-eecb86f79689"
      },
      "execution_count": null,
      "outputs": [
        {
          "output_type": "execute_result",
          "data": {
            "text/plain": [
              "10"
            ]
          },
          "metadata": {},
          "execution_count": 86
        }
      ]
    },
    {
      "cell_type": "code",
      "source": [
        "pe.display(5)\n",
        "pe.y"
      ],
      "metadata": {
        "colab": {
          "base_uri": "https://localhost:8080/",
          "height": 203
        },
        "id": "0jHzkOKwb6_W",
        "outputId": "cc6de695-2334-43a7-a347-2cc54a058841"
      },
      "execution_count": null,
      "outputs": [
        {
          "output_type": "error",
          "ename": "AttributeError",
          "evalue": "ignored",
          "traceback": [
            "\u001b[0;31m---------------------------------------------------------------------------\u001b[0m",
            "\u001b[0;31mAttributeError\u001b[0m                            Traceback (most recent call last)",
            "\u001b[0;32m<ipython-input-117-e6e3b2be041d>\u001b[0m in \u001b[0;36m<cell line: 1>\u001b[0;34m()\u001b[0m\n\u001b[0;32m----> 1\u001b[0;31m \u001b[0mpe\u001b[0m\u001b[0;34m.\u001b[0m\u001b[0mdisplay\u001b[0m\u001b[0;34m(\u001b[0m\u001b[0;36m5\u001b[0m\u001b[0;34m)\u001b[0m\u001b[0;34m\u001b[0m\u001b[0;34m\u001b[0m\u001b[0m\n\u001b[0m\u001b[1;32m      2\u001b[0m \u001b[0mpe\u001b[0m\u001b[0;34m.\u001b[0m\u001b[0my\u001b[0m\u001b[0;34m\u001b[0m\u001b[0;34m\u001b[0m\u001b[0m\n",
            "\u001b[0;31mAttributeError\u001b[0m: type object 'Employee' has no attribute 'display'"
          ]
        }
      ]
    },
    {
      "cell_type": "code",
      "source": [
        "ps.x = 100\n",
        "ps.x"
      ],
      "metadata": {
        "colab": {
          "base_uri": "https://localhost:8080/"
        },
        "id": "t3lGUxv9cXiW",
        "outputId": "92865496-2da7-4b4b-d137-e651c3d533b3"
      },
      "execution_count": null,
      "outputs": [
        {
          "output_type": "execute_result",
          "data": {
            "text/plain": [
              "100"
            ]
          },
          "metadata": {},
          "execution_count": 91
        }
      ]
    },
    {
      "cell_type": "code",
      "source": [
        "pe.x"
      ],
      "metadata": {
        "colab": {
          "base_uri": "https://localhost:8080/"
        },
        "id": "_r98eGGDcbuU",
        "outputId": "2ddb9d91-d056-4e1a-f831-c2e03c000f1d"
      },
      "execution_count": null,
      "outputs": [
        {
          "output_type": "execute_result",
          "data": {
            "text/plain": [
              "10"
            ]
          },
          "metadata": {},
          "execution_count": 93
        }
      ]
    },
    {
      "cell_type": "code",
      "source": [
        "Employee.x"
      ],
      "metadata": {
        "colab": {
          "base_uri": "https://localhost:8080/"
        },
        "id": "107wghGPcdS8",
        "outputId": "1a2e85f7-c693-49df-fcb9-4bea4dcb4e64"
      },
      "execution_count": null,
      "outputs": [
        {
          "output_type": "execute_result",
          "data": {
            "text/plain": [
              "10"
            ]
          },
          "metadata": {},
          "execution_count": 95
        }
      ]
    },
    {
      "cell_type": "code",
      "source": [
        "Employee.z = 7"
      ],
      "metadata": {
        "id": "CJhJogOTc2eQ"
      },
      "execution_count": null,
      "outputs": []
    },
    {
      "cell_type": "code",
      "source": [
        "ps.z"
      ],
      "metadata": {
        "colab": {
          "base_uri": "https://localhost:8080/"
        },
        "id": "Op1X2Yi4c6UN",
        "outputId": "dd36d5e8-8d29-47c7-c90f-3fa35680dab3"
      },
      "execution_count": null,
      "outputs": [
        {
          "output_type": "execute_result",
          "data": {
            "text/plain": [
              "7"
            ]
          },
          "metadata": {},
          "execution_count": 98
        }
      ]
    },
    {
      "cell_type": "code",
      "source": [
        "class Fourcal:\n",
        "\n",
        "  def __init__(self) :\n",
        "    print('init')\n",
        "\n",
        "  def add(self, a, b):\n",
        "    return a+b\n",
        "\n",
        "  def sub(self, a, b) :\n",
        "    return a-b\n",
        "\n",
        "  def mul(self, a, b):\n",
        "    return a*b\n",
        "  def div (self, a, b) :\n",
        "    return a//b\n"
      ],
      "metadata": {
        "id": "4Hund1-Gfwma"
      },
      "execution_count": null,
      "outputs": []
    },
    {
      "cell_type": "code",
      "source": [
        "x = Fourcal();\n",
        "x"
      ],
      "metadata": {
        "colab": {
          "base_uri": "https://localhost:8080/"
        },
        "id": "QYFN6wS9fwlW",
        "outputId": "035d09fe-e717-4d07-f3b6-80fa97820245"
      },
      "execution_count": null,
      "outputs": [
        {
          "output_type": "stream",
          "name": "stdout",
          "text": [
            "init\n"
          ]
        },
        {
          "output_type": "execute_result",
          "data": {
            "text/plain": [
              "<__main__.Fourcal at 0x7a56eec074c0>"
            ]
          },
          "metadata": {},
          "execution_count": 124
        }
      ]
    },
    {
      "cell_type": "code",
      "source": [
        "print(x.add (4,2))\n",
        "print(x.sub (4,2))\n",
        "print(x.mul (4,2))\n",
        "print(x.div (4,2))"
      ],
      "metadata": {
        "colab": {
          "base_uri": "https://localhost:8080/"
        },
        "id": "8uC23FrDghVz",
        "outputId": "6cba3ac2-f8f7-4428-d259-b4c8994dcf97"
      },
      "execution_count": null,
      "outputs": [
        {
          "output_type": "stream",
          "name": "stdout",
          "text": [
            "6\n",
            "2\n",
            "8\n",
            "2\n"
          ]
        }
      ]
    },
    {
      "cell_type": "code",
      "source": [
        "class Fourcal:\n",
        "\n",
        "  def __init__(self):\n",
        "    pass\n",
        "\n",
        "  def __init__(self,a,b) :\n",
        "    self.a = a\n",
        "    self.b = b\n",
        "\n",
        "    print('init2')\n",
        "\n",
        "  def add(self):\n",
        "    return self.a+self.b\n",
        "\n",
        "  def sub(self) :\n",
        "    return self.a-self.b\n",
        "\n",
        "  def mul(self):\n",
        "    return self.a*self.b\n",
        "\n",
        "  def div (self) :\n",
        "    return self.a//self.b"
      ],
      "metadata": {
        "id": "fwBIywcbg5c8"
      },
      "execution_count": null,
      "outputs": []
    },
    {
      "cell_type": "code",
      "source": [
        "y= Fourcal(4,2)  # 생성자는 객체의 초기값을 할당한다."
      ],
      "metadata": {
        "colab": {
          "base_uri": "https://localhost:8080/"
        },
        "id": "IRgK1KFnhTQ0",
        "outputId": "44fa2e5b-8fe1-48c8-8324-781db4c77b3d"
      },
      "execution_count": null,
      "outputs": [
        {
          "output_type": "stream",
          "name": "stdout",
          "text": [
            "init2\n"
          ]
        }
      ]
    },
    {
      "cell_type": "code",
      "source": [
        "print(y.add())\n",
        "print(y.sub())\n",
        "print(y.mul())\n",
        "print(y.div())"
      ],
      "metadata": {
        "colab": {
          "base_uri": "https://localhost:8080/"
        },
        "id": "517JZxEJh4vM",
        "outputId": "44c9a9fb-1207-4e36-bd5d-02e171f822ce"
      },
      "execution_count": null,
      "outputs": [
        {
          "output_type": "stream",
          "name": "stdout",
          "text": [
            "6\n",
            "2\n",
            "8\n",
            "2\n"
          ]
        }
      ]
    },
    {
      "cell_type": "markdown",
      "source": [
        "## 상속 (inheritance)\n",
        " -class에서 이름 뒤에 괄호는 상속이다.\n",
        " -python의 모든객체는 object를 상속받는다.\n",
        " -python3부터는 (object)는 생략 가능하다. 즉 지금까지 class를 정의 할 때 object를 내부적으로 상속하고 있었다.   "
      ],
      "metadata": {
        "id": "93tjq5b0lEuV"
      }
    },
    {
      "cell_type": "code",
      "source": [
        "#부모클래스,수퍼클래스, 기본클래스  (상속을 해주는 클래스)\n",
        "class Parent:\n",
        " x='parent x'\n",
        " y= 'parent y'\n",
        "\n",
        " @classmethod   #상속받는 클래스에서 부모 또는 자신의 자원을 호출해서 사용 할 수 있도록 제공 해주는 기능이다.\n",
        "\n",
        " def output(cls):\n",
        "    return cls.x\n",
        "\n",
        " def test(self):\n",
        "    return 10\n",
        "\n",
        "#자식클래스,서브클래스, 유도클래스 (상속을 받는 클래스)\n",
        "class Child(Parent): # Child 는 Parent를 상속받는다. 상속관계 is ~ a = Child는 Parent 이다.\n",
        " x = 'child x'\n",
        "\n",
        " def display(self):\n",
        "       print('display')\n",
        "       #print(Parent.test(self))\n",
        "       print(Parent.output())\n",
        "       print(Child.output())\n",
        "\n"
      ],
      "metadata": {
        "id": "oM5bwPrhljlH"
      },
      "execution_count": null,
      "outputs": []
    },
    {
      "cell_type": "code",
      "source": [
        "print(Parent.x)\n",
        "print(Parent.y)"
      ],
      "metadata": {
        "colab": {
          "base_uri": "https://localhost:8080/"
        },
        "id": "5t6nBkiYm3bP",
        "outputId": "91159791-116a-46d7-825d-765fd6693e9f"
      },
      "execution_count": null,
      "outputs": [
        {
          "output_type": "stream",
          "name": "stdout",
          "text": [
            "parent x\n",
            "parent y\n"
          ]
        }
      ]
    },
    {
      "cell_type": "code",
      "source": [
        "print(Child.x)\n",
        "print(Child.y)"
      ],
      "metadata": {
        "colab": {
          "base_uri": "https://localhost:8080/"
        },
        "id": "OXzoE-tAnCjU",
        "outputId": "eb62cc41-9895-4af3-bc3e-abf1736d8246"
      },
      "execution_count": null,
      "outputs": [
        {
          "output_type": "stream",
          "name": "stdout",
          "text": [
            "child x\n",
            "parent y\n"
          ]
        }
      ]
    },
    {
      "cell_type": "code",
      "source": [
        "c = Child()\n",
        "c.display()"
      ],
      "metadata": {
        "colab": {
          "base_uri": "https://localhost:8080/"
        },
        "id": "MvN9GKXJpEvz",
        "outputId": "4319a5e2-6b50-4ba7-f52c-bf093844534c"
      },
      "execution_count": null,
      "outputs": [
        {
          "output_type": "stream",
          "name": "stdout",
          "text": [
            "display\n",
            "parent x\n",
            "child x\n"
          ]
        }
      ]
    },
    {
      "cell_type": "code",
      "source": [
        "Child.display(c)"
      ],
      "metadata": {
        "colab": {
          "base_uri": "https://localhost:8080/"
        },
        "id": "fxHyHbuupmAh",
        "outputId": "61154934-6ab7-4dec-dde6-dc9574011905"
      },
      "execution_count": null,
      "outputs": [
        {
          "output_type": "stream",
          "name": "stdout",
          "text": [
            "display\n",
            "parent x\n",
            "child x\n"
          ]
        }
      ]
    },
    {
      "cell_type": "markdown",
      "source": [
        "class 도형 :  \n",
        "  pass  \n",
        "\n",
        "class 삼각형(도형):  #삼각형은 도형이다.   \n",
        "  pass  \n",
        "\n",
        "class 사각형(도형):  #사각형은 도형이다.   \n",
        "  pass   "
      ],
      "metadata": {
        "id": "jkjH4oqtlEs-"
      }
    },
    {
      "cell_type": "markdown",
      "source": [
        "c.output ()"
      ],
      "metadata": {
        "id": "mI6Uy059mNBI"
      }
    },
    {
      "cell_type": "code",
      "source": [
        "c.output ()"
      ],
      "metadata": {
        "colab": {
          "base_uri": "https://localhost:8080/",
          "height": 35
        },
        "id": "FSrTdgIWs3Kk",
        "outputId": "fd9cdd23-4f6a-46cd-9e7b-fdaa63d12580"
      },
      "execution_count": null,
      "outputs": [
        {
          "output_type": "execute_result",
          "data": {
            "text/plain": [
              "'child x'"
            ],
            "application/vnd.google.colaboratory.intrinsic+json": {
              "type": "string"
            }
          },
          "metadata": {},
          "execution_count": 200
        }
      ]
    },
    {
      "cell_type": "code",
      "source": [
        "c.test()"
      ],
      "metadata": {
        "colab": {
          "base_uri": "https://localhost:8080/"
        },
        "id": "E-R7sjA1tcxC",
        "outputId": "9a5e914b-06a4-40b4-ecdb-687e854dd766"
      },
      "execution_count": null,
      "outputs": [
        {
          "output_type": "execute_result",
          "data": {
            "text/plain": [
              "10"
            ]
          },
          "metadata": {},
          "execution_count": 202
        }
      ]
    },
    {
      "cell_type": "code",
      "source": [
        "print(dir(Child))\n"
      ],
      "metadata": {
        "colab": {
          "base_uri": "https://localhost:8080/"
        },
        "id": "LtUQr18AtrbZ",
        "outputId": "33f16908-0364-4d17-c573-30296078b852"
      },
      "execution_count": null,
      "outputs": [
        {
          "output_type": "stream",
          "name": "stdout",
          "text": [
            "['__class__', '__delattr__', '__dict__', '__dir__', '__doc__', '__eq__', '__format__', '__ge__', '__getattribute__', '__gt__', '__hash__', '__init__', '__init_subclass__', '__le__', '__lt__', '__module__', '__ne__', '__new__', '__reduce__', '__reduce_ex__', '__repr__', '__setattr__', '__sizeof__', '__str__', '__subclasshook__', '__weakref__', 'display', 'output', 'test', 'x', 'y']\n"
          ]
        }
      ]
    },
    {
      "cell_type": "markdown",
      "source": [
        "## mangling\n",
        " 프로그램에서 함수나 변수를 선언했을 때, 선언시 사용했던 이름을 컴파일러가 컴파일 단계에서 일정한 규칙을 가지고 변형하는 것으로, 네임 데코레이션(Name Decoration) 이라고 한다.   \n",
        "\n",
        " private 처럼 사용할 때 이름앞에 __를 붙인다.   \n",
        " 이름을 _클래스변수이름의 형태로 바꿔준다.   "
      ],
      "metadata": {
        "id": "XLZKrFErzT-w"
      }
    },
    {
      "cell_type": "code",
      "source": [
        "class A:\n",
        "  x = 1\n",
        "  __y = 2   #private처럼 사용할 때 __를 붙인다.\n"
      ],
      "metadata": {
        "id": "ryC8icyKuXqI"
      },
      "execution_count": null,
      "outputs": []
    },
    {
      "cell_type": "code",
      "source": [],
      "metadata": {
        "id": "OM1Y7lkivfa4"
      },
      "execution_count": null,
      "outputs": []
    },
    {
      "cell_type": "code",
      "source": [
        "print (dir (A))"
      ],
      "metadata": {
        "colab": {
          "base_uri": "https://localhost:8080/"
        },
        "id": "b7L2ZhDRueap",
        "outputId": "b70035b8-cfff-4bda-c6b3-e3d8bb73d4f5"
      },
      "execution_count": null,
      "outputs": [
        {
          "output_type": "stream",
          "name": "stdout",
          "text": [
            "['_A__y', '__class__', '__delattr__', '__dict__', '__dir__', '__doc__', '__eq__', '__format__', '__ge__', '__getattribute__', '__gt__', '__hash__', '__init__', '__init_subclass__', '__le__', '__lt__', '__module__', '__ne__', '__new__', '__reduce__', '__reduce_ex__', '__repr__', '__setattr__', '__sizeof__', '__str__', '__subclasshook__', '__weakref__', 'x']\n"
          ]
        }
      ]
    },
    {
      "cell_type": "code",
      "source": [
        "A.x"
      ],
      "metadata": {
        "colab": {
          "base_uri": "https://localhost:8080/"
        },
        "id": "FZ9CuUUBvgQg",
        "outputId": "a27080e4-907c-42ea-a1ba-5464bb1d3fb8"
      },
      "execution_count": null,
      "outputs": [
        {
          "output_type": "execute_result",
          "data": {
            "text/plain": [
              "1"
            ]
          },
          "metadata": {},
          "execution_count": 214
        }
      ]
    },
    {
      "cell_type": "code",
      "source": [
        "# __y를 private로 사용하기 위해서 선언했지만\n",
        "#_A__y로 접근이 가능하다.\n",
        "A._A__y"
      ],
      "metadata": {
        "colab": {
          "base_uri": "https://localhost:8080/"
        },
        "id": "awIo3nNwvigI",
        "outputId": "b2de50cf-d0a5-4bae-e2dc-009df7a4bfc7"
      },
      "execution_count": null,
      "outputs": [
        {
          "output_type": "execute_result",
          "data": {
            "text/plain": [
              "2"
            ]
          },
          "metadata": {},
          "execution_count": 216
        }
      ]
    },
    {
      "cell_type": "markdown",
      "source": [
        "## vars\n",
        "vars는 인스턴스 안에 정의된 값들을 보여준다."
      ],
      "metadata": {
        "id": "-3SnygN70zvY"
      }
    },
    {
      "cell_type": "markdown",
      "source": [],
      "metadata": {
        "id": "qy2t0_Lq0zt6"
      }
    },
    {
      "cell_type": "code",
      "source": [
        "class A:\n",
        "  x = 1\n",
        "  __y = 2"
      ],
      "metadata": {
        "id": "Rha43oUpy-cJ"
      },
      "execution_count": null,
      "outputs": []
    },
    {
      "cell_type": "code",
      "source": [
        "a = A()"
      ],
      "metadata": {
        "id": "vK6T-rkI0_Ye"
      },
      "execution_count": null,
      "outputs": []
    },
    {
      "cell_type": "code",
      "source": [
        "#현재 a는 아무런 값이 들어 있지 않다.\n",
        "vars(a)"
      ],
      "metadata": {
        "colab": {
          "base_uri": "https://localhost:8080/"
        },
        "id": "Uq2iFnGx1CFW",
        "outputId": "380da045-cca0-485c-9e55-fcd62fcd4b45"
      },
      "execution_count": null,
      "outputs": [
        {
          "output_type": "execute_result",
          "data": {
            "text/plain": [
              "{}"
            ]
          },
          "metadata": {},
          "execution_count": 222
        }
      ]
    },
    {
      "cell_type": "code",
      "source": [
        "a.t = 3"
      ],
      "metadata": {
        "id": "xR-WqEBK1eOg"
      },
      "execution_count": null,
      "outputs": []
    },
    {
      "cell_type": "code",
      "source": [
        "vars(a)"
      ],
      "metadata": {
        "colab": {
          "base_uri": "https://localhost:8080/"
        },
        "id": "DhEGr6tx1gR1",
        "outputId": "212ec00d-540f-41e0-91c7-a09f05bc53e9"
      },
      "execution_count": null,
      "outputs": [
        {
          "output_type": "execute_result",
          "data": {
            "text/plain": [
              "{'t': 3}"
            ]
          },
          "metadata": {},
          "execution_count": 225
        }
      ]
    },
    {
      "cell_type": "code",
      "source": [
        "# a 인스턴스의 변수를 삭제할 수 있다.\n",
        "del a.t"
      ],
      "metadata": {
        "id": "TzpAIf6Z1tgn"
      },
      "execution_count": null,
      "outputs": []
    },
    {
      "cell_type": "code",
      "source": [
        "vars(A)"
      ],
      "metadata": {
        "colab": {
          "base_uri": "https://localhost:8080/"
        },
        "id": "_rweFYB51tfX",
        "outputId": "7dd824c4-663a-476e-8cdb-5d634444ef0a"
      },
      "execution_count": null,
      "outputs": [
        {
          "output_type": "execute_result",
          "data": {
            "text/plain": [
              "mappingproxy({'__module__': '__main__',\n",
              "              'x': 1,\n",
              "              '_A__y': 2,\n",
              "              '__dict__': <attribute '__dict__' of 'A' objects>,\n",
              "              '__weakref__': <attribute '__weakref__' of 'A' objects>,\n",
              "              '__doc__': None})"
            ]
          },
          "metadata": {},
          "execution_count": 228
        }
      ]
    },
    {
      "cell_type": "code",
      "source": [
        "#클래스의 변수도 삭제가 가능하다.\n",
        "#그래서 A클래스의 x클래스 변수를 삭제한다.\n",
        "\n",
        "del A.x"
      ],
      "metadata": {
        "colab": {
          "base_uri": "https://localhost:8080/",
          "height": 184
        },
        "id": "gbQO1xs92TXP",
        "outputId": "ce7602d3-6e7f-473e-82c5-6cd120d914a5"
      },
      "execution_count": null,
      "outputs": [
        {
          "output_type": "error",
          "ename": "AttributeError",
          "evalue": "ignored",
          "traceback": [
            "\u001b[0;31m---------------------------------------------------------------------------\u001b[0m",
            "\u001b[0;31mAttributeError\u001b[0m                            Traceback (most recent call last)",
            "\u001b[0;32m<ipython-input-230-7a0ba601145a>\u001b[0m in \u001b[0;36m<cell line: 1>\u001b[0;34m()\u001b[0m\n\u001b[0;32m----> 1\u001b[0;31m \u001b[0;32mdel\u001b[0m \u001b[0mA\u001b[0m\u001b[0;34m.\u001b[0m\u001b[0mx\u001b[0m\u001b[0;34m\u001b[0m\u001b[0;34m\u001b[0m\u001b[0m\n\u001b[0m",
            "\u001b[0;31mAttributeError\u001b[0m: x"
          ]
        }
      ]
    },
    {
      "cell_type": "code",
      "source": [
        "vars(A)"
      ],
      "metadata": {
        "colab": {
          "base_uri": "https://localhost:8080/"
        },
        "id": "bBPpDaJB2VLn",
        "outputId": "7e2c2e3a-afde-4a21-edb9-d2c15cc11089"
      },
      "execution_count": null,
      "outputs": [
        {
          "output_type": "execute_result",
          "data": {
            "text/plain": [
              "mappingproxy({'__module__': '__main__',\n",
              "              '_A__y': 2,\n",
              "              '__dict__': <attribute '__dict__' of 'A' objects>,\n",
              "              '__weakref__': <attribute '__weakref__' of 'A' objects>,\n",
              "              '__doc__': None})"
            ]
          },
          "metadata": {},
          "execution_count": 231
        }
      ]
    },
    {
      "cell_type": "code",
      "source": [
        "# 앞 과정에서 A클래스의 x를 삭제했기 때문에 Error 발생\n",
        "A.x"
      ],
      "metadata": {
        "colab": {
          "base_uri": "https://localhost:8080/",
          "height": 203
        },
        "id": "HwhjdOJ_235G",
        "outputId": "c42d2536-d87e-4332-facf-8f3f570c76b0"
      },
      "execution_count": null,
      "outputs": [
        {
          "output_type": "error",
          "ename": "AttributeError",
          "evalue": "ignored",
          "traceback": [
            "\u001b[0;31m---------------------------------------------------------------------------\u001b[0m",
            "\u001b[0;31mAttributeError\u001b[0m                            Traceback (most recent call last)",
            "\u001b[0;32m<ipython-input-232-a71dea7d6246>\u001b[0m in \u001b[0;36m<cell line: 2>\u001b[0;34m()\u001b[0m\n\u001b[1;32m      1\u001b[0m \u001b[0;31m# 앞 과정에서 A클래스의 x를 삭제했기 때문에 Error 발생\u001b[0m\u001b[0;34m\u001b[0m\u001b[0;34m\u001b[0m\u001b[0m\n\u001b[0;32m----> 2\u001b[0;31m \u001b[0mA\u001b[0m\u001b[0;34m.\u001b[0m\u001b[0mx\u001b[0m\u001b[0;34m\u001b[0m\u001b[0;34m\u001b[0m\u001b[0m\n\u001b[0m",
            "\u001b[0;31mAttributeError\u001b[0m: type object 'A' has no attribute 'x'"
          ]
        }
      ]
    },
    {
      "cell_type": "code",
      "source": [
        "a.__dict__"
      ],
      "metadata": {
        "colab": {
          "base_uri": "https://localhost:8080/"
        },
        "id": "3pJSJFX5233n",
        "outputId": "beebdb2a-2b88-4278-b5e7-7d67cf9760a5"
      },
      "execution_count": null,
      "outputs": [
        {
          "output_type": "execute_result",
          "data": {
            "text/plain": [
              "{}"
            ]
          },
          "metadata": {},
          "execution_count": 234
        }
      ]
    },
    {
      "cell_type": "code",
      "source": [
        "vars(A)"
      ],
      "metadata": {
        "colab": {
          "base_uri": "https://localhost:8080/"
        },
        "id": "IWOeEMZO3ceO",
        "outputId": "770af9c9-cec7-4300-d80e-07dcc26426e2"
      },
      "execution_count": null,
      "outputs": [
        {
          "output_type": "execute_result",
          "data": {
            "text/plain": [
              "mappingproxy({'__module__': '__main__',\n",
              "              '_A__y': 2,\n",
              "              '__dict__': <attribute '__dict__' of 'A' objects>,\n",
              "              '__weakref__': <attribute '__weakref__' of 'A' objects>,\n",
              "              '__doc__': None})"
            ]
          },
          "metadata": {},
          "execution_count": 235
        }
      ]
    },
    {
      "cell_type": "code",
      "source": [
        "print(dir(a))    # a.__dir__"
      ],
      "metadata": {
        "colab": {
          "base_uri": "https://localhost:8080/"
        },
        "id": "Vm84DEuW3oSv",
        "outputId": "24cfbc19-d7e4-43ae-966c-f7661be7ae01"
      },
      "execution_count": null,
      "outputs": [
        {
          "output_type": "stream",
          "name": "stdout",
          "text": [
            "['_A__y', '__class__', '__delattr__', '__dict__', '__dir__', '__doc__', '__eq__', '__format__', '__ge__', '__getattribute__', '__gt__', '__hash__', '__init__', '__init_subclass__', '__le__', '__lt__', '__module__', '__ne__', '__new__', '__reduce__', '__reduce_ex__', '__repr__', '__setattr__', '__sizeof__', '__str__', '__subclasshook__', '__weakref__']\n"
          ]
        }
      ]
    },
    {
      "cell_type": "code",
      "source": [
        "set(a.__dict__)-set(vars(a))"
      ],
      "metadata": {
        "colab": {
          "base_uri": "https://localhost:8080/"
        },
        "id": "VIjcC1i_4Hxn",
        "outputId": "33099d5a-29b2-40d7-bbcf-235d85deb5f5"
      },
      "execution_count": null,
      "outputs": [
        {
          "output_type": "execute_result",
          "data": {
            "text/plain": [
              "set()"
            ]
          },
          "metadata": {},
          "execution_count": 240
        }
      ]
    },
    {
      "cell_type": "code",
      "source": [
        "set(vars(a)) - set(a.__dict__)"
      ],
      "metadata": {
        "colab": {
          "base_uri": "https://localhost:8080/"
        },
        "id": "fEHuYWxU4RTG",
        "outputId": "f4abeea7-8746-460f-f3ea-16ff54b19958"
      },
      "execution_count": null,
      "outputs": [
        {
          "output_type": "execute_result",
          "data": {
            "text/plain": [
              "set()"
            ]
          },
          "metadata": {},
          "execution_count": 241
        }
      ]
    },
    {
      "cell_type": "code",
      "source": [
        "set(vars(A)) | set(A.__dict__)"
      ],
      "metadata": {
        "colab": {
          "base_uri": "https://localhost:8080/"
        },
        "id": "_R3C2Sj14h85",
        "outputId": "203c4bcf-5237-4588-b386-42ceebf7d9ee"
      },
      "execution_count": null,
      "outputs": [
        {
          "output_type": "execute_result",
          "data": {
            "text/plain": [
              "{'_A__y', '__dict__', '__doc__', '__module__', '__weakref__'}"
            ]
          },
          "metadata": {},
          "execution_count": 245
        }
      ]
    },
    {
      "cell_type": "code",
      "source": [
        "set(vars(A)) & set(A.__dict__)"
      ],
      "metadata": {
        "colab": {
          "base_uri": "https://localhost:8080/"
        },
        "id": "vlAlFlbM4lGe",
        "outputId": "97d3be2a-aeaa-44ea-a42b-0bc6eca8b1d8"
      },
      "execution_count": null,
      "outputs": [
        {
          "output_type": "execute_result",
          "data": {
            "text/plain": [
              "{'_A__y', '__dict__', '__doc__', '__module__', '__weakref__'}"
            ]
          },
          "metadata": {},
          "execution_count": 246
        }
      ]
    },
    {
      "cell_type": "markdown",
      "source": [
        "함수를 메소드로 추가할 수 있다.   "
      ],
      "metadata": {
        "id": "eKiLlvTq5kpv"
      }
    },
    {
      "cell_type": "code",
      "source": [
        "# 함수를 정의: 메소드로 등록할 함수이면 self를 선언해 준다.\n",
        "\n",
        "def display(p):\n",
        "  print(p)"
      ],
      "metadata": {
        "id": "3mHsVm_n5kQO"
      },
      "execution_count": null,
      "outputs": []
    },
    {
      "cell_type": "code",
      "source": [
        "display(10)"
      ],
      "metadata": {
        "colab": {
          "base_uri": "https://localhost:8080/"
        },
        "id": "eWEpHTEE5y0V",
        "outputId": "4bf81ac3-4796-468c-eff0-160bfd3fd092"
      },
      "execution_count": null,
      "outputs": [
        {
          "output_type": "stream",
          "name": "stdout",
          "text": [
            "10\n"
          ]
        }
      ]
    },
    {
      "cell_type": "code",
      "source": [
        "#함수를 메소드로 등록\n",
        "A.display = display\n"
      ],
      "metadata": {
        "id": "7Qb9j-eE50uV"
      },
      "execution_count": null,
      "outputs": []
    },
    {
      "cell_type": "code",
      "source": [
        "print(dir(A))"
      ],
      "metadata": {
        "colab": {
          "base_uri": "https://localhost:8080/"
        },
        "id": "Ap_X3mCL6C51",
        "outputId": "42c5e1d8-1d97-4da4-f3f7-6310e3da1cf5"
      },
      "execution_count": null,
      "outputs": [
        {
          "output_type": "stream",
          "name": "stdout",
          "text": [
            "['_A__y', '__class__', '__delattr__', '__dict__', '__dir__', '__doc__', '__eq__', '__format__', '__ge__', '__getattribute__', '__gt__', '__hash__', '__init__', '__init_subclass__', '__le__', '__lt__', '__module__', '__ne__', '__new__', '__reduce__', '__reduce_ex__', '__repr__', '__setattr__', '__sizeof__', '__str__', '__subclasshook__', '__weakref__', 'display']\n"
          ]
        }
      ]
    },
    {
      "cell_type": "code",
      "source": [
        "a = A()\n"
      ],
      "metadata": {
        "id": "MjLK5f1_6NBf"
      },
      "execution_count": null,
      "outputs": []
    },
    {
      "cell_type": "code",
      "source": [
        "A.display(20)"
      ],
      "metadata": {
        "colab": {
          "base_uri": "https://localhost:8080/"
        },
        "id": "b-BCmU-v6TgF",
        "outputId": "36a22200-ff72-4681-812c-122736937b28"
      },
      "execution_count": null,
      "outputs": [
        {
          "output_type": "stream",
          "name": "stdout",
          "text": [
            "20\n"
          ]
        }
      ]
    },
    {
      "cell_type": "code",
      "source": [
        "#구글 드라이브 연동\n",
        "from google .colab import drive\n",
        "drive.mount('/content/drive')"
      ],
      "metadata": {
        "colab": {
          "base_uri": "https://localhost:8080/"
        },
        "id": "eS8UCKCw8vzO",
        "outputId": "c706fa14-c3a9-4ef3-ef5c-5f510b48c27c"
      },
      "execution_count": null,
      "outputs": [
        {
          "output_type": "stream",
          "name": "stdout",
          "text": [
            "Drive already mounted at /content/drive; to attempt to forcibly remount, call drive.mount(\"/content/drive\", force_remount=True).\n"
          ]
        }
      ]
    },
    {
      "cell_type": "code",
      "source": [],
      "metadata": {
        "id": "NA2xK3osPA_T"
      },
      "execution_count": null,
      "outputs": []
    },
    {
      "cell_type": "code",
      "source": [
        "%cd /content/drive/MyDrive/ai_chat_python/"
      ],
      "metadata": {
        "colab": {
          "base_uri": "https://localhost:8080/"
        },
        "id": "dhwVB_ey9Ki5",
        "outputId": "fc38719e-ea0f-472e-e6fd-f841c84fbc07"
      },
      "execution_count": null,
      "outputs": [
        {
          "output_type": "stream",
          "name": "stdout",
          "text": [
            "/content/drive/MyDrive/ai_chat_python\n"
          ]
        }
      ]
    },
    {
      "cell_type": "code",
      "source": [
        "%%writefile 001_1/gosu.py\n",
        "\n",
        "1111\n"
      ],
      "metadata": {
        "colab": {
          "base_uri": "https://localhost:8080/",
          "height": 374
        },
        "id": "UZsMsltHPVSy",
        "outputId": "6fe139c8-c900-430c-a8a1-0cc79178d9b9"
      },
      "execution_count": null,
      "outputs": [
        {
          "output_type": "stream",
          "name": "stdout",
          "text": [
            "Writing 001_1/gosu.py\n"
          ]
        },
        {
          "output_type": "error",
          "ename": "FileNotFoundError",
          "evalue": "ignored",
          "traceback": [
            "\u001b[0;31m---------------------------------------------------------------------------\u001b[0m",
            "\u001b[0;31mFileNotFoundError\u001b[0m                         Traceback (most recent call last)",
            "\u001b[0;32m<ipython-input-334-7c315b060b68>\u001b[0m in \u001b[0;36m<cell line: 1>\u001b[0;34m()\u001b[0m\n\u001b[0;32m----> 1\u001b[0;31m \u001b[0mget_ipython\u001b[0m\u001b[0;34m(\u001b[0m\u001b[0;34m)\u001b[0m\u001b[0;34m.\u001b[0m\u001b[0mrun_cell_magic\u001b[0m\u001b[0;34m(\u001b[0m\u001b[0;34m'writefile'\u001b[0m\u001b[0;34m,\u001b[0m \u001b[0;34m'001_1/gosu.py'\u001b[0m\u001b[0;34m,\u001b[0m \u001b[0;34m'\\n1111\\n'\u001b[0m\u001b[0;34m)\u001b[0m\u001b[0;34m\u001b[0m\u001b[0;34m\u001b[0m\u001b[0m\n\u001b[0m",
            "\u001b[0;32m/usr/local/lib/python3.10/dist-packages/google/colab/_shell.py\u001b[0m in \u001b[0;36mrun_cell_magic\u001b[0;34m(self, magic_name, line, cell)\u001b[0m\n\u001b[1;32m    332\u001b[0m     \u001b[0;32mif\u001b[0m \u001b[0mline\u001b[0m \u001b[0;32mand\u001b[0m \u001b[0;32mnot\u001b[0m \u001b[0mcell\u001b[0m\u001b[0;34m:\u001b[0m\u001b[0;34m\u001b[0m\u001b[0;34m\u001b[0m\u001b[0m\n\u001b[1;32m    333\u001b[0m       \u001b[0mcell\u001b[0m \u001b[0;34m=\u001b[0m \u001b[0;34m' '\u001b[0m\u001b[0;34m\u001b[0m\u001b[0;34m\u001b[0m\u001b[0m\n\u001b[0;32m--> 334\u001b[0;31m     \u001b[0;32mreturn\u001b[0m \u001b[0msuper\u001b[0m\u001b[0;34m(\u001b[0m\u001b[0;34m)\u001b[0m\u001b[0;34m.\u001b[0m\u001b[0mrun_cell_magic\u001b[0m\u001b[0;34m(\u001b[0m\u001b[0mmagic_name\u001b[0m\u001b[0;34m,\u001b[0m \u001b[0mline\u001b[0m\u001b[0;34m,\u001b[0m \u001b[0mcell\u001b[0m\u001b[0;34m)\u001b[0m\u001b[0;34m\u001b[0m\u001b[0;34m\u001b[0m\u001b[0m\n\u001b[0m\u001b[1;32m    335\u001b[0m \u001b[0;34m\u001b[0m\u001b[0m\n\u001b[1;32m    336\u001b[0m \u001b[0;34m\u001b[0m\u001b[0m\n",
            "\u001b[0;32m/usr/local/lib/python3.10/dist-packages/IPython/core/interactiveshell.py\u001b[0m in \u001b[0;36mrun_cell_magic\u001b[0;34m(self, magic_name, line, cell)\u001b[0m\n\u001b[1;32m   2471\u001b[0m             \u001b[0;32mwith\u001b[0m \u001b[0mself\u001b[0m\u001b[0;34m.\u001b[0m\u001b[0mbuiltin_trap\u001b[0m\u001b[0;34m:\u001b[0m\u001b[0;34m\u001b[0m\u001b[0;34m\u001b[0m\u001b[0m\n\u001b[1;32m   2472\u001b[0m                 \u001b[0margs\u001b[0m \u001b[0;34m=\u001b[0m \u001b[0;34m(\u001b[0m\u001b[0mmagic_arg_s\u001b[0m\u001b[0;34m,\u001b[0m \u001b[0mcell\u001b[0m\u001b[0;34m)\u001b[0m\u001b[0;34m\u001b[0m\u001b[0;34m\u001b[0m\u001b[0m\n\u001b[0;32m-> 2473\u001b[0;31m                 \u001b[0mresult\u001b[0m \u001b[0;34m=\u001b[0m \u001b[0mfn\u001b[0m\u001b[0;34m(\u001b[0m\u001b[0;34m*\u001b[0m\u001b[0margs\u001b[0m\u001b[0;34m,\u001b[0m \u001b[0;34m**\u001b[0m\u001b[0mkwargs\u001b[0m\u001b[0;34m)\u001b[0m\u001b[0;34m\u001b[0m\u001b[0;34m\u001b[0m\u001b[0m\n\u001b[0m\u001b[1;32m   2474\u001b[0m             \u001b[0;32mreturn\u001b[0m \u001b[0mresult\u001b[0m\u001b[0;34m\u001b[0m\u001b[0;34m\u001b[0m\u001b[0m\n\u001b[1;32m   2475\u001b[0m \u001b[0;34m\u001b[0m\u001b[0m\n",
            "\u001b[0;32m<decorator-gen-98>\u001b[0m in \u001b[0;36mwritefile\u001b[0;34m(self, line, cell)\u001b[0m\n",
            "\u001b[0;32m/usr/local/lib/python3.10/dist-packages/IPython/core/magic.py\u001b[0m in \u001b[0;36m<lambda>\u001b[0;34m(f, *a, **k)\u001b[0m\n\u001b[1;32m    185\u001b[0m     \u001b[0;31m# but it's overkill for just that one bit of state.\u001b[0m\u001b[0;34m\u001b[0m\u001b[0;34m\u001b[0m\u001b[0m\n\u001b[1;32m    186\u001b[0m     \u001b[0;32mdef\u001b[0m \u001b[0mmagic_deco\u001b[0m\u001b[0;34m(\u001b[0m\u001b[0marg\u001b[0m\u001b[0;34m)\u001b[0m\u001b[0;34m:\u001b[0m\u001b[0;34m\u001b[0m\u001b[0;34m\u001b[0m\u001b[0m\n\u001b[0;32m--> 187\u001b[0;31m         \u001b[0mcall\u001b[0m \u001b[0;34m=\u001b[0m \u001b[0;32mlambda\u001b[0m \u001b[0mf\u001b[0m\u001b[0;34m,\u001b[0m \u001b[0;34m*\u001b[0m\u001b[0ma\u001b[0m\u001b[0;34m,\u001b[0m \u001b[0;34m**\u001b[0m\u001b[0mk\u001b[0m\u001b[0;34m:\u001b[0m \u001b[0mf\u001b[0m\u001b[0;34m(\u001b[0m\u001b[0;34m*\u001b[0m\u001b[0ma\u001b[0m\u001b[0;34m,\u001b[0m \u001b[0;34m**\u001b[0m\u001b[0mk\u001b[0m\u001b[0;34m)\u001b[0m\u001b[0;34m\u001b[0m\u001b[0;34m\u001b[0m\u001b[0m\n\u001b[0m\u001b[1;32m    188\u001b[0m \u001b[0;34m\u001b[0m\u001b[0m\n\u001b[1;32m    189\u001b[0m         \u001b[0;32mif\u001b[0m \u001b[0mcallable\u001b[0m\u001b[0;34m(\u001b[0m\u001b[0marg\u001b[0m\u001b[0;34m)\u001b[0m\u001b[0;34m:\u001b[0m\u001b[0;34m\u001b[0m\u001b[0;34m\u001b[0m\u001b[0m\n",
            "\u001b[0;32m/usr/local/lib/python3.10/dist-packages/IPython/core/magics/osm.py\u001b[0m in \u001b[0;36mwritefile\u001b[0;34m(self, line, cell)\u001b[0m\n\u001b[1;32m    854\u001b[0m \u001b[0;34m\u001b[0m\u001b[0m\n\u001b[1;32m    855\u001b[0m         \u001b[0mmode\u001b[0m \u001b[0;34m=\u001b[0m \u001b[0;34m'a'\u001b[0m \u001b[0;32mif\u001b[0m \u001b[0margs\u001b[0m\u001b[0;34m.\u001b[0m\u001b[0mappend\u001b[0m \u001b[0;32melse\u001b[0m \u001b[0;34m'w'\u001b[0m\u001b[0;34m\u001b[0m\u001b[0;34m\u001b[0m\u001b[0m\n\u001b[0;32m--> 856\u001b[0;31m         \u001b[0;32mwith\u001b[0m \u001b[0mio\u001b[0m\u001b[0;34m.\u001b[0m\u001b[0mopen\u001b[0m\u001b[0;34m(\u001b[0m\u001b[0mfilename\u001b[0m\u001b[0;34m,\u001b[0m \u001b[0mmode\u001b[0m\u001b[0;34m,\u001b[0m \u001b[0mencoding\u001b[0m\u001b[0;34m=\u001b[0m\u001b[0;34m'utf-8'\u001b[0m\u001b[0;34m)\u001b[0m \u001b[0;32mas\u001b[0m \u001b[0mf\u001b[0m\u001b[0;34m:\u001b[0m\u001b[0;34m\u001b[0m\u001b[0;34m\u001b[0m\u001b[0m\n\u001b[0m\u001b[1;32m    857\u001b[0m             \u001b[0mf\u001b[0m\u001b[0;34m.\u001b[0m\u001b[0mwrite\u001b[0m\u001b[0;34m(\u001b[0m\u001b[0mcell\u001b[0m\u001b[0;34m)\u001b[0m\u001b[0;34m\u001b[0m\u001b[0;34m\u001b[0m\u001b[0m\n",
            "\u001b[0;31mFileNotFoundError\u001b[0m: [Errno 2] No such file or directory: '001_1/gosu.py'"
          ]
        }
      ]
    },
    {
      "cell_type": "code",
      "source": [
        "#실행\n",
        "!python 001/gosu.py"
      ],
      "metadata": {
        "colab": {
          "base_uri": "https://localhost:8080/"
        },
        "id": "NIpXC34w8RpG",
        "outputId": "ae626157-e6bc-4a75-b5b0-491fa910be67"
      },
      "execution_count": null,
      "outputs": [
        {
          "output_type": "stream",
          "name": "stdout",
          "text": [
            "python3: can't open file '/content/drive/MyDrive/001/001_1/001/gosu.py': [Errno 2] No such file or directory\n"
          ]
        }
      ]
    },
    {
      "cell_type": "code",
      "source": [
        "#실행\n",
        "%run 001_1/gosu.py"
      ],
      "metadata": {
        "colab": {
          "base_uri": "https://localhost:8080/",
          "height": 503
        },
        "id": "_7ZJpWQ8O02J",
        "outputId": "3bc6fb0b-c398-4157-e694-6dd4c0e73048"
      },
      "execution_count": null,
      "outputs": [
        {
          "output_type": "error",
          "ename": "Exception",
          "evalue": "ignored",
          "traceback": [
            "\u001b[0;31m---------------------------------------------------------------------------\u001b[0m",
            "\u001b[0;31mOSError\u001b[0m                                   Traceback (most recent call last)",
            "\u001b[0;32m/usr/local/lib/python3.10/dist-packages/IPython/core/magics/execution.py\u001b[0m in \u001b[0;36mrun\u001b[0;34m(self, parameter_s, runner, file_finder)\u001b[0m\n\u001b[1;32m    713\u001b[0m             \u001b[0mfpath\u001b[0m \u001b[0;34m=\u001b[0m \u001b[0marg_lst\u001b[0m\u001b[0;34m[\u001b[0m\u001b[0;36m0\u001b[0m\u001b[0;34m]\u001b[0m\u001b[0;34m\u001b[0m\u001b[0;34m\u001b[0m\u001b[0m\n\u001b[0;32m--> 714\u001b[0;31m             \u001b[0mfilename\u001b[0m \u001b[0;34m=\u001b[0m \u001b[0mfile_finder\u001b[0m\u001b[0;34m(\u001b[0m\u001b[0mfpath\u001b[0m\u001b[0;34m)\u001b[0m\u001b[0;34m\u001b[0m\u001b[0;34m\u001b[0m\u001b[0m\n\u001b[0m\u001b[1;32m    715\u001b[0m         \u001b[0;32mexcept\u001b[0m \u001b[0mIndexError\u001b[0m\u001b[0;34m:\u001b[0m\u001b[0;34m\u001b[0m\u001b[0;34m\u001b[0m\u001b[0m\n",
            "\u001b[0;32m/usr/local/lib/python3.10/dist-packages/IPython/utils/path.py\u001b[0m in \u001b[0;36mget_py_filename\u001b[0;34m(name, force_win32)\u001b[0m\n\u001b[1;32m    108\u001b[0m     \u001b[0;32melse\u001b[0m\u001b[0;34m:\u001b[0m\u001b[0;34m\u001b[0m\u001b[0;34m\u001b[0m\u001b[0m\n\u001b[0;32m--> 109\u001b[0;31m         \u001b[0;32mraise\u001b[0m \u001b[0mIOError\u001b[0m\u001b[0;34m(\u001b[0m\u001b[0;34m'File `%r` not found.'\u001b[0m \u001b[0;34m%\u001b[0m \u001b[0mname\u001b[0m\u001b[0;34m)\u001b[0m\u001b[0;34m\u001b[0m\u001b[0;34m\u001b[0m\u001b[0m\n\u001b[0m\u001b[1;32m    110\u001b[0m \u001b[0;34m\u001b[0m\u001b[0m\n",
            "\u001b[0;31mOSError\u001b[0m: File `'001_1/gosu.py'` not found.",
            "\nDuring handling of the above exception, another exception occurred:\n",
            "\u001b[0;31mException\u001b[0m                                 Traceback (most recent call last)",
            "\u001b[0;32m<ipython-input-298-d8fb4f4dd779>\u001b[0m in \u001b[0;36m<cell line: 2>\u001b[0;34m()\u001b[0m\n\u001b[1;32m      1\u001b[0m \u001b[0;31m#실행\u001b[0m\u001b[0;34m\u001b[0m\u001b[0;34m\u001b[0m\u001b[0m\n\u001b[0;32m----> 2\u001b[0;31m \u001b[0mget_ipython\u001b[0m\u001b[0;34m(\u001b[0m\u001b[0;34m)\u001b[0m\u001b[0;34m.\u001b[0m\u001b[0mrun_line_magic\u001b[0m\u001b[0;34m(\u001b[0m\u001b[0;34m'run'\u001b[0m\u001b[0;34m,\u001b[0m \u001b[0;34m'001_1/gosu.py'\u001b[0m\u001b[0;34m)\u001b[0m\u001b[0;34m\u001b[0m\u001b[0;34m\u001b[0m\u001b[0m\n\u001b[0m",
            "\u001b[0;32m/usr/local/lib/python3.10/dist-packages/IPython/core/interactiveshell.py\u001b[0m in \u001b[0;36mrun_line_magic\u001b[0;34m(self, magic_name, line, _stack_depth)\u001b[0m\n\u001b[1;32m   2416\u001b[0m                 \u001b[0mkwargs\u001b[0m\u001b[0;34m[\u001b[0m\u001b[0;34m'local_ns'\u001b[0m\u001b[0;34m]\u001b[0m \u001b[0;34m=\u001b[0m \u001b[0mself\u001b[0m\u001b[0;34m.\u001b[0m\u001b[0mget_local_scope\u001b[0m\u001b[0;34m(\u001b[0m\u001b[0mstack_depth\u001b[0m\u001b[0;34m)\u001b[0m\u001b[0;34m\u001b[0m\u001b[0;34m\u001b[0m\u001b[0m\n\u001b[1;32m   2417\u001b[0m             \u001b[0;32mwith\u001b[0m \u001b[0mself\u001b[0m\u001b[0;34m.\u001b[0m\u001b[0mbuiltin_trap\u001b[0m\u001b[0;34m:\u001b[0m\u001b[0;34m\u001b[0m\u001b[0;34m\u001b[0m\u001b[0m\n\u001b[0;32m-> 2418\u001b[0;31m                 \u001b[0mresult\u001b[0m \u001b[0;34m=\u001b[0m \u001b[0mfn\u001b[0m\u001b[0;34m(\u001b[0m\u001b[0;34m*\u001b[0m\u001b[0margs\u001b[0m\u001b[0;34m,\u001b[0m \u001b[0;34m**\u001b[0m\u001b[0mkwargs\u001b[0m\u001b[0;34m)\u001b[0m\u001b[0;34m\u001b[0m\u001b[0;34m\u001b[0m\u001b[0m\n\u001b[0m\u001b[1;32m   2419\u001b[0m             \u001b[0;32mreturn\u001b[0m \u001b[0mresult\u001b[0m\u001b[0;34m\u001b[0m\u001b[0;34m\u001b[0m\u001b[0m\n\u001b[1;32m   2420\u001b[0m \u001b[0;34m\u001b[0m\u001b[0m\n",
            "\u001b[0;32m<decorator-gen-52>\u001b[0m in \u001b[0;36mrun\u001b[0;34m(self, parameter_s, runner, file_finder)\u001b[0m\n",
            "\u001b[0;32m/usr/local/lib/python3.10/dist-packages/IPython/core/magic.py\u001b[0m in \u001b[0;36m<lambda>\u001b[0;34m(f, *a, **k)\u001b[0m\n\u001b[1;32m    185\u001b[0m     \u001b[0;31m# but it's overkill for just that one bit of state.\u001b[0m\u001b[0;34m\u001b[0m\u001b[0;34m\u001b[0m\u001b[0m\n\u001b[1;32m    186\u001b[0m     \u001b[0;32mdef\u001b[0m \u001b[0mmagic_deco\u001b[0m\u001b[0;34m(\u001b[0m\u001b[0marg\u001b[0m\u001b[0;34m)\u001b[0m\u001b[0;34m:\u001b[0m\u001b[0;34m\u001b[0m\u001b[0;34m\u001b[0m\u001b[0m\n\u001b[0;32m--> 187\u001b[0;31m         \u001b[0mcall\u001b[0m \u001b[0;34m=\u001b[0m \u001b[0;32mlambda\u001b[0m \u001b[0mf\u001b[0m\u001b[0;34m,\u001b[0m \u001b[0;34m*\u001b[0m\u001b[0ma\u001b[0m\u001b[0;34m,\u001b[0m \u001b[0;34m**\u001b[0m\u001b[0mk\u001b[0m\u001b[0;34m:\u001b[0m \u001b[0mf\u001b[0m\u001b[0;34m(\u001b[0m\u001b[0;34m*\u001b[0m\u001b[0ma\u001b[0m\u001b[0;34m,\u001b[0m \u001b[0;34m**\u001b[0m\u001b[0mk\u001b[0m\u001b[0;34m)\u001b[0m\u001b[0;34m\u001b[0m\u001b[0;34m\u001b[0m\u001b[0m\n\u001b[0m\u001b[1;32m    188\u001b[0m \u001b[0;34m\u001b[0m\u001b[0m\n\u001b[1;32m    189\u001b[0m         \u001b[0;32mif\u001b[0m \u001b[0mcallable\u001b[0m\u001b[0;34m(\u001b[0m\u001b[0marg\u001b[0m\u001b[0;34m)\u001b[0m\u001b[0;34m:\u001b[0m\u001b[0;34m\u001b[0m\u001b[0;34m\u001b[0m\u001b[0m\n",
            "\u001b[0;32m/usr/local/lib/python3.10/dist-packages/IPython/core/magics/execution.py\u001b[0m in \u001b[0;36mrun\u001b[0;34m(self, parameter_s, runner, file_finder)\u001b[0m\n\u001b[1;32m    723\u001b[0m             \u001b[0;32mif\u001b[0m \u001b[0mos\u001b[0m\u001b[0;34m.\u001b[0m\u001b[0mname\u001b[0m \u001b[0;34m==\u001b[0m \u001b[0;34m'nt'\u001b[0m \u001b[0;32mand\u001b[0m \u001b[0mre\u001b[0m\u001b[0;34m.\u001b[0m\u001b[0mmatch\u001b[0m\u001b[0;34m(\u001b[0m\u001b[0;34mr\"^'.*'$\"\u001b[0m\u001b[0;34m,\u001b[0m\u001b[0mfpath\u001b[0m\u001b[0;34m)\u001b[0m\u001b[0;34m:\u001b[0m\u001b[0;34m\u001b[0m\u001b[0;34m\u001b[0m\u001b[0m\n\u001b[1;32m    724\u001b[0m                 \u001b[0mwarn\u001b[0m\u001b[0;34m(\u001b[0m\u001b[0;34m'For Windows, use double quotes to wrap a filename: %run \"mypath\\\\myfile.py\"'\u001b[0m\u001b[0;34m)\u001b[0m\u001b[0;34m\u001b[0m\u001b[0;34m\u001b[0m\u001b[0m\n\u001b[0;32m--> 725\u001b[0;31m             \u001b[0;32mraise\u001b[0m \u001b[0mException\u001b[0m\u001b[0;34m(\u001b[0m\u001b[0mmsg\u001b[0m\u001b[0;34m)\u001b[0m\u001b[0;34m\u001b[0m\u001b[0;34m\u001b[0m\u001b[0m\n\u001b[0m\u001b[1;32m    726\u001b[0m         \u001b[0;32mexcept\u001b[0m \u001b[0mTypeError\u001b[0m\u001b[0;34m:\u001b[0m\u001b[0;34m\u001b[0m\u001b[0;34m\u001b[0m\u001b[0m\n\u001b[1;32m    727\u001b[0m             \u001b[0;32mif\u001b[0m \u001b[0mfpath\u001b[0m \u001b[0;32min\u001b[0m \u001b[0msys\u001b[0m\u001b[0;34m.\u001b[0m\u001b[0mmeta_path\u001b[0m\u001b[0;34m:\u001b[0m\u001b[0;34m\u001b[0m\u001b[0;34m\u001b[0m\u001b[0m\n",
            "\u001b[0;31mException\u001b[0m: File `'001_1/gosu.py'` not found."
          ]
        }
      ]
    },
    {
      "cell_type": "code",
      "source": [
        "from 001_1 import gosu"
      ],
      "metadata": {
        "colab": {
          "base_uri": "https://localhost:8080/",
          "height": 147
        },
        "id": "bYAfJDKFPB6p",
        "outputId": "ba847e08-78a9-445a-bd42-ad51c85b2b7c"
      },
      "execution_count": null,
      "outputs": [
        {
          "output_type": "error",
          "ename": "SyntaxError",
          "evalue": "ignored",
          "traceback": [
            "\u001b[0;36m  File \u001b[0;32m\"<ipython-input-294-96daef14f1a1>\"\u001b[0;36m, line \u001b[0;32m1\u001b[0m\n\u001b[0;31m    from 001_1 import gosu\u001b[0m\n\u001b[0m         ^\u001b[0m\n\u001b[0;31mSyntaxError\u001b[0m\u001b[0;31m:\u001b[0m leading zeros in decimal integer literals are not permitted; use an 0o prefix for octal integers\n"
          ]
        }
      ]
    },
    {
      "cell_type": "code",
      "source": [
        "import sys\n",
        "sys.path"
      ],
      "metadata": {
        "colab": {
          "base_uri": "https://localhost:8080/"
        },
        "id": "HsBjn_OkPqWS",
        "outputId": "42b0f15c-b7ae-4785-ba3b-5def123b9576"
      },
      "execution_count": null,
      "outputs": [
        {
          "output_type": "execute_result",
          "data": {
            "text/plain": [
              "['/content',\n",
              " '/env/python',\n",
              " '/usr/lib/python310.zip',\n",
              " '/usr/lib/python3.10',\n",
              " '/usr/lib/python3.10/lib-dynload',\n",
              " '',\n",
              " '/usr/local/lib/python3.10/dist-packages',\n",
              " '/usr/lib/python3/dist-packages',\n",
              " '/usr/local/lib/python3.10/dist-packages/IPython/extensions',\n",
              " '/root/.ipython']"
            ]
          },
          "metadata": {},
          "execution_count": 280
        }
      ]
    },
    {
      "cell_type": "code",
      "source": [
        "# __ 가 붙은 이름은 python 에서 내부적으로 관리하는 기능이다.\n",
        "print(dir(gosu))"
      ],
      "metadata": {
        "colab": {
          "base_uri": "https://localhost:8080/",
          "height": 203
        },
        "id": "_K8zBD1VPqU6",
        "outputId": "b7de6b69-690a-4802-c320-e3cb7cc3b5b8"
      },
      "execution_count": null,
      "outputs": [
        {
          "output_type": "error",
          "ename": "NameError",
          "evalue": "ignored",
          "traceback": [
            "\u001b[0;31m---------------------------------------------------------------------------\u001b[0m",
            "\u001b[0;31mNameError\u001b[0m                                 Traceback (most recent call last)",
            "\u001b[0;32m<ipython-input-302-8d310ce63cfd>\u001b[0m in \u001b[0;36m<cell line: 2>\u001b[0;34m()\u001b[0m\n\u001b[1;32m      1\u001b[0m \u001b[0;31m# __ 가 붙은 이름은 python 에서 내부적으로 관리하는 기능이다.\u001b[0m\u001b[0;34m\u001b[0m\u001b[0;34m\u001b[0m\u001b[0m\n\u001b[0;32m----> 2\u001b[0;31m \u001b[0mprint\u001b[0m\u001b[0;34m(\u001b[0m\u001b[0mdir\u001b[0m\u001b[0;34m(\u001b[0m\u001b[0mgosu\u001b[0m\u001b[0;34m)\u001b[0m\u001b[0;34m)\u001b[0m\u001b[0;34m\u001b[0m\u001b[0;34m\u001b[0m\u001b[0m\n\u001b[0m",
            "\u001b[0;31mNameError\u001b[0m: name 'gosu' is not defined"
          ]
        }
      ]
    },
    {
      "cell_type": "code",
      "source": [
        "gosu.a"
      ],
      "metadata": {
        "colab": {
          "base_uri": "https://localhost:8080/",
          "height": 184
        },
        "id": "AGXtdLFgRdA4",
        "outputId": "c58d7323-585f-420b-cca3-f20df1d3d3a5"
      },
      "execution_count": null,
      "outputs": [
        {
          "output_type": "error",
          "ename": "NameError",
          "evalue": "ignored",
          "traceback": [
            "\u001b[0;31m---------------------------------------------------------------------------\u001b[0m",
            "\u001b[0;31mNameError\u001b[0m                                 Traceback (most recent call last)",
            "\u001b[0;32m<ipython-input-303-1d3f43da9c66>\u001b[0m in \u001b[0;36m<cell line: 1>\u001b[0;34m()\u001b[0m\n\u001b[0;32m----> 1\u001b[0;31m \u001b[0mgosu\u001b[0m\u001b[0;34m.\u001b[0m\u001b[0ma\u001b[0m\u001b[0;34m\u001b[0m\u001b[0;34m\u001b[0m\u001b[0m\n\u001b[0m",
            "\u001b[0;31mNameError\u001b[0m: name 'gosu' is not defined"
          ]
        }
      ]
    },
    {
      "cell_type": "code",
      "source": [
        "import source.gosu"
      ],
      "metadata": {
        "colab": {
          "base_uri": "https://localhost:8080/",
          "height": 332
        },
        "id": "feLWsiHDSEiw",
        "outputId": "fb75f594-392b-4d13-8701-5f7c1cee91fd"
      },
      "execution_count": null,
      "outputs": [
        {
          "output_type": "error",
          "ename": "ModuleNotFoundError",
          "evalue": "ignored",
          "traceback": [
            "\u001b[0;31m---------------------------------------------------------------------------\u001b[0m",
            "\u001b[0;31mModuleNotFoundError\u001b[0m                       Traceback (most recent call last)",
            "\u001b[0;32m<ipython-input-319-20750386b80c>\u001b[0m in \u001b[0;36m<cell line: 1>\u001b[0;34m()\u001b[0m\n\u001b[0;32m----> 1\u001b[0;31m \u001b[0;32mimport\u001b[0m \u001b[0msource\u001b[0m\u001b[0;34m.\u001b[0m\u001b[0mgosu\u001b[0m\u001b[0;34m\u001b[0m\u001b[0;34m\u001b[0m\u001b[0m\n\u001b[0m",
            "\u001b[0;31mModuleNotFoundError\u001b[0m: No module named 'source'",
            "",
            "\u001b[0;31m---------------------------------------------------------------------------\u001b[0;32m\nNOTE: If your import is failing due to a missing package, you can\nmanually install dependencies using either !pip or !apt.\n\nTo view examples of installing some common dependencies, click the\n\"Open Examples\" button below.\n\u001b[0;31m---------------------------------------------------------------------------\u001b[0m\n"
          ],
          "errorDetails": {
            "actions": [
              {
                "action": "open_url",
                "actionText": "Open Examples",
                "url": "/notebooks/snippets/importing_libraries.ipynb"
              }
            ]
          }
        }
      ]
    },
    {
      "cell_type": "markdown",
      "source": [],
      "metadata": {
        "id": "OKsTFaC4c2LO"
      }
    },
    {
      "cell_type": "code",
      "source": [],
      "metadata": {
        "id": "mZIgaavGc2Cz"
      },
      "execution_count": null,
      "outputs": []
    },
    {
      "cell_type": "code",
      "source": [],
      "metadata": {
        "id": "RYyu_oBHc2Bh"
      },
      "execution_count": null,
      "outputs": []
    },
    {
      "cell_type": "code",
      "source": [],
      "metadata": {
        "id": "DvpECoL6c1--"
      },
      "execution_count": null,
      "outputs": []
    },
    {
      "cell_type": "code",
      "source": [
        "print(gosu.a)"
      ],
      "metadata": {
        "colab": {
          "base_uri": "https://localhost:8080/",
          "height": 184
        },
        "id": "TQScUdnxSHBX",
        "outputId": "545cb4a0-9520-4001-dfa2-59e1e98e8ed4"
      },
      "execution_count": null,
      "outputs": [
        {
          "output_type": "error",
          "ename": "NameError",
          "evalue": "ignored",
          "traceback": [
            "\u001b[0;31m---------------------------------------------------------------------------\u001b[0m",
            "\u001b[0;31mNameError\u001b[0m                                 Traceback (most recent call last)",
            "\u001b[0;32m<ipython-input-320-9d6b42a1bac0>\u001b[0m in \u001b[0;36m<cell line: 1>\u001b[0;34m()\u001b[0m\n\u001b[0;32m----> 1\u001b[0;31m \u001b[0mprint\u001b[0m\u001b[0;34m(\u001b[0m\u001b[0mgosu\u001b[0m\u001b[0;34m.\u001b[0m\u001b[0ma\u001b[0m\u001b[0;34m)\u001b[0m\u001b[0;34m\u001b[0m\u001b[0;34m\u001b[0m\u001b[0m\n\u001b[0m",
            "\u001b[0;31mNameError\u001b[0m: name 'gosu' is not defined"
          ]
        }
      ]
    },
    {
      "cell_type": "code",
      "source": [
        "%who"
      ],
      "metadata": {
        "colab": {
          "base_uri": "https://localhost:8080/"
        },
        "id": "tJbDTWMUSI7U",
        "outputId": "77959960-e300-4794-95a1-5e0819410e29"
      },
      "execution_count": null,
      "outputs": [
        {
          "output_type": "stream",
          "name": "stdout",
          "text": [
            "Interactive namespace is empty.\n"
          ]
        }
      ]
    },
    {
      "cell_type": "code",
      "source": [
        "from 001 import *"
      ],
      "metadata": {
        "colab": {
          "base_uri": "https://localhost:8080/",
          "height": 147
        },
        "id": "M59HMvGkcJbk",
        "outputId": "9f8f0798-c809-41fa-f016-352888caa840"
      },
      "execution_count": null,
      "outputs": [
        {
          "output_type": "error",
          "ename": "SyntaxError",
          "evalue": "ignored",
          "traceback": [
            "\u001b[0;36m  File \u001b[0;32m\"<ipython-input-14-00a808f114cf>\"\u001b[0;36m, line \u001b[0;32m1\u001b[0m\n\u001b[0;31m    from 001 import *\u001b[0m\n\u001b[0m         ^\u001b[0m\n\u001b[0;31mSyntaxError\u001b[0m\u001b[0;31m:\u001b[0m leading zeros in decimal integer literals are not permitted; use an 0o prefix for octal integers\n"
          ]
        }
      ]
    },
    {
      "cell_type": "code",
      "source": [
        "%who"
      ],
      "metadata": {
        "colab": {
          "base_uri": "https://localhost:8080/"
        },
        "id": "Kbo1WnUBcOoE",
        "outputId": "61783655-8be8-4567-cf83-142067e44b9e"
      },
      "execution_count": null,
      "outputs": [
        {
          "output_type": "stream",
          "name": "stdout",
          "text": [
            "Interactive namespace is empty.\n"
          ]
        }
      ]
    },
    {
      "cell_type": "markdown",
      "source": [
        "##__init__\n",
        "\n",
        "- __init__는 파이썬의 생성자 (constructor)이다.\n",
        "- 인스턴스화할때 자동으로 실행한다.\n",
        "- 초기화 한다는 뜻의 initialize에서 이름을 가져왔다.\n"
      ],
      "metadata": {
        "id": "xt2EKSW9hpeF"
      }
    },
    {
      "cell_type": "code",
      "source": [
        "class A:\n",
        "  def __init__(self):\n",
        "    print('__init__')\n"
      ],
      "metadata": {
        "id": "K_RY_W-eiGej"
      },
      "execution_count": null,
      "outputs": []
    },
    {
      "cell_type": "code",
      "source": [
        "# 인스턴스화 할때 자동으로 실행되어 print가 출력된다.\n",
        "a = A()\n"
      ],
      "metadata": {
        "id": "nSrLns7miNhu"
      },
      "execution_count": null,
      "outputs": []
    },
    {
      "cell_type": "code",
      "source": [
        "class A :\n",
        "   def __init__(self, param):\n",
        "    self.param = param\n",
        "    print('__init__')\n",
        "    print(param)"
      ],
      "metadata": {
        "id": "jCe1nV7uihZF"
      },
      "execution_count": null,
      "outputs": []
    },
    {
      "cell_type": "code",
      "source": [
        "a= A('param')"
      ],
      "metadata": {
        "colab": {
          "base_uri": "https://localhost:8080/"
        },
        "id": "Tr0IZdZxinqT",
        "outputId": "d365b956-eea3-4ab8-fdd9-bdcc82335e76"
      },
      "execution_count": null,
      "outputs": [
        {
          "output_type": "stream",
          "name": "stdout",
          "text": [
            "__init__\n",
            "param\n"
          ]
        }
      ]
    },
    {
      "cell_type": "code",
      "source": [
        "vars(a)"
      ],
      "metadata": {
        "colab": {
          "base_uri": "https://localhost:8080/"
        },
        "id": "hjidnb6Siq_b",
        "outputId": "27a3abf8-238d-4c69-f5e1-95d13472fc06"
      },
      "execution_count": null,
      "outputs": [
        {
          "output_type": "execute_result",
          "data": {
            "text/plain": [
              "{'param': 'param'}"
            ]
          },
          "metadata": {},
          "execution_count": 23
        }
      ]
    },
    {
      "cell_type": "code",
      "source": [
        "class A:\n",
        "\n",
        "  def __new__(cls,*args, **kwargs):\n",
        "    print('__new__')\n",
        "    return object.__new__(cls)\n",
        "\n",
        "  def __init__(self, *args, **kwargs):\n",
        "    print('__init__')\n",
        "    print(args)\n",
        "    self.x = 1\n"
      ],
      "metadata": {
        "id": "yBUjxmbyi1qr"
      },
      "execution_count": null,
      "outputs": []
    },
    {
      "cell_type": "code",
      "source": [
        "a = A(3) #__new__ 도 인스턴화할때 자동 실행 된다."
      ],
      "metadata": {
        "colab": {
          "base_uri": "https://localhost:8080/"
        },
        "id": "kh4U6iqNjXkb",
        "outputId": "c743fc75-9ade-4fc5-9545-f1f1aaade8cf"
      },
      "execution_count": null,
      "outputs": [
        {
          "output_type": "stream",
          "name": "stdout",
          "text": [
            "__new__\n",
            "__init__\n",
            "(3,)\n"
          ]
        }
      ]
    },
    {
      "cell_type": "markdown",
      "source": [
        "__ del __ 은 소멸자이다.\n",
        "인스턴스를 삭제할때 실행된다.\n"
      ],
      "metadata": {
        "id": "tvSU-63-kmAc"
      }
    },
    {
      "cell_type": "code",
      "source": [
        "class A :\n",
        "  def __init__(self):\n",
        "    self.a = 4\n",
        "    print('__init__')\n",
        "\n",
        "  def __del__(self):\n",
        "    print('__del__')\n"
      ],
      "metadata": {
        "id": "ILLRyg9dke9s"
      },
      "execution_count": null,
      "outputs": []
    },
    {
      "cell_type": "code",
      "source": [
        "a = A()"
      ],
      "metadata": {
        "colab": {
          "base_uri": "https://localhost:8080/"
        },
        "id": "F8OWv8Lsk6FS",
        "outputId": "f2049bcc-af31-42f5-e202-4dce9c66af2f"
      },
      "execution_count": null,
      "outputs": [
        {
          "output_type": "stream",
          "name": "stdout",
          "text": [
            "__init__\n"
          ]
        }
      ]
    },
    {
      "cell_type": "code",
      "source": [
        "del a # 삭제할때 실행된다."
      ],
      "metadata": {
        "id": "859fVG_Fk75C"
      },
      "execution_count": null,
      "outputs": []
    },
    {
      "cell_type": "code",
      "source": [
        "a"
      ],
      "metadata": {
        "colab": {
          "base_uri": "https://localhost:8080/",
          "height": 184
        },
        "id": "In6DEcbNlCZj",
        "outputId": "47cc9544-c411-4569-a44b-2712c020b830"
      },
      "execution_count": null,
      "outputs": [
        {
          "output_type": "error",
          "ename": "NameError",
          "evalue": "ignored",
          "traceback": [
            "\u001b[0;31m---------------------------------------------------------------------------\u001b[0m",
            "\u001b[0;31mNameError\u001b[0m                                 Traceback (most recent call last)",
            "\u001b[0;32m<ipython-input-47-8094deb9fe1d>\u001b[0m in \u001b[0;36m<cell line: 1>\u001b[0;34m()\u001b[0m\n\u001b[0;32m----> 1\u001b[0;31m \u001b[0ma\u001b[0m\u001b[0;34m\u001b[0m\u001b[0;34m\u001b[0m\u001b[0m\n\u001b[0m",
            "\u001b[0;31mNameError\u001b[0m: name 'a' is not defined"
          ]
        }
      ]
    },
    {
      "cell_type": "markdown",
      "source": [
        "__class__  \n",
        "type과 같다. 객체의 class를 알려준다.  "
      ],
      "metadata": {
        "id": "V0gtxrZjlTIk"
      }
    },
    {
      "cell_type": "code",
      "source": [
        "class A :\n",
        "  def __init__(self):\n",
        "    self.a = 4\n",
        "    print('__init__')\n",
        "\n",
        "  def __del__(self):\n",
        "    print('__del__')"
      ],
      "metadata": {
        "id": "sLfE4LFNlOgL"
      },
      "execution_count": null,
      "outputs": []
    },
    {
      "cell_type": "code",
      "source": [
        "a = A()"
      ],
      "metadata": {
        "colab": {
          "base_uri": "https://localhost:8080/"
        },
        "id": "0NyXNTzkldTW",
        "outputId": "418c7e32-ad06-4282-f6f3-7f50cd768c58"
      },
      "execution_count": null,
      "outputs": [
        {
          "output_type": "stream",
          "name": "stdout",
          "text": [
            "__init__\n"
          ]
        }
      ]
    },
    {
      "cell_type": "code",
      "source": [
        "type(a)"
      ],
      "metadata": {
        "colab": {
          "base_uri": "https://localhost:8080/"
        },
        "id": "FsCtvrsdlfIy",
        "outputId": "ec562929-6ec3-4d9f-d33f-df37f1fe5c2f"
      },
      "execution_count": null,
      "outputs": [
        {
          "output_type": "execute_result",
          "data": {
            "text/plain": [
              "__main__.A"
            ]
          },
          "metadata": {},
          "execution_count": 51
        }
      ]
    },
    {
      "cell_type": "code",
      "source": [
        "print(dir(a))"
      ],
      "metadata": {
        "colab": {
          "base_uri": "https://localhost:8080/"
        },
        "id": "Crp6LJAOlguC",
        "outputId": "3617def9-25b5-4dcd-c55a-cef1928c22f4"
      },
      "execution_count": null,
      "outputs": [
        {
          "output_type": "stream",
          "name": "stdout",
          "text": [
            "['__class__', '__del__', '__delattr__', '__dict__', '__dir__', '__doc__', '__eq__', '__format__', '__ge__', '__getattribute__', '__gt__', '__hash__', '__init__', '__init_subclass__', '__le__', '__lt__', '__module__', '__ne__', '__new__', '__reduce__', '__reduce_ex__', '__repr__', '__setattr__', '__sizeof__', '__str__', '__subclasshook__', '__weakref__', 'a']\n"
          ]
        }
      ]
    },
    {
      "cell_type": "code",
      "source": [
        "a.__class__"
      ],
      "metadata": {
        "colab": {
          "base_uri": "https://localhost:8080/"
        },
        "id": "SRzo-6Oiljtr",
        "outputId": "e869da5d-d663-42d4-dff6-e3629a6b0959"
      },
      "execution_count": null,
      "outputs": [
        {
          "output_type": "execute_result",
          "data": {
            "text/plain": [
              "__main__.A"
            ]
          },
          "metadata": {},
          "execution_count": 55
        }
      ]
    },
    {
      "cell_type": "code",
      "source": [
        "type(A)"
      ],
      "metadata": {
        "colab": {
          "base_uri": "https://localhost:8080/"
        },
        "id": "32E_sVWtlmTK",
        "outputId": "65eb7db9-0aba-4a34-a6bf-c421babd8580"
      },
      "execution_count": null,
      "outputs": [
        {
          "output_type": "execute_result",
          "data": {
            "text/plain": [
              "type"
            ]
          },
          "metadata": {},
          "execution_count": 57
        }
      ]
    },
    {
      "cell_type": "markdown",
      "source": [
        "-type에 인스턴스를 넣으면 클래스를 알려준다.   \n",
        "-type에 클래스를 넣으면 메타 클래스를 알려준다.  \n",
        "-메타클래스는 class의 class이다.  \n"
      ],
      "metadata": {
        "id": "Wwt5EUTyl4a1"
      }
    },
    {
      "cell_type": "markdown",
      "source": [
        "__dir__  \n",
        "dir()과 비슷하다.   \n",
        "차이점은 정렬여부이다. (ordering)  "
      ],
      "metadata": {
        "id": "Ph-6EsSDmNUN"
      }
    },
    {
      "cell_type": "code",
      "source": [
        "class ListTest:\n",
        "  def process(self):\n",
        "    data = [[12, 41, 36, 56, 21], [82, 10, 12, 61, 45], [14, 16, 18, 78, 65], [45, 26, 72, 23, 34]]\n",
        "\n",
        "    total = 0\n",
        "    cnt =  0\n",
        "    for element in data:\n",
        "      for i in element:\n",
        "         total += i\n",
        "         cnt = cnt + 1\n",
        "\n",
        "\n",
        "    print('합계:{0:0.2f}'.format(total))\n",
        "    print('평균:{}'.format(total//cnt))\n",
        "\n",
        "\n",
        "if __name__ == '__main__':  # public static void main(Sting[] args){}\n",
        "   a = ListTest()\n",
        "   a.process()"
      ],
      "metadata": {
        "colab": {
          "base_uri": "https://localhost:8080/"
        },
        "id": "LQS6mclKmBmS",
        "outputId": "98a53060-2698-4376-dbcf-be00af60fc7a"
      },
      "execution_count": null,
      "outputs": [
        {
          "output_type": "stream",
          "name": "stdout",
          "text": [
            "합계:767.00\n",
            "평균:38\n",
            "__del__\n"
          ]
        }
      ]
    },
    {
      "cell_type": "code",
      "source": [
        "class StringTest:\n",
        "  def process(self):\n",
        "    data = '1,22,4,12,5.93,8.71,9.34'\n",
        "\n",
        "    total = 0\n",
        "    line = data.split(',')\n",
        "    print(line)\n",
        "    print(len(line))\n",
        "    for i in line:\n",
        "      total += float(i)\n",
        "\n",
        "\n",
        "    print('합계{0:0.1f}'.format(total))\n",
        "    print('평균{0:0.1f}'.format(total/len(line)))\n",
        "\n",
        "\n",
        "if __name__=='__main__':\n",
        "   a= StringTest()\n",
        "   a.process()\n"
      ],
      "metadata": {
        "colab": {
          "base_uri": "https://localhost:8080/"
        },
        "id": "lzY6SCmWum_D",
        "outputId": "0a67dd11-445e-4147-ff6c-331bc26db4e5"
      },
      "execution_count": null,
      "outputs": [
        {
          "output_type": "stream",
          "name": "stdout",
          "text": [
            "['1', '22', '4', '12', '5.93', '8.71', '9.34']\n",
            "7\n",
            "합계63.0\n",
            "평균9.0\n"
          ]
        }
      ]
    },
    {
      "cell_type": "markdown",
      "source": [
        "문제3"
      ],
      "metadata": {
        "id": "8p3sq42Kwsgc"
      }
    },
    {
      "cell_type": "code",
      "source": [
        "import datetime\n",
        "print(dir(datetime))\n",
        "print(dir(datetime.date))\n",
        "print(dir(datetime.time))\n"
      ],
      "metadata": {
        "colab": {
          "base_uri": "https://localhost:8080/"
        },
        "id": "OAl4FnG7wve3",
        "outputId": "7e7c2eb7-2ede-43bb-a297-895a728480d1"
      },
      "execution_count": null,
      "outputs": [
        {
          "output_type": "stream",
          "name": "stdout",
          "text": [
            "['MAXYEAR', 'MINYEAR', '__all__', '__builtins__', '__cached__', '__doc__', '__file__', '__loader__', '__name__', '__package__', '__spec__', 'date', 'datetime', 'datetime_CAPI', 'sys', 'time', 'timedelta', 'timezone', 'tzinfo']\n",
            "['__add__', '__class__', '__delattr__', '__dir__', '__doc__', '__eq__', '__format__', '__ge__', '__getattribute__', '__gt__', '__hash__', '__init__', '__init_subclass__', '__le__', '__lt__', '__ne__', '__new__', '__radd__', '__reduce__', '__reduce_ex__', '__repr__', '__rsub__', '__setattr__', '__sizeof__', '__str__', '__sub__', '__subclasshook__', 'ctime', 'day', 'fromisocalendar', 'fromisoformat', 'fromordinal', 'fromtimestamp', 'isocalendar', 'isoformat', 'isoweekday', 'max', 'min', 'month', 'replace', 'resolution', 'strftime', 'timetuple', 'today', 'toordinal', 'weekday', 'year']\n",
            "['__class__', '__delattr__', '__dir__', '__doc__', '__eq__', '__format__', '__ge__', '__getattribute__', '__gt__', '__hash__', '__init__', '__init_subclass__', '__le__', '__lt__', '__ne__', '__new__', '__reduce__', '__reduce_ex__', '__repr__', '__setattr__', '__sizeof__', '__str__', '__subclasshook__', 'dst', 'fold', 'fromisoformat', 'hour', 'isoformat', 'max', 'microsecond', 'min', 'minute', 'replace', 'resolution', 'second', 'strftime', 'tzinfo', 'tzname', 'utcoffset']\n"
          ]
        }
      ]
    },
    {
      "cell_type": "code",
      "source": [
        "from datetime import date\n",
        "\n",
        "class Datetest:\n",
        "  def process(self):\n",
        "\n",
        "#기본시스템은 1월은 0으로 세팅되어있다.\n",
        "# python에서는 우리가 사용하는 월 그대로 넣어주면 된다.\n",
        "\n",
        "    tm = date(2023, 11, 20)\n",
        "    print(tm)\n",
        "\n",
        "\n",
        "    tyear = tm.year\n",
        "    tmonth = tm.month\n",
        "    tday = tm.day\n",
        "    tweekday = tm.weekday()\n",
        "    print(tyear,tmonth,tday,tweekday)\n",
        "    dow = None\n",
        "\n",
        "    if tweekday == 0:\n",
        "      dow = '월'\n",
        "    elif tweekday == 1:\n",
        "      dow = '화'\n",
        "    elif tweekday == 2:\n",
        "      dow = '수'\n",
        "    elif tweekday == 3:\n",
        "      dow = '목'\n",
        "    elif tweekday == 4:\n",
        "      dow = '금'\n",
        "    elif tweekday == 5:\n",
        "      dow = '토'\n",
        "    elif tweekday == 6:\n",
        "      dow = '일'\n",
        "\n",
        "\n",
        "\n",
        "    print('오늘 날짜 : {}-{}-{} {}요일 입니다.'.format(tyear,tmonth,tday,dow))\n",
        "\n",
        "if __name__== '__main__':\n",
        "  a = Datetest()\n",
        "  a.process()\n"
      ],
      "metadata": {
        "colab": {
          "base_uri": "https://localhost:8080/"
        },
        "id": "9vlZqa_AxUP_",
        "outputId": "d338ad10-3512-4b38-9f8f-66c12899ef88"
      },
      "execution_count": null,
      "outputs": [
        {
          "output_type": "stream",
          "name": "stdout",
          "text": [
            "2023-11-20\n",
            "2023 11 20 0\n",
            "오늘 날짜 : 2023-11-20 월요일 입니다.\n"
          ]
        }
      ]
    },
    {
      "cell_type": "code",
      "source": [],
      "metadata": {
        "id": "8MDT9z-V5eBu"
      },
      "execution_count": null,
      "outputs": []
    },
    {
      "cell_type": "markdown",
      "source": [
        "문제4]\n"
      ],
      "metadata": {
        "id": "gma79FomwseZ"
      }
    },
    {
      "cell_type": "code",
      "source": [
        "class Proruct:  #class Product (object):\n",
        "    def __init__(self,name,price,quantity):\n",
        "      self.__name = name\n",
        "      self.__price = price\n",
        "      self.__quantity = quantity\n",
        "\n",
        "    def getname(self):\n",
        "      return self.__name\n",
        "\n",
        "    def setname(self, name):\n",
        "      self.__name = name\n",
        "\n",
        "    def getprice(self):\n",
        "      return self.__price\n",
        "\n",
        "    def setprice(self, price):\n",
        "      self.__price = price\n",
        "\n",
        "    def getquantity(self):\n",
        "      return self.__quantity\n",
        "\n",
        "    def setquantity(self, quantity):\n",
        "      self.__quantity = quantity\n",
        "\n",
        "    def information(self):\n",
        "      return '상품명:{}\\n 상품가격:{:,}원 \\n상품수량:{:,}개'.format(self.__name, self.__price,self.__quantity)\n",
        "\n",
        "class Producttest:\n",
        "    def process(self):\n",
        "      name = input('상품명:')\n",
        "      price = int(input('상품가격:'))\n",
        "      quantity = int(input('상품수량:'))\n",
        "\n",
        "\n",
        "      pd = Proruct(name, price, quantity)\n",
        "      print(pd.information())\n",
        "      print('총구매가격:{}원'.format(pd.getprice() * pd.getquantity()))\n",
        "\n",
        "if __name__ == '__main__':\n",
        "    pt = Producttest()\n",
        "    pt.process()"
      ],
      "metadata": {
        "colab": {
          "base_uri": "https://localhost:8080/"
        },
        "id": "fBA7Q0Ec5fd3",
        "outputId": "c8795ded-51dc-48c2-c43f-df34d982eba4"
      },
      "execution_count": null,
      "outputs": [
        {
          "output_type": "stream",
          "name": "stdout",
          "text": [
            "상품명:222\n",
            "상품가격:2222\n",
            "상품수량:22\n",
            "상품명:222\n",
            " 상품가격:2,222원 \n",
            "상품수량:22개\n",
            "총구매가격:48884원\n"
          ]
        }
      ]
    },
    {
      "cell_type": "markdown",
      "source": [
        "```\n",
        "문제5]\n",
        "파이썬의 정석,남군은,30000,도우출판,10.0%할인  \n",
        "할인된 가격:27000  \n",
        "열혈강의 파이썬,구정아,29000,프리렉,10.0%할인  \n",
        "할인된 가격:26100  \n",
        "데이터분석의 파이썬,금영욱,30000,북스홈,10.0%할인  \n",
        "할인된 가격:27000\n",
        "```  "
      ],
      "metadata": {
        "id": "IevpExl2BYUN"
      }
    },
    {
      "cell_type": "code",
      "source": [
        "class Book:\n",
        "  def __init__ (self, title, author, price, publisher, discountrate ) :\n",
        "    self.__title = title\n",
        "    self.__author = author\n",
        "    self.__price = price\n",
        "    self.__publisher = publisher\n",
        "    self.__discountrate = discountrate\n",
        "\n",
        "  def getTitle(self):\n",
        "    return self.__title\n",
        "\n",
        "  def getAuthor(self):\n",
        "    return self.__author\n",
        "\n",
        "  def getPrice(self):\n",
        "    return self.__price\n",
        "\n",
        "  def getPublisher(self):\n",
        "    return self.__publisher\n",
        "\n",
        "  def getDiscountrate(self):\n",
        "    return self.__discountrate\n",
        "\n",
        "class Booklisttest:\n",
        "\n",
        "  def __init__(self):\n",
        "    pass\n",
        "\n",
        "  def process(self):\n",
        "\n",
        "   bList= []\n",
        "   bList.append(Book('파이썬의정석','남군은',3000,'도우출판',0.1))\n",
        "   bList.append(Book('열혈강의파이썬','구정아',2900,'프리랙',0.1))\n",
        "   bList.append(Book('데이터분석의파이썬','금영욱',3000,'북스홈',0.1))\n",
        "\n",
        "\n",
        "\n",
        "   for line in bList :\n",
        "    print('{},{},{},{}'.format(line.getTitle(), line.getAuthor(),\n",
        "                                   line.getPrice(), line.getPublisher(),))\n",
        "\n",
        "    print('할인된 가격:{}'.format(int(line.getPrice()*(1-line.getDiscountrate()))))\n",
        "\n",
        "\n",
        "\n",
        "\n",
        "if __name__ == '__main__':\n",
        "  bt = Booklisttest()\n",
        "  bt.process()\n",
        "\n",
        "\n",
        "\n",
        "\n",
        "\n",
        "\n",
        "\n",
        ""
      ],
      "metadata": {
        "colab": {
          "base_uri": "https://localhost:8080/",
          "height": 0
        },
        "id": "p8TgUMqYvtkv",
        "outputId": "db5c45b1-4909-42eb-b935-f8b6e8c8377e"
      },
      "execution_count": 44,
      "outputs": [
        {
          "output_type": "stream",
          "name": "stdout",
          "text": [
            "파이썬의정석,남군은,3000,도우출판\n",
            "할인된 가격:2700\n",
            "열혈강의파이썬,구정아,2900,프리랙\n",
            "할인된 가격:2610\n",
            "데이터분석의파이썬,금영욱,3000,북스홈\n",
            "할인된 가격:2700\n"
          ]
        }
      ]
    },
    {
      "cell_type": "markdown",
      "source": [
        "```\n",
        "\n",
        "__repr__과__str__\n",
        "\n",
        "\n",
        "\n",
        "```"
      ],
      "metadata": {
        "id": "YV1hREH9azzO"
      }
    },
    {
      "cell_type": "code",
      "source": [
        "class B :\n",
        "  def __init__(self):\n",
        "    '''doc'''\n",
        "    print('init')\n",
        "\n",
        "  def __repr__(self):\n",
        "    print('repr')\n",
        "    return '1'\n",
        "\n",
        "  def __str__(self):\n",
        "    print('str')\n",
        "    return '2'"
      ],
      "metadata": {
        "id": "tFPGbfuE6jgw"
      },
      "execution_count": 2,
      "outputs": []
    },
    {
      "cell_type": "code",
      "source": [
        "b = B()"
      ],
      "metadata": {
        "colab": {
          "base_uri": "https://localhost:8080/",
          "height": 0
        },
        "id": "LXbyQJU8bgL1",
        "outputId": "797b3593-eaef-4714-d944-942da7029f8e"
      },
      "execution_count": 4,
      "outputs": [
        {
          "output_type": "stream",
          "name": "stdout",
          "text": [
            "init\n"
          ]
        }
      ]
    },
    {
      "cell_type": "code",
      "source": [
        "print(b)"
      ],
      "metadata": {
        "colab": {
          "base_uri": "https://localhost:8080/",
          "height": 0
        },
        "id": "zOoPdTZabkRt",
        "outputId": "16f4e379-27dc-4471-b429-857ed8cb6957"
      },
      "execution_count": 5,
      "outputs": [
        {
          "output_type": "stream",
          "name": "stdout",
          "text": [
            "str\n",
            "2\n"
          ]
        }
      ]
    },
    {
      "cell_type": "markdown",
      "source": [
        "#정리\n",
        "\n",
        "반드시 기억해야함\n",
        "\n",
        "- type = __class__\n",
        "- dir = __dir__\n",
        "- vars = __dict__\n",
        "\n"
      ],
      "metadata": {
        "id": "GJW9adi_b-K8"
      }
    },
    {
      "cell_type": "markdown",
      "source": [
        "## 다이아몬드 상속구조\n"
      ],
      "metadata": {
        "id": "XbXjkDXncdHE"
      }
    },
    {
      "cell_type": "code",
      "source": [
        "class Base :\n",
        "  pass\n",
        "\n",
        "class A(Base):\n",
        "  a = 1\n",
        "\n",
        "class B(Base):\n",
        "  b = 1\n",
        "class C( A, B):\n",
        "  pass"
      ],
      "metadata": {
        "id": "6UPhsl55cg_s"
      },
      "execution_count": 6,
      "outputs": []
    },
    {
      "cell_type": "code",
      "source": [
        "C.mro()"
      ],
      "metadata": {
        "colab": {
          "base_uri": "https://localhost:8080/",
          "height": 0
        },
        "id": "__-7oHVZb9nV",
        "outputId": "ce0b9715-39e1-405e-ef12-294506bec90d"
      },
      "execution_count": 7,
      "outputs": [
        {
          "output_type": "execute_result",
          "data": {
            "text/plain": [
              "[__main__.C, __main__.A, __main__.B, __main__.Base, object]"
            ]
          },
          "metadata": {},
          "execution_count": 7
        }
      ]
    },
    {
      "cell_type": "code",
      "source": [
        "class Base:\n",
        "  def __init__ (self):\n",
        "    print('Base')\n",
        "\n",
        "class A(Base):\n",
        "  def __init__ (self):\n",
        "    print('A')\n",
        "\n",
        "class B (Base):\n",
        "  b = 1\n",
        "  def __init__ (self):\n",
        "    print('B')\n",
        "\n",
        "class C(A,B):\n",
        "  def __init__ (self):\n",
        "    A.__init__(self)\n",
        "    B.__init__(self)\n",
        "    Base.__init__(self)\n",
        "    print('C')"
      ],
      "metadata": {
        "id": "T-W5k5sOb9ld"
      },
      "execution_count": 9,
      "outputs": []
    },
    {
      "cell_type": "markdown",
      "source": [
        "```\n",
        "C의 __init__에서 실행된 순서대로 print 찍힌다.\n",
        "상속받을 때 부모의 __init__가 실행되는 순서를 파악하기 위함이다.\n",
        "```"
      ],
      "metadata": {
        "id": "gikbMnmFhf5U"
      }
    },
    {
      "cell_type": "code",
      "source": [
        "class Base:\n",
        "  def __init__ (self):\n",
        "    print('Base')\n",
        "\n",
        "class A(Base):\n",
        "  def __init__ (self):\n",
        "    print('A')\n",
        "\n",
        "class B (Base):\n",
        "  b = 1\n",
        "  def __init__ (self):\n",
        "    print('B')\n",
        "\n",
        "class C(A,B):\n",
        "  def __init__ (self):\n",
        "    A.__init__(self)\n",
        "    B.__init__(self)\n",
        "    Base.__init__(self)\n",
        "    print('C')"
      ],
      "metadata": {
        "id": "bLF9-gjVh3pO"
      },
      "execution_count": null,
      "outputs": []
    },
    {
      "cell_type": "markdown",
      "source": [
        "A와 B의 부모의 생성자를 실행하도록 코드를 추가한다.   \n"
      ],
      "metadata": {
        "id": "9VKKOW1HiBe5"
      }
    },
    {
      "cell_type": "code",
      "source": [
        "class Base:\n",
        "  def __init__ (self):\n",
        "    print('Base')\n",
        "\n",
        "class A(Base):\n",
        "    a = 1\n",
        "\n",
        "class A(Base):\n",
        "  def __init__ (self):\n",
        "    print('A')\n",
        "    Base.__init__(self)\n",
        "\n",
        "class B (Base):\n",
        "  b = 1\n",
        "  def __init__ (self):\n",
        "    print('B')\n",
        "    Base.__init__(self)\n",
        "\n",
        "class C(A,B):\n",
        "  def __init__ (self):\n",
        "    A.__init__(self)\n",
        "    B.__init__(self)\n",
        "    Base.__init__(self)\n",
        "    print('C')"
      ],
      "metadata": {
        "id": "gMrzQfgUiMxS"
      },
      "execution_count": 10,
      "outputs": []
    },
    {
      "cell_type": "markdown",
      "source": [
        "Base의 생성자가 너무 많이 실행되는 문제가 있다."
      ],
      "metadata": {
        "id": "qcm2yutmi3gj"
      }
    },
    {
      "cell_type": "markdown",
      "source": [],
      "metadata": {
        "id": "mIJvxYIii3e6"
      }
    },
    {
      "cell_type": "code",
      "source": [
        "c = C()"
      ],
      "metadata": {
        "colab": {
          "base_uri": "https://localhost:8080/",
          "height": 0
        },
        "id": "ZV9EnYtRi2Jt",
        "outputId": "addaa4b2-b459-4b77-a807-72dec637a4f7"
      },
      "execution_count": 12,
      "outputs": [
        {
          "output_type": "stream",
          "name": "stdout",
          "text": [
            "A\n",
            "Base\n",
            "B\n",
            "Base\n",
            "Base\n",
            "C\n"
          ]
        }
      ]
    },
    {
      "cell_type": "code",
      "source": [
        "c = C()"
      ],
      "metadata": {
        "colab": {
          "base_uri": "https://localhost:8080/",
          "height": 0
        },
        "id": "m_d1g4pAidAX",
        "outputId": "227e652d-588c-4963-f83f-6e1791d8b730"
      },
      "execution_count": 11,
      "outputs": [
        {
          "output_type": "stream",
          "name": "stdout",
          "text": [
            "A\n",
            "Base\n",
            "B\n",
            "Base\n",
            "Base\n",
            "C\n"
          ]
        }
      ]
    },
    {
      "cell_type": "markdown",
      "source": [],
      "metadata": {
        "id": "asrHd3APiBcS"
      }
    },
    {
      "cell_type": "code",
      "source": [
        "class Base:\n",
        "  def __init__ (self):\n",
        "    print('Base')\n",
        "\n",
        "class A(Base):\n",
        "    a = 1\n",
        "\n",
        "class A(Base):\n",
        "  def __init__ (self):\n",
        "    Base.__init__(self)\n",
        "    print('A')\n",
        "\n",
        "class B (Base):\n",
        "  b = 1\n",
        "  def __init__ (self):\n",
        "    Base.__init__(self)\n",
        "    print('B')\n",
        "\n",
        "class C(A,B):\n",
        "  def __init__ (self):\n",
        "    A.__init__(self)\n",
        "    B.__init__(self)\n",
        "    Base.__init__(self)\n",
        "    print('C')"
      ],
      "metadata": {
        "id": "FAADl0QljFSy"
      },
      "execution_count": null,
      "outputs": []
    },
    {
      "cell_type": "code",
      "source": [
        "c = C()"
      ],
      "metadata": {
        "colab": {
          "base_uri": "https://localhost:8080/",
          "height": 0
        },
        "id": "e-tYLyPGjSQa",
        "outputId": "a9c09048-21ea-4e83-bb71-a4c8a0d9328d"
      },
      "execution_count": 13,
      "outputs": [
        {
          "output_type": "stream",
          "name": "stdout",
          "text": [
            "A\n",
            "Base\n",
            "B\n",
            "Base\n",
            "Base\n",
            "C\n"
          ]
        }
      ]
    },
    {
      "cell_type": "markdown",
      "source": [
        "```\n",
        "-(private) +(public)\n",
        "\n",
        "-name:str -dept:str -pay:int -score:float\n",
        "\n",
        "Employee(name=None:str,dept=None:str, pay=None:int, Score=None:float)\n",
        "+getName():str\n",
        "+setName(name:str):None\n",
        "+getDept():str\n",
        "+setDept(dept:str):None\n",
        "+getPay():int\n",
        "+setPay(pay:int):None\n",
        "+getScore():float\n",
        "+setScore(score:float):None\n",
        "```"
      ],
      "metadata": {
        "id": "Z9_c94NS4wdd"
      }
    },
    {
      "cell_type": "code",
      "source": [
        "class Employee :\n",
        "  #다양한 방법으로 생성자를 호출하고 있으면 파라미터에 디폴트value를 할당한다.\n",
        "\n",
        "    def __init__(self, name=None, dept=None, pay=None, score=None) :\n",
        "      self.__name = name\n",
        "      self.__dept = dept\n",
        "      self.__pay = pay\n",
        "      self.__score = score\n",
        "\n",
        "    def getName(self):\n",
        "      return self.__name\n",
        "    def setName(self,name):\n",
        "      self.__name = name\n",
        "    def getDept(self):\n",
        "      return self.__dept\n",
        "    def setDept(self,dept):\n",
        "      self.__dept = dept\n",
        "    def getPay(self):\n",
        "      return self.__pay\n",
        "    def setPay(self,pay):\n",
        "      self.__pay = pay\n",
        "    def getScore(self):\n",
        "      return self.__score\n",
        "    def setScore(self,score):\n",
        "      self.__score = score\n",
        "    def tostring(self):\n",
        "      return '{},{},{},{}'.format(self.__name, self.__dept, self.__pay,self.__score)\n",
        "\n",
        "\n",
        "class EmpTest:\n",
        "\n",
        "  def process(self):\n",
        "    em = Employee()\n",
        "    em.setName('유대위')\n",
        "    print(em.tostring())\n",
        "\n",
        "    en = Employee ('진달래','사업부',120000,75.34)\n",
        "    print(en.tostring())\n",
        "\n",
        "if __name__ == '__main__' :\n",
        "   ep = EmpTest()\n",
        "   ep.process ()\n",
        "\n",
        "\n",
        "\n",
        "\n"
      ],
      "metadata": {
        "colab": {
          "base_uri": "https://localhost:8080/",
          "height": 0
        },
        "id": "sGRUsXUx8tu0",
        "outputId": "50d1d78c-f648-4c94-b1d8-8f0247f02783"
      },
      "execution_count": 101,
      "outputs": [
        {
          "output_type": "stream",
          "name": "stdout",
          "text": [
            "유대위,None,None,None\n",
            "진달래,사업부,120000,75.34\n"
          ]
        }
      ]
    },
    {
      "cell_type": "markdown",
      "source": [
        "```\n",
        "클래스명 : Sales\n",
        "-item:str\n",
        "-qty:int\n",
        "-cost:int\n",
        "\n",
        "Sales(self, item=None:str, qty=None:int, cost=None:int)\n",
        "+setItem(item str):None\n",
        "+setQty(qty int):void\n",
        "+setCost(cost int):None\n",
        "+getItem():str\n",
        "+getQty():int\n",
        "+getCost():int\n",
        "+toString():str => 출력\n",
        "+getPrice():int => 수량 * 단가\n",
        "\n",
        "예시)\n",
        "품목 : apple 수량 : 5 단가 : 1200원 금액 : 6000원\n",
        "\n",
        "apple 1200원 짜리 5개 구입하면 6000원이 필요함\n",
        "```"
      ],
      "metadata": {
        "id": "CqSgW29_EkS7"
      }
    },
    {
      "cell_type": "code",
      "source": [
        "class Sales :\n",
        "    def __init__(self,item=None, qty=None, cost=None):\n",
        "      print('parent')\n",
        "      self.__item = item\n",
        "      self.__qty = qty\n",
        "      self.__cose = cost\n",
        "\n",
        "    def getItem(self):\n",
        "      return self.__item\n",
        "    def setItem(self,item):\n",
        "      self.__item = item\n",
        "    def getQty(self):\n",
        "      return self.__qty\n",
        "    def setQty(self,qty):\n",
        "      self.__qty = qty\n",
        "    def getCost(self):\n",
        "      return self.__cost\n",
        "    def setCost(self,cost):\n",
        "      self.__cost = cost\n",
        "\n",
        "    def getPrice(self):\n",
        "      return self.__qty * self.__cost\n",
        "\n",
        "    def tostring(self):\n",
        "      return '{} {}원짜리 {}개 구입하면 {}원이 필요함 '.format(self.__item, self.__cost, self.__qty, self.getPrice())\n",
        "\n",
        "\n",
        "if __name__ == '__main__' :\n",
        "      ss = Sales();\n",
        "      ss.setItem('apple');\n",
        "      ss.setQty(5);\n",
        "      ss.setCost(1200);\n",
        "      print(ss.tostring())"
      ],
      "metadata": {
        "colab": {
          "base_uri": "https://localhost:8080/"
        },
        "id": "cloqPvx4EcWE",
        "outputId": "0517acce-c08d-4bd9-e242-0d120723dee3"
      },
      "execution_count": 139,
      "outputs": [
        {
          "output_type": "stream",
          "name": "stdout",
          "text": [
            "parent\n",
            "apple 1200원짜리 5개 구입하면 6000원이 필요함 \n"
          ]
        }
      ]
    },
    {
      "cell_type": "code",
      "source": [
        "class Sales :\n",
        "    def __init__(self,item=None, qty=None, cost=None):\n",
        "      print('parent')\n",
        "      self.__item = item\n",
        "      self.__qty = qty\n",
        "      self.__cose = cost\n",
        "\n",
        "    def getItem(self):\n",
        "      return self.__item\n",
        "    def setItem(self,item):\n",
        "      self.__item = item\n",
        "    def getQty(self):\n",
        "      return self.__qty\n",
        "    def setQty(self,qty):\n",
        "      self.__qty = qty\n",
        "    def getCost(self):\n",
        "      return self.__cost\n",
        "    def setCost(self,cost):\n",
        "      self.__cost = cost\n",
        "\n",
        "    def tostring(self):\n",
        "      return '{} {}원짜리 {}개'.format(self.__item, self.__cost, self.__qty,)\n",
        "\n",
        "class SubSales(Sales):\n",
        "    def __init__(self,item=None, qty=None, cost=None):\n",
        "      print('child')\n",
        "      super().__init__(item,qty,cost)\n",
        "\n",
        "\n",
        "    def getPrice(self):\n",
        "      return self.getQty() * self.getCost()\n",
        "\n",
        "  #overriding : 메소드 선언부는 그대로 사용하고 구현부만 재정의 한다.\n",
        "\n",
        "    def tostring(self):\n",
        "      return '{} {}원짜리 {}개 구입{}원'.format(self.getItem(), self.getCost(), self.getQty(), self.getPrice())\n",
        "\n",
        "\n",
        "\n",
        "if __name__ == '__main__':\n",
        "      # ss = SubSales();\n",
        "      # ss.setItem('apple');\n",
        "      # ss.setQty(5);\n",
        "      # ss.setCost(1200);\n",
        "      # print(ss.tostring())\n",
        "\n",
        "    se = SubSales('Apple',5,1200)\n",
        "    print(se.tostring())\n",
        "\n",
        "\n",
        "\n"
      ],
      "metadata": {
        "colab": {
          "base_uri": "https://localhost:8080/",
          "height": 448
        },
        "id": "kSqFPgpqbm_5",
        "outputId": "d560d1ab-1cf3-45e6-de26-f275e16b584b"
      },
      "execution_count": 149,
      "outputs": [
        {
          "output_type": "stream",
          "name": "stdout",
          "text": [
            "child\n",
            "parent\n"
          ]
        },
        {
          "output_type": "error",
          "ename": "AttributeError",
          "evalue": "ignored",
          "traceback": [
            "\u001b[0;31m---------------------------------------------------------------------------\u001b[0m",
            "\u001b[0;31mAttributeError\u001b[0m                            Traceback (most recent call last)",
            "\u001b[0;32m<ipython-input-149-a3830b8a6060>\u001b[0m in \u001b[0;36m<cell line: 40>\u001b[0;34m()\u001b[0m\n\u001b[1;32m     46\u001b[0m \u001b[0;34m\u001b[0m\u001b[0m\n\u001b[1;32m     47\u001b[0m     \u001b[0mse\u001b[0m \u001b[0;34m=\u001b[0m \u001b[0mSubSales\u001b[0m\u001b[0;34m(\u001b[0m\u001b[0;34m'Apple'\u001b[0m\u001b[0;34m,\u001b[0m\u001b[0;36m5\u001b[0m\u001b[0;34m,\u001b[0m\u001b[0;36m1200\u001b[0m\u001b[0;34m)\u001b[0m\u001b[0;34m\u001b[0m\u001b[0;34m\u001b[0m\u001b[0m\n\u001b[0;32m---> 48\u001b[0;31m     \u001b[0mprint\u001b[0m\u001b[0;34m(\u001b[0m\u001b[0mse\u001b[0m\u001b[0;34m.\u001b[0m\u001b[0mtostring\u001b[0m\u001b[0;34m(\u001b[0m\u001b[0;34m)\u001b[0m\u001b[0;34m)\u001b[0m\u001b[0;34m\u001b[0m\u001b[0;34m\u001b[0m\u001b[0m\n\u001b[0m\u001b[1;32m     49\u001b[0m \u001b[0;34m\u001b[0m\u001b[0m\n\u001b[1;32m     50\u001b[0m \u001b[0;34m\u001b[0m\u001b[0m\n",
            "\u001b[0;32m<ipython-input-149-a3830b8a6060>\u001b[0m in \u001b[0;36mtostring\u001b[0;34m(self)\u001b[0m\n\u001b[1;32m     34\u001b[0m \u001b[0;34m\u001b[0m\u001b[0m\n\u001b[1;32m     35\u001b[0m     \u001b[0;32mdef\u001b[0m \u001b[0mtostring\u001b[0m\u001b[0;34m(\u001b[0m\u001b[0mself\u001b[0m\u001b[0;34m)\u001b[0m\u001b[0;34m:\u001b[0m\u001b[0;34m\u001b[0m\u001b[0;34m\u001b[0m\u001b[0m\n\u001b[0;32m---> 36\u001b[0;31m       \u001b[0;32mreturn\u001b[0m \u001b[0;34m'{} {}원짜리 {}개 구입{}원'\u001b[0m\u001b[0;34m.\u001b[0m\u001b[0mformat\u001b[0m\u001b[0;34m(\u001b[0m\u001b[0mself\u001b[0m\u001b[0;34m.\u001b[0m\u001b[0mgetItem\u001b[0m\u001b[0;34m(\u001b[0m\u001b[0;34m)\u001b[0m\u001b[0;34m,\u001b[0m \u001b[0mself\u001b[0m\u001b[0;34m.\u001b[0m\u001b[0mgetCost\u001b[0m\u001b[0;34m(\u001b[0m\u001b[0;34m)\u001b[0m\u001b[0;34m,\u001b[0m \u001b[0mself\u001b[0m\u001b[0;34m.\u001b[0m\u001b[0mgetQty\u001b[0m\u001b[0;34m(\u001b[0m\u001b[0;34m)\u001b[0m\u001b[0;34m,\u001b[0m \u001b[0mself\u001b[0m\u001b[0;34m.\u001b[0m\u001b[0mgetPrice\u001b[0m\u001b[0;34m(\u001b[0m\u001b[0;34m)\u001b[0m\u001b[0;34m)\u001b[0m\u001b[0;34m\u001b[0m\u001b[0;34m\u001b[0m\u001b[0m\n\u001b[0m\u001b[1;32m     37\u001b[0m \u001b[0;34m\u001b[0m\u001b[0m\n\u001b[1;32m     38\u001b[0m \u001b[0;34m\u001b[0m\u001b[0m\n",
            "\u001b[0;32m<ipython-input-149-a3830b8a6060>\u001b[0m in \u001b[0;36mgetCost\u001b[0;34m(self)\u001b[0m\n\u001b[1;32m     15\u001b[0m       \u001b[0mself\u001b[0m\u001b[0;34m.\u001b[0m\u001b[0m__qty\u001b[0m \u001b[0;34m=\u001b[0m \u001b[0mqty\u001b[0m\u001b[0;34m\u001b[0m\u001b[0;34m\u001b[0m\u001b[0m\n\u001b[1;32m     16\u001b[0m     \u001b[0;32mdef\u001b[0m \u001b[0mgetCost\u001b[0m\u001b[0;34m(\u001b[0m\u001b[0mself\u001b[0m\u001b[0;34m)\u001b[0m\u001b[0;34m:\u001b[0m\u001b[0;34m\u001b[0m\u001b[0;34m\u001b[0m\u001b[0m\n\u001b[0;32m---> 17\u001b[0;31m       \u001b[0;32mreturn\u001b[0m \u001b[0mself\u001b[0m\u001b[0;34m.\u001b[0m\u001b[0m__cost\u001b[0m\u001b[0;34m\u001b[0m\u001b[0;34m\u001b[0m\u001b[0m\n\u001b[0m\u001b[1;32m     18\u001b[0m     \u001b[0;32mdef\u001b[0m \u001b[0msetCost\u001b[0m\u001b[0;34m(\u001b[0m\u001b[0mself\u001b[0m\u001b[0;34m,\u001b[0m\u001b[0mcost\u001b[0m\u001b[0;34m)\u001b[0m\u001b[0;34m:\u001b[0m\u001b[0;34m\u001b[0m\u001b[0;34m\u001b[0m\u001b[0m\n\u001b[1;32m     19\u001b[0m       \u001b[0mself\u001b[0m\u001b[0;34m.\u001b[0m\u001b[0m__cost\u001b[0m \u001b[0;34m=\u001b[0m \u001b[0mcost\u001b[0m\u001b[0;34m\u001b[0m\u001b[0;34m\u001b[0m\u001b[0m\n",
            "\u001b[0;31mAttributeError\u001b[0m: 'SubSales' object has no attribute '_Sales__cost'"
          ]
        }
      ]
    },
    {
      "cell_type": "code",
      "source": [
        "class Human:\n",
        "   def __init__(self, name, age, height, weight):\n",
        "     self.name = name\n",
        "     self.age = age\n",
        "     self.height = height\n",
        "     self.weight = weight\n",
        "\n",
        "   def toString(self):\n",
        "\t   return '{:8}{:5}{:8}{:8}'.format(self.name, self.age, self.height, self.weight)\n",
        "\n",
        "\n",
        "\n",
        "class StudentExam(Human):\n",
        "   def __init__(self, name, age, height, weight, hak):\n",
        "    super().__init__ (name, age, height, weight)\n",
        "    self.hak = hak\n",
        "\n",
        "\n",
        "   def toString(self):\n",
        "     return '{:8}{:>5}{:>8}{:>8}{:>10}'.format(self.name, self.age, self.height, self.weight, self.hak)\n",
        "\n",
        "if __name__ == '__main__':\n",
        "  se=[];\n",
        "  se.append(StudentExam(\"홍길동\",15, 171, 81, \"201101\"))\n",
        "  se.append(StudentExam(\"정길동\",13, 183, 72, \"201102\"))\n",
        "  se.append(StudentExam(\"박길동\",16, 175, 65, \"201103\"))\n",
        "\n",
        "  print('{:8}{:>5}{:>5}{:>8}{:>4}'.format('이름','나이','신장','몸무게','학번'))\n",
        "\n",
        "  for data in se :\n",
        "    print(data.toString())"
      ],
      "metadata": {
        "colab": {
          "base_uri": "https://localhost:8080/"
        },
        "id": "kJqBa3eabm-V",
        "outputId": "a2afdee3-5298-4aa8-8fe6-a59555b26999"
      },
      "execution_count": 163,
      "outputs": [
        {
          "output_type": "stream",
          "name": "stdout",
          "text": [
            "이름         나이   신장     몸무게  학번\n",
            "홍길동        15     171      81    201101\n",
            "정길동        13     183      72    201102\n",
            "박길동        16     175      65    201103\n"
          ]
        }
      ]
    },
    {
      "cell_type": "markdown",
      "source": [
        "```\n",
        " 문제)\n",
        " 사람의 신장(H)와 몸무게(W)를 입력받아 비만도(B)를 계산하는 프로그램작성\n",
        " 표준체중:SW=(H-100)*0.9\n",
        " 비만도: B(%)=(W-SW)/SW*100\n",
        "\n",
        " HealthRate 클래스에 아래 사항을 추가합니다.\n",
        " 1 표준체중 계산하는 메소드를 정의한다. standardHealth(self)\n",
        " 2 비만도를 계산하는 메소드를 정의한다.  rateCheck(self)\n",
        " 비만도가 10% 이내이면 정상, 10%이상 20%이면 과체중, 20% 이상은 비만\n",
        "\n",
        "\n",
        " 3 출력결과\n",
        " 홍길동님의 신장 168 , 몸무게 45  정상입니다.\n",
        " 박둘이님의 신장 168 , 몸무게 90  비만입니다.\n",
        "```"
      ],
      "metadata": {
        "id": "uArZ53dgp9y2"
      }
    },
    {
      "cell_type": "code",
      "source": [
        "class Health:\n",
        "\n",
        "   def __init__(self, name, height, weight):\n",
        "    self.name = name;\n",
        "    self.height = height;\n",
        "    self.weight = weight;\n",
        "\n",
        "\n",
        "   def display(self):\n",
        "    print('{}님의 키 {} , 몸무게 {}입니다.'.format(self.name, self.height, self.weight));\n",
        "\n",
        "\n",
        "class HealthRate(Health):\n",
        "\n",
        "   def __init__(self, name, height, weight):\n",
        "    super().__init__(name, height, weight)\n",
        "\n",
        "   def standardHealth(self):\n",
        "     return (self.height-100) * 0.9\n",
        "\n",
        "\n",
        "   def rateCheck(self):\n",
        "     res=(self.weight-self.standardHealth())/self.standardHealth()*100\n",
        "     if res < 10 :\n",
        "       return '정상'\n",
        "     elif  res>= 10 and res <20:\n",
        "       return '과체중'\n",
        "     else:\n",
        "       return '비만'\n",
        "\n",
        "   def display(self):\n",
        "     print('{}님의 신장 {:.0f} , 몸무게 {:.0f} {}입니다.'.format(self.name, self.height, self.weight, self.rateCheck()));\n",
        "\n",
        "\n",
        "if __name__ == '__main__':\n",
        "  hr1 = HealthRate(\"홍길동\", 168, 45)\n",
        "  hr1.display()\n",
        "\n",
        "\n",
        "  hr2 = HealthRate(\"박둘이\", 168, 90)\n",
        "  hr2.display()\n",
        "\n",
        "\n"
      ],
      "metadata": {
        "colab": {
          "base_uri": "https://localhost:8080/"
        },
        "id": "8Rgukf486C_d",
        "outputId": "d6850d56-f0b9-4191-843c-116683a70d6d"
      },
      "execution_count": 215,
      "outputs": [
        {
          "output_type": "stream",
          "name": "stdout",
          "text": [
            "홍길동님의 신장 168 , 몸무게 45 정상입니다.\n",
            "박둘이님의 신장 168 , 몸무게 90 비만입니다.\n"
          ]
        }
      ]
    },
    {
      "cell_type": "markdown",
      "source": [
        "```\n",
        "Movie클래스를 상속받아 MovieWork클래스를 구현하세요.\n",
        " MovieWork클래스에서 display( )메소드를 오버라이딩해서\n",
        "  아래와 같이 구현하세요.\n",
        "\n",
        "  [MovieWork 영화평점 조건]\n",
        "   if total >= 45:\n",
        "      result = '☆☆☆☆☆'\n",
        "    elif total >= 40:\n",
        "      result = '☆☆☆☆'\n",
        "    elif total >= 35:\n",
        "      result = '☆☆☆'\n",
        "    else:\n",
        "      result = '☆☆'\n",
        "\n",
        "  [출력결과]\n",
        "  영화제목:추격자\n",
        " 감독 : 7, 배우 : 5\n",
        " 영화총점 :12\n",
        " 영화평점 : ☆☆☆☆\n",
        "\n",
        " ***********************************\n",
        " 영화제목:사도세자\n",
        " 감독:9, 배우:10, 작품성:10, 대중성:8, 대본:9\n",
        " 영화총점 : 46\n",
        " 영화평점 : ☆☆☆☆☆\n",
        "\n",
        "\n",
        " [main 실행]\n",
        " if __name__ == '__main__':\n",
        " # title  영화제목,  director 감독점수,  acter 배우점수\n",
        " #cinematic 작품성, popular  대중성, scenario 시나리오\n",
        "  # title, director, acter\n",
        "  mv = Movie('추격자', 7, 5)\n",
        "  mv.display()\n",
        "\n",
        "  print('\\n***********************************')\n",
        "\n",
        "  #    title, director, acter, cinematic, popular, scenario    \n",
        "  mk = MovieWork(\"사도세자\", 9, 10, 10, 8, 9)\n",
        "  mk.display();\n",
        "  ```"
      ],
      "metadata": {
        "id": "4GFOCEBQAlyv"
      }
    },
    {
      "cell_type": "code",
      "source": [
        "class Movie:\n",
        "\n",
        "  # title  영화제목,  director 감독점수,  acter 배우점수\n",
        "\n",
        "  def __init__(self, title, director, acter):\n",
        "     self.title = title\n",
        "     self.director = director\n",
        "     self.acter = acter\n",
        "\n",
        "\n",
        "  def display(self):\n",
        "     total = self.director + self.acter\n",
        "\n",
        "     print('영화제목: {}'.format(self.title))\n",
        "     print('감독: {}, 배우: {}'.format(self.director, self.acter))\n",
        "     print('영화총점: {}'.format(total))\n",
        "\n",
        "     if total >= 15:\n",
        "       result = '☆☆☆☆☆'\n",
        "     elif total >= 12:\n",
        "       result = '☆☆☆☆'\n",
        "     elif total >= 10:\n",
        "       result = '☆☆☆'\n",
        "     else:\n",
        "       result = '☆☆'\n",
        "     print('영화평점: {}'.format(result))\n",
        "\n",
        "\n",
        "class MovieWork(Movie) :\n",
        "   def __init__(self, title, director, acter,cinematic,popular,scenario):\n",
        "    super().__init__(title, director, acter)\n",
        "\n",
        "    self.cinematic= cinematic\n",
        "    self.popular = popular\n",
        "    self.scenario = scenario\n",
        "    self.total = self.director +self.acter +self.cinematic+ self.popular+self.scenario\n",
        "\n",
        "\n",
        "   def display(self):\n",
        "       total = self.director +self.acter +self.cinematic+ self.popular+self.scenario\n",
        "\n",
        "       print('영화제목: {}'.format(self.title))\n",
        "       print('감독: {},배우:{},작품성:{},대중성:{},대본:{}'.format(self.director,self.acter,self.cinematic,self.popular,self.scenario))\n",
        "       print('영화총점: {}'.format(self.total))\n",
        "\n",
        "       if total >= 45:\n",
        "         result = '☆☆☆☆☆'\n",
        "       elif total >= 40:\n",
        "         result = '☆☆☆☆'\n",
        "       elif total >= 35:\n",
        "         result = '☆☆☆'\n",
        "       else:\n",
        "         result = '☆☆'\n",
        "\n",
        "       print('영화평점: {}'.format(result))\n",
        "\n",
        "\n",
        "\n",
        "#  영화제목:사도세자\n",
        "#  감독:9, 배우:10, 작품성:10, 대중성:8, 대본:9\n",
        "#  영화총점 : 46\n",
        "#  영화평점 : ☆☆☆☆☆\n",
        "\n",
        "\n",
        "if __name__ == '__main__':\n",
        "\n",
        "  # title  영화제목,  director 감독점수,  acter 배우점수\n",
        "  #cinematic 작품성, popular  대중성, scenario 시나리오\n",
        "  # title, director, acter\n",
        "\n",
        "  mv = Movie('추격자', 7, 5)\n",
        "  mv.display()\n",
        "\n",
        "  print('\\n***********************************')\n",
        "\n",
        "  #    title, director, acter, cinematic, popular, scenario\n",
        "  mk = MovieWork(\"사도세자\", 9, 10, 10, 8, 9)\n",
        "  mk.display();"
      ],
      "metadata": {
        "colab": {
          "base_uri": "https://localhost:8080/"
        },
        "id": "BUUfCdUrAoxu",
        "outputId": "ea2abbb3-c912-4335-e40d-dccfbfe3670e"
      },
      "execution_count": 283,
      "outputs": [
        {
          "output_type": "stream",
          "name": "stdout",
          "text": [
            "영화제목: 추격자\n",
            "감독: 7, 배우: 5\n",
            "영화총점: 12\n",
            "영화평점: ☆☆☆☆\n",
            "\n",
            "***********************************\n",
            "영화제목: 사도세자\n",
            "감독: 9,배우:10,작품성:10,대중성:8,대본:9\n",
            "영화총점: 46\n",
            "영화평점: ☆☆☆☆☆\n"
          ]
        }
      ]
    },
    {
      "cell_type": "code",
      "source": [],
      "metadata": {
        "id": "u766GnhVA3Jd"
      },
      "execution_count": null,
      "outputs": []
    }
  ]
}